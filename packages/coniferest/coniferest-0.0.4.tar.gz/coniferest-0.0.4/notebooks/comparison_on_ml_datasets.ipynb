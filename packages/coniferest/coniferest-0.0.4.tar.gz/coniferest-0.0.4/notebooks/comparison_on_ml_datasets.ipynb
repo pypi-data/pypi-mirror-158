{
 "cells": [
  {
   "cell_type": "code",
   "execution_count": 1,
   "id": "baaa4564",
   "metadata": {},
   "outputs": [],
   "source": [
    "%load_ext autoreload\n",
    "%autoreload 2\n",
    "\n",
    "import sys\n",
    "sys.path.append('../')"
   ]
  },
  {
   "cell_type": "code",
   "execution_count": 2,
   "id": "1921373b",
   "metadata": {},
   "outputs": [],
   "source": [
    "import numpy as np\n",
    "\n",
    "from sklearn.ensemble import IsolationForest as SkForest\n",
    "from coniferest.isoforest import IsolationForest, IsolationForestAnomalyDetector\n",
    "from coniferest.aadforest import AADForest, AADForestAnomalyDetector\n",
    "from coniferest.pineforest import PineForest, PineForestAnomalyDetector\n",
    "from coniferest.datasets import MalanchevDataset, Dataset\n",
    "from coniferest.datasets import Label\n",
    "from coniferest.experiment import AnomalyDetectionExperiment\n",
    "import matplotlib.pyplot as plt\n",
    "\n",
    "import gzip"
   ]
  },
  {
   "cell_type": "code",
   "execution_count": 3,
   "id": "cac5d471",
   "metadata": {},
   "outputs": [],
   "source": [
    "class WeatherData(Dataset):\n",
    "    \"Weather dataset\"\n",
    "    def __init__(self):\n",
    "        with gzip.open('../datasets/weather/NEweather_data.csv.gz', 'rt') as file:\n",
    "            self.data = np.genfromtxt(file, delimiter=',')\n",
    "\n",
    "        with gzip.open('../datasets/weather/NEweather_class.csv.gz', 'rt') as file:\n",
    "            labels = np.genfromtxt(file, delimiter=',')\n",
    "            labels[labels == 2] = -1\n",
    "            self.labels = labels"
   ]
  },
  {
   "cell_type": "code",
   "execution_count": 4,
   "id": "6d859a99",
   "metadata": {},
   "outputs": [],
   "source": [
    "class ELAsTiCC(Dataset):\n",
    "    \"ELAsTiCC dataset\"\n",
    "    def __init__(self, transformed=True, anomaly_class='dwarf-nova'):\n",
    "        dir = '../datasets/ELAsTiCC/'\n",
    "        filename = 'features_transf.npy' if transformed else 'features.npy'\n",
    "        self.data = np.load(dir + filename)\n",
    "        #self.data = self.data.astype(np.float64)  # bug workaround\n",
    "        self.ids = np.load(dir + 'ids.npy')\n",
    "        self.types = np.load(dir + 'types.npy')\n",
    "        labels = np.full_like(self.types, Label.R, dtype=Label)\n",
    "        labels[self.types == anomaly_class] = Label.A\n",
    "        self.labels = labels"
   ]
  },
  {
   "cell_type": "code",
   "execution_count": 13,
   "id": "6aeefc0a",
   "metadata": {},
   "outputs": [],
   "source": [
    "class CompareThem:\n",
    "    def __init__(self, dataset, options={}):\n",
    "        self.dataset = dataset\n",
    "        \n",
    "        isoforest = IsolationForest()\n",
    "        isoforest_det = IsolationForestAnomalyDetector(isoforest)\n",
    "        self.isoforest_exp = AnomalyDetectionExperiment(isoforest_det, dataset.data, dataset.labels)\n",
    "        \n",
    "        aadforest = AADForest()\n",
    "        aadforest_det = AADForestAnomalyDetector(aadforest)\n",
    "        self.aadforest_exp = AnomalyDetectionExperiment(aadforest_det, dataset.data, dataset.labels)\n",
    "    \n",
    "        pineforest = PineForest(weight_ratio=4)\n",
    "        pineforest_det = PineForestAnomalyDetector(pineforest)\n",
    "        self.pineforest_exp = AnomalyDetectionExperiment(pineforest_det, dataset.data, dataset.labels)\n",
    "        \n",
    "        \n",
    "    def run(self):\n",
    "        #self.isoforest_exp.run()\n",
    "        self.aadforest_exp.run(tqdm=True)\n",
    "        self.pineforest_exp.run(tqdm=True)\n",
    "    \n",
    "    def plot(self):\n",
    "        plt.figure(figsize=(8, 6))\n",
    "        plt.title('AD performance curves')\n",
    "        \n",
    "        def performance(exp):\n",
    "            return np.cumsum(exp.data_labels[exp.trajectory] == Label.A)\n",
    "\n",
    "        plt.plot(performance(self.isoforest_exp), label='Isolation Forest')\n",
    "        plt.plot(performance(self.pineforest_exp), label='Pine Forest')\n",
    "        plt.plot(performance(self.aadforest_exp), label='AAD Isolation Forest')\n",
    "        #plt.axhline(sum(self.dataset.labels == Label.A), color='grey')\n",
    "        plt.xlabel('number of iteration')\n",
    "        plt.ylabel('true anomalies detected')\n",
    "        plt.grid()\n",
    "        plt.legend()\n",
    "        pass"
   ]
  },
  {
   "cell_type": "code",
   "execution_count": 18,
   "id": "aece0139",
   "metadata": {},
   "outputs": [
    {
     "name": "stderr",
     "output_type": "stream",
     "text": [
      "100%|█████████████████████████████████████████| 300/300 [01:01<00:00,  4.87it/s]\n",
      "100%|█████████████████████████████████████████| 300/300 [00:18<00:00, 16.47it/s]\n"
     ]
    },
    {
     "data": {
      "image/png": "[encoded data removed]",
      "text/plain": [
       "<Figure size 576x432 with 1 Axes>"
      ]
     },
     "metadata": {
      "needs_background": "light"
     },
     "output_type": "display_data"
    }
   ],
   "source": [
    "weather_cmp = CompareThem(WeatherData())\n",
    "weather_cmp.run()\n",
    "weather_cmp.plot()"
   ]
  },
  {
   "cell_type": "code",
   "execution_count": 31,
   "id": "49533bf8",
   "metadata": {},
   "outputs": [
    {
     "ename": "ValueError",
     "evalue": "Buffer dtype mismatch, expected 'float32_t' but got 'double'",
     "output_type": "error",
     "traceback": [
      "\u001b[0;31m---------------------------------------------------------------------------\u001b[0m",
      "\u001b[0;31mValueError\u001b[0m                                Traceback (most recent call last)",
      "Input \u001b[0;32mIn [31]\u001b[0m, in \u001b[0;36m<cell line: 2>\u001b[0;34m()\u001b[0m\n\u001b[1;32m      1\u001b[0m elasticc_cmp \u001b[38;5;241m=\u001b[39m CompareThem(ELAsTiCC())\n\u001b[0;32m----> 2\u001b[0m \u001b[43melasticc_cmp\u001b[49m\u001b[38;5;241;43m.\u001b[39;49m\u001b[43mrun\u001b[49m\u001b[43m(\u001b[49m\u001b[43m)\u001b[49m\n\u001b[1;32m      3\u001b[0m elasticc_cmp\u001b[38;5;241m.\u001b[39mplot()\n",
      "Input \u001b[0;32mIn [30]\u001b[0m, in \u001b[0;36mCompareThem.run\u001b[0;34m(self)\u001b[0m\n\u001b[1;32m     18\u001b[0m \u001b[38;5;28;01mdef\u001b[39;00m \u001b[38;5;21mrun\u001b[39m(\u001b[38;5;28mself\u001b[39m):\n\u001b[1;32m     19\u001b[0m     \u001b[38;5;66;03m#self.isoforest_exp.run()\u001b[39;00m\n\u001b[0;32m---> 20\u001b[0m     \u001b[38;5;28;43mself\u001b[39;49m\u001b[38;5;241;43m.\u001b[39;49m\u001b[43maadforest_exp\u001b[49m\u001b[38;5;241;43m.\u001b[39;49m\u001b[43mrun\u001b[49m\u001b[43m(\u001b[49m\u001b[43m)\u001b[49m\n\u001b[1;32m     21\u001b[0m     \u001b[38;5;28mself\u001b[39m\u001b[38;5;241m.\u001b[39mpineforest_exp\u001b[38;5;241m.\u001b[39mrun()\n",
      "File \u001b[0;32m~/Projects/snad/coniferest/notebooks/../coniferest/experiment.py:124\u001b[0m, in \u001b[0;36mAnomalyDetectionExperiment.run\u001b[0;34m(self)\u001b[0m\n\u001b[1;32m    121\u001b[0m \u001b[38;5;28;01mwhile\u001b[39;00m \u001b[38;5;129;01mnot\u001b[39;00m anomalies\u001b[38;5;241m.\u001b[39missubset(knowns) \u001b[38;5;129;01mand\u001b[39;00m \u001b[38;5;28mlen\u001b[39m(knowns) \u001b[38;5;241m<\u001b[39m \u001b[38;5;28mself\u001b[39m\u001b[38;5;241m.\u001b[39mcapacity:\n\u001b[1;32m    122\u001b[0m     \u001b[38;5;66;03m# Calculate the scores\u001b[39;00m\n\u001b[1;32m    123\u001b[0m     \u001b[38;5;28;01mif\u001b[39;00m recalculate:\n\u001b[0;32m--> 124\u001b[0m         scores \u001b[38;5;241m=\u001b[39m \u001b[43mregressor\u001b[49m\u001b[38;5;241;43m.\u001b[39;49m\u001b[43mscore\u001b[49m\u001b[43m(\u001b[49m\u001b[43mdata_features\u001b[49m\u001b[43m)\u001b[49m\n\u001b[1;32m    125\u001b[0m         ordering \u001b[38;5;241m=\u001b[39m np\u001b[38;5;241m.\u001b[39margsort(scores)\n\u001b[1;32m    127\u001b[0m     \u001b[38;5;66;03m# Find the most anomalous unknown object\u001b[39;00m\n",
      "File \u001b[0;32m~/Projects/snad/coniferest/notebooks/../coniferest/aadforest.py:271\u001b[0m, in \u001b[0;36mAADForestAnomalyDetector.score\u001b[0;34m(self, data)\u001b[0m\n\u001b[1;32m    258\u001b[0m \u001b[38;5;28;01mdef\u001b[39;00m \u001b[38;5;21mscore\u001b[39m(\u001b[38;5;28mself\u001b[39m, data):\n\u001b[1;32m    259\u001b[0m     \u001b[38;5;124;03m\"\"\"\u001b[39;00m\n\u001b[1;32m    260\u001b[0m \u001b[38;5;124;03m    Calculate scores for given features.\u001b[39;00m\n\u001b[1;32m    261\u001b[0m \n\u001b[0;32m   (...)\u001b[0m\n\u001b[1;32m    269\u001b[0m \u001b[38;5;124;03m    Scores of the data.\u001b[39;00m\n\u001b[1;32m    270\u001b[0m \u001b[38;5;124;03m    \"\"\"\u001b[39;00m\n\u001b[0;32m--> 271\u001b[0m     \u001b[38;5;28;01mreturn\u001b[39;00m \u001b[38;5;241m-\u001b[39m\u001b[38;5;28;43mself\u001b[39;49m\u001b[38;5;241;43m.\u001b[39;49m\u001b[43maad_forest\u001b[49m\u001b[38;5;241;43m.\u001b[39;49m\u001b[43mscore_samples\u001b[49m\u001b[43m(\u001b[49m\u001b[43mdata\u001b[49m\u001b[43m)\u001b[49m\n",
      "File \u001b[0;32m~/Projects/snad/coniferest/notebooks/../coniferest/aadforest.py:204\u001b[0m, in \u001b[0;36mAADForest.score_samples\u001b[0;34m(self, samples)\u001b[0m\n\u001b[1;32m    191\u001b[0m \u001b[38;5;28;01mdef\u001b[39;00m \u001b[38;5;21mscore_samples\u001b[39m(\u001b[38;5;28mself\u001b[39m, samples):\n\u001b[1;32m    192\u001b[0m     \u001b[38;5;124;03m\"\"\"\u001b[39;00m\n\u001b[1;32m    193\u001b[0m \u001b[38;5;124;03m    Computer scores for the supplied data.\u001b[39;00m\n\u001b[1;32m    194\u001b[0m \n\u001b[0;32m   (...)\u001b[0m\n\u001b[1;32m    202\u001b[0m \u001b[38;5;124;03m    Array with computed scores.\u001b[39;00m\n\u001b[1;32m    203\u001b[0m \u001b[38;5;124;03m    \"\"\"\u001b[39;00m\n\u001b[0;32m--> 204\u001b[0m     \u001b[38;5;28;01mreturn\u001b[39;00m \u001b[38;5;28;43mself\u001b[39;49m\u001b[38;5;241;43m.\u001b[39;49m\u001b[43mevaluator\u001b[49m\u001b[38;5;241;43m.\u001b[39;49m\u001b[43mscore_samples\u001b[49m\u001b[43m(\u001b[49m\u001b[43msamples\u001b[49m\u001b[43m)\u001b[49m\n",
      "File \u001b[0;32m~/Projects/snad/coniferest/notebooks/../coniferest/aadforest.py:36\u001b[0m, in \u001b[0;36mAADEvaluator.score_samples\u001b[0;34m(self, x, weights)\u001b[0m\n\u001b[1;32m     33\u001b[0m \u001b[38;5;28;01mif\u001b[39;00m weights \u001b[38;5;129;01mis\u001b[39;00m \u001b[38;5;28;01mNone\u001b[39;00m:\n\u001b[1;32m     34\u001b[0m     weights \u001b[38;5;241m=\u001b[39m \u001b[38;5;28mself\u001b[39m\u001b[38;5;241m.\u001b[39mweights\n\u001b[0;32m---> 36\u001b[0m \u001b[38;5;28;01mreturn\u001b[39;00m \u001b[43mcalc_paths_sum\u001b[49m\u001b[43m(\u001b[49m\u001b[38;5;28;43mself\u001b[39;49m\u001b[38;5;241;43m.\u001b[39;49m\u001b[43mselectors\u001b[49m\u001b[43m,\u001b[49m\u001b[43m \u001b[49m\u001b[38;5;28;43mself\u001b[39;49m\u001b[38;5;241;43m.\u001b[39;49m\u001b[43mindices\u001b[49m\u001b[43m,\u001b[49m\u001b[43m \u001b[49m\u001b[43mx\u001b[49m\u001b[43m,\u001b[49m\u001b[43m \u001b[49m\u001b[43mweights\u001b[49m\u001b[43m)\u001b[49m\n",
      "File \u001b[0;32m~/Projects/snad/coniferest/coniferest/calc_paths_sum.pyx:8\u001b[0m, in \u001b[0;36mconiferest.calc_paths_sum.calc_paths_sum\u001b[0;34m()\u001b[0m\n",
      "\u001b[0;31mValueError\u001b[0m: Buffer dtype mismatch, expected 'float32_t' but got 'double'"
     ]
    }
   ],
   "source": [
    "elasticc_cmp = CompareThem(ELAsTiCC())\n",
    "elasticc_cmp.run()\n",
    "elasticc_cmp.plot()"
   ]
  },
  {
   "cell_type": "code",
   "execution_count": 10,
   "id": "c1a54748",
   "metadata": {},
   "outputs": [],
   "source": [
    "from tqdm import tqdm"
   ]
  },
  {
   "cell_type": "code",
   "execution_count": 17,
   "id": "029eba7e",
   "metadata": {},
   "outputs": [],
   "source": [
    "tqdm._instances.clear()"
   ]
  },
  {
   "cell_type": "code",
   "execution_count": 12,
   "id": "841789f3",
   "metadata": {},
   "outputs": [
    {
     "name": "stderr",
     "output_type": "stream",
     "text": [
      "\r",
      "0it [00:00, ?it/s]"
     ]
    },
    {
     "data": {
      "text/plain": [
       "<tqdm.std.tqdm at 0x104b5dd60>"
      ]
     },
     "execution_count": 12,
     "metadata": {},
     "output_type": "execute_result"
    }
   ],
   "source": [
    "tqdm(100)"
   ]
  },
  {
   "cell_type": "code",
   "execution_count": 16,
   "id": "86f639b3",
   "metadata": {},
   "outputs": [],
   "source": [
    "from tqdm import tqdm"
   ]
  },
  {
   "cell_type": "code",
   "execution_count": null,
   "id": "1111a694",
   "metadata": {},
   "outputs": [],
   "source": []
  }
 ],
 "metadata": {
  "kernelspec": {
   "display_name": "Python 3 (ipykernel)",
   "language": "python",
   "name": "python3"
  },
  "language_info": {
   "codemirror_mode": {
    "name": "ipython",
    "version": 3
   },
   "file_extension": ".py",
   "mimetype": "text/x-python",
   "name": "python",
   "nbconvert_exporter": "python",
   "pygments_lexer": "ipython3",
   "version": "3.9.13"
  }
 },
 "nbformat": 4,
 "nbformat_minor": 5
}
