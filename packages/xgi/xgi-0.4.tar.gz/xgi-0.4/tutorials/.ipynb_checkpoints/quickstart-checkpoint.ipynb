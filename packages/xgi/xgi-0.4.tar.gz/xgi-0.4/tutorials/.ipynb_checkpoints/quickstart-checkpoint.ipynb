{
 "cells": [
  {
   "cell_type": "markdown",
   "metadata": {},
   "source": [
    "# Getting started with XGI\n",
    "<div>\n",
    "<img src=\"../logo/logo.svg\" width=\"200\"/>\n",
    "</div>\n",
    "\n",
    "XGI is a Python library to make working with and analyzing complex systems with higher-order interactions easy. Oftentimes, a lot of the overhead of research is implementing functionality that perhaps other researchers have already implemented. But why re-invent the wheel? We have collected a lot of useful functions, algorithms, and tools for working with hypergraphs and simplicial complexes to make life easier. NetworkX, for example, is a popular tool in the network science community and we hope that XGI can be a similar tool for researchers working with complex systems that involve group (higher-order) interactions.\n",
    "\n",
    "We start off by loading the XGI library."
   ]
  },
  {
   "cell_type": "code",
   "execution_count": 1,
   "metadata": {},
   "outputs": [],
   "source": [
    "import xgi\n",
    "import numpy as np\n",
    "import pandas as pd\n",
    "from IPython.display import display\n",
    "from matplotlib.pyplot import cm\n",
    "import matplotlib.pyplot as plt"
   ]
  },
  {
   "cell_type": "markdown",
   "metadata": {},
   "source": [
    "### Creating a hypergraph"
   ]
  },
  {
   "cell_type": "markdown",
   "metadata": {},
   "source": [
    "We want to start with a hypergraph, and this can be done in one of four ways:\n",
    "1. Build a hypergraph node-by-node and edge-by-edge (less common, but can be helpful in writing your own generative models)\n",
    "2. Load an existing dataset\n",
    "3. Sample from a random generative model\n",
    "\n",
    "Let's start with the first method."
   ]
  },
  {
   "cell_type": "code",
   "execution_count": 2,
   "metadata": {},
   "outputs": [],
   "source": [
    "H = xgi.Hypergraph()\n",
    "H.add_edge([1, 2], id=\"a\")\n",
    "H.add_node(0)\n",
    "H.add_edges_from([[3, 4], [0, 2, 3]])\n",
    "H.add_nodes_from([9, 10])"
   ]
  },
  {
   "cell_type": "markdown",
   "metadata": {},
   "source": [
    "XGI automatically assigns unique edge IDs (if a user doesn't specify the ID)"
   ]
  },
  {
   "cell_type": "code",
   "execution_count": 3,
   "metadata": {},
   "outputs": [
    {
     "data": {
      "text/plain": [
       "EdgeView(('a', 0, 1))"
      ]
     },
     "execution_count": 3,
     "metadata": {},
     "output_type": "execute_result"
    }
   ],
   "source": [
    "H.edges"
   ]
  },
  {
   "cell_type": "markdown",
   "metadata": {},
   "source": [
    "Why NodeViews and EdgeViews? These allow users to access many different properties and data structures from nodes and edges in a much simpler way. For example:"
   ]
  },
  {
   "cell_type": "code",
   "execution_count": 4,
   "metadata": {},
   "outputs": [
    {
     "name": "stdout",
     "output_type": "stream",
     "text": [
      "{1: ['a'], 2: ['a', 1], 0: [1], 3: [0, 1], 4: [0], 9: [], 10: []}\n",
      "{1: 1, 2: 2, 0: 1, 3: 2, 4: 1, 9: 0, 10: 0}\n",
      "[[1, 2], [3, 4], [0, 2, 3]]\n",
      "[2 2 3]\n"
     ]
    }
   ],
   "source": [
    "print(H.nodes.memberships())\n",
    "print(H.nodes.degree.asdict())\n",
    "print(H.edges.members(dtype=list))\n",
    "print(H.edges.size.asnumpy())"
   ]
  },
  {
   "cell_type": "markdown",
   "metadata": {},
   "source": [
    "Moving on to method 2, one can load datasets in several different ways. First, we provide a companion data repository, [xgi-data](https://github.com/ComplexGroupInteractions/xgi-data), where users can easily load several datasets in standard format:"
   ]
  },
  {
   "cell_type": "code",
   "execution_count": 5,
   "metadata": {},
   "outputs": [],
   "source": [
    "H = xgi.load_xgi_data(\"email-enron\")"
   ]
  },
  {
   "cell_type": "markdown",
   "metadata": {},
   "source": [
    "This dataset, for example, has a corresponding [datasheet](https://github.com/ComplexGroupInteractions/xgi-data/blob/main/data/email-enron/README_email-enron.md) explaining its characteristics. The nodes (individuals) in this dataset contain associated email addresses and the edges (emails) contain associated timestamps. These attributes can be accessed by simply typing `H.nodes[id]` or `H.edges[id]` respectively."
   ]
  },
  {
   "cell_type": "code",
   "execution_count": 6,
   "metadata": {},
   "outputs": [
    {
     "name": "stdout",
     "output_type": "stream",
     "text": [
      "The first 10 node IDs are:\n",
      "['4', '1', '117', '129', '51', '41', '65', '107', '122', '29']\n",
      "\n",
      "The first 10 edge IDs are:\n",
      "['0', '1', '2', '3', '4', '5', '6', '7', '8', '9']\n",
      "\n",
      "The attributes of node '4' are\n",
      "{'name': 'robert.badeer@enron.com'}\n",
      "\n",
      "The attributes of edge '6' are\n",
      "{'timestamp': '2000-02-22T08:07:00'}\n"
     ]
    }
   ],
   "source": [
    "print(\"The first 10 node IDs are:\")\n",
    "print(list(H.nodes)[:10])\n",
    "print(\"\\nThe first 10 edge IDs are:\")\n",
    "print(list(H.edges)[:10])\n",
    "print(\"\\nThe attributes of node '4' are\")\n",
    "print(H.nodes[\"4\"])\n",
    "print(\"\\nThe attributes of edge '6' are\")\n",
    "print(H.edges[\"6\"])"
   ]
  },
  {
   "cell_type": "markdown",
   "metadata": {},
   "source": [
    "Likewise, one can load from a file. For example, in the `data` folder, there is a disease-gene hypergraph in bipartite edgelist format, where nodes are diseases and edges are genes. We can read in this dataset:"
   ]
  },
  {
   "cell_type": "code",
   "execution_count": 7,
   "metadata": {},
   "outputs": [
    {
     "name": "stdout",
     "output_type": "stream",
     "text": [
      "The hypergraph has 148 nodes and 10885 edges\n"
     ]
    }
   ],
   "source": [
    "H_disgene = xgi.read_bipartite_edgelist(\"../data/disGene.txt\")\n",
    "print(f\"The hypergraph has {H.num_nodes} nodes and {H.num_edges} edges\")"
   ]
  },
  {
   "cell_type": "markdown",
   "metadata": {},
   "source": [
    "We may also be interested in the *dual* hypergraph formed by considering nodes to be genes and edges to be diseases:"
   ]
  },
  {
   "cell_type": "code",
   "execution_count": 8,
   "metadata": {},
   "outputs": [
    {
     "name": "stdout",
     "output_type": "stream",
     "text": [
      "The hypergraph has 2261 nodes and 12368 edges\n"
     ]
    }
   ],
   "source": [
    "D = H_disgene.dual()\n",
    "print(f\"The hypergraph has {D.num_nodes} nodes and {D.num_edges} edges\")"
   ]
  },
  {
   "cell_type": "markdown",
   "metadata": {},
   "source": [
    "Lastly, we can create  synthetic hypergraphs using random generative models. For example, we can extract the degree and edge size sequence and wire them together at random (according to the Chung-Lu model) to create a random null model:"
   ]
  },
  {
   "cell_type": "code",
   "execution_count": 9,
   "metadata": {},
   "outputs": [],
   "source": [
    "k = D.nodes.degree.asdict()\n",
    "s = D.edges.size.asdict()\n",
    "\n",
    "H_random = xgi.chung_lu_hypergraph(k, s)"
   ]
  },
  {
   "cell_type": "markdown",
   "metadata": {},
   "source": [
    "We check whether this new hypergraph is connected and if not, the sizes of the connected components:"
   ]
  },
  {
   "cell_type": "code",
   "execution_count": 10,
   "metadata": {},
   "outputs": [
    {
     "name": "stdout",
     "output_type": "stream",
     "text": [
      "The connected components:\n"
     ]
    },
    {
     "data": {
      "text/html": [
       "<div>\n",
       "<style scoped>\n",
       "    .dataframe tbody tr th:only-of-type {\n",
       "        vertical-align: middle;\n",
       "    }\n",
       "\n",
       "    .dataframe tbody tr th {\n",
       "        vertical-align: top;\n",
       "    }\n",
       "\n",
       "    .dataframe thead th {\n",
       "        text-align: right;\n",
       "    }\n",
       "</style>\n",
       "<table border=\"1\" class=\"dataframe\">\n",
       "  <thead>\n",
       "    <tr style=\"text-align: right;\">\n",
       "      <th></th>\n",
       "      <th>Component size</th>\n",
       "      <th>Number</th>\n",
       "    </tr>\n",
       "  </thead>\n",
       "  <tbody>\n",
       "    <tr>\n",
       "      <th>0</th>\n",
       "      <td>1</td>\n",
       "      <td>2050</td>\n",
       "    </tr>\n",
       "    <tr>\n",
       "      <th>1</th>\n",
       "      <td>211</td>\n",
       "      <td>1</td>\n",
       "    </tr>\n",
       "  </tbody>\n",
       "</table>\n",
       "</div>"
      ],
      "text/plain": [
       "   Component size  Number\n",
       "0               1    2050\n",
       "1             211       1"
      ]
     },
     "metadata": {},
     "output_type": "display_data"
    }
   ],
   "source": [
    "connected = xgi.is_connected(H_random)\n",
    "if not connected:\n",
    "    size, num = np.unique([len(cc) for cc in xgi.connected_components(H_random)], return_counts=True)\n",
    "    print(f\"The connected components:\")\n",
    "    display(pd.DataFrame([size, num], columns=[\"Component size\", \"Number\"]))"
   ]
  },
  {
   "cell_type": "markdown",
   "metadata": {},
   "source": [
    "We can do much more such as computing different properties (assortativity, centrality, etc.), reading/writing (edgelist, bipartite edgelist, incidence matrix, custom JSON format, etc.), converting to different data structures (edgelist, adjacency matrix, incidence matrix, Laplacian, bipartite network, etc.), and classic hypergraph models."
   ]
  },
  {
   "cell_type": "markdown",
   "metadata": {},
   "source": [
    "### Visualization\n",
    "\n",
    "The first step for drawing a hypergraph is to choose a layout for the nodes. At the moment the available layouts are:\n",
    "* ```random_layout```: positions nodes uniformly at random in the unit square.\n",
    "* ```pairwise_spring_layout```: positions the nodes using the Fruchterman-Reingold force-directed algorithm on the projected graph.\n",
    "* ```barycenter_spring_layout``` and ```weighted_barycenter_spring_layout```: slight modification of ```pairwise_spring_layout```\n",
    "    \n",
    "Each layout returns a dictionary that maps nodes ID into (x, y) coordinates."
   ]
  },
  {
   "cell_type": "code",
   "execution_count": 25,
   "metadata": {},
   "outputs": [],
   "source": [
    "H_viz = xgi.random_hypergraph(20, [0.05, 0.005, 0.001])\n",
    "pos1 = xgi.random_layout(H_viz)\n",
    "pos2 = xgi.pairwise_spring_layout(H_viz)\n",
    "pos3 = xgi.barycenter_spring_layout(H_viz)\n",
    "pos4 = xgi.weighted_barycenter_spring_layout(H_viz)\n",
    "pos = pos4"
   ]
  },
  {
   "cell_type": "code",
   "execution_count": 30,
   "metadata": {},
   "outputs": [
    {
     "data": {
      "image/png": "[encoded data removed]",
      "text/plain": [
       "<Figure size 432x288 with 1 Axes>"
      ]
     },
     "metadata": {},
     "output_type": "display_data"
    }
   ],
   "source": [
    "xgi.draw(H_viz, pos)"
   ]
  },
  {
   "cell_type": "markdown",
   "metadata": {},
   "source": [
    "**Colors of the hyperedges** are designed to match the hyperedge size, but the colormap can be tweaked:"
   ]
  },
  {
   "cell_type": "code",
   "execution_count": 20,
   "metadata": {},
   "outputs": [
    {
     "data": {
      "image/png": "[encoded data removed]",
      "text/plain": [
       "<Figure size 432x288 with 1 Axes>"
      ]
     },
     "metadata": {},
     "output_type": "display_data"
    }
   ],
   "source": [
    "#Sequential colormap\n",
    "cmap = cm.Blues\n",
    "\n",
    "xgi.draw(H_viz, pos, cmap=cmap)"
   ]
  },
  {
   "cell_type": "markdown",
   "metadata": {},
   "source": [
    "Other parameters can be changed as well:"
   ]
  },
  {
   "cell_type": "code",
   "execution_count": 21,
   "metadata": {},
   "outputs": [
    {
     "data": {
      "image/png": "[encoded data removed]",
      "text/plain": [
       "<Figure size 432x288 with 1 Axes>"
      ]
     },
     "metadata": {},
     "output_type": "display_data"
    }
   ],
   "source": [
    "cmap = cm.Reds\n",
    "edge_lc = 'gray'\n",
    "edge_lw = 4\n",
    "node_fc = 'black'\n",
    "node_ec = 'white'\n",
    "node_lw = 2\n",
    "node_size = 0.05\n",
    "\n",
    "xgi.draw(H_viz, pos, cmap=cmap, edge_lc=edge_lc, edge_lw=edge_lw,\n",
    "         node_fc=node_fc, node_ec=node_ec, node_lw=node_lw, node_size=node_size)"
   ]
  },
  {
   "cell_type": "markdown",
   "metadata": {},
   "source": [
    "Simplicial complexes can be visualized using the same functions for node layout and drawing.\n",
    "\n",
    "#### Technical note\n",
    "By definition, a simplicial complex object contains all sub-simplices. This would make the visualization heavy since all sub-simplices contained in a maximal simplex would overlap. The automatic solution for this, implemented by default in all the layouts, is to convert the simplicial complex into a hypergraph composed by solely by its maximal simplices.\n",
    "\n",
    "#### Visual note\n",
    "To visually distinguish simplicial complexes from hypergraphs, the ```draw``` function will also show all links contained in each maximal simplices (while omitting simplices of intermediate orders). "
   ]
  },
  {
   "cell_type": "code",
   "execution_count": 22,
   "metadata": {},
   "outputs": [
    {
     "data": {
      "image/png": "[encoded data removed]",
      "text/plain": [
       "<Figure size 432x288 with 1 Axes>"
      ]
     },
     "metadata": {},
     "output_type": "display_data"
    }
   ],
   "source": [
    "SC = xgi.SimplicialComplex()\n",
    "SC.add_simplices_from([[3,4,5],[3,6],[6,7,8,9],[1,4,10,11,12],[1,4]])\n",
    "\n",
    "pos = xgi.pairwise_spring_layout(SC)\n",
    "xgi.draw(SC, pos)"
   ]
  },
  {
   "cell_type": "markdown",
   "metadata": {},
   "source": [
    "### The stats package\n",
    "\n",
    "The stats package is one of the features that sets `xgi` apart from other libraries.  It\n",
    "provides a common interface to all statistics that can be computed from a network, its\n",
    "nodes, or edges.\n",
    "\n",
    "Consider the degree of the nodes of a hypergraph `H`.  After computing the values of the\n",
    "degrees, one may wish to store them in a dict, a list, an array, a dataframe, etc.\n",
    "Through the stats package, `xgi` provides a simple interface that seamlessly allows for\n",
    "this type conversion.  This is done via the `NodeStat` class."
   ]
  },
  {
   "cell_type": "code",
   "execution_count": 11,
   "metadata": {},
   "outputs": [
    {
     "data": {
      "text/plain": [
       "NodeStat('degree')"
      ]
     },
     "execution_count": 11,
     "metadata": {},
     "output_type": "execute_result"
    }
   ],
   "source": [
    "import xgi\n",
    "H = xgi.Hypergraph([[1, 2, 3], [2, 3, 4, 5], [3, 4, 5]])\n",
    "H.nodes.degree"
   ]
  },
  {
   "cell_type": "markdown",
   "metadata": {},
   "source": [
    "This `NodeStat` object allows us to choose the datatype, specify keywords, and get basic statistics from these properties"
   ]
  },
  {
   "cell_type": "code",
   "execution_count": 12,
   "metadata": {},
   "outputs": [
    {
     "name": "stdout",
     "output_type": "stream",
     "text": [
      "As a dictionary:\n",
      "{1: 1, 2: 2, 3: 3, 4: 2, 5: 2}\n",
      "\n",
      "As a list:\n",
      "[1, 2, 3, 2, 2]\n",
      "\n",
      "As a numpy array:\n",
      "[1 2 3 2 2]\n",
      "\n",
      "As a pandas dataframe:\n",
      "1    1\n",
      "2    2\n",
      "3    3\n",
      "4    2\n",
      "5    2\n",
      "Name: degree, dtype: int64\n"
     ]
    }
   ],
   "source": [
    "print(\"As a dictionary:\")\n",
    "print(H.nodes.degree.asdict())\n",
    "print(\"\\nAs a list:\")\n",
    "print(H.nodes.degree.aslist())\n",
    "print(\"\\nAs a numpy array:\")\n",
    "print(H.nodes.degree.asnumpy())\n",
    "print(\"\\nAs a pandas dataframe:\")\n",
    "print(H.nodes.degree.aspandas())"
   ]
  },
  {
   "cell_type": "code",
   "execution_count": 13,
   "metadata": {},
   "outputs": [
    {
     "name": "stdout",
     "output_type": "stream",
     "text": [
      "{1: 1, 2: 1, 3: 2, 4: 1, 5: 1}\n"
     ]
    }
   ],
   "source": [
    "print(H.nodes.degree(order=2).asdict())"
   ]
  },
  {
   "cell_type": "code",
   "execution_count": 14,
   "metadata": {},
   "outputs": [
    {
     "data": {
      "text/plain": [
       "array([3.   , 1.   , 2.   , 2.   , 0.4  , 0.632])"
      ]
     },
     "execution_count": 14,
     "metadata": {},
     "output_type": "execute_result"
    }
   ],
   "source": [
    "st = H.nodes.degree\n",
    "np.round([st.max(), st.min(), st.mean(), st.median(), st.var(), st.std()], 3)"
   ]
  },
  {
   "cell_type": "markdown",
   "metadata": {},
   "source": [
    "Likewise, for edges,"
   ]
  },
  {
   "cell_type": "code",
   "execution_count": 15,
   "metadata": {},
   "outputs": [
    {
     "data": {
      "text/plain": [
       "array([4.   , 3.   , 3.333, 3.   , 0.222, 0.471])"
      ]
     },
     "execution_count": 15,
     "metadata": {},
     "output_type": "execute_result"
    }
   ],
   "source": [
    "st = H.edges.size\n",
    "np.round([st.max(), st.min(), st.mean(), st.median(), st.var(), st.std()], 3)"
   ]
  },
  {
   "cell_type": "markdown",
   "metadata": {},
   "source": [
    "The interface for attributes is very similar. If we add nodal attributes, for example"
   ]
  },
  {
   "cell_type": "code",
   "execution_count": 16,
   "metadata": {},
   "outputs": [
    {
     "name": "stdout",
     "output_type": "stream",
     "text": [
      "['red', 'blue', 'yellow', 'red', 'blue']\n",
      "{'color': 'red', 'name': 'horse'}\n"
     ]
    }
   ],
   "source": [
    "H.add_nodes_from([\n",
    "        (1, {\"color\": \"red\", \"name\": \"horse\"}),\n",
    "        (2, {\"color\": \"blue\", \"name\": \"pony\"}),\n",
    "        (3, {\"color\": \"yellow\", \"name\": \"zebra\"}),\n",
    "        (4, {\"color\": \"red\", \"name\": \"orangutan\", \"age\": 20}),\n",
    "        (5, {\"color\": \"blue\", \"name\": \"fish\", \"age\": 2}),\n",
    "    ])\n",
    "print(H.nodes.attrs(\"color\").aslist())\n",
    "print(H.nodes.attrs[1])"
   ]
  },
  {
   "cell_type": "markdown",
   "metadata": {},
   "source": [
    "One can also filter nodes and edges by their attributes as well as any associated statistic. For example,"
   ]
  },
  {
   "cell_type": "code",
   "execution_count": 17,
   "metadata": {},
   "outputs": [
    {
     "name": "stdout",
     "output_type": "stream",
     "text": [
      "[2, 4, 5]\n",
      "[2, 5]\n",
      "[[1, 2, 3], [3, 4, 5]]\n"
     ]
    }
   ],
   "source": [
    "print(H.nodes.filterby(\"degree\", 2))\n",
    "print(H.nodes.filterby_attr(\"color\", \"blue\"))\n",
    "print(H.edges.filterby(\"size\", 3).members())"
   ]
  },
  {
   "cell_type": "markdown",
   "metadata": {},
   "source": [
    "## An example"
   ]
  },
  {
   "cell_type": "markdown",
   "metadata": {},
   "source": [
    "Let's compare the assortativity of an empirical dataset (Let's choose the `email-enron` dataset) to a random null model. We start by loading the Enron dataset and constructing a Chung-Lu hypergraph using the dataset's degree sequence and edge size sequence:"
   ]
  },
  {
   "cell_type": "code",
   "execution_count": 23,
   "metadata": {},
   "outputs": [],
   "source": [
    "H = xgi.load_xgi_data(\"email-enron\")\n",
    "k = H.nodes.degree.asdict()\n",
    "s = H.edges.size.asdict()\n",
    "\n",
    "H_null = xgi.chung_lu_hypergraph(k, s)"
   ]
  },
  {
   "cell_type": "markdown",
   "metadata": {},
   "source": [
    "Now we use the definitions of assortativity in \"Configuration models of random hypergraphs\" by Phil Chodrow to compare the assortativity of the random null model to the original dataset."
   ]
  },
  {
   "cell_type": "code",
   "execution_count": 24,
   "metadata": {},
   "outputs": [
    {
     "data": {
      "image/png": "[encoded data removed]",
      "text/plain": [
       "<Figure size 432x288 with 1 Axes>"
      ]
     },
     "metadata": {
      "needs_background": "light"
     },
     "output_type": "display_data"
    }
   ],
   "source": [
    "labels = ['uniform', 'top-2', 'top-bottom']\n",
    "\n",
    "assort_orig = list()\n",
    "assort_null = list()\n",
    "for l in labels:\n",
    "    assort_orig.append(xgi.degree_assortativity(H, kind=l))\n",
    "    assort_null.append(xgi.degree_assortativity(H_null, kind=l))\n",
    "\n",
    "x = np.arange(len(labels))\n",
    "width = 0.35\n",
    "\n",
    "fig, ax = plt.subplots()\n",
    "rects1 = ax.bar(x - width/2, assort_orig, width, label='Original')\n",
    "rects2 = ax.bar(x + width/2, assort_null, width, label='Null model')\n",
    "ax.set_xticks(x)\n",
    "ax.set_xticklabels(labels, fontsize=16)\n",
    "ax.set_ylabel(\"Assortativity\", fontsize=16)\n",
    "ax.legend()\n",
    "plt.tight_layout()\n",
    "plt.show()"
   ]
  },
  {
   "cell_type": "code",
   "execution_count": null,
   "metadata": {},
   "outputs": [],
   "source": []
  }
 ],
 "metadata": {
  "kernelspec": {
   "display_name": "Python 3 (ipykernel)",
   "language": "python",
   "name": "python3"
  },
  "language_info": {
   "codemirror_mode": {
    "name": "ipython",
    "version": 3
   },
   "file_extension": ".py",
   "mimetype": "text/x-python",
   "name": "python",
   "nbconvert_exporter": "python",
   "pygments_lexer": "ipython3",
   "version": "3.10.4"
  },
  "vscode": {
   "interpreter": {
    "hash": "fdeb83b6e5b2333358b6ba79181fac315f1a722b4574d7079c134c9ae27f7c53"
   }
  }
 },
 "nbformat": 4,
 "nbformat_minor": 2
}
