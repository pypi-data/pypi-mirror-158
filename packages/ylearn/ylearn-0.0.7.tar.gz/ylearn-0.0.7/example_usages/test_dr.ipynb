{
 "cells": [
  {
   "cell_type": "code",
   "execution_count": 1,
   "metadata": {},
   "outputs": [],
   "source": [
    "import sys\n",
    "import os\n",
    "sys.path.append(os.path.dirname(os.path.dirname(os.path.abspath('./introduction.ipynb'))))"
   ]
  },
  {
   "cell_type": "code",
   "execution_count": 2,
   "metadata": {},
   "outputs": [],
   "source": [
    "import numpy as np\n",
    "import pandas as pd\n",
    "\n",
    "from sklearn.linear_model import LinearRegression\n",
    "from ylearn.estimator_model.propensity_score import PropensityScore\n",
    "from ylearn.estimator_model.doubly_robust import DoublyRobust\n",
    "from ylearn.exp_dataset.exp_data import coupon_dataset, meaningless_discrete_dataset"
   ]
  },
  {
   "cell_type": "code",
   "execution_count": 3,
   "metadata": {},
   "outputs": [],
   "source": [
    "np.random.seed(2022)\n",
    "num = 1000"
   ]
  },
  {
   "cell_type": "code",
   "execution_count": 4,
   "metadata": {},
   "outputs": [
    {
     "ename": "TypeError",
     "evalue": "meaningless_discrete_dataset() got an unexpected keyword argument 'confounder_num'",
     "output_type": "error",
     "traceback": [
      "\u001b[0;31m---------------------------------------------------------------------------\u001b[0m",
      "\u001b[0;31mTypeError\u001b[0m                                 Traceback (most recent call last)",
      "\u001b[0;32m/var/folders/sf/4v_dc8756mb7lsc2stqj1zjw0000gn/T/ipykernel_56931/611873245.py\u001b[0m in \u001b[0;36m<module>\u001b[0;34m\u001b[0m\n\u001b[0;32m----> 1\u001b[0;31m data, coef = meaningless_discrete_dataset(num=num,\n\u001b[0m\u001b[1;32m      2\u001b[0m                                           \u001b[0mconfounder_num\u001b[0m\u001b[0;34m=\u001b[0m\u001b[0;36m2\u001b[0m\u001b[0;34m,\u001b[0m\u001b[0;34m\u001b[0m\u001b[0;34m\u001b[0m\u001b[0m\n\u001b[1;32m      3\u001b[0m                                           \u001b[0mtreatment_effct\u001b[0m\u001b[0;34m=\u001b[0m\u001b[0;34m[\u001b[0m\u001b[0;36m2\u001b[0m\u001b[0;34m,\u001b[0m \u001b[0;36m3\u001b[0m\u001b[0;34m]\u001b[0m\u001b[0;34m,\u001b[0m\u001b[0;34m\u001b[0m\u001b[0;34m\u001b[0m\u001b[0m\n\u001b[1;32m      4\u001b[0m                                           prob=[0.3, 0.7])\n\u001b[1;32m      5\u001b[0m \u001b[0mdata\u001b[0m\u001b[0;34m.\u001b[0m\u001b[0mhead\u001b[0m\u001b[0;34m(\u001b[0m\u001b[0;34m)\u001b[0m\u001b[0;34m\u001b[0m\u001b[0;34m\u001b[0m\u001b[0m\n",
      "\u001b[0;31mTypeError\u001b[0m: meaningless_discrete_dataset() got an unexpected keyword argument 'confounder_num'"
     ]
    }
   ],
   "source": [
    "data, coef = meaningless_discrete_dataset(num=num,\n",
    "                                          confounder_num=2,\n",
    "                                          treatment_effct=[2, 3],\n",
    "                                          prob=[0.3, 0.7])\n",
    "data.head()"
   ]
  },
  {
   "cell_type": "code",
   "execution_count": null,
   "metadata": {},
   "outputs": [],
   "source": [
    "treatment = 'treatment'\n",
    "outcome = 'outcome'\n",
    "w = ['w_0', 'w_1']"
   ]
  },
  {
   "cell_type": "code",
   "execution_count": null,
   "metadata": {},
   "outputs": [
    {
     "name": "stdout",
     "output_type": "stream",
     "text": [
      "The error is 0.0178877812660397\n"
     ]
    }
   ],
   "source": [
    "dr = DoublyRobust()\n",
    "dr_ate = dr.estimate_ate(data, outcome, treatment, w)\n",
    "print(f'The error is {np.abs(dr_ate - 3) / 3}')"
   ]
  },
  {
   "cell_type": "code",
   "execution_count": null,
   "metadata": {},
   "outputs": [
    {
     "data": {
      "text/html": [
       "<div>\n",
       "<style scoped>\n",
       "    .dataframe tbody tr th:only-of-type {\n",
       "        vertical-align: middle;\n",
       "    }\n",
       "\n",
       "    .dataframe tbody tr th {\n",
       "        vertical-align: top;\n",
       "    }\n",
       "\n",
       "    .dataframe thead th {\n",
       "        text-align: right;\n",
       "    }\n",
       "</style>\n",
       "<table border=\"1\" class=\"dataframe\">\n",
       "  <thead>\n",
       "    <tr style=\"text-align: right;\">\n",
       "      <th></th>\n",
       "      <th>gender</th>\n",
       "      <th>coupon</th>\n",
       "      <th>amount</th>\n",
       "      <th>income</th>\n",
       "      <th>time_spent</th>\n",
       "    </tr>\n",
       "  </thead>\n",
       "  <tbody>\n",
       "    <tr>\n",
       "      <th>0</th>\n",
       "      <td>1</td>\n",
       "      <td>1</td>\n",
       "      <td>504.695267</td>\n",
       "      <td>517.259674</td>\n",
       "      <td>60.469527</td>\n",
       "    </tr>\n",
       "    <tr>\n",
       "      <th>1</th>\n",
       "      <td>1</td>\n",
       "      <td>1</td>\n",
       "      <td>503.833114</td>\n",
       "      <td>517.168181</td>\n",
       "      <td>60.383311</td>\n",
       "    </tr>\n",
       "    <tr>\n",
       "      <th>2</th>\n",
       "      <td>1</td>\n",
       "      <td>1</td>\n",
       "      <td>497.694587</td>\n",
       "      <td>494.259992</td>\n",
       "      <td>59.769459</td>\n",
       "    </tr>\n",
       "    <tr>\n",
       "      <th>3</th>\n",
       "      <td>0</td>\n",
       "      <td>0</td>\n",
       "      <td>245.259153</td>\n",
       "      <td>477.792542</td>\n",
       "      <td>24.525915</td>\n",
       "    </tr>\n",
       "    <tr>\n",
       "      <th>4</th>\n",
       "      <td>0</td>\n",
       "      <td>1</td>\n",
       "      <td>400.853434</td>\n",
       "      <td>506.449489</td>\n",
       "      <td>50.085343</td>\n",
       "    </tr>\n",
       "  </tbody>\n",
       "</table>\n",
       "</div>"
      ],
      "text/plain": [
       "   gender  coupon      amount      income  time_spent\n",
       "0       1       1  504.695267  517.259674   60.469527\n",
       "1       1       1  503.833114  517.168181   60.383311\n",
       "2       1       1  497.694587  494.259992   59.769459\n",
       "3       0       0  245.259153  477.792542   24.525915\n",
       "4       0       1  400.853434  506.449489   50.085343"
      ]
     },
     "execution_count": 14,
     "metadata": {},
     "output_type": "execute_result"
    }
   ],
   "source": [
    "n_users = 10000\n",
    "df = coupon_dataset(n_users, with_income=True)\n",
    "df.head()"
   ]
  },
  {
   "cell_type": "code",
   "execution_count": null,
   "metadata": {},
   "outputs": [],
   "source": [
    "treatment_ = 'coupon'\n",
    "outcome_ = 'amount'\n",
    "w_ = ['gender', 'income']"
   ]
  },
  {
   "cell_type": "code",
   "execution_count": null,
   "metadata": {},
   "outputs": [
    {
     "name": "stdout",
     "output_type": "stream",
     "text": [
      "The error is 0.0008367835627819887\n"
     ]
    }
   ],
   "source": [
    "print(f'The error is {np.abs(dr.estimate_ate(df, outcome_, treatment_, w_) - 150) / 150}')"
   ]
  },
  {
   "cell_type": "code",
   "execution_count": null,
   "metadata": {},
   "outputs": [
    {
     "data": {
      "text/html": [
       "<div>\n",
       "<style scoped>\n",
       "    .dataframe tbody tr th:only-of-type {\n",
       "        vertical-align: middle;\n",
       "    }\n",
       "\n",
       "    .dataframe tbody tr th {\n",
       "        vertical-align: top;\n",
       "    }\n",
       "\n",
       "    .dataframe thead th {\n",
       "        text-align: right;\n",
       "    }\n",
       "</style>\n",
       "<table border=\"1\" class=\"dataframe\">\n",
       "  <thead>\n",
       "    <tr style=\"text-align: right;\">\n",
       "      <th></th>\n",
       "      <th>treatment</th>\n",
       "      <th>w_0</th>\n",
       "      <th>w_1</th>\n",
       "      <th>outcome</th>\n",
       "    </tr>\n",
       "  </thead>\n",
       "  <tbody>\n",
       "    <tr>\n",
       "      <th>0</th>\n",
       "      <td>1</td>\n",
       "      <td>0.246877</td>\n",
       "      <td>0.388034</td>\n",
       "      <td>5.286194</td>\n",
       "    </tr>\n",
       "    <tr>\n",
       "      <th>1</th>\n",
       "      <td>3</td>\n",
       "      <td>0.247529</td>\n",
       "      <td>1.539599</td>\n",
       "      <td>20.437780</td>\n",
       "    </tr>\n",
       "    <tr>\n",
       "      <th>2</th>\n",
       "      <td>3</td>\n",
       "      <td>0.116383</td>\n",
       "      <td>0.729999</td>\n",
       "      <td>18.154415</td>\n",
       "    </tr>\n",
       "    <tr>\n",
       "      <th>3</th>\n",
       "      <td>0</td>\n",
       "      <td>0.410530</td>\n",
       "      <td>-0.381842</td>\n",
       "      <td>2.999120</td>\n",
       "    </tr>\n",
       "    <tr>\n",
       "      <th>4</th>\n",
       "      <td>0</td>\n",
       "      <td>-0.806011</td>\n",
       "      <td>-0.331248</td>\n",
       "      <td>-4.165826</td>\n",
       "    </tr>\n",
       "  </tbody>\n",
       "</table>\n",
       "</div>"
      ],
      "text/plain": [
       "   treatment       w_0       w_1    outcome\n",
       "0          1  0.246877  0.388034   5.286194\n",
       "1          3  0.247529  1.539599  20.437780\n",
       "2          3  0.116383  0.729999  18.154415\n",
       "3          0  0.410530 -0.381842   2.999120\n",
       "4          0 -0.806011 -0.331248  -4.165826"
      ]
     },
     "execution_count": 25,
     "metadata": {},
     "output_type": "execute_result"
    }
   ],
   "source": [
    "data_, coef_ = meaningless_discrete_dataset(num=num,\n",
    "                                          confounder_num=2,\n",
    "                                          treatment_effct=[2, 3, 1, 5],\n",
    "                                          prob=[0.3, 0.2, 0.4, 0.1],\n",
    "                                          random_seed=213)\n",
    "data_.head()"
   ]
  }
 ],
 "metadata": {
  "interpreter": {
   "hash": "e0ecfad75f99b8578830c76494b15e8b8f0ed30d484e3d7b0b2aac43eb800e14"
  },
  "kernelspec": {
   "display_name": "Python 3.8.12 64-bit ('causal': conda)",
   "language": "python",
   "name": "python3"
  },
  "language_info": {
   "codemirror_mode": {
    "name": "ipython",
    "version": 3
   },
   "file_extension": ".py",
   "mimetype": "text/x-python",
   "name": "python",
   "nbconvert_exporter": "python",
   "pygments_lexer": "ipython3",
   "version": "3.8.12"
  },
  "orig_nbformat": 4
 },
 "nbformat": 4,
 "nbformat_minor": 2
}
