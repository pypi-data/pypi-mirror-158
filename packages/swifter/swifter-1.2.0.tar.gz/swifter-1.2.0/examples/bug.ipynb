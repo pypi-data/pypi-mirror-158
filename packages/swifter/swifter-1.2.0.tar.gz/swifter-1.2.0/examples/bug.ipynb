{
 "cells": [
  {
   "cell_type": "code",
   "execution_count": 1,
   "id": "b7500d2e",
   "metadata": {},
   "outputs": [
    {
     "name": "stdout",
     "output_type": "stream",
     "text": [
      "Obtaining file:///mnt\n",
      "  Preparing metadata (setup.py) ... \u001b[?25ldone\n",
      "\u001b[?25hRequirement already satisfied: pandas>=1.0.0 in /usr/local/lib/python3.9/site-packages (from swifter==1.1.3) (1.4.0)\n",
      "Requirement already satisfied: psutil>=5.6.6 in /usr/local/lib/python3.9/site-packages (from swifter==1.1.3) (5.9.0)\n",
      "Requirement already satisfied: dask[dataframe]>=2.10.0 in /usr/local/lib/python3.9/site-packages (from swifter==1.1.3) (2022.4.0)\n",
      "Requirement already satisfied: tqdm>=4.33.0 in /usr/local/lib/python3.9/site-packages (from swifter==1.1.3) (4.64.0)\n",
      "Requirement already satisfied: ipywidgets>=7.0.0 in /usr/local/lib/python3.9/site-packages (from swifter==1.1.3) (7.7.0)\n",
      "Requirement already satisfied: cloudpickle>=0.2.2 in /usr/local/lib/python3.9/site-packages (from swifter==1.1.3) (2.0.0)\n",
      "Requirement already satisfied: parso>0.4.0 in /usr/local/lib/python3.9/site-packages (from swifter==1.1.3) (0.8.3)\n",
      "Requirement already satisfied: bleach>=3.1.1 in /usr/local/lib/python3.9/site-packages (from swifter==1.1.3) (5.0.0)\n",
      "Requirement already satisfied: six>=1.9.0 in /usr/local/lib/python3.9/site-packages (from bleach>=3.1.1->swifter==1.1.3) (1.16.0)\n",
      "Requirement already satisfied: webencodings in /usr/local/lib/python3.9/site-packages (from bleach>=3.1.1->swifter==1.1.3) (0.5.1)\n",
      "Requirement already satisfied: partd>=0.3.10 in /usr/local/lib/python3.9/site-packages (from dask[dataframe]>=2.10.0->swifter==1.1.3) (1.2.0)\n",
      "Requirement already satisfied: fsspec>=0.6.0 in /usr/local/lib/python3.9/site-packages (from dask[dataframe]>=2.10.0->swifter==1.1.3) (2022.3.0)\n",
      "Requirement already satisfied: pyyaml>=5.3.1 in /usr/local/lib/python3.9/site-packages (from dask[dataframe]>=2.10.0->swifter==1.1.3) (6.0)\n",
      "Requirement already satisfied: toolz>=0.8.2 in /usr/local/lib/python3.9/site-packages (from dask[dataframe]>=2.10.0->swifter==1.1.3) (0.11.2)\n",
      "Requirement already satisfied: packaging>=20.0 in /usr/local/lib/python3.9/site-packages (from dask[dataframe]>=2.10.0->swifter==1.1.3) (21.3)\n",
      "Requirement already satisfied: numpy>=1.18 in /usr/local/lib/python3.9/site-packages (from dask[dataframe]>=2.10.0->swifter==1.1.3) (1.22.3)\n",
      "Requirement already satisfied: nbformat>=4.2.0 in /usr/local/lib/python3.9/site-packages (from ipywidgets>=7.0.0->swifter==1.1.3) (5.3.0)\n",
      "Requirement already satisfied: jupyterlab-widgets>=1.0.0 in /usr/local/lib/python3.9/site-packages (from ipywidgets>=7.0.0->swifter==1.1.3) (1.1.0)\n",
      "Requirement already satisfied: ipython>=4.0.0 in /usr/local/lib/python3.9/site-packages (from ipywidgets>=7.0.0->swifter==1.1.3) (8.2.0)\n",
      "Requirement already satisfied: ipython-genutils~=0.2.0 in /usr/local/lib/python3.9/site-packages (from ipywidgets>=7.0.0->swifter==1.1.3) (0.2.0)\n",
      "Requirement already satisfied: widgetsnbextension~=3.6.0 in /usr/local/lib/python3.9/site-packages (from ipywidgets>=7.0.0->swifter==1.1.3) (3.6.0)\n",
      "Requirement already satisfied: traitlets>=4.3.1 in /usr/local/lib/python3.9/site-packages (from ipywidgets>=7.0.0->swifter==1.1.3) (5.1.1)\n",
      "Requirement already satisfied: ipykernel>=4.5.1 in /usr/local/lib/python3.9/site-packages (from ipywidgets>=7.0.0->swifter==1.1.3) (6.13.0)\n",
      "Requirement already satisfied: python-dateutil>=2.8.1 in /usr/local/lib/python3.9/site-packages (from pandas>=1.0.0->swifter==1.1.3) (2.8.2)\n",
      "Requirement already satisfied: pytz>=2020.1 in /usr/local/lib/python3.9/site-packages (from pandas>=1.0.0->swifter==1.1.3) (2022.1)\n",
      "Requirement already satisfied: matplotlib-inline>=0.1 in /usr/local/lib/python3.9/site-packages (from ipykernel>=4.5.1->ipywidgets>=7.0.0->swifter==1.1.3) (0.1.3)\n",
      "Requirement already satisfied: nest-asyncio in /usr/local/lib/python3.9/site-packages (from ipykernel>=4.5.1->ipywidgets>=7.0.0->swifter==1.1.3) (1.5.5)\n",
      "Requirement already satisfied: tornado>=6.1 in /usr/local/lib/python3.9/site-packages (from ipykernel>=4.5.1->ipywidgets>=7.0.0->swifter==1.1.3) (6.1)\n",
      "Requirement already satisfied: jupyter-client>=6.1.12 in /usr/local/lib/python3.9/site-packages (from ipykernel>=4.5.1->ipywidgets>=7.0.0->swifter==1.1.3) (7.2.2)\n",
      "Requirement already satisfied: debugpy>=1.0 in /usr/local/lib/python3.9/site-packages (from ipykernel>=4.5.1->ipywidgets>=7.0.0->swifter==1.1.3) (1.6.0)\n",
      "Requirement already satisfied: pickleshare in /usr/local/lib/python3.9/site-packages (from ipython>=4.0.0->ipywidgets>=7.0.0->swifter==1.1.3) (0.7.5)\n",
      "Requirement already satisfied: setuptools>=18.5 in /usr/local/lib/python3.9/site-packages (from ipython>=4.0.0->ipywidgets>=7.0.0->swifter==1.1.3) (58.1.0)\n",
      "Requirement already satisfied: decorator in /usr/local/lib/python3.9/site-packages (from ipython>=4.0.0->ipywidgets>=7.0.0->swifter==1.1.3) (5.1.1)\n",
      "Requirement already satisfied: pygments>=2.4.0 in /usr/local/lib/python3.9/site-packages (from ipython>=4.0.0->ipywidgets>=7.0.0->swifter==1.1.3) (2.11.2)\n",
      "Requirement already satisfied: pexpect>4.3 in /usr/local/lib/python3.9/site-packages (from ipython>=4.0.0->ipywidgets>=7.0.0->swifter==1.1.3) (4.8.0)\n",
      "Requirement already satisfied: stack-data in /usr/local/lib/python3.9/site-packages (from ipython>=4.0.0->ipywidgets>=7.0.0->swifter==1.1.3) (0.2.0)\n",
      "Requirement already satisfied: prompt-toolkit!=3.0.0,!=3.0.1,<3.1.0,>=2.0.0 in /usr/local/lib/python3.9/site-packages (from ipython>=4.0.0->ipywidgets>=7.0.0->swifter==1.1.3) (3.0.29)\n",
      "Requirement already satisfied: jedi>=0.16 in /usr/local/lib/python3.9/site-packages (from ipython>=4.0.0->ipywidgets>=7.0.0->swifter==1.1.3) (0.18.1)\n",
      "Requirement already satisfied: backcall in /usr/local/lib/python3.9/site-packages (from ipython>=4.0.0->ipywidgets>=7.0.0->swifter==1.1.3) (0.2.0)\n",
      "Requirement already satisfied: jsonschema>=2.6 in /usr/local/lib/python3.9/site-packages (from nbformat>=4.2.0->ipywidgets>=7.0.0->swifter==1.1.3) (4.4.0)\n",
      "Requirement already satisfied: jupyter-core in /usr/local/lib/python3.9/site-packages (from nbformat>=4.2.0->ipywidgets>=7.0.0->swifter==1.1.3) (4.9.2)\n",
      "Requirement already satisfied: fastjsonschema in /usr/local/lib/python3.9/site-packages (from nbformat>=4.2.0->ipywidgets>=7.0.0->swifter==1.1.3) (2.15.3)\n",
      "Requirement already satisfied: pyparsing!=3.0.5,>=2.0.2 in /usr/local/lib/python3.9/site-packages (from packaging>=20.0->dask[dataframe]>=2.10.0->swifter==1.1.3) (3.0.8)\n",
      "Requirement already satisfied: locket in /usr/local/lib/python3.9/site-packages (from partd>=0.3.10->dask[dataframe]>=2.10.0->swifter==1.1.3) (0.2.1)\n",
      "Requirement already satisfied: notebook>=4.4.1 in /usr/local/lib/python3.9/site-packages (from widgetsnbextension~=3.6.0->ipywidgets>=7.0.0->swifter==1.1.3) (6.4.10)\n",
      "Requirement already satisfied: pyrsistent!=0.17.0,!=0.17.1,!=0.17.2,>=0.14.0 in /usr/local/lib/python3.9/site-packages (from jsonschema>=2.6->nbformat>=4.2.0->ipywidgets>=7.0.0->swifter==1.1.3) (0.18.1)\n",
      "Requirement already satisfied: attrs>=17.4.0 in /usr/local/lib/python3.9/site-packages (from jsonschema>=2.6->nbformat>=4.2.0->ipywidgets>=7.0.0->swifter==1.1.3) (21.4.0)\n",
      "Requirement already satisfied: pyzmq>=22.3 in /usr/local/lib/python3.9/site-packages (from jupyter-client>=6.1.12->ipykernel>=4.5.1->ipywidgets>=7.0.0->swifter==1.1.3) (22.3.0)\n",
      "Requirement already satisfied: entrypoints in /usr/local/lib/python3.9/site-packages (from jupyter-client>=6.1.12->ipykernel>=4.5.1->ipywidgets>=7.0.0->swifter==1.1.3) (0.3)\n",
      "Requirement already satisfied: nbconvert>=5 in /usr/local/lib/python3.9/site-packages (from notebook>=4.4.1->widgetsnbextension~=3.6.0->ipywidgets>=7.0.0->swifter==1.1.3) (6.5.0)\n",
      "Requirement already satisfied: jinja2 in /usr/local/lib/python3.9/site-packages (from notebook>=4.4.1->widgetsnbextension~=3.6.0->ipywidgets>=7.0.0->swifter==1.1.3) (3.1.1)\n",
      "Requirement already satisfied: argon2-cffi in /usr/local/lib/python3.9/site-packages (from notebook>=4.4.1->widgetsnbextension~=3.6.0->ipywidgets>=7.0.0->swifter==1.1.3) (21.3.0)\n",
      "Requirement already satisfied: Send2Trash>=1.8.0 in /usr/local/lib/python3.9/site-packages (from notebook>=4.4.1->widgetsnbextension~=3.6.0->ipywidgets>=7.0.0->swifter==1.1.3) (1.8.0)\n",
      "Requirement already satisfied: terminado>=0.8.3 in /usr/local/lib/python3.9/site-packages (from notebook>=4.4.1->widgetsnbextension~=3.6.0->ipywidgets>=7.0.0->swifter==1.1.3) (0.13.3)\n",
      "Requirement already satisfied: prometheus-client in /usr/local/lib/python3.9/site-packages (from notebook>=4.4.1->widgetsnbextension~=3.6.0->ipywidgets>=7.0.0->swifter==1.1.3) (0.14.1)\n",
      "Requirement already satisfied: ptyprocess>=0.5 in /usr/local/lib/python3.9/site-packages (from pexpect>4.3->ipython>=4.0.0->ipywidgets>=7.0.0->swifter==1.1.3) (0.7.0)\n"
     ]
    },
    {
     "name": "stdout",
     "output_type": "stream",
     "text": [
      "Requirement already satisfied: wcwidth in /usr/local/lib/python3.9/site-packages (from prompt-toolkit!=3.0.0,!=3.0.1,<3.1.0,>=2.0.0->ipython>=4.0.0->ipywidgets>=7.0.0->swifter==1.1.3) (0.2.5)\n",
      "Requirement already satisfied: pure-eval in /usr/local/lib/python3.9/site-packages (from stack-data->ipython>=4.0.0->ipywidgets>=7.0.0->swifter==1.1.3) (0.2.2)\n",
      "Requirement already satisfied: asttokens in /usr/local/lib/python3.9/site-packages (from stack-data->ipython>=4.0.0->ipywidgets>=7.0.0->swifter==1.1.3) (2.0.5)\n",
      "Requirement already satisfied: executing in /usr/local/lib/python3.9/site-packages (from stack-data->ipython>=4.0.0->ipywidgets>=7.0.0->swifter==1.1.3) (0.8.3)\n",
      "Requirement already satisfied: defusedxml in /usr/local/lib/python3.9/site-packages (from nbconvert>=5->notebook>=4.4.1->widgetsnbextension~=3.6.0->ipywidgets>=7.0.0->swifter==1.1.3) (0.7.1)\n",
      "Requirement already satisfied: mistune<2,>=0.8.1 in /usr/local/lib/python3.9/site-packages (from nbconvert>=5->notebook>=4.4.1->widgetsnbextension~=3.6.0->ipywidgets>=7.0.0->swifter==1.1.3) (0.8.4)\n",
      "Requirement already satisfied: jupyterlab-pygments in /usr/local/lib/python3.9/site-packages (from nbconvert>=5->notebook>=4.4.1->widgetsnbextension~=3.6.0->ipywidgets>=7.0.0->swifter==1.1.3) (0.2.1)\n",
      "Requirement already satisfied: MarkupSafe>=2.0 in /usr/local/lib/python3.9/site-packages (from nbconvert>=5->notebook>=4.4.1->widgetsnbextension~=3.6.0->ipywidgets>=7.0.0->swifter==1.1.3) (2.1.1)\n",
      "Requirement already satisfied: tinycss2 in /usr/local/lib/python3.9/site-packages (from nbconvert>=5->notebook>=4.4.1->widgetsnbextension~=3.6.0->ipywidgets>=7.0.0->swifter==1.1.3) (1.1.1)\n",
      "Requirement already satisfied: nbclient>=0.5.0 in /usr/local/lib/python3.9/site-packages (from nbconvert>=5->notebook>=4.4.1->widgetsnbextension~=3.6.0->ipywidgets>=7.0.0->swifter==1.1.3) (0.6.0)\n",
      "Requirement already satisfied: pandocfilters>=1.4.1 in /usr/local/lib/python3.9/site-packages (from nbconvert>=5->notebook>=4.4.1->widgetsnbextension~=3.6.0->ipywidgets>=7.0.0->swifter==1.1.3) (1.5.0)\n",
      "Requirement already satisfied: beautifulsoup4 in /usr/local/lib/python3.9/site-packages (from nbconvert>=5->notebook>=4.4.1->widgetsnbextension~=3.6.0->ipywidgets>=7.0.0->swifter==1.1.3) (4.11.1)\n",
      "Requirement already satisfied: argon2-cffi-bindings in /usr/local/lib/python3.9/site-packages (from argon2-cffi->notebook>=4.4.1->widgetsnbextension~=3.6.0->ipywidgets>=7.0.0->swifter==1.1.3) (21.2.0)\n",
      "Requirement already satisfied: cffi>=1.0.1 in /usr/local/lib/python3.9/site-packages (from argon2-cffi-bindings->argon2-cffi->notebook>=4.4.1->widgetsnbextension~=3.6.0->ipywidgets>=7.0.0->swifter==1.1.3) (1.15.0)\n",
      "Requirement already satisfied: soupsieve>1.2 in /usr/local/lib/python3.9/site-packages (from beautifulsoup4->nbconvert>=5->notebook>=4.4.1->widgetsnbextension~=3.6.0->ipywidgets>=7.0.0->swifter==1.1.3) (2.3.2)\n",
      "Requirement already satisfied: pycparser in /usr/local/lib/python3.9/site-packages (from cffi>=1.0.1->argon2-cffi-bindings->argon2-cffi->notebook>=4.4.1->widgetsnbextension~=3.6.0->ipywidgets>=7.0.0->swifter==1.1.3) (2.21)\n",
      "Installing collected packages: swifter\n",
      "  Attempting uninstall: swifter\n",
      "    Found existing installation: swifter 1.1.2\n",
      "    Can't uninstall 'swifter'. No files were found to uninstall.\n",
      "  Running setup.py develop for swifter\n",
      "Successfully installed swifter-1.1.3\n",
      "\u001b[33mWARNING: Running pip as the 'root' user can result in broken permissions and conflicting behaviour with the system package manager. It is recommended to use a virtual environment instead: https://pip.pypa.io/warnings/venv\u001b[0m\u001b[33m\n",
      "\u001b[0mNote: you may need to restart the kernel to use updated packages.\n"
     ]
    }
   ],
   "source": [
    "pip install -e .."
   ]
  },
  {
   "cell_type": "code",
   "execution_count": 2,
   "id": "f7d5d37d",
   "metadata": {},
   "outputs": [
    {
     "name": "stdout",
     "output_type": "stream",
     "text": [
      "--> check orig data=\n",
      "                             image\n",
      "30935   023531030000000.avi_93.jpg\n",
      "30936  023531030000000.avi_935.jpg\n",
      "30937  023531030000000.avi_938.jpg\n",
      "30938  023531030000000.avi_941.jpg\n",
      "30939  023531030000000.avi_946.jpg\n",
      "--> after pandas orig apply =\n",
      "                         image\n",
      "30935   023531030000000_93.jpg\n",
      "30936  023531030000000_935.jpg\n",
      "30937  023531030000000_938.jpg\n",
      "30938  023531030000000_941.jpg\n",
      "30939  023531030000000_946.jpg\n"
     ]
    },
    {
     "data": {
      "application/vnd.jupyter.widget-view+json": {
       "model_id": "d5a3c5ef65ed4cfd9c56491f0bd547e4",
       "version_major": 2,
       "version_minor": 0
      },
      "text/plain": [
       "Pandas Apply:   0%|          | 0/30940 [00:00<?, ?it/s]"
      ]
     },
     "metadata": {},
     "output_type": "display_data"
    },
    {
     "name": "stdout",
     "output_type": "stream",
     "text": [
      "--> after col.swifter.apply =\n",
      "                         image\n",
      "30935   023531030000000_93.jpg\n",
      "30936  023531030000000_935.jpg\n",
      "30937  023531030000000_938.jpg\n",
      "30938  023531030000000_941.jpg\n",
      "30939  023531030000000_946.jpg\n"
     ]
    }
   ],
   "source": [
    "import pandas as pd\n",
    "import swifter\n",
    "\n",
    "df = pd.read_csv(\"../data/debug_swifter.csv\")\n",
    "print(f\"--> check orig data=\\n{df.tail()}\")\n",
    "\n",
    "df1 = df.copy()\n",
    "df2 = df.copy()\n",
    "\n",
    "fix_func = lambda x : x.replace(\".avi_\", \"_\")\n",
    "\n",
    "# way 1 --> use pandas orig apply\n",
    "df1[\"image\"] = df1.image.apply(fix_func)\n",
    "print(f\"--> after pandas orig apply =\\n{df1.tail()}\")\n",
    "\n",
    "# way 2 --> use col.swifter.apply\n",
    "df2[\"image\"] = df2.image.swifter.apply(fix_func)\n",
    "print(f\"--> after col.swifter.apply =\\n{df2.tail()}\")"
   ]
  },
  {
   "cell_type": "code",
   "execution_count": 16,
   "id": "7c1a5020",
   "metadata": {},
   "outputs": [
    {
     "data": {
      "text/html": [
       "<div>\n",
       "<style scoped>\n",
       "    .dataframe tbody tr th:only-of-type {\n",
       "        vertical-align: middle;\n",
       "    }\n",
       "\n",
       "    .dataframe tbody tr th {\n",
       "        vertical-align: top;\n",
       "    }\n",
       "\n",
       "    .dataframe thead th {\n",
       "        text-align: right;\n",
       "    }\n",
       "</style>\n",
       "<table border=\"1\" class=\"dataframe\">\n",
       "  <thead>\n",
       "    <tr style=\"text-align: right;\">\n",
       "      <th></th>\n",
       "      <th>image</th>\n",
       "    </tr>\n",
       "  </thead>\n",
       "  <tbody>\n",
       "    <tr>\n",
       "      <th>2430</th>\n",
       "      <td>003018020000000_980.jpg</td>\n",
       "    </tr>\n",
       "    <tr>\n",
       "      <th>4108</th>\n",
       "      <td>001504020000000_860.jpg</td>\n",
       "    </tr>\n",
       "    <tr>\n",
       "      <th>16554</th>\n",
       "      <td>001519020000000_1785.jpg</td>\n",
       "    </tr>\n",
       "    <tr>\n",
       "      <th>18839</th>\n",
       "      <td>004300030000000_120.jpg</td>\n",
       "    </tr>\n",
       "    <tr>\n",
       "      <th>20240</th>\n",
       "      <td>005631020000000.avi_275.jpg</td>\n",
       "    </tr>\n",
       "    <tr>\n",
       "      <th>30401</th>\n",
       "      <td>021731030000000.avi_5765.jpg</td>\n",
       "    </tr>\n",
       "    <tr>\n",
       "      <th>6815</th>\n",
       "      <td>005718030000000_1820.jpg</td>\n",
       "    </tr>\n",
       "    <tr>\n",
       "      <th>29290</th>\n",
       "      <td>005359030000000_360.jpg</td>\n",
       "    </tr>\n",
       "    <tr>\n",
       "      <th>13870</th>\n",
       "      <td>000919020000000_1045.jpg</td>\n",
       "    </tr>\n",
       "    <tr>\n",
       "      <th>5330</th>\n",
       "      <td>003918030000000_960.jpg</td>\n",
       "    </tr>\n",
       "    <tr>\n",
       "      <th>23163</th>\n",
       "      <td>011919030000000.avi_26517.jpg</td>\n",
       "    </tr>\n",
       "    <tr>\n",
       "      <th>24227</th>\n",
       "      <td>012519020000000.avi_6024.jpg</td>\n",
       "    </tr>\n",
       "  </tbody>\n",
       "</table>\n",
       "</div>"
      ],
      "text/plain": [
       "                               image\n",
       "2430         003018020000000_980.jpg\n",
       "4108         001504020000000_860.jpg\n",
       "16554       001519020000000_1785.jpg\n",
       "18839        004300030000000_120.jpg\n",
       "20240    005631020000000.avi_275.jpg\n",
       "30401   021731030000000.avi_5765.jpg\n",
       "6815        005718030000000_1820.jpg\n",
       "29290        005359030000000_360.jpg\n",
       "13870       000919020000000_1045.jpg\n",
       "5330         003918030000000_960.jpg\n",
       "23163  011919030000000.avi_26517.jpg\n",
       "24227   012519020000000.avi_6024.jpg"
      ]
     },
     "execution_count": 16,
     "metadata": {},
     "output_type": "execute_result"
    }
   ],
   "source": [
    "import numpy as np\n",
    "df = pd.read_csv(\"../data/debug_swifter.csv\")\n",
    "df.iloc[np.random.choice(range(df.shape[0]), size=12)]"
   ]
  },
  {
   "cell_type": "code",
   "execution_count": 6,
   "id": "2de1bedc",
   "metadata": {},
   "outputs": [],
   "source": [
    "import numpy as np\n",
    "import pandas as pd\n",
    "import swifter"
   ]
  },
  {
   "cell_type": "code",
   "execution_count": 10,
   "id": "16d3ef85",
   "metadata": {},
   "outputs": [],
   "source": [
    "def add_squares(a,b):\n",
    "    return a**2+b**2\n",
    "df = pd.DataFrame({'X':np.random.randint(1000, size=100000),'Y':np.random.randint(1000, size=100000), \"text\": np.repeat([\"A\"], repeats=100000)})\n",
    "df ['add_sq']=df.swifter.apply(lambda row:add_squares(row.X,row.Y),axis=1)"
   ]
  },
  {
   "cell_type": "code",
   "execution_count": 11,
   "id": "c6d7b339",
   "metadata": {},
   "outputs": [
    {
     "data": {
      "application/vnd.jupyter.widget-view+json": {
       "model_id": "9b7028706a5d4fa3adb83ec02f5101b4",
       "version_major": 2,
       "version_minor": 0
      },
      "text/plain": [
       "Pandas Apply:   0%|          | 0/100000 [00:00<?, ?it/s]"
      ]
     },
     "metadata": {},
     "output_type": "display_data"
    }
   ],
   "source": [
    "\n",
    "#function to return the length of the string\n",
    "def letcnt(a):\n",
    "    return len(a)\n",
    "\n",
    "df['something'] = df['text'].swifter.apply(lambda x: letcnt(x))"
   ]
  },
  {
   "cell_type": "code",
   "execution_count": 12,
   "id": "7250eb00",
   "metadata": {},
   "outputs": [],
   "source": [
    "def split_fk_keys(desc):\n",
    "        desc_split = desc.split('_')\n",
    "\n",
    "        if len(desc_split) > 1:\n",
    "            return \"{}{}\".format(desc_split[0], \"Key\")\n",
    "        else:\n",
    "            return desc"
   ]
  },
  {
   "cell_type": "code",
   "execution_count": 13,
   "id": "e868d845",
   "metadata": {},
   "outputs": [],
   "source": [
    "relations = pd.DataFrame({\"column_name\": [\"a_b\", \"b_c\", \"c_d\"]})"
   ]
  },
  {
   "cell_type": "code",
   "execution_count": 14,
   "id": "57d50088",
   "metadata": {},
   "outputs": [
    {
     "data": {
      "text/plain": [
       "0    aKey\n",
       "1    bKey\n",
       "2    cKey\n",
       "Name: column_name, dtype: object"
      ]
     },
     "execution_count": 14,
     "metadata": {},
     "output_type": "execute_result"
    }
   ],
   "source": [
    "relations['column_name'].apply(split_fk_keys)"
   ]
  },
  {
   "cell_type": "code",
   "execution_count": 15,
   "id": "7f276505",
   "metadata": {},
   "outputs": [
    {
     "data": {
      "application/vnd.jupyter.widget-view+json": {
       "model_id": "51796154189d4812975460001e91c59b",
       "version_major": 2,
       "version_minor": 0
      },
      "text/plain": [
       "Pandas Apply:   0%|          | 0/3 [00:00<?, ?it/s]"
      ]
     },
     "metadata": {},
     "output_type": "display_data"
    },
    {
     "data": {
      "text/plain": [
       "0    aKey\n",
       "1    bKey\n",
       "2    cKey\n",
       "Name: column_name, dtype: object"
      ]
     },
     "execution_count": 15,
     "metadata": {},
     "output_type": "execute_result"
    }
   ],
   "source": [
    "relations['column_name'].swifter.apply(split_fk_keys)"
   ]
  },
  {
   "cell_type": "code",
   "execution_count": 17,
   "id": "e5399316",
   "metadata": {},
   "outputs": [
    {
     "data": {
      "text/plain": [
       "\"['a', 'b']Key\""
      ]
     },
     "execution_count": 17,
     "metadata": {},
     "output_type": "execute_result"
    }
   ],
   "source": [
    "split_fk_keys(relations[\"column_name\"].str)"
   ]
  },
  {
   "cell_type": "code",
   "execution_count": null,
   "id": "b93899a1",
   "metadata": {},
   "outputs": [],
   "source": []
  }
 ],
 "metadata": {
  "kernelspec": {
   "display_name": "Python 3 (ipykernel)",
   "language": "python",
   "name": "python3"
  },
  "language_info": {
   "codemirror_mode": {
    "name": "ipython",
    "version": 3
   },
   "file_extension": ".py",
   "mimetype": "text/x-python",
   "name": "python",
   "nbconvert_exporter": "python",
   "pygments_lexer": "ipython3",
   "version": "3.9.12"
  }
 },
 "nbformat": 4,
 "nbformat_minor": 5
}
