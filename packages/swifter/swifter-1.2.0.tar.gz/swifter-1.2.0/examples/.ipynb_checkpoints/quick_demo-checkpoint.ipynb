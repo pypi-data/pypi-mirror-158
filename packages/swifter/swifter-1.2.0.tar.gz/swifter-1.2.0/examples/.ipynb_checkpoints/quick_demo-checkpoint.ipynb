{
 "cells": [
  {
   "cell_type": "code",
   "execution_count": 1,
   "id": "95356cb2",
   "metadata": {},
   "outputs": [],
   "source": [
    "import pandas as pd\n",
    "import numpy as np\n",
    "import swifter\n",
    "from datetime import datetime, timedelta"
   ]
  },
  {
   "cell_type": "code",
   "execution_count": 2,
   "id": "b1e49a5a",
   "metadata": {},
   "outputs": [],
   "source": [
    "size = 1000000\n",
    "df = pd.DataFrame(\n",
    "    {\n",
    "        \"datetime\": pd.date_range(start=datetime.now(), periods=size, freq=\"S\"),\n",
    "        \"normal\": np.random.normal(size=size),\n",
    "        \"exponential\": np.random.exponential(size=size),\n",
    "    }\n",
    ")"
   ]
  },
  {
   "cell_type": "code",
   "execution_count": 3,
   "id": "c454fd9c",
   "metadata": {},
   "outputs": [
    {
     "data": {
      "text/html": [
       "<div>\n",
       "<style scoped>\n",
       "    .dataframe tbody tr th:only-of-type {\n",
       "        vertical-align: middle;\n",
       "    }\n",
       "\n",
       "    .dataframe tbody tr th {\n",
       "        vertical-align: top;\n",
       "    }\n",
       "\n",
       "    .dataframe thead th {\n",
       "        text-align: right;\n",
       "    }\n",
       "</style>\n",
       "<table border=\"1\" class=\"dataframe\">\n",
       "  <thead>\n",
       "    <tr style=\"text-align: right;\">\n",
       "      <th></th>\n",
       "      <th>datetime</th>\n",
       "      <th>normal</th>\n",
       "      <th>exponential</th>\n",
       "    </tr>\n",
       "  </thead>\n",
       "  <tbody>\n",
       "    <tr>\n",
       "      <th>0</th>\n",
       "      <td>2022-06-30 18:22:35.461518</td>\n",
       "      <td>-0.703782</td>\n",
       "      <td>1.125030</td>\n",
       "    </tr>\n",
       "    <tr>\n",
       "      <th>1</th>\n",
       "      <td>2022-06-30 18:22:36.461518</td>\n",
       "      <td>0.069071</td>\n",
       "      <td>0.094912</td>\n",
       "    </tr>\n",
       "    <tr>\n",
       "      <th>2</th>\n",
       "      <td>2022-06-30 18:22:37.461518</td>\n",
       "      <td>-2.295349</td>\n",
       "      <td>1.585564</td>\n",
       "    </tr>\n",
       "    <tr>\n",
       "      <th>3</th>\n",
       "      <td>2022-06-30 18:22:38.461518</td>\n",
       "      <td>-1.687109</td>\n",
       "      <td>1.737790</td>\n",
       "    </tr>\n",
       "    <tr>\n",
       "      <th>4</th>\n",
       "      <td>2022-06-30 18:22:39.461518</td>\n",
       "      <td>-0.359347</td>\n",
       "      <td>1.028871</td>\n",
       "    </tr>\n",
       "  </tbody>\n",
       "</table>\n",
       "</div>"
      ],
      "text/plain": [
       "                    datetime    normal  exponential\n",
       "0 2022-06-30 18:22:35.461518 -0.703782     1.125030\n",
       "1 2022-06-30 18:22:36.461518  0.069071     0.094912\n",
       "2 2022-06-30 18:22:37.461518 -2.295349     1.585564\n",
       "3 2022-06-30 18:22:38.461518 -1.687109     1.737790\n",
       "4 2022-06-30 18:22:39.461518 -0.359347     1.028871"
      ]
     },
     "execution_count": 3,
     "metadata": {},
     "output_type": "execute_result"
    }
   ],
   "source": [
    "df.head()"
   ]
  },
  {
   "cell_type": "markdown",
   "id": "766c654f",
   "metadata": {},
   "source": [
    "# Vectorized when possible"
   ]
  },
  {
   "cell_type": "code",
   "execution_count": 4,
   "id": "973dd1a0",
   "metadata": {},
   "outputs": [
    {
     "name": "stdout",
     "output_type": "stream",
     "text": [
      "CPU times: user 239 ms, sys: 31 ms, total: 270 ms\n",
      "Wall time: 269 ms\n"
     ]
    }
   ],
   "source": [
    "%time df[\"normal_squared_pandas\"] = df.normal.apply(lambda x: x**2)"
   ]
  },
  {
   "cell_type": "code",
   "execution_count": 5,
   "id": "8fdaab6b",
   "metadata": {},
   "outputs": [
    {
     "data": {
      "application/vnd.jupyter.widget-view+json": {
       "model_id": "ed4581174e754686b49a43e0c5f938d2",
       "version_major": 2,
       "version_minor": 0
      },
      "text/plain": [
       "Pandas Apply:   0%|          | 0/1000000 [00:00<?, ?it/s]"
      ]
     },
     "metadata": {},
     "output_type": "display_data"
    },
    {
     "name": "stdout",
     "output_type": "stream",
     "text": [
      "CPU times: user 1.46 s, sys: 63.6 ms, total: 1.53 s\n",
      "Wall time: 1.51 s\n"
     ]
    }
   ],
   "source": [
    "%time df[\"normal_squared_swifter\"] = df.normal.swifter.apply(lambda x: x**2)"
   ]
  },
  {
   "cell_type": "markdown",
   "id": "e2583e36",
   "metadata": {},
   "source": [
    "# Parallelized when it's efficient, with progress bar"
   ]
  },
  {
   "cell_type": "code",
   "execution_count": 6,
   "id": "e00cd02f",
   "metadata": {},
   "outputs": [
    {
     "name": "stdout",
     "output_type": "stream",
     "text": [
      "CPU times: user 25.1 s, sys: 125 ms, total: 25.2 s\n",
      "Wall time: 25.2 s\n"
     ]
    }
   ],
   "source": [
    "%time df[\"bigger_value_pandas_ifelse\"] = df[[\"normal\", \"exponential\"]].apply(lambda x: x.normal if x.normal > x.exponential else x.exponential, axis=1)"
   ]
  },
  {
   "cell_type": "code",
   "execution_count": 7,
   "id": "bb2426a0",
   "metadata": {},
   "outputs": [
    {
     "data": {
      "application/vnd.jupyter.widget-view+json": {
       "model_id": "cfae20d9a0e344b09c13d964ba3530d9",
       "version_major": 2,
       "version_minor": 0
      },
      "text/plain": [
       "Dask Apply:   0%|          | 0/24 [00:00<?, ?it/s]"
      ]
     },
     "metadata": {},
     "output_type": "display_data"
    },
    {
     "name": "stdout",
     "output_type": "stream",
     "text": [
      "CPU times: user 375 ms, sys: 104 ms, total: 479 ms\n",
      "Wall time: 9.5 s\n"
     ]
    }
   ],
   "source": [
    "%time df[\"bigger_value_swifter_ifelse\"] = df[[\"normal\", \"exponential\"]].swifter.apply(lambda x: x.normal if x.normal > x.exponential else x.exponential, axis=1)"
   ]
  },
  {
   "cell_type": "markdown",
   "id": "7d5c4821",
   "metadata": {},
   "source": [
    "## Benefits from using vectorized strategy"
   ]
  },
  {
   "cell_type": "code",
   "execution_count": 8,
   "id": "68ff972b",
   "metadata": {},
   "outputs": [
    {
     "name": "stdout",
     "output_type": "stream",
     "text": [
      "CPU times: user 36.7 s, sys: 200 ms, total: 36.9 s\n",
      "Wall time: 36.9 s\n"
     ]
    }
   ],
   "source": [
    "%time df[\"bigger_value_pandas_where\"] = df[[\"normal\", \"exponential\"]].apply(lambda x: np.where(x.normal > x.exponential, x.normal, x.exponential), axis=1)"
   ]
  },
  {
   "cell_type": "code",
   "execution_count": 9,
   "id": "11d8940a",
   "metadata": {},
   "outputs": [
    {
     "name": "stdout",
     "output_type": "stream",
     "text": [
      "CPU times: user 170 ms, sys: 1.02 ms, total: 171 ms\n",
      "Wall time: 169 ms\n"
     ]
    }
   ],
   "source": [
    "%time df[\"bigger_value_swifter_where\"] = df[[\"normal\", \"exponential\"]].swifter.apply(lambda x: np.where(x.normal > x.exponential, x.normal, x.exponential), axis=1)"
   ]
  },
  {
   "cell_type": "markdown",
   "id": "064d9abd",
   "metadata": {},
   "source": [
    "# Single-threaded for small datasets, with progress bar"
   ]
  },
  {
   "cell_type": "code",
   "execution_count": 10,
   "id": "a701ca17",
   "metadata": {},
   "outputs": [
    {
     "name": "stdout",
     "output_type": "stream",
     "text": [
      "CPU times: user 263 ms, sys: 4.96 ms, total: 268 ms\n",
      "Wall time: 267 ms\n"
     ]
    }
   ],
   "source": [
    "%time df[\"smaller_value_pandas_ifelse\"] = df.loc[:10000, [\"normal\", \"exponential\"]].apply(lambda x: x.normal if x.normal < x.exponential else x.exponential, axis=1)"
   ]
  },
  {
   "cell_type": "code",
   "execution_count": 11,
   "id": "9231a29c",
   "metadata": {},
   "outputs": [
    {
     "data": {
      "application/vnd.jupyter.widget-view+json": {
       "model_id": "d31b8bd6c875423fa60761ac7e9ee90a",
       "version_major": 2,
       "version_minor": 0
      },
      "text/plain": [
       "Pandas Apply:   0%|          | 0/10001 [00:00<?, ?it/s]"
      ]
     },
     "metadata": {},
     "output_type": "display_data"
    },
    {
     "name": "stdout",
     "output_type": "stream",
     "text": [
      "CPU times: user 375 ms, sys: 9.16 ms, total: 384 ms\n",
      "Wall time: 378 ms\n"
     ]
    }
   ],
   "source": [
    "%time df[\"smaller_value_swifter_ifelse\"] = df.loc[:10000, [\"normal\", \"exponential\"]].swifter.apply(lambda x: x.normal if x.normal < x.exponential else x.exponential, axis=1)"
   ]
  },
  {
   "cell_type": "markdown",
   "id": "30aed460",
   "metadata": {},
   "source": [
    "# Review Data\n"
   ]
  },
  {
   "cell_type": "code",
   "execution_count": 12,
   "id": "96ebcf1c",
   "metadata": {},
   "outputs": [
    {
     "data": {
      "text/html": [
       "<div>\n",
       "<style scoped>\n",
       "    .dataframe tbody tr th:only-of-type {\n",
       "        vertical-align: middle;\n",
       "    }\n",
       "\n",
       "    .dataframe tbody tr th {\n",
       "        vertical-align: top;\n",
       "    }\n",
       "\n",
       "    .dataframe thead th {\n",
       "        text-align: right;\n",
       "    }\n",
       "</style>\n",
       "<table border=\"1\" class=\"dataframe\">\n",
       "  <thead>\n",
       "    <tr style=\"text-align: right;\">\n",
       "      <th></th>\n",
       "      <th>datetime</th>\n",
       "      <th>normal</th>\n",
       "      <th>exponential</th>\n",
       "      <th>normal_squared_pandas</th>\n",
       "      <th>normal_squared_swifter</th>\n",
       "      <th>bigger_value_pandas_ifelse</th>\n",
       "      <th>bigger_value_swifter_ifelse</th>\n",
       "      <th>bigger_value_pandas_where</th>\n",
       "      <th>bigger_value_swifter_where</th>\n",
       "      <th>smaller_value_pandas_ifelse</th>\n",
       "      <th>smaller_value_swifter_ifelse</th>\n",
       "    </tr>\n",
       "  </thead>\n",
       "  <tbody>\n",
       "    <tr>\n",
       "      <th>0</th>\n",
       "      <td>2022-06-30 18:22:35.461518</td>\n",
       "      <td>-0.703782</td>\n",
       "      <td>1.125030</td>\n",
       "      <td>0.495309</td>\n",
       "      <td>0.495309</td>\n",
       "      <td>1.125030</td>\n",
       "      <td>1.125030</td>\n",
       "      <td>1.125029595282032</td>\n",
       "      <td>1.125030</td>\n",
       "      <td>-0.703782</td>\n",
       "      <td>-0.703782</td>\n",
       "    </tr>\n",
       "    <tr>\n",
       "      <th>1</th>\n",
       "      <td>2022-06-30 18:22:36.461518</td>\n",
       "      <td>0.069071</td>\n",
       "      <td>0.094912</td>\n",
       "      <td>0.004771</td>\n",
       "      <td>0.004771</td>\n",
       "      <td>0.094912</td>\n",
       "      <td>0.094912</td>\n",
       "      <td>0.0949118804318317</td>\n",
       "      <td>0.094912</td>\n",
       "      <td>0.069071</td>\n",
       "      <td>0.069071</td>\n",
       "    </tr>\n",
       "    <tr>\n",
       "      <th>2</th>\n",
       "      <td>2022-06-30 18:22:37.461518</td>\n",
       "      <td>-2.295349</td>\n",
       "      <td>1.585564</td>\n",
       "      <td>5.268628</td>\n",
       "      <td>5.268628</td>\n",
       "      <td>1.585564</td>\n",
       "      <td>1.585564</td>\n",
       "      <td>1.5855638407926365</td>\n",
       "      <td>1.585564</td>\n",
       "      <td>-2.295349</td>\n",
       "      <td>-2.295349</td>\n",
       "    </tr>\n",
       "    <tr>\n",
       "      <th>3</th>\n",
       "      <td>2022-06-30 18:22:38.461518</td>\n",
       "      <td>-1.687109</td>\n",
       "      <td>1.737790</td>\n",
       "      <td>2.846336</td>\n",
       "      <td>2.846336</td>\n",
       "      <td>1.737790</td>\n",
       "      <td>1.737790</td>\n",
       "      <td>1.7377900617987223</td>\n",
       "      <td>1.737790</td>\n",
       "      <td>-1.687109</td>\n",
       "      <td>-1.687109</td>\n",
       "    </tr>\n",
       "    <tr>\n",
       "      <th>4</th>\n",
       "      <td>2022-06-30 18:22:39.461518</td>\n",
       "      <td>-0.359347</td>\n",
       "      <td>1.028871</td>\n",
       "      <td>0.129130</td>\n",
       "      <td>0.129130</td>\n",
       "      <td>1.028871</td>\n",
       "      <td>1.028871</td>\n",
       "      <td>1.028871349233043</td>\n",
       "      <td>1.028871</td>\n",
       "      <td>-0.359347</td>\n",
       "      <td>-0.359347</td>\n",
       "    </tr>\n",
       "  </tbody>\n",
       "</table>\n",
       "</div>"
      ],
      "text/plain": [
       "                    datetime    normal  exponential  normal_squared_pandas  \\\n",
       "0 2022-06-30 18:22:35.461518 -0.703782     1.125030               0.495309   \n",
       "1 2022-06-30 18:22:36.461518  0.069071     0.094912               0.004771   \n",
       "2 2022-06-30 18:22:37.461518 -2.295349     1.585564               5.268628   \n",
       "3 2022-06-30 18:22:38.461518 -1.687109     1.737790               2.846336   \n",
       "4 2022-06-30 18:22:39.461518 -0.359347     1.028871               0.129130   \n",
       "\n",
       "   normal_squared_swifter  bigger_value_pandas_ifelse  \\\n",
       "0                0.495309                    1.125030   \n",
       "1                0.004771                    0.094912   \n",
       "2                5.268628                    1.585564   \n",
       "3                2.846336                    1.737790   \n",
       "4                0.129130                    1.028871   \n",
       "\n",
       "   bigger_value_swifter_ifelse bigger_value_pandas_where  \\\n",
       "0                     1.125030         1.125029595282032   \n",
       "1                     0.094912        0.0949118804318317   \n",
       "2                     1.585564        1.5855638407926365   \n",
       "3                     1.737790        1.7377900617987223   \n",
       "4                     1.028871         1.028871349233043   \n",
       "\n",
       "   bigger_value_swifter_where  smaller_value_pandas_ifelse  \\\n",
       "0                    1.125030                    -0.703782   \n",
       "1                    0.094912                     0.069071   \n",
       "2                    1.585564                    -2.295349   \n",
       "3                    1.737790                    -1.687109   \n",
       "4                    1.028871                    -0.359347   \n",
       "\n",
       "   smaller_value_swifter_ifelse  \n",
       "0                     -0.703782  \n",
       "1                      0.069071  \n",
       "2                     -2.295349  \n",
       "3                     -1.687109  \n",
       "4                     -0.359347  "
      ]
     },
     "execution_count": 12,
     "metadata": {},
     "output_type": "execute_result"
    }
   ],
   "source": [
    "df.head()"
   ]
  }
 ],
 "metadata": {
  "kernelspec": {
   "display_name": "Python 3 (ipykernel)",
   "language": "python",
   "name": "python3"
  },
  "language_info": {
   "codemirror_mode": {
    "name": "ipython",
    "version": 3
   },
   "file_extension": ".py",
   "mimetype": "text/x-python",
   "name": "python",
   "nbconvert_exporter": "python",
   "pygments_lexer": "ipython3",
   "version": "3.9.13"
  }
 },
 "nbformat": 4,
 "nbformat_minor": 5
}
