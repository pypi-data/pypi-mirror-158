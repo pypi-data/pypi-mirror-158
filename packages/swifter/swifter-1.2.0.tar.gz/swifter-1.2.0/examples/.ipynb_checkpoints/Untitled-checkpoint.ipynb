{
 "cells": [
  {
   "cell_type": "code",
   "execution_count": 7,
   "id": "1e1c2d1f",
   "metadata": {},
   "outputs": [],
   "source": [
    "import pandas as pd\n",
    "import numpy as np\n",
    "import swifter\n",
    "from datetime import datetime, timedelta"
   ]
  },
  {
   "cell_type": "code",
   "execution_count": 11,
   "id": "8507b057",
   "metadata": {},
   "outputs": [],
   "source": [
    "size = 1000000\n",
    "df = pd.DataFrame(\n",
    "    {\n",
    "        \"datetime\": pd.date_range(start=datetime.now(), periods=size, freq=\"S\"),\n",
    "        \"normal\": np.random.normal(size=size),\n",
    "        \"exponential\": np.random.exponential(size=size),\n",
    "    }\n",
    ")"
   ]
  },
  {
   "cell_type": "code",
   "execution_count": 12,
   "id": "8ee7ae1c",
   "metadata": {},
   "outputs": [
    {
     "data": {
      "text/html": [
       "<div>\n",
       "<style scoped>\n",
       "    .dataframe tbody tr th:only-of-type {\n",
       "        vertical-align: middle;\n",
       "    }\n",
       "\n",
       "    .dataframe tbody tr th {\n",
       "        vertical-align: top;\n",
       "    }\n",
       "\n",
       "    .dataframe thead th {\n",
       "        text-align: right;\n",
       "    }\n",
       "</style>\n",
       "<table border=\"1\" class=\"dataframe\">\n",
       "  <thead>\n",
       "    <tr style=\"text-align: right;\">\n",
       "      <th></th>\n",
       "      <th>datetime</th>\n",
       "      <th>normal</th>\n",
       "      <th>exponential</th>\n",
       "    </tr>\n",
       "  </thead>\n",
       "  <tbody>\n",
       "    <tr>\n",
       "      <th>0</th>\n",
       "      <td>2022-06-30 18:02:46.291909</td>\n",
       "      <td>0.455599</td>\n",
       "      <td>0.733794</td>\n",
       "    </tr>\n",
       "    <tr>\n",
       "      <th>1</th>\n",
       "      <td>2022-06-30 18:02:47.291909</td>\n",
       "      <td>-0.185953</td>\n",
       "      <td>0.407413</td>\n",
       "    </tr>\n",
       "    <tr>\n",
       "      <th>2</th>\n",
       "      <td>2022-06-30 18:02:48.291909</td>\n",
       "      <td>-1.476331</td>\n",
       "      <td>1.473612</td>\n",
       "    </tr>\n",
       "    <tr>\n",
       "      <th>3</th>\n",
       "      <td>2022-06-30 18:02:49.291909</td>\n",
       "      <td>-0.179441</td>\n",
       "      <td>1.005457</td>\n",
       "    </tr>\n",
       "    <tr>\n",
       "      <th>4</th>\n",
       "      <td>2022-06-30 18:02:50.291909</td>\n",
       "      <td>2.213809</td>\n",
       "      <td>0.464940</td>\n",
       "    </tr>\n",
       "  </tbody>\n",
       "</table>\n",
       "</div>"
      ],
      "text/plain": [
       "                    datetime    normal  exponential\n",
       "0 2022-06-30 18:02:46.291909  0.455599     0.733794\n",
       "1 2022-06-30 18:02:47.291909 -0.185953     0.407413\n",
       "2 2022-06-30 18:02:48.291909 -1.476331     1.473612\n",
       "3 2022-06-30 18:02:49.291909 -0.179441     1.005457\n",
       "4 2022-06-30 18:02:50.291909  2.213809     0.464940"
      ]
     },
     "execution_count": 12,
     "metadata": {},
     "output_type": "execute_result"
    }
   ],
   "source": [
    "df.head()"
   ]
  },
  {
   "cell_type": "markdown",
   "id": "109ce0df",
   "metadata": {},
   "source": [
    "# Vectorized when possible"
   ]
  },
  {
   "cell_type": "code",
   "execution_count": 44,
   "id": "a3ad0883",
   "metadata": {},
   "outputs": [
    {
     "name": "stdout",
     "output_type": "stream",
     "text": [
      "CPU times: user 288 ms, sys: 25.1 ms, total: 314 ms\n",
      "Wall time: 312 ms\n"
     ]
    }
   ],
   "source": [
    "%time df[\"normal_squared\"] = df.normal.apply(lambda x: x**2)"
   ]
  },
  {
   "cell_type": "code",
   "execution_count": 45,
   "id": "c9fc044d",
   "metadata": {},
   "outputs": [
    {
     "name": "stdout",
     "output_type": "stream",
     "text": [
      "CPU times: user 115 ms, sys: 14 ms, total: 129 ms\n",
      "Wall time: 126 ms\n"
     ]
    }
   ],
   "source": [
    "%time df[\"normal_squared\"] = df.normal.swifter.apply(lambda x: x**2)"
   ]
  },
  {
   "cell_type": "markdown",
   "id": "e8dccd88",
   "metadata": {},
   "source": [
    "# Parallelized when it's efficient, with progress bar"
   ]
  },
  {
   "cell_type": "code",
   "execution_count": 17,
   "id": "8bbd884b",
   "metadata": {},
   "outputs": [
    {
     "name": "stdout",
     "output_type": "stream",
     "text": [
      "CPU times: user 25 s, sys: 137 ms, total: 25.2 s\n",
      "Wall time: 25.2 s\n"
     ]
    }
   ],
   "source": [
    "%time df[\"bigger_value\"] = df[[\"normal\", \"exponential\"]].apply(lambda x: x.normal if x.normal > x.exponential else x.exponential, axis=1)"
   ]
  },
  {
   "cell_type": "code",
   "execution_count": 21,
   "id": "82289cd3",
   "metadata": {},
   "outputs": [
    {
     "data": {
      "application/vnd.jupyter.widget-view+json": {
       "model_id": "c07363a2e2e94f029c36be9da0df656e",
       "version_major": 2,
       "version_minor": 0
      },
      "text/plain": [
       "Dask Apply:   0%|          | 0/24 [00:00<?, ?it/s]"
      ]
     },
     "metadata": {},
     "output_type": "display_data"
    },
    {
     "name": "stdout",
     "output_type": "stream",
     "text": [
      "CPU times: user 406 ms, sys: 151 ms, total: 557 ms\n",
      "Wall time: 9.9 s\n"
     ]
    }
   ],
   "source": [
    "%time df[\"bigger_value\"] = df[[\"normal\", \"exponential\"]].swifter.apply(lambda x: x.normal if x.normal > x.exponential else x.exponential, axis=1)"
   ]
  },
  {
   "cell_type": "markdown",
   "id": "bfd3dc7b",
   "metadata": {},
   "source": [
    "## Benefits from using vectorized strategy"
   ]
  },
  {
   "cell_type": "code",
   "execution_count": 42,
   "id": "e29f1129",
   "metadata": {},
   "outputs": [
    {
     "name": "stdout",
     "output_type": "stream",
     "text": [
      "CPU times: user 39.7 s, sys: 251 ms, total: 40 s\n",
      "Wall time: 40 s\n"
     ]
    }
   ],
   "source": [
    "%time df[\"bigger_value\"] = df[[\"normal\", \"exponential\"]].apply(lambda x: np.where(x.normal > x.exponential, x.normal, x.exponential), axis=1)"
   ]
  },
  {
   "cell_type": "code",
   "execution_count": 41,
   "id": "3604e519",
   "metadata": {},
   "outputs": [
    {
     "name": "stdout",
     "output_type": "stream",
     "text": [
      "CPU times: user 191 ms, sys: 77.2 ms, total: 268 ms\n",
      "Wall time: 266 ms\n"
     ]
    }
   ],
   "source": [
    "%time df[\"bigger_value\"] = df[[\"normal\", \"exponential\"]].swifter.apply(lambda x: np.where(x.normal > x.exponential, x.normal, x.exponential), axis=1)"
   ]
  },
  {
   "cell_type": "markdown",
   "id": "2ef26885",
   "metadata": {},
   "source": [
    "# Single-threaded for small datasets, with progress bar"
   ]
  },
  {
   "cell_type": "code",
   "execution_count": 28,
   "id": "e5b16594",
   "metadata": {},
   "outputs": [
    {
     "name": "stdout",
     "output_type": "stream",
     "text": [
      "CPU times: user 290 ms, sys: 1.18 ms, total: 291 ms\n",
      "Wall time: 291 ms\n"
     ]
    }
   ],
   "source": [
    "%time df[\"smaller_value\"] = df.loc[:10000, [\"normal\", \"exponential\"]].apply(lambda x: x.normal if x.normal < x.exponential else x.exponential, axis=1)"
   ]
  },
  {
   "cell_type": "code",
   "execution_count": 27,
   "id": "13c2047a",
   "metadata": {},
   "outputs": [
    {
     "data": {
      "application/vnd.jupyter.widget-view+json": {
       "model_id": "b0deee10d2cb4705939aeebd3caa2bd5",
       "version_major": 2,
       "version_minor": 0
      },
      "text/plain": [
       "Pandas Apply:   0%|          | 0/10001 [00:00<?, ?it/s]"
      ]
     },
     "metadata": {},
     "output_type": "display_data"
    },
    {
     "name": "stdout",
     "output_type": "stream",
     "text": [
      "CPU times: user 398 ms, sys: 5.16 ms, total: 404 ms\n",
      "Wall time: 398 ms\n"
     ]
    }
   ],
   "source": [
    "%time df[\"smaller_value\"] = df.loc[:10000, [\"normal\", \"exponential\"]].swifter.apply(lambda x: x.normal if x.normal < x.exponential else x.exponential, axis=1)"
   ]
  }
 ],
 "metadata": {
  "kernelspec": {
   "display_name": "Python 3 (ipykernel)",
   "language": "python",
   "name": "python3"
  },
  "language_info": {
   "codemirror_mode": {
    "name": "ipython",
    "version": 3
   },
   "file_extension": ".py",
   "mimetype": "text/x-python",
   "name": "python",
   "nbconvert_exporter": "python",
   "pygments_lexer": "ipython3",
   "version": "3.9.13"
  }
 },
 "nbformat": 4,
 "nbformat_minor": 5
}
