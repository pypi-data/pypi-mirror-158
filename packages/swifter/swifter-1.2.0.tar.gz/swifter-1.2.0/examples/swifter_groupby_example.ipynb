{
 "cells": [
  {
   "cell_type": "code",
   "execution_count": 1,
   "id": "a50a6d53",
   "metadata": {},
   "outputs": [],
   "source": [
    "import pandas as pd\n",
    "import numpy as np\n",
    "import dask.dataframe as dd\n",
    "import string\n",
    "from psutil import cpu_count"
   ]
  },
  {
   "cell_type": "code",
   "execution_count": 49,
   "id": "eddc296b",
   "metadata": {},
   "outputs": [
    {
     "data": {
      "text/html": [
       "<div>\n",
       "<style scoped>\n",
       "    .dataframe tbody tr th:only-of-type {\n",
       "        vertical-align: middle;\n",
       "    }\n",
       "\n",
       "    .dataframe tbody tr th {\n",
       "        vertical-align: top;\n",
       "    }\n",
       "\n",
       "    .dataframe thead th {\n",
       "        text-align: right;\n",
       "    }\n",
       "</style>\n",
       "<table border=\"1\" class=\"dataframe\">\n",
       "  <thead>\n",
       "    <tr style=\"text-align: right;\">\n",
       "      <th></th>\n",
       "      <th>groups</th>\n",
       "      <th>normal</th>\n",
       "      <th>exponential</th>\n",
       "      <th>letters</th>\n",
       "    </tr>\n",
       "  </thead>\n",
       "  <tbody>\n",
       "    <tr>\n",
       "      <th>0</th>\n",
       "      <td>40784</td>\n",
       "      <td>-0.236014</td>\n",
       "      <td>0.378062</td>\n",
       "      <td>J</td>\n",
       "    </tr>\n",
       "    <tr>\n",
       "      <th>1</th>\n",
       "      <td>38084</td>\n",
       "      <td>0.345262</td>\n",
       "      <td>0.490875</td>\n",
       "      <td>L</td>\n",
       "    </tr>\n",
       "    <tr>\n",
       "      <th>2</th>\n",
       "      <td>19279</td>\n",
       "      <td>-0.056556</td>\n",
       "      <td>0.817486</td>\n",
       "      <td>Y</td>\n",
       "    </tr>\n",
       "    <tr>\n",
       "      <th>3</th>\n",
       "      <td>38445</td>\n",
       "      <td>0.178465</td>\n",
       "      <td>0.684911</td>\n",
       "      <td>D</td>\n",
       "    </tr>\n",
       "    <tr>\n",
       "      <th>4</th>\n",
       "      <td>36573</td>\n",
       "      <td>0.424478</td>\n",
       "      <td>2.465018</td>\n",
       "      <td>R</td>\n",
       "    </tr>\n",
       "  </tbody>\n",
       "</table>\n",
       "</div>"
      ],
      "text/plain": [
       "   groups    normal  exponential letters\n",
       "0   40784 -0.236014     0.378062       J\n",
       "1   38084  0.345262     0.490875       L\n",
       "2   19279 -0.056556     0.817486       Y\n",
       "3   38445  0.178465     0.684911       D\n",
       "4   36573  0.424478     2.465018       R"
      ]
     },
     "execution_count": 49,
     "metadata": {},
     "output_type": "execute_result"
    }
   ],
   "source": [
    "SIZE = 10000000\n",
    "df = pd.DataFrame({\n",
    "    \"groups\": np.random.choice(np.random.choice(range(100000)), size=SIZE),\n",
    "    \"normal\": np.random.normal(size=SIZE),\n",
    "    \"exponential\": np.random.exponential(size=SIZE),\n",
    "    \"letters\": np.random.choice(list(string.ascii_uppercase), size=SIZE)\n",
    "})\n",
    "df.head()"
   ]
  },
  {
   "cell_type": "code",
   "execution_count": 3,
   "id": "5a66982b",
   "metadata": {},
   "outputs": [],
   "source": [
    "def numeric_func(x):\n",
    "    return x[\"normal\"].mean() / x[\"exponential\"].var()"
   ]
  },
  {
   "cell_type": "code",
   "execution_count": 4,
   "id": "1f976816",
   "metadata": {},
   "outputs": [],
   "source": [
    "def str_func(x):\n",
    "    return \"-\".join(x[\"letters\"]).lower()"
   ]
  },
  {
   "cell_type": "code",
   "execution_count": 54,
   "id": "5f7cb6fa",
   "metadata": {},
   "outputs": [
    {
     "name": "stdout",
     "output_type": "stream",
     "text": [
      "CPU times: user 13.8 s, sys: 0 ns, total: 13.8 s\n",
      "Wall time: 13.8 s\n"
     ]
    },
    {
     "data": {
      "text/plain": [
       "groups\n",
       "0        0.039295\n",
       "1       -0.008579\n",
       "2        0.091604\n",
       "3       -0.084005\n",
       "4       -0.070328\n",
       "           ...   \n",
       "42009    0.121669\n",
       "42010   -0.070045\n",
       "42011   -0.029437\n",
       "42012    0.101081\n",
       "42013    0.078654\n",
       "Length: 42014, dtype: float64"
      ]
     },
     "execution_count": 54,
     "metadata": {},
     "output_type": "execute_result"
    }
   ],
   "source": [
    "%time df.groupby(\"groups\").apply(numeric_func)"
   ]
  },
  {
   "cell_type": "code",
   "execution_count": 55,
   "id": "996432dc",
   "metadata": {
    "scrolled": true
   },
   "outputs": [
    {
     "name": "stdout",
     "output_type": "stream",
     "text": [
      "CPU times: user 5.79 s, sys: 0 ns, total: 5.79 s\n",
      "Wall time: 5.78 s\n"
     ]
    },
    {
     "data": {
      "text/plain": [
       "groups\n",
       "0        p-i-k-i-d-q-g-t-s-v-y-d-b-o-h-x-i-k-f-z-g-e-a-...\n",
       "1        v-v-j-z-e-r-e-j-r-h-e-j-r-q-b-x-r-z-a-m-w-d-l-...\n",
       "2        e-n-a-o-r-n-g-l-c-b-i-w-a-j-k-i-y-i-u-l-g-n-u-...\n",
       "3        v-o-i-n-m-c-d-i-m-a-j-x-r-k-z-l-p-g-i-s-l-y-a-...\n",
       "4        b-d-t-o-r-c-u-r-r-o-z-r-a-b-r-w-p-w-e-h-s-d-v-...\n",
       "                               ...                        \n",
       "42009    p-p-i-u-u-v-d-l-k-m-h-q-n-u-v-x-t-x-d-m-u-f-i-...\n",
       "42010    d-j-i-a-y-j-r-f-c-l-s-x-p-h-u-b-d-d-k-v-n-s-o-...\n",
       "42011    d-w-d-j-g-s-u-y-n-i-v-f-t-u-z-b-s-y-a-z-k-k-f-...\n",
       "42012    y-g-u-r-e-r-r-b-s-i-p-i-u-k-i-a-q-n-o-a-t-h-j-...\n",
       "42013    s-y-f-l-v-b-k-w-u-h-v-x-t-y-k-v-q-a-l-h-p-a-e-...\n",
       "Length: 42014, dtype: object"
      ]
     },
     "execution_count": 55,
     "metadata": {},
     "output_type": "execute_result"
    }
   ],
   "source": [
    "%time df.groupby(\"groups\").apply(str_func)"
   ]
  },
  {
   "cell_type": "code",
   "execution_count": 56,
   "id": "f6b0400a",
   "metadata": {},
   "outputs": [
    {
     "name": "stdout",
     "output_type": "stream",
     "text": [
      "Collecting ray\n",
      "  Downloading ray-1.13.0-cp39-cp39-manylinux2014_x86_64.whl (54.3 MB)\n",
      "\u001b[2K     \u001b[90m━━━━━━━━━━━━━━━━━━━━━━━━━━━━━━━━━━━━━━━━\u001b[0m \u001b[32m54.3/54.3 MB\u001b[0m \u001b[31m8.9 MB/s\u001b[0m eta \u001b[36m0:00:00\u001b[0m:00:01\u001b[0m00:01\u001b[0m\n",
      "\u001b[?25hCollecting grpcio<=1.43.0,>=1.28.1\n",
      "  Downloading grpcio-1.43.0-cp39-cp39-manylinux_2_17_x86_64.manylinux2014_x86_64.whl (4.1 MB)\n",
      "\u001b[2K     \u001b[90m━━━━━━━━━━━━━━━━━━━━━━━━━━━━━━━━━━━━━━━━\u001b[0m \u001b[32m4.1/4.1 MB\u001b[0m \u001b[31m10.8 MB/s\u001b[0m eta \u001b[36m0:00:00\u001b[0ma \u001b[36m0:00:01\u001b[0m\n",
      "\u001b[?25hRequirement already satisfied: pyyaml in /usr/local/lib/python3.9/site-packages (from ray) (6.0)\n",
      "Requirement already satisfied: numpy>=1.19.3 in /usr/local/lib/python3.9/site-packages (from ray) (1.23.0)\n",
      "Requirement already satisfied: requests in /usr/local/lib/python3.9/site-packages (from ray) (2.28.1)\n",
      "Collecting filelock\n",
      "  Downloading filelock-3.7.1-py3-none-any.whl (10 kB)\n",
      "Collecting frozenlist\n",
      "  Downloading frozenlist-1.3.0-cp39-cp39-manylinux_2_5_x86_64.manylinux1_x86_64.manylinux_2_17_x86_64.manylinux2014_x86_64.whl (156 kB)\n",
      "\u001b[2K     \u001b[90m━━━━━━━━━━━━━━━━━━━━━━━━━━━━━━━━━━━━━━━\u001b[0m \u001b[32m156.2/156.2 KB\u001b[0m \u001b[31m6.1 MB/s\u001b[0m eta \u001b[36m0:00:00\u001b[0m\n",
      "\u001b[?25hRequirement already satisfied: jsonschema in /usr/local/lib/python3.9/site-packages (from ray) (4.6.1)\n",
      "Collecting aiosignal\n",
      "  Downloading aiosignal-1.2.0-py3-none-any.whl (8.2 kB)\n",
      "Collecting protobuf<4.0.0,>=3.15.3\n",
      "  Downloading protobuf-3.20.1-cp39-cp39-manylinux_2_5_x86_64.manylinux1_x86_64.whl (1.0 MB)\n",
      "\u001b[2K     \u001b[90m━━━━━━━━━━━━━━━━━━━━━━━━━━━━━━━━━━━━━━━━\u001b[0m \u001b[32m1.0/1.0 MB\u001b[0m \u001b[31m11.4 MB/s\u001b[0m eta \u001b[36m0:00:00\u001b[0ma \u001b[36m0:00:01\u001b[0m\n",
      "\u001b[?25hCollecting click<=8.0.4,>=7.0\n",
      "  Downloading click-8.0.4-py3-none-any.whl (97 kB)\n",
      "\u001b[2K     \u001b[90m━━━━━━━━━━━━━━━━━━━━━━━━━━━━━━━━━━━━━━━━\u001b[0m \u001b[32m97.5/97.5 KB\u001b[0m \u001b[31m14.5 MB/s\u001b[0m eta \u001b[36m0:00:00\u001b[0m\n",
      "\u001b[?25hRequirement already satisfied: msgpack<2.0.0,>=1.0.0 in /usr/local/lib/python3.9/site-packages (from ray) (1.0.4)\n",
      "Requirement already satisfied: attrs in /usr/local/lib/python3.9/site-packages (from ray) (21.4.0)\n",
      "Collecting virtualenv\n",
      "  Downloading virtualenv-20.15.1-py2.py3-none-any.whl (10.1 MB)\n",
      "\u001b[2K     \u001b[90m━━━━━━━━━━━━━━━━━━━━━━━━━━━━━━━━━━━━━━━━\u001b[0m \u001b[32m10.1/10.1 MB\u001b[0m \u001b[31m9.9 MB/s\u001b[0m eta \u001b[36m0:00:00\u001b[0m:00:01\u001b[0m0:01\u001b[0m\n",
      "\u001b[?25hRequirement already satisfied: six>=1.5.2 in /usr/local/lib/python3.9/site-packages (from grpcio<=1.43.0,>=1.28.1->ray) (1.16.0)\n",
      "Requirement already satisfied: pyrsistent!=0.17.0,!=0.17.1,!=0.17.2,>=0.14.0 in /usr/local/lib/python3.9/site-packages (from jsonschema->ray) (0.18.1)\n",
      "Requirement already satisfied: charset-normalizer<3,>=2 in /usr/local/lib/python3.9/site-packages (from requests->ray) (2.1.0)\n",
      "Requirement already satisfied: idna<4,>=2.5 in /usr/local/lib/python3.9/site-packages (from requests->ray) (3.3)\n",
      "Requirement already satisfied: certifi>=2017.4.17 in /usr/local/lib/python3.9/site-packages (from requests->ray) (2022.6.15)\n",
      "Requirement already satisfied: urllib3<1.27,>=1.21.1 in /usr/local/lib/python3.9/site-packages (from requests->ray) (1.26.9)\n",
      "Collecting distlib<1,>=0.3.1\n",
      "  Downloading distlib-0.3.4-py2.py3-none-any.whl (461 kB)\n",
      "\u001b[2K     \u001b[90m━━━━━━━━━━━━━━━━━━━━━━━━━━━━━━━━━━━━━━━\u001b[0m \u001b[32m461.2/461.2 KB\u001b[0m \u001b[31m5.4 MB/s\u001b[0m eta \u001b[36m0:00:00\u001b[0ma \u001b[36m0:00:01\u001b[0m\n",
      "\u001b[?25hRequirement already satisfied: platformdirs<3,>=2 in /usr/local/lib/python3.9/site-packages (from virtualenv->ray) (2.5.2)\n",
      "Installing collected packages: distlib, protobuf, grpcio, frozenlist, filelock, click, virtualenv, aiosignal, ray\n",
      "  Attempting uninstall: click\n",
      "    Found existing installation: click 8.1.3\n",
      "    Uninstalling click-8.1.3:\n",
      "      Successfully uninstalled click-8.1.3\n",
      "Successfully installed aiosignal-1.2.0 click-8.0.4 distlib-0.3.4 filelock-3.7.1 frozenlist-1.3.0 grpcio-1.43.0 protobuf-3.20.1 ray-1.13.0 virtualenv-20.15.1\n",
      "\u001b[33mWARNING: Running pip as the 'root' user can result in broken permissions and conflicting behaviour with the system package manager. It is recommended to use a virtual environment instead: https://pip.pypa.io/warnings/venv\u001b[0m\u001b[33m\n",
      "\u001b[0m\u001b[33mWARNING: You are using pip version 22.0.4; however, version 22.1.2 is available.\n",
      "You should consider upgrading via the '/usr/local/bin/python -m pip install --upgrade pip' command.\u001b[0m\u001b[33m\n",
      "\u001b[0m"
     ]
    }
   ],
   "source": [
    "!pip install -U ray"
   ]
  },
  {
   "cell_type": "code",
   "execution_count": 59,
   "id": "3d3dca27",
   "metadata": {},
   "outputs": [],
   "source": [
    "import ray\n",
    "from typing import List\n",
    "def parallel_grpby_apply(df: pd.DataFrame, grpby_cols: List[str], threads: int = cpu_count() * 2) -> pd.DataFrame:\n",
    "    \"\"\"\n",
    "    A parallelized version of _create_sales_ewm_feats_day,\n",
    "    uses Ray on the dataframe splitted into N chunks, N = the number of physical cores.\n",
    "    The split is made considering item_id range splitted linearly over chunks - which guarantees the\n",
    "    equal amount of items in each chunk, but not the equal amount of rows(a room for improvement)\n",
    "    :param df: dataframe to work with\n",
    "    :param gpby_cols: columns names to group by before calculations\n",
    "    :param target_col: column name to work with\n",
    "    :param alpha: coefficient of smoothing of expon. weighted mean\n",
    "    :param shift: base shift backwards, equals the maximum not-rolling prediction depth\n",
    "    :param lags: lags on top of the shift\n",
    "    :param day: a specific day for which we calculate lags\n",
    "    :return: dataframe with added features\n",
    "    :param threads: num of processes to use\n",
    "    \"\"\"\n",
    "    splits = np.array_split(df[grpby_cols[0]].unique(), threads)\n",
    "    chunks = [df.loc[df[grpby_cols[0]].isin(splits[x])] for x in range(threads)]\n",
    "\n",
    "    chunk_id = [ray.put(ch) for ch in chunks]\n",
    "    dtf = pd.concat(ray.get([my_func.remote(chunk_id[i], grpby_cols)\n",
    "                   for i in range(threads)]))\n",
    "\n",
    "    # the split messes everything up, so we need to resort it unfortunately\n",
    "    dtf.sort_values(by=grpby_cols, axis=0, inplace=True)\n",
    "    return dtf\n",
    "\n",
    "\n",
    "@ray.remote\n",
    "def my_func(df: pd.DataFrame, gpby_cols: List[str]) -> pd.DataFrame:\n",
    "    \"\"\"\n",
    "    Creating sales exponentially weighted mean features for one day\n",
    "    :param df: dataframe to work with\n",
    "    :param gpby_cols: columns names to group by before calculations\n",
    "    :param target_col: column name to work with\n",
    "    :param alpha: coefficient of smoothing of expon. weighted mean\n",
    "    :param shift: base shift backwards, equals the maximum not-rolling prediction depth\n",
    "    :param lags: lags on top of the shift\n",
    "    :param day: a specific day for which we calculate lags\n",
    "    :return: dataframe with added features\n",
    "    \"\"\"\n",
    "    # Ray makes data immutable when stored in its memory.\n",
    "    # This approach prevents state sharing among processes, but we have a separate chunk for each process\n",
    "    # to get rid of copying data, we make it mutable in-place again by this hack\n",
    "    for d in range(len(df._data.blocks)):\n",
    "        try:\n",
    "            df._data.blocks[d].values.flags.writeable = True\n",
    "        except Exception:\n",
    "            pass\n",
    "\n",
    "    return numeric_func(df)"
   ]
  },
  {
   "cell_type": "code",
   "execution_count": 60,
   "id": "4e57d0ea",
   "metadata": {},
   "outputs": [
    {
     "ename": "TypeError",
     "evalue": "cannot concatenate object of type '<class 'numpy.float64'>'; only Series and DataFrame objs are valid",
     "output_type": "error",
     "traceback": [
      "\u001b[0;31m---------------------------------------------------------------------------\u001b[0m",
      "\u001b[0;31mTypeError\u001b[0m                                 Traceback (most recent call last)",
      "File \u001b[0;32m<timed eval>:1\u001b[0m, in \u001b[0;36m<module>\u001b[0;34m\u001b[0m\n",
      "Input \u001b[0;32mIn [59]\u001b[0m, in \u001b[0;36mparallel_grpby_apply\u001b[0;34m(df, grpby_cols, threads)\u001b[0m\n\u001b[1;32m     20\u001b[0m chunks \u001b[38;5;241m=\u001b[39m [df\u001b[38;5;241m.\u001b[39mloc[df[grpby_cols[\u001b[38;5;241m0\u001b[39m]]\u001b[38;5;241m.\u001b[39misin(splits[x])] \u001b[38;5;28;01mfor\u001b[39;00m x \u001b[38;5;129;01min\u001b[39;00m \u001b[38;5;28mrange\u001b[39m(threads)]\n\u001b[1;32m     22\u001b[0m chunk_id \u001b[38;5;241m=\u001b[39m [ray\u001b[38;5;241m.\u001b[39mput(ch) \u001b[38;5;28;01mfor\u001b[39;00m ch \u001b[38;5;129;01min\u001b[39;00m chunks]\n\u001b[0;32m---> 23\u001b[0m dtf \u001b[38;5;241m=\u001b[39m \u001b[43mpd\u001b[49m\u001b[38;5;241;43m.\u001b[39;49m\u001b[43mconcat\u001b[49m\u001b[43m(\u001b[49m\u001b[43mray\u001b[49m\u001b[38;5;241;43m.\u001b[39;49m\u001b[43mget\u001b[49m\u001b[43m(\u001b[49m\u001b[43m[\u001b[49m\u001b[43mmy_func\u001b[49m\u001b[38;5;241;43m.\u001b[39;49m\u001b[43mremote\u001b[49m\u001b[43m(\u001b[49m\u001b[43mchunk_id\u001b[49m\u001b[43m[\u001b[49m\u001b[43mi\u001b[49m\u001b[43m]\u001b[49m\u001b[43m,\u001b[49m\u001b[43m \u001b[49m\u001b[43mgrpby_cols\u001b[49m\u001b[43m)\u001b[49m\n\u001b[1;32m     24\u001b[0m \u001b[43m               \u001b[49m\u001b[38;5;28;43;01mfor\u001b[39;49;00m\u001b[43m \u001b[49m\u001b[43mi\u001b[49m\u001b[43m \u001b[49m\u001b[38;5;129;43;01min\u001b[39;49;00m\u001b[43m \u001b[49m\u001b[38;5;28;43mrange\u001b[39;49m\u001b[43m(\u001b[49m\u001b[43mthreads\u001b[49m\u001b[43m)\u001b[49m\u001b[43m]\u001b[49m\u001b[43m)\u001b[49m\u001b[43m)\u001b[49m\n\u001b[1;32m     26\u001b[0m \u001b[38;5;66;03m# the split messes everything up, so we need to resort it unfortunately\u001b[39;00m\n\u001b[1;32m     27\u001b[0m dtf\u001b[38;5;241m.\u001b[39msort_values(by\u001b[38;5;241m=\u001b[39mgrpby_cols, axis\u001b[38;5;241m=\u001b[39m\u001b[38;5;241m0\u001b[39m, inplace\u001b[38;5;241m=\u001b[39m\u001b[38;5;28;01mTrue\u001b[39;00m)\n",
      "File \u001b[0;32m/usr/local/lib/python3.9/site-packages/pandas/util/_decorators.py:311\u001b[0m, in \u001b[0;36mdeprecate_nonkeyword_arguments.<locals>.decorate.<locals>.wrapper\u001b[0;34m(*args, **kwargs)\u001b[0m\n\u001b[1;32m    305\u001b[0m \u001b[38;5;28;01mif\u001b[39;00m \u001b[38;5;28mlen\u001b[39m(args) \u001b[38;5;241m>\u001b[39m num_allow_args:\n\u001b[1;32m    306\u001b[0m     warnings\u001b[38;5;241m.\u001b[39mwarn(\n\u001b[1;32m    307\u001b[0m         msg\u001b[38;5;241m.\u001b[39mformat(arguments\u001b[38;5;241m=\u001b[39marguments),\n\u001b[1;32m    308\u001b[0m         \u001b[38;5;167;01mFutureWarning\u001b[39;00m,\n\u001b[1;32m    309\u001b[0m         stacklevel\u001b[38;5;241m=\u001b[39mstacklevel,\n\u001b[1;32m    310\u001b[0m     )\n\u001b[0;32m--> 311\u001b[0m \u001b[38;5;28;01mreturn\u001b[39;00m \u001b[43mfunc\u001b[49m\u001b[43m(\u001b[49m\u001b[38;5;241;43m*\u001b[39;49m\u001b[43margs\u001b[49m\u001b[43m,\u001b[49m\u001b[43m \u001b[49m\u001b[38;5;241;43m*\u001b[39;49m\u001b[38;5;241;43m*\u001b[39;49m\u001b[43mkwargs\u001b[49m\u001b[43m)\u001b[49m\n",
      "File \u001b[0;32m/usr/local/lib/python3.9/site-packages/pandas/core/reshape/concat.py:346\u001b[0m, in \u001b[0;36mconcat\u001b[0;34m(objs, axis, join, ignore_index, keys, levels, names, verify_integrity, sort, copy)\u001b[0m\n\u001b[1;32m    142\u001b[0m \u001b[38;5;129m@deprecate_nonkeyword_arguments\u001b[39m(version\u001b[38;5;241m=\u001b[39m\u001b[38;5;28;01mNone\u001b[39;00m, allowed_args\u001b[38;5;241m=\u001b[39m[\u001b[38;5;124m\"\u001b[39m\u001b[38;5;124mobjs\u001b[39m\u001b[38;5;124m\"\u001b[39m])\n\u001b[1;32m    143\u001b[0m \u001b[38;5;28;01mdef\u001b[39;00m \u001b[38;5;21mconcat\u001b[39m(\n\u001b[1;32m    144\u001b[0m     objs: Iterable[NDFrame] \u001b[38;5;241m|\u001b[39m Mapping[Hashable, NDFrame],\n\u001b[0;32m   (...)\u001b[0m\n\u001b[1;32m    153\u001b[0m     copy: \u001b[38;5;28mbool\u001b[39m \u001b[38;5;241m=\u001b[39m \u001b[38;5;28;01mTrue\u001b[39;00m,\n\u001b[1;32m    154\u001b[0m ) \u001b[38;5;241m-\u001b[39m\u001b[38;5;241m>\u001b[39m DataFrame \u001b[38;5;241m|\u001b[39m Series:\n\u001b[1;32m    155\u001b[0m     \u001b[38;5;124;03m\"\"\"\u001b[39;00m\n\u001b[1;32m    156\u001b[0m \u001b[38;5;124;03m    Concatenate pandas objects along a particular axis with optional set logic\u001b[39;00m\n\u001b[1;32m    157\u001b[0m \u001b[38;5;124;03m    along the other axes.\u001b[39;00m\n\u001b[0;32m   (...)\u001b[0m\n\u001b[1;32m    344\u001b[0m \u001b[38;5;124;03m    ValueError: Indexes have overlapping values: ['a']\u001b[39;00m\n\u001b[1;32m    345\u001b[0m \u001b[38;5;124;03m    \"\"\"\u001b[39;00m\n\u001b[0;32m--> 346\u001b[0m     op \u001b[38;5;241m=\u001b[39m \u001b[43m_Concatenator\u001b[49m\u001b[43m(\u001b[49m\n\u001b[1;32m    347\u001b[0m \u001b[43m        \u001b[49m\u001b[43mobjs\u001b[49m\u001b[43m,\u001b[49m\n\u001b[1;32m    348\u001b[0m \u001b[43m        \u001b[49m\u001b[43maxis\u001b[49m\u001b[38;5;241;43m=\u001b[39;49m\u001b[43maxis\u001b[49m\u001b[43m,\u001b[49m\n\u001b[1;32m    349\u001b[0m \u001b[43m        \u001b[49m\u001b[43mignore_index\u001b[49m\u001b[38;5;241;43m=\u001b[39;49m\u001b[43mignore_index\u001b[49m\u001b[43m,\u001b[49m\n\u001b[1;32m    350\u001b[0m \u001b[43m        \u001b[49m\u001b[43mjoin\u001b[49m\u001b[38;5;241;43m=\u001b[39;49m\u001b[43mjoin\u001b[49m\u001b[43m,\u001b[49m\n\u001b[1;32m    351\u001b[0m \u001b[43m        \u001b[49m\u001b[43mkeys\u001b[49m\u001b[38;5;241;43m=\u001b[39;49m\u001b[43mkeys\u001b[49m\u001b[43m,\u001b[49m\n\u001b[1;32m    352\u001b[0m \u001b[43m        \u001b[49m\u001b[43mlevels\u001b[49m\u001b[38;5;241;43m=\u001b[39;49m\u001b[43mlevels\u001b[49m\u001b[43m,\u001b[49m\n\u001b[1;32m    353\u001b[0m \u001b[43m        \u001b[49m\u001b[43mnames\u001b[49m\u001b[38;5;241;43m=\u001b[39;49m\u001b[43mnames\u001b[49m\u001b[43m,\u001b[49m\n\u001b[1;32m    354\u001b[0m \u001b[43m        \u001b[49m\u001b[43mverify_integrity\u001b[49m\u001b[38;5;241;43m=\u001b[39;49m\u001b[43mverify_integrity\u001b[49m\u001b[43m,\u001b[49m\n\u001b[1;32m    355\u001b[0m \u001b[43m        \u001b[49m\u001b[43mcopy\u001b[49m\u001b[38;5;241;43m=\u001b[39;49m\u001b[43mcopy\u001b[49m\u001b[43m,\u001b[49m\n\u001b[1;32m    356\u001b[0m \u001b[43m        \u001b[49m\u001b[43msort\u001b[49m\u001b[38;5;241;43m=\u001b[39;49m\u001b[43msort\u001b[49m\u001b[43m,\u001b[49m\n\u001b[1;32m    357\u001b[0m \u001b[43m    \u001b[49m\u001b[43m)\u001b[49m\n\u001b[1;32m    359\u001b[0m     \u001b[38;5;28;01mreturn\u001b[39;00m op\u001b[38;5;241m.\u001b[39mget_result()\n",
      "File \u001b[0;32m/usr/local/lib/python3.9/site-packages/pandas/core/reshape/concat.py:436\u001b[0m, in \u001b[0;36m_Concatenator.__init__\u001b[0;34m(self, objs, axis, join, keys, levels, names, ignore_index, verify_integrity, copy, sort)\u001b[0m\n\u001b[1;32m    431\u001b[0m     \u001b[38;5;28;01mif\u001b[39;00m \u001b[38;5;129;01mnot\u001b[39;00m \u001b[38;5;28misinstance\u001b[39m(obj, (ABCSeries, ABCDataFrame)):\n\u001b[1;32m    432\u001b[0m         msg \u001b[38;5;241m=\u001b[39m (\n\u001b[1;32m    433\u001b[0m             \u001b[38;5;124mf\u001b[39m\u001b[38;5;124m\"\u001b[39m\u001b[38;5;124mcannot concatenate object of type \u001b[39m\u001b[38;5;124m'\u001b[39m\u001b[38;5;132;01m{\u001b[39;00m\u001b[38;5;28mtype\u001b[39m(obj)\u001b[38;5;132;01m}\u001b[39;00m\u001b[38;5;124m'\u001b[39m\u001b[38;5;124m; \u001b[39m\u001b[38;5;124m\"\u001b[39m\n\u001b[1;32m    434\u001b[0m             \u001b[38;5;124m\"\u001b[39m\u001b[38;5;124monly Series and DataFrame objs are valid\u001b[39m\u001b[38;5;124m\"\u001b[39m\n\u001b[1;32m    435\u001b[0m         )\n\u001b[0;32m--> 436\u001b[0m         \u001b[38;5;28;01mraise\u001b[39;00m \u001b[38;5;167;01mTypeError\u001b[39;00m(msg)\n\u001b[1;32m    438\u001b[0m     ndims\u001b[38;5;241m.\u001b[39madd(obj\u001b[38;5;241m.\u001b[39mndim)\n\u001b[1;32m    440\u001b[0m \u001b[38;5;66;03m# get the sample\u001b[39;00m\n\u001b[1;32m    441\u001b[0m \u001b[38;5;66;03m# want the highest ndim that we have, and must be non-empty\u001b[39;00m\n\u001b[1;32m    442\u001b[0m \u001b[38;5;66;03m# unless all objs are empty\u001b[39;00m\n",
      "\u001b[0;31mTypeError\u001b[0m: cannot concatenate object of type '<class 'numpy.float64'>'; only Series and DataFrame objs are valid"
     ]
    }
   ],
   "source": [
    "%time parallel_grpby_apply(df,  grpby_cols=[\"groups\"])"
   ]
  },
  {
   "cell_type": "code",
   "execution_count": 50,
   "id": "6bb0fc02",
   "metadata": {},
   "outputs": [],
   "source": [
    "from multiprocessing import Pool, cpu_count\n",
    "\n",
    "def applyParallel(dfGrouped, func):\n",
    "    with Pool(cpu_count()) as p:\n",
    "        ret_list = p.map(func, [group for name, group in dfGrouped])\n",
    "    df = pd.DataFrame(ret_list, index=dfGrouped.groups)\n",
    "    df.index.rename(\"groups\", inplace=True)\n",
    "    return df"
   ]
  },
  {
   "cell_type": "code",
   "execution_count": 52,
   "id": "906d44f7",
   "metadata": {},
   "outputs": [
    {
     "name": "stdout",
     "output_type": "stream",
     "text": [
      "CPU times: user 10.4 s, sys: 3.39 s, total: 13.7 s\n",
      "Wall time: 16 s\n"
     ]
    },
    {
     "data": {
      "text/html": [
       "<div>\n",
       "<style scoped>\n",
       "    .dataframe tbody tr th:only-of-type {\n",
       "        vertical-align: middle;\n",
       "    }\n",
       "\n",
       "    .dataframe tbody tr th {\n",
       "        vertical-align: top;\n",
       "    }\n",
       "\n",
       "    .dataframe thead th {\n",
       "        text-align: right;\n",
       "    }\n",
       "</style>\n",
       "<table border=\"1\" class=\"dataframe\">\n",
       "  <thead>\n",
       "    <tr style=\"text-align: right;\">\n",
       "      <th></th>\n",
       "      <th>0</th>\n",
       "    </tr>\n",
       "    <tr>\n",
       "      <th>groups</th>\n",
       "      <th></th>\n",
       "    </tr>\n",
       "  </thead>\n",
       "  <tbody>\n",
       "    <tr>\n",
       "      <th>0</th>\n",
       "      <td>0.039295</td>\n",
       "    </tr>\n",
       "    <tr>\n",
       "      <th>1</th>\n",
       "      <td>-0.008579</td>\n",
       "    </tr>\n",
       "    <tr>\n",
       "      <th>2</th>\n",
       "      <td>0.091604</td>\n",
       "    </tr>\n",
       "    <tr>\n",
       "      <th>3</th>\n",
       "      <td>-0.084005</td>\n",
       "    </tr>\n",
       "    <tr>\n",
       "      <th>4</th>\n",
       "      <td>-0.070328</td>\n",
       "    </tr>\n",
       "    <tr>\n",
       "      <th>...</th>\n",
       "      <td>...</td>\n",
       "    </tr>\n",
       "    <tr>\n",
       "      <th>42009</th>\n",
       "      <td>0.121669</td>\n",
       "    </tr>\n",
       "    <tr>\n",
       "      <th>42010</th>\n",
       "      <td>-0.070045</td>\n",
       "    </tr>\n",
       "    <tr>\n",
       "      <th>42011</th>\n",
       "      <td>-0.029437</td>\n",
       "    </tr>\n",
       "    <tr>\n",
       "      <th>42012</th>\n",
       "      <td>0.101081</td>\n",
       "    </tr>\n",
       "    <tr>\n",
       "      <th>42013</th>\n",
       "      <td>0.078654</td>\n",
       "    </tr>\n",
       "  </tbody>\n",
       "</table>\n",
       "<p>42014 rows × 1 columns</p>\n",
       "</div>"
      ],
      "text/plain": [
       "               0\n",
       "groups          \n",
       "0       0.039295\n",
       "1      -0.008579\n",
       "2       0.091604\n",
       "3      -0.084005\n",
       "4      -0.070328\n",
       "...          ...\n",
       "42009   0.121669\n",
       "42010  -0.070045\n",
       "42011  -0.029437\n",
       "42012   0.101081\n",
       "42013   0.078654\n",
       "\n",
       "[42014 rows x 1 columns]"
      ]
     },
     "execution_count": 52,
     "metadata": {},
     "output_type": "execute_result"
    }
   ],
   "source": [
    "%time applyParallel(df.groupby(\"groups\"), numeric_func)"
   ]
  },
  {
   "cell_type": "code",
   "execution_count": 53,
   "id": "205be98e",
   "metadata": {},
   "outputs": [
    {
     "name": "stdout",
     "output_type": "stream",
     "text": [
      "CPU times: user 8.77 s, sys: 1.41 s, total: 10.2 s\n",
      "Wall time: 11.5 s\n"
     ]
    },
    {
     "data": {
      "text/html": [
       "<div>\n",
       "<style scoped>\n",
       "    .dataframe tbody tr th:only-of-type {\n",
       "        vertical-align: middle;\n",
       "    }\n",
       "\n",
       "    .dataframe tbody tr th {\n",
       "        vertical-align: top;\n",
       "    }\n",
       "\n",
       "    .dataframe thead th {\n",
       "        text-align: right;\n",
       "    }\n",
       "</style>\n",
       "<table border=\"1\" class=\"dataframe\">\n",
       "  <thead>\n",
       "    <tr style=\"text-align: right;\">\n",
       "      <th></th>\n",
       "      <th>0</th>\n",
       "    </tr>\n",
       "    <tr>\n",
       "      <th>groups</th>\n",
       "      <th></th>\n",
       "    </tr>\n",
       "  </thead>\n",
       "  <tbody>\n",
       "    <tr>\n",
       "      <th>0</th>\n",
       "      <td>p-i-k-i-d-q-g-t-s-v-y-d-b-o-h-x-i-k-f-z-g-e-a-...</td>\n",
       "    </tr>\n",
       "    <tr>\n",
       "      <th>1</th>\n",
       "      <td>v-v-j-z-e-r-e-j-r-h-e-j-r-q-b-x-r-z-a-m-w-d-l-...</td>\n",
       "    </tr>\n",
       "    <tr>\n",
       "      <th>2</th>\n",
       "      <td>e-n-a-o-r-n-g-l-c-b-i-w-a-j-k-i-y-i-u-l-g-n-u-...</td>\n",
       "    </tr>\n",
       "    <tr>\n",
       "      <th>3</th>\n",
       "      <td>v-o-i-n-m-c-d-i-m-a-j-x-r-k-z-l-p-g-i-s-l-y-a-...</td>\n",
       "    </tr>\n",
       "    <tr>\n",
       "      <th>4</th>\n",
       "      <td>b-d-t-o-r-c-u-r-r-o-z-r-a-b-r-w-p-w-e-h-s-d-v-...</td>\n",
       "    </tr>\n",
       "    <tr>\n",
       "      <th>...</th>\n",
       "      <td>...</td>\n",
       "    </tr>\n",
       "    <tr>\n",
       "      <th>42009</th>\n",
       "      <td>p-p-i-u-u-v-d-l-k-m-h-q-n-u-v-x-t-x-d-m-u-f-i-...</td>\n",
       "    </tr>\n",
       "    <tr>\n",
       "      <th>42010</th>\n",
       "      <td>d-j-i-a-y-j-r-f-c-l-s-x-p-h-u-b-d-d-k-v-n-s-o-...</td>\n",
       "    </tr>\n",
       "    <tr>\n",
       "      <th>42011</th>\n",
       "      <td>d-w-d-j-g-s-u-y-n-i-v-f-t-u-z-b-s-y-a-z-k-k-f-...</td>\n",
       "    </tr>\n",
       "    <tr>\n",
       "      <th>42012</th>\n",
       "      <td>y-g-u-r-e-r-r-b-s-i-p-i-u-k-i-a-q-n-o-a-t-h-j-...</td>\n",
       "    </tr>\n",
       "    <tr>\n",
       "      <th>42013</th>\n",
       "      <td>s-y-f-l-v-b-k-w-u-h-v-x-t-y-k-v-q-a-l-h-p-a-e-...</td>\n",
       "    </tr>\n",
       "  </tbody>\n",
       "</table>\n",
       "<p>42014 rows × 1 columns</p>\n",
       "</div>"
      ],
      "text/plain": [
       "                                                        0\n",
       "groups                                                   \n",
       "0       p-i-k-i-d-q-g-t-s-v-y-d-b-o-h-x-i-k-f-z-g-e-a-...\n",
       "1       v-v-j-z-e-r-e-j-r-h-e-j-r-q-b-x-r-z-a-m-w-d-l-...\n",
       "2       e-n-a-o-r-n-g-l-c-b-i-w-a-j-k-i-y-i-u-l-g-n-u-...\n",
       "3       v-o-i-n-m-c-d-i-m-a-j-x-r-k-z-l-p-g-i-s-l-y-a-...\n",
       "4       b-d-t-o-r-c-u-r-r-o-z-r-a-b-r-w-p-w-e-h-s-d-v-...\n",
       "...                                                   ...\n",
       "42009   p-p-i-u-u-v-d-l-k-m-h-q-n-u-v-x-t-x-d-m-u-f-i-...\n",
       "42010   d-j-i-a-y-j-r-f-c-l-s-x-p-h-u-b-d-d-k-v-n-s-o-...\n",
       "42011   d-w-d-j-g-s-u-y-n-i-v-f-t-u-z-b-s-y-a-z-k-k-f-...\n",
       "42012   y-g-u-r-e-r-r-b-s-i-p-i-u-k-i-a-q-n-o-a-t-h-j-...\n",
       "42013   s-y-f-l-v-b-k-w-u-h-v-x-t-y-k-v-q-a-l-h-p-a-e-...\n",
       "\n",
       "[42014 rows x 1 columns]"
      ]
     },
     "execution_count": 53,
     "metadata": {},
     "output_type": "execute_result"
    }
   ],
   "source": [
    "%time applyParallel(df.groupby(\"groups\"), str_func)"
   ]
  },
  {
   "cell_type": "code",
   "execution_count": 10,
   "id": "fd98ac4b",
   "metadata": {},
   "outputs": [],
   "source": [
    "import dask.dataframe as dd"
   ]
  },
  {
   "cell_type": "code",
   "execution_count": 12,
   "id": "13262ddd",
   "metadata": {},
   "outputs": [],
   "source": [
    "ddf = dd.from_pandas(df, npartitions=2*cpu_count())"
   ]
  },
  {
   "cell_type": "code",
   "execution_count": 17,
   "id": "46ceec56",
   "metadata": {},
   "outputs": [
    {
     "name": "stdout",
     "output_type": "stream",
     "text": [
      "CPU times: user 18.3 ms, sys: 106 µs, total: 18.4 ms\n",
      "Wall time: 17.5 ms\n"
     ]
    },
    {
     "name": "stderr",
     "output_type": "stream",
     "text": [
      "/tmp/ipykernel_12/2803032567.py:2: RuntimeWarning: divide by zero encountered in double_scalars\n",
      "  return x[\"normal\"].mean() / x[\"exponential\"].var()\n",
      "<timed exec>:1: UserWarning: `meta` is not specified, inferred from partial data. Please provide `meta` if the result is unexpected.\n",
      "  Before: .apply(func)\n",
      "  After:  .apply(func, meta={'x': 'f8', 'y': 'f8'}) for dataframe result\n",
      "  or:     .apply(func, meta=('x', 'f8'))            for series result\n"
     ]
    }
   ],
   "source": [
    "%time ddf2 = ddf.groupby(\"groups\").apply(numeric_func)"
   ]
  },
  {
   "cell_type": "code",
   "execution_count": 19,
   "id": "7c11a3e4",
   "metadata": {},
   "outputs": [
    {
     "name": "stdout",
     "output_type": "stream",
     "text": [
      "CPU times: user 22.9 s, sys: 16.3 s, total: 39.2 s\n",
      "Wall time: 35.7 s\n"
     ]
    },
    {
     "data": {
      "text/plain": [
       "groups\n",
       "33      -0.029004\n",
       "78      -0.103418\n",
       "85      -0.066543\n",
       "88       0.024882\n",
       "98       0.014877\n",
       "           ...   \n",
       "14050   -0.051895\n",
       "14139   -0.067025\n",
       "14215   -0.010648\n",
       "14229   -0.025734\n",
       "14237    0.027759\n",
       "Length: 14240, dtype: float64"
      ]
     },
     "execution_count": 19,
     "metadata": {},
     "output_type": "execute_result"
    }
   ],
   "source": [
    "%time ddf2.compute()"
   ]
  },
  {
   "cell_type": "code",
   "execution_count": 21,
   "id": "06f3d068",
   "metadata": {},
   "outputs": [
    {
     "name": "stderr",
     "output_type": "stream",
     "text": [
      "<timed eval>:1: UserWarning: `meta` is not specified, inferred from partial data. Please provide `meta` if the result is unexpected.\n",
      "  Before: .apply(func)\n",
      "  After:  .apply(func, meta={'x': 'f8', 'y': 'f8'}) for dataframe result\n",
      "  or:     .apply(func, meta=('x', 'f8'))            for series result\n"
     ]
    },
    {
     "name": "stdout",
     "output_type": "stream",
     "text": [
      "CPU times: user 13.8 s, sys: 8.21 s, total: 22 s\n",
      "Wall time: 22.8 s\n"
     ]
    },
    {
     "data": {
      "text/plain": [
       "groups\n",
       "0        0.010586\n",
       "1       -0.026953\n",
       "2        0.041916\n",
       "3       -0.008480\n",
       "4        0.051525\n",
       "           ...   \n",
       "14235    0.023825\n",
       "14236    0.068291\n",
       "14237    0.027759\n",
       "14238   -0.047525\n",
       "14239   -0.014852\n",
       "Length: 14240, dtype: float64"
      ]
     },
     "execution_count": 21,
     "metadata": {},
     "output_type": "execute_result"
    }
   ],
   "source": [
    "%time dd.from_pandas(df.set_index(\"groups\").sort_index(), npartitions=2*cpu_count()).groupby(\"groups\").apply(numeric_func).compute()"
   ]
  },
  {
   "cell_type": "code",
   "execution_count": 42,
   "id": "e5e3ebe7",
   "metadata": {},
   "outputs": [
    {
     "name": "stderr",
     "output_type": "stream",
     "text": [
      "<timed eval>:1: UserWarning: `meta` is not specified, inferred from partial data. Please provide `meta` if the result is unexpected.\n",
      "  Before: .apply(func)\n",
      "  After:  .apply(func, meta={'x': 'f8', 'y': 'f8'}) for dataframe result\n",
      "  or:     .apply(func, meta=('x', 'f8'))            for series result\n"
     ]
    },
    {
     "name": "stdout",
     "output_type": "stream",
     "text": [
      "CPU times: user 53.1 s, sys: 18 s, total: 1min 11s\n",
      "Wall time: 31 s\n"
     ]
    },
    {
     "data": {
      "text/plain": [
       "groups\n",
       "0        0.010586\n",
       "1       -0.026953\n",
       "2        0.041916\n",
       "3       -0.008480\n",
       "4        0.051525\n",
       "           ...   \n",
       "14235    0.023825\n",
       "14236    0.068291\n",
       "14237    0.027759\n",
       "14238   -0.047525\n",
       "14239   -0.014852\n",
       "Length: 14240, dtype: float64"
      ]
     },
     "execution_count": 42,
     "metadata": {},
     "output_type": "execute_result"
    }
   ],
   "source": [
    "%time dd.from_pandas(df.set_index(\"groups\").sort_index(), npartitions=2*cpu_count()).groupby(\"groups\").apply(numeric_func).compute()"
   ]
  },
  {
   "cell_type": "code",
   "execution_count": 43,
   "id": "0f25c46f",
   "metadata": {},
   "outputs": [
    {
     "name": "stderr",
     "output_type": "stream",
     "text": [
      "<timed eval>:1: UserWarning: `meta` is not specified, inferred from partial data. Please provide `meta` if the result is unexpected.\n",
      "  Before: .apply(func)\n",
      "  After:  .apply(func, meta={'x': 'f8', 'y': 'f8'}) for dataframe result\n",
      "  or:     .apply(func, meta=('x', 'f8'))            for series result\n"
     ]
    },
    {
     "name": "stdout",
     "output_type": "stream",
     "text": [
      "CPU times: user 1min 18s, sys: 14.8 s, total: 1min 33s\n",
      "Wall time: 51.3 s\n"
     ]
    },
    {
     "data": {
      "text/plain": [
       "groups\n",
       "0        0.010586\n",
       "1       -0.026953\n",
       "2        0.041916\n",
       "3       -0.008480\n",
       "4        0.051525\n",
       "           ...   \n",
       "14235    0.023825\n",
       "14236    0.068291\n",
       "14237    0.027759\n",
       "14238   -0.047525\n",
       "14239   -0.014852\n",
       "Length: 14240, dtype: float64"
      ]
     },
     "execution_count": 43,
     "metadata": {},
     "output_type": "execute_result"
    }
   ],
   "source": [
    "%time dd.from_pandas(df, npartitions=2*cpu_count()).set_index(\"groups\").groupby(\"groups\").apply(numeric_func).compute()"
   ]
  },
  {
   "cell_type": "code",
   "execution_count": null,
   "id": "df6231f9",
   "metadata": {},
   "outputs": [],
   "source": [
    "dd.from_pandas(df).groupby()"
   ]
  },
  {
   "cell_type": "code",
   "execution_count": 40,
   "id": "25b2dc06",
   "metadata": {},
   "outputs": [],
   "source": [
    "def dask_map_index(df, func):\n",
    "    return dd.from_pandas(df, npartitions=2*cpu_count()).set_index(\"groups\").groupby(\"groups\", apply(numeric_func).compute()"
   ]
  },
  {
   "cell_type": "code",
   "execution_count": 41,
   "id": "4273feed",
   "metadata": {},
   "outputs": [
    {
     "name": "stderr",
     "output_type": "stream",
     "text": [
      "\n",
      "KeyboardInterrupt\n",
      "\n"
     ]
    }
   ],
   "source": [
    "%time dask_map_index(df, numeric_func)"
   ]
  },
  {
   "cell_type": "code",
   "execution_count": null,
   "id": "23dadeee",
   "metadata": {},
   "outputs": [],
   "source": []
  },
  {
   "cell_type": "code",
   "execution_count": null,
   "id": "90e690da",
   "metadata": {},
   "outputs": [],
   "source": []
  }
 ],
 "metadata": {
  "kernelspec": {
   "display_name": "Python 3 (ipykernel)",
   "language": "python",
   "name": "python3"
  },
  "language_info": {
   "codemirror_mode": {
    "name": "ipython",
    "version": 3
   },
   "file_extension": ".py",
   "mimetype": "text/x-python",
   "name": "python",
   "nbconvert_exporter": "python",
   "pygments_lexer": "ipython3",
   "version": "3.9.13"
  }
 },
 "nbformat": 4,
 "nbformat_minor": 5
}
