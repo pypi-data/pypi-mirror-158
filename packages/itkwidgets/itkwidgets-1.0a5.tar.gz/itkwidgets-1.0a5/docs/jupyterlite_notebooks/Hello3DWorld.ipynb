{
  "metadata": {
    "kernelspec": {
      "name": "python",
      "display_name": "Python (Pyodide)",
      "language": "python"
    },
    "language_info": {
      "codemirror_mode": {
        "name": "python",
        "version": 3
      },
      "file_extension": ".py",
      "mimetype": "text/x-python",
      "name": "python",
      "nbconvert_exporter": "python",
      "pygments_lexer": "ipython3",
      "version": "3.8"
    }
  },
  "nbformat_minor": 5,
  "nbformat": 4,
  "cells": [
    {
      "cell_type": "code",
      "source": "import piplite\nawait piplite.install('itkwidgets==1.0a5')",
      "metadata": {
        "trusted": true
      },
      "execution_count": 2,
      "outputs": [],
      "id": "e95388a9-93a6-4e29-bf44-e57a5c5683ab"
    },
    {
      "cell_type": "code",
      "source": "from itkwidgets import view\nimport imageio.v2 as imageio",
      "metadata": {
        "trusted": true
      },
      "execution_count": 3,
      "outputs": [],
      "id": "c3c5eb6e"
    },
    {
      "cell_type": "code",
      "source": "stent = imageio.imread('imageio:stent.npz')",
      "metadata": {
        "trusted": true
      },
      "execution_count": 4,
      "outputs": [],
      "id": "1bc45207"
    },
    {
      "cell_type": "code",
      "source": "viewer = view(stent, rotate=True)\nviewer",
      "metadata": {
        "trusted": true
      },
      "execution_count": 5,
      "outputs": [
        {
          "output_type": "display_data",
          "data": {
            "text/plain": "<IPython.core.display.Javascript object>",
            "application/javascript": "window.connectPlugin && window.connectPlugin(\"cabe680b-467f-411c-9d18-4af39bd42818\")"
          },
          "metadata": {}
        },
        {
          "output_type": "display_data",
          "data": {
            "text/plain": "<IPython.core.display.HTML object>",
            "text/html": "<div id=\"28428cf3-8ce6-4b09-bfcb-19c6345f165e\"></div>"
          },
          "metadata": {}
        },
        {
          "execution_count": 5,
          "output_type": "execute_result",
          "data": {
            "text/plain": "<itkwidgets.viewer.Viewer at 0x24e0c60>"
          },
          "metadata": {}
        }
      ],
      "id": "26582452"
    },
    {
      "cell_type": "code",
      "source": "viewer.set_image_gradient_opacity(0.4)",
      "metadata": {
        "trusted": true
      },
      "execution_count": 7,
      "outputs": [],
      "id": "5ffa3b37-ae13-4c5d-93e1-64d36c99b196"
    },
    {
      "cell_type": "code",
      "source": "",
      "metadata": {},
      "execution_count": null,
      "outputs": [],
      "id": "9ac0de0c-7693-4a72-871b-0f7a9c4b2739"
    }
  ]
}