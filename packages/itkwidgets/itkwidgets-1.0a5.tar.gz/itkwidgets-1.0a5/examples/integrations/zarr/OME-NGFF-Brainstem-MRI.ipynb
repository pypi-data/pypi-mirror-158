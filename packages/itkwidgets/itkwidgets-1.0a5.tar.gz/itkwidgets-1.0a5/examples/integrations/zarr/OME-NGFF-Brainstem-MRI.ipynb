{
 "cells": [
  {
   "cell_type": "code",
   "execution_count": null,
   "id": "2933a72d-ee4d-475c-9573-990d435c5788",
   "metadata": {},
   "outputs": [],
   "source": [
    "from zarr.storage import FSStore\n",
    "import zarr\n",
    "\n",
    "from itkwidgets import view"
   ]
  },
  {
   "cell_type": "code",
   "execution_count": null,
   "id": "9abd9d2f-8a7a-423c-a82d-50ba66a36fa0",
   "metadata": {},
   "outputs": [],
   "source": [
    "from zarr.storage import FSStore"
   ]
  },
  {
   "cell_type": "markdown",
   "id": "a6cf3989-47f1-44e5-8349-6fabec35e6ec",
   "metadata": {},
   "source": [
    "Johnson, G Allan; Calabrese, Evan; Ghosh, Satrajit (2022) MRI of human ex vivo brainstem (Version draft) [Data set]. DANDI archive. https://dandiarchive.org/dandiset/000243/draft"
   ]
  },
  {
   "cell_type": "code",
   "execution_count": null,
   "id": "e6e357a4-3b8a-44d8-ae27-040ad725dabf",
   "metadata": {},
   "outputs": [],
   "source": [
    "fsstore = FSStore('https://dandiarchive.s3.amazonaws.com/zarr/7723d02f-1f71-4553-a7b0-47bda1ae8b42')\n",
    "brainstem = zarr.open_group(fsstore, mode='r')"
   ]
  },
  {
   "cell_type": "code",
   "execution_count": null,
   "id": "0967a339-519e-4d26-af3e-e88f2d1ec043",
   "metadata": {},
   "outputs": [],
   "source": [
    "view(brainstem)"
   ]
  }
 ],
 "metadata": {
  "kernelspec": {
   "display_name": "Python 3 (ipykernel)",
   "language": "python",
   "name": "python3"
  },
  "language_info": {
   "codemirror_mode": {
    "name": "ipython",
    "version": 3
   },
   "file_extension": ".py",
   "mimetype": "text/x-python",
   "name": "python",
   "nbconvert_exporter": "python",
   "pygments_lexer": "ipython3",
   "version": "3.8.10"
  }
 },
 "nbformat": 4,
 "nbformat_minor": 5
}
