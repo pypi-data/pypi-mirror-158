{
 "cells": [
  {
   "cell_type": "code",
   "execution_count": 1,
   "id": "bd0f621e-fdba-4263-b2c2-3df6573658fc",
   "metadata": {},
   "outputs": [],
   "source": [
    "from opensees import section, patch, layer, uniaxial\n",
    "from opensees.units.english import psi, ksi, pcf, inch, ft\n",
    "import opensees.units.english\n",
    "import numpy as np\n",
    "from math import sqrt"
   ]
  },
  {
   "cell_type": "code",
   "execution_count": 2,
   "id": "280acefb-34e2-4a45-ae62-e7a64bab1d6b",
   "metadata": {},
   "outputs": [],
   "source": [
    "# Linear concrete model\n",
    "fc   = 5.0 * ksi\n",
    "weight = 145 * pcf\n",
    "# nominal concrete compressive strength\n",
    "Ec = 57*ksi*sqrt(fc/psi)   # Concrete Elastic Modulus\n",
    "# unconfined concrete\n",
    "fc1U = fc                  # unconfined concrete maximum stress\n",
    "eps1U = -0.003             # strain at maximum strength of unconfined concrete\n",
    "fc2U = 0.2*fc1U            # ultimate stress\n",
    "eps2U = -0.01              # strain at ultimate stress\n",
    "_lambda = 0.1              # ratio between unloading slope at eps2 and initial slope Ec\n",
    "# tensile-strength properties\n",
    "ftU = 0.10*fc1U            # tensile strength +tension\n",
    "Ets = ftU/0.002            # tension softening stiffness\n",
    "\n",
    "Fy = 66.8*ksi      # yield stress\n",
    "Es = 29000.*ksi    # modulus of steel\n",
    "Bs = 0.005         # strain-hardening ratio \n",
    "R0 = 18            # control transition from elastic to plastic branches\n",
    "cR1 = 0.925        # control transition from elastic to plastic branches\n",
    "cR2 = 0.15         # control transition from elastic to plastic branches\n",
    "reinf = uniaxial.Steel02(None, Fy, Es, Bs, R0, cR1, cR2)  \n",
    "\n",
    "Ec = 33*(weight/pcf)**1.5*sqrt(fc / psi) * psi\n",
    "\n",
    "\n",
    "# TODO: cover concrete\n",
    "cover_concrete = core_concrete = uniaxial.Concrete02(\n",
    "        None,-fc1U, eps1U,-fc2U, eps2U, _lambda, ftU, Ets\n",
    ")\n",
    "\n",
    "col_cover = (3 + 1/8) * inch\n",
    "core_radius = (5/2*ft - col_cover)\n",
    "\n",
    "column_reinf_section = section.FiberSection(1, 1e6, [    \n",
    "    *section.ConfiningPolygon(8, 5/2*ft, core_radius, s=4, divs=(4,3), material=cover_concrete).patches,\n",
    "    patch.circ(extRad=core_radius, material=core_concrete, divs=(5,4,12), rule=\"uniform-3\"),\n",
    "    layer.circ(radius=core_radius-11/8/2*inch, divs=36, bar=\"11\", material=reinf, units=opensees.units.english)\n",
    "])\n"
   ]
  },
  {
   "cell_type": "code",
   "execution_count": 3,
   "id": "1d4480db-72d9-4411-943e-70d8b4d1f8a0",
   "metadata": {},
   "outputs": [
    {
     "ename": "NameError",
     "evalue": "name 'ScriptBuilder' is not defined",
     "output_type": "error",
     "traceback": [
      "\u001b[0;31m---------------------------------------------------------------------------\u001b[0m",
      "\u001b[0;31mNameError\u001b[0m                                 Traceback (most recent call last)",
      "\u001b[0;32m/tmp/ipykernel_26747/996917909.py\u001b[0m in \u001b[0;36m<module>\u001b[0;34m\u001b[0m\n\u001b[0;32m----> 1\u001b[0;31m \u001b[0msection\u001b[0m\u001b[0;34m.\u001b[0m\u001b[0mMomentAxialLocus\u001b[0m\u001b[0;34m(\u001b[0m\u001b[0mcolumn_reinf_section\u001b[0m\u001b[0;34m,\u001b[0m \u001b[0maxial\u001b[0m\u001b[0;34m=\u001b[0m\u001b[0mnp\u001b[0m\u001b[0;34m.\u001b[0m\u001b[0mlinspace\u001b[0m\u001b[0;34m(\u001b[0m\u001b[0;36m1000000\u001b[0m\u001b[0;34m,\u001b[0m \u001b[0;34m-\u001b[0m\u001b[0;36m12000000\u001b[0m\u001b[0;34m,\u001b[0m \u001b[0;36m15\u001b[0m\u001b[0;34m)\u001b[0m\u001b[0;34m)\u001b[0m\u001b[0;34m.\u001b[0m\u001b[0manalyze\u001b[0m\u001b[0;34m(\u001b[0m\u001b[0;34m)\u001b[0m\u001b[0;34m\u001b[0m\u001b[0;34m\u001b[0m\u001b[0m\n\u001b[0m",
      "\u001b[0;32m~/packages/opensees-pypi/src/opensees/section.py\u001b[0m in \u001b[0;36manalyze\u001b[0;34m(self, nstep, incr)\u001b[0m\n\u001b[1;32m    431\u001b[0m         \u001b[0mdkap\u001b[0m \u001b[0;34m=\u001b[0m \u001b[0mincr\u001b[0m\u001b[0;34m\u001b[0m\u001b[0;34m\u001b[0m\u001b[0m\n\u001b[1;32m    432\u001b[0m         \u001b[0;32mfor\u001b[0m \u001b[0mP\u001b[0m \u001b[0;32min\u001b[0m \u001b[0maxial\u001b[0m\u001b[0;34m:\u001b[0m\u001b[0;34m\u001b[0m\u001b[0;34m\u001b[0m\u001b[0m\n\u001b[0;32m--> 433\u001b[0;31m             \u001b[0;32mwith\u001b[0m \u001b[0msect\u001b[0m \u001b[0;32mas\u001b[0m \u001b[0ms\u001b[0m\u001b[0;34m:\u001b[0m\u001b[0;34m\u001b[0m\u001b[0;34m\u001b[0m\u001b[0m\n\u001b[0m\u001b[1;32m    434\u001b[0m                 \u001b[0mk0\u001b[0m \u001b[0;34m=\u001b[0m \u001b[0;36m0.0\u001b[0m\u001b[0;34m\u001b[0m\u001b[0;34m\u001b[0m\u001b[0m\n\u001b[1;32m    435\u001b[0m                 \u001b[0me0\u001b[0m \u001b[0;34m=\u001b[0m \u001b[0msolve_eps\u001b[0m\u001b[0;34m(\u001b[0m\u001b[0ms\u001b[0m\u001b[0;34m,\u001b[0m  \u001b[0mk0\u001b[0m\u001b[0;34m,\u001b[0m  \u001b[0mP\u001b[0m\u001b[0;34m,\u001b[0m  \u001b[0msolve_eps\u001b[0m\u001b[0;34m(\u001b[0m\u001b[0ms\u001b[0m\u001b[0;34m,\u001b[0m  \u001b[0mk0\u001b[0m\u001b[0;34m,\u001b[0m  \u001b[0mP\u001b[0m\u001b[0;34m,\u001b[0m  \u001b[0;36m0.0\u001b[0m\u001b[0;34m)\u001b[0m\u001b[0;34m)\u001b[0m\u001b[0;34m\u001b[0m\u001b[0;34m\u001b[0m\u001b[0m\n",
      "\u001b[0;32m~/packages/opensees-pypi/src/opensees/section.py\u001b[0m in \u001b[0;36m__enter__\u001b[0;34m(self)\u001b[0m\n\u001b[1;32m     37\u001b[0m \u001b[0;34m\u001b[0m\u001b[0m\n\u001b[1;32m     38\u001b[0m     \u001b[0;32mdef\u001b[0m \u001b[0m__enter__\u001b[0m\u001b[0;34m(\u001b[0m\u001b[0mself\u001b[0m\u001b[0;34m)\u001b[0m\u001b[0;34m:\u001b[0m\u001b[0;34m\u001b[0m\u001b[0;34m\u001b[0m\u001b[0m\n\u001b[0;32m---> 39\u001b[0;31m         \u001b[0;32mreturn\u001b[0m \u001b[0mComponent\u001b[0m\u001b[0;34m.\u001b[0m\u001b[0m__enter__\u001b[0m\u001b[0;34m(\u001b[0m\u001b[0mself\u001b[0m\u001b[0;34m)\u001b[0m\u001b[0;34m\u001b[0m\u001b[0;34m\u001b[0m\u001b[0m\n\u001b[0m\u001b[1;32m     40\u001b[0m \u001b[0;34m\u001b[0m\u001b[0m\n\u001b[1;32m     41\u001b[0m     \u001b[0;32mdef\u001b[0m \u001b[0minit\u001b[0m\u001b[0;34m(\u001b[0m\u001b[0mself\u001b[0m\u001b[0;34m)\u001b[0m\u001b[0;34m:\u001b[0m\u001b[0;34m\u001b[0m\u001b[0;34m\u001b[0m\u001b[0m\n",
      "\u001b[0;32m~/packages/opensees-pypi/src/opensees/obj.py\u001b[0m in \u001b[0;36m__enter__\u001b[0;34m(self)\u001b[0m\n\u001b[1;32m     27\u001b[0m \u001b[0;34m\u001b[0m\u001b[0m\n\u001b[1;32m     28\u001b[0m         \u001b[0;32melif\u001b[0m \u001b[0mself\u001b[0m\u001b[0;34m.\u001b[0m\u001b[0mtag_space\u001b[0m \u001b[0;34m==\u001b[0m \u001b[0;34m\"section\"\u001b[0m\u001b[0;34m:\u001b[0m\u001b[0;34m\u001b[0m\u001b[0;34m\u001b[0m\u001b[0m\n\u001b[0;32m---> 29\u001b[0;31m             \u001b[0mrt\u001b[0m\u001b[0;34m.\u001b[0m\u001b[0mmodel\u001b[0m\u001b[0;34m(\u001b[0m\u001b[0mself\u001b[0m\u001b[0;34m)\u001b[0m\u001b[0;34m\u001b[0m\u001b[0;34m\u001b[0m\u001b[0m\n\u001b[0m\u001b[1;32m     30\u001b[0m             \u001b[0mself\u001b[0m\u001b[0;34m.\u001b[0m\u001b[0m_builder\u001b[0m \u001b[0;34m=\u001b[0m \u001b[0mlibOpenSeesRT\u001b[0m\u001b[0;34m.\u001b[0m\u001b[0mget_builder\u001b[0m\u001b[0;34m(\u001b[0m\u001b[0mrt\u001b[0m\u001b[0;34m.\u001b[0m\u001b[0m_interp\u001b[0m\u001b[0;34m.\u001b[0m\u001b[0minterpaddr\u001b[0m\u001b[0;34m(\u001b[0m\u001b[0;34m)\u001b[0m\u001b[0;34m)\u001b[0m\u001b[0;34m\u001b[0m\u001b[0;34m\u001b[0m\u001b[0m\n\u001b[1;32m     31\u001b[0m             \u001b[0mhandle\u001b[0m \u001b[0;34m=\u001b[0m \u001b[0mself\u001b[0m\u001b[0;34m.\u001b[0m\u001b[0m_builder\u001b[0m\u001b[0;34m.\u001b[0m\u001b[0mgetSection\u001b[0m\u001b[0;34m(\u001b[0m\u001b[0mstr\u001b[0m\u001b[0;34m(\u001b[0m\u001b[0mself\u001b[0m\u001b[0;34m.\u001b[0m\u001b[0mname\u001b[0m\u001b[0;34m)\u001b[0m\u001b[0;34m)\u001b[0m\u001b[0;34m\u001b[0m\u001b[0;34m\u001b[0m\u001b[0m\n",
      "\u001b[0;32m~/packages/opensees-pypi/src/opensees/tcl.py\u001b[0m in \u001b[0;36mmodel\u001b[0;34m(self, *args, **kwds)\u001b[0m\n\u001b[1;32m     62\u001b[0m             \u001b[0;32melse\u001b[0m\u001b[0;34m:\u001b[0m\u001b[0;34m\u001b[0m\u001b[0;34m\u001b[0m\u001b[0m\n\u001b[1;32m     63\u001b[0m                 \u001b[0mself\u001b[0m\u001b[0;34m.\u001b[0m\u001b[0meval\u001b[0m\u001b[0;34m(\u001b[0m\u001b[0;34m\"model basic 2 3\"\u001b[0m\u001b[0;34m)\u001b[0m\u001b[0;34m\u001b[0m\u001b[0;34m\u001b[0m\u001b[0m\n\u001b[0;32m---> 64\u001b[0;31m                 \u001b[0mm\u001b[0m \u001b[0;34m=\u001b[0m \u001b[0mdumps\u001b[0m\u001b[0;34m(\u001b[0m\u001b[0marg\u001b[0m\u001b[0;34m)\u001b[0m\u001b[0;34m\u001b[0m\u001b[0;34m\u001b[0m\u001b[0m\n\u001b[0m\u001b[1;32m     65\u001b[0m                 \u001b[0;32mif\u001b[0m \u001b[0misinstance\u001b[0m\u001b[0;34m(\u001b[0m\u001b[0mm\u001b[0m\u001b[0;34m,\u001b[0m \u001b[0mstr\u001b[0m\u001b[0;34m)\u001b[0m\u001b[0;34m:\u001b[0m\u001b[0;34m\u001b[0m\u001b[0;34m\u001b[0m\u001b[0m\n\u001b[1;32m     66\u001b[0m                     \u001b[0mself\u001b[0m\u001b[0;34m.\u001b[0m\u001b[0meval\u001b[0m\u001b[0;34m(\u001b[0m\u001b[0mm\u001b[0m\u001b[0;34m)\u001b[0m\u001b[0;34m\u001b[0m\u001b[0;34m\u001b[0m\u001b[0m\n",
      "\u001b[0;32m~/packages/opensees-pypi/src/opensees/tcl.py\u001b[0m in \u001b[0;36mdumps\u001b[0;34m(model)\u001b[0m\n\u001b[1;32m     32\u001b[0m     \u001b[0;32melse\u001b[0m\u001b[0;34m:\u001b[0m\u001b[0;34m\u001b[0m\u001b[0;34m\u001b[0m\u001b[0m\n\u001b[1;32m     33\u001b[0m         \u001b[0;32mfrom\u001b[0m \u001b[0mopensees\u001b[0m\u001b[0;34m.\u001b[0m\u001b[0memit\u001b[0m\u001b[0;34m.\u001b[0m\u001b[0mopensees\u001b[0m \u001b[0;32mimport\u001b[0m \u001b[0mTclScriptBuilder\u001b[0m\u001b[0;34m\u001b[0m\u001b[0;34m\u001b[0m\u001b[0m\n\u001b[0;32m---> 34\u001b[0;31m         \u001b[0mwriter\u001b[0m \u001b[0;34m=\u001b[0m \u001b[0mScriptBuilder\u001b[0m\u001b[0;34m(\u001b[0m\u001b[0;34m)\u001b[0m\u001b[0;34m\u001b[0m\u001b[0;34m\u001b[0m\u001b[0m\n\u001b[0m\u001b[1;32m     35\u001b[0m         \u001b[0mwriter\u001b[0m\u001b[0;34m.\u001b[0m\u001b[0msend\u001b[0m\u001b[0;34m(\u001b[0m\u001b[0mmodel\u001b[0m\u001b[0;34m)\u001b[0m\u001b[0;34m\u001b[0m\u001b[0;34m\u001b[0m\u001b[0m\n\u001b[1;32m     36\u001b[0m         \u001b[0;32mif\u001b[0m \u001b[0;32mnot\u001b[0m \u001b[0mwriter\u001b[0m\u001b[0;34m.\u001b[0m\u001b[0mpython_objects\u001b[0m\u001b[0;34m:\u001b[0m\u001b[0;34m\u001b[0m\u001b[0;34m\u001b[0m\u001b[0m\n",
      "\u001b[0;31mNameError\u001b[0m: name 'ScriptBuilder' is not defined"
     ]
    },
    {
     "data": {
      "image/png": "[encoded data removed]",
      "text/plain": [
       "<Figure size 432x288 with 2 Axes>"
      ]
     },
     "metadata": {
      "needs_background": "light"
     },
     "output_type": "display_data"
    }
   ],
   "source": [
    "section.MomentAxialLocus(column_reinf_section, axial=np.linspace(1000000, -12000000, 15)).analyze()"
   ]
  },
  {
   "cell_type": "code",
   "execution_count": null,
   "id": "2a72b900-ce7f-4fa8-8438-5dd9d6b89006",
   "metadata": {},
   "outputs": [],
   "source": []
  }
 ],
 "metadata": {
  "kernelspec": {
   "display_name": "Python (elle)",
   "language": "python",
   "name": "elle"
  },
  "language_info": {
   "codemirror_mode": {
    "name": "ipython",
    "version": 3
   },
   "file_extension": ".py",
   "mimetype": "text/x-python",
   "name": "python",
   "nbconvert_exporter": "python",
   "pygments_lexer": "ipython3",
   "version": "3.8.12"
  }
 },
 "nbformat": 4,
 "nbformat_minor": 5
}
