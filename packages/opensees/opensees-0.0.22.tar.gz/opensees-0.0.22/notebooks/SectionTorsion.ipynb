{
 "cells": [
  {
   "cell_type": "markdown",
   "id": "848125aa-4dbe-4e7f-8384-ec1e4111aee5",
   "metadata": {
    "tags": []
   },
   "source": [
    "# Torsion Constant"
   ]
  },
  {
   "cell_type": "code",
   "execution_count": 1,
   "id": "7d777416-4fe3-43b0-bf9d-be7afee7567c",
   "metadata": {},
   "outputs": [],
   "source": [
    "from opensees import patch, section, layer, torsion"
   ]
  },
  {
   "cell_type": "code",
   "execution_count": 8,
   "id": "3891761b-382b-4330-b7c1-c6dc86b20349",
   "metadata": {},
   "outputs": [],
   "source": [
    "\n",
    "b, d = 1.5, 1\n",
    "scale = 2\n",
    "sect = patch.RegularPolygon(8, d)\n",
    "\n",
    "# sect = section.FiberSection(areas=[\n",
    "#     patch.rect(vertices=[[-b/2,-d/2],[b/2,d/2]])\n",
    "# ])\n",
    "# sect = patch.circ(extRad=b)\n",
    "\n",
    "#--------------------------\n",
    "# d = 16\n",
    "# scale=0.1\n",
    "# sect = section.FiberSection(areas=[\n",
    "#     patch.rect(corners=[[-8,  0],[-4, 16]]),\n",
    "#     patch.rect(corners=[[ 4,  0],[ 8, 16]]),\n",
    "#     patch.rect(corners=[[-4, 12],[4, 16]])\n",
    "# ])"
   ]
  },
  {
   "cell_type": "code",
   "execution_count": 9,
   "id": "2218a214-8a53-4916-96d9-e4d1e3841a15",
   "metadata": {},
   "outputs": [],
   "source": [
    "mesh = section.sect2gmsh(sect, [d/8]*2)"
   ]
  },
  {
   "cell_type": "code",
   "execution_count": 10,
   "id": "71ac6c06-177f-4046-a348-ceb953776f1e",
   "metadata": {},
   "outputs": [
    {
     "name": "stdout",
     "output_type": "stream",
     "text": [
      "1.7255764937934668\n"
     ]
    },
    {
     "data": {},
     "metadata": {},
     "output_type": "display_data"
    },
    {
     "data": {
      "text/html": [
       "<div id='1009'>\n",
       "\n",
       "\n",
       "\n",
       "\n",
       "\n",
       "  <div class=\"bk-root\" id=\"9cf3dedc-98c2-4b70-8d5c-25a4f1df6f84\" data-root-id=\"1009\"></div>\n",
       "</div>\n",
       "<script type=\"application/javascript\">(function(root) {\n",
       "  function embed_document(root) {\n",
       "    var docs_json = {\"d44adf45-44e1-44ae-b760-f787b3c12acd\":{\"defs\":[{\"extends\":null,\"module\":null,\"name\":\"ReactiveHTML1\",\"overrides\":[],\"properties\":[]},{\"extends\":null,\"module\":null,\"name\":\"FlexBox1\",\"overrides\":[],\"properties\":[{\"default\":\"flex-start\",\"kind\":null,\"name\":\"align_content\"},{\"default\":\"flex-start\",\"kind\":null,\"name\":\"align_items\"},{\"default\":\"row\",\"kind\":null,\"name\":\"flex_direction\"},{\"default\":\"wrap\",\"kind\":null,\"name\":\"flex_wrap\"},{\"default\":\"flex-start\",\"kind\":null,\"name\":\"justify_content\"}]},{\"extends\":null,\"module\":null,\"name\":\"TemplateActions1\",\"overrides\":[],\"properties\":[{\"default\":0,\"kind\":null,\"name\":\"open_modal\"},{\"default\":0,\"kind\":null,\"name\":\"close_modal\"}]},{\"extends\":null,\"module\":null,\"name\":\"MaterialTemplateActions1\",\"overrides\":[],\"properties\":[{\"default\":0,\"kind\":null,\"name\":\"open_modal\"},{\"default\":0,\"kind\":null,\"name\":\"close_modal\"}]}],\"roots\":{\"references\":[{\"attributes\":{\"arrays\":{\"0ae828ea0a2a8d0cd24d2e12b503bc44\":\"UEsDBBQAAAAIAO2L0VRonC5hFwAAAEAAAAAlAAAAZGF0YS8wYWU4MjhlYTBhMmE4ZDBjZDI0ZDJlMTJiNTAzYmM0NGNkgABGJMwEpZmhNAuUZoXSbFCaHYgBUEsBAhQDFAAAAAgA7YvRVGicLmEXAAAAQAAAACUAAAAAAAAAAAAAAIABAAAAAGRhdGEvMGFlODI4ZWEwYTJhOGQwY2QyNGQyZTEyYjUwM2JjNDRQSwUGAAAAAAEAAQBTAAAAWgAAAAAA\",\"3142e9870be1bce7aeea2c9ea02c3f98\":\"UEsDBBQAAAAIAO2L0VTGT2lthgMAAAAEAAAlAAAAZGF0YS8zMTQyZTk4NzBiZTFiY2U3YWVlYTJjOWVhMDJjM2Y5OA3DCUwVZADA8VprrbVWa6211lqt9Zk5MxQJUUQEJUK8D7wlYh6RmTFCI4qRmmmMVLxASeRQAiRARKInIiKnCCJyw+M+Hu8B736P7/vXb/u5uCXg4n6WuR7nmOd5HlevC7guTWS+bxJufpf41P8y7iuScV95hQVrUvBYd5WFG1NZGJTOoq0ZeG6/xuJd1/H6IhOvL7NYsjsb7705LA27gc/+XHy+zcP3u3yWRRTgF3kT/8OFBETdIjD6Nqtiilkd+w9rj5Sw/ti/bDyuIejkHbbE3WVbfBnbT91j55lygs/dJ+RCBaGJD9h9qYo9ydXsS6khLLWW/el1HLj2kIOZ9YRnNxCR00BkbiOH8x4Tld9E9M0n/HyrmdjbTzlS3MKxklaOa9o4caed3+92EH+vk1P3uzhT0c3Zyh7OV2u5WKslqa6X5Po+rjT0c7VxgLSmQTKah7jeMkxW6wg5bSPkto+S1zFGQecYhV06irp1FPeMU6LVo+nVU9pnoKzfQPnABA8GJ6gamqRmeIq6kSnqR400jBl5rDPxZNzMU72ZVoOF9gkLnZNWeoxWtEYzvUYjfaZJ+k0GBs06hsyjDFuGGbEMMmrtQ2fVMm7rRm/rxGBvY9LewpSjGaOjCZOzEbOzHquzDtt0DfbpKhyyAqcsR6oylCr9vwYlS1DOYpSjCGUvRNkKUNZ8lPlvlOkGypiNmvoLNXkdZchA6dNR46koXQpq9E/UyGXUcBJqKBE1eAHVfw7Vl4DqPY3S/oHqiUd2xSE7TiLbfkO2/IpsPops+gXZGIt8FIN8+BOy9kdk9Q/IykPIikhkeQSyLBxZehCpOYAs2Y8sDkMWfYUs3Iss2I3MC0XmhiBzgpnO2sV05k6mM3bgTNuGM2UrzuQtOC5txnExCMf5TdgTNmA/vR5b/DpscWuxnViD9fgqrEdXYo0NxBKzAkt0AJaozzEf+gzz936Yw5djOrgM0ze+mL72YWqfN5N7ljAR6oUhZDH6YE/GdyxCt20ho5s9GNm0gOEN7gytdWNw9XwGAl3pD5hHr/9ctMtd6PH9hG7vOXR5fUyn52w6PGbR5v4RrfNn0jLvQ566zKB5jqBptqBxluDRTMHDGYLaDwTV7wsq3xNUvCsof0dQ9rag9C2B5k1ByRuC4tcFRa8JCl8VFLwiyHtZkPuSIOdFQdYLgsznBdeeE6Q/K0h7RvAfUEsBAhQDFAAAAAgA7YvRVMZPaW2GAwAAAAQAACUAAAAAAAAAAAAAAIABAAAAAGRhdGEvMzE0MmU5ODcwYmUxYmNlN2FlZWEyYzllYTAyYzNmOThQSwUGAAAAAAEAAQBTAAAAyQMAAAAA\",\"93287f91b2b489652c30f6168c3130c4\":\"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\",\"aaeccf8365ecbff0f6a41c9c56d06ae2\":\"UEsDBBQAAAAIAO2L0VTEwC7wkwAAAKACAAAlAAAAZGF0YS9hYWVjY2Y4MzY1ZWNiZmYwZjZhNDFjOWM1NmQwNmFlMk3GBQ7CAAAEQSju7lLcXf//M9iwTbjkMhvEfst+H2jOxryNBRuLNpZsjNtYtrFiY9XGmo11Gxt2ZPTmny0b2zZ2bOza2LMxYWPfxoGNQxtHNo5tDG1M2jixcWrjzMa5jQsblzambFzZuLZxY+PWxp2NexvTNh5sPNp4svFs48XGq40ZG2823m182Pi08WXj20b2AVBLAQIUAxQAAAAIAO2L0VTEwC7wkwAAAKACAAAlAAAAAAAAAAAAAACAAQAAAABkYXRhL2FhZWNjZjgzNjVlY2JmZjBmNmE0MWM5YzU2ZDA2YWUyUEsFBgAAAAABAAEAUwAAANYAAAAAAA==\",\"cd0d14a1f531442cfff8ea382dbb4d7c\":\"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\",\"cf246c7a960aaffc56c08bef91de3ce6\":\"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\"},\"axes\":{\"id\":\"1008\"},\"color_mappers\":[{\"id\":\"1007\"}],\"margin\":[5,5,5,5],\"scene\":{\"calls\":[[\"addRenderer\",[\"instance:${e0acb293-0677-43cc-9d29-42ffab23f818000055c8be0fcd00}\"]],[\"addRenderer\",[\"instance:${e0acb293-0677-43cc-9d29-42ffab23f818000055c8be0c07c0}\"]]],\"dependencies\":[{\"calls\":[[\"setActiveCamera\",[\"instance:${000055c8be0a0280}\"]],[\"addViewProp\",[\"instance:${e0acb293-0677-43cc-9d29-42ffab23f818000055c8bd1cb110}\"]]],\"dependencies\":[{\"id\":\"000055c8be0a0280\",\"parent\":\"e0acb293-0677-43cc-9d29-42ffab23f818000055c8be0fcd00\",\"properties\":{\"clippingRange\":[2.9948216220209205,8.62853891217628],\"focalPoint\":[0.0,0.0,0.00046552717685699463],\"position\":[3.1656650549245873,3.1656650549245873,3.1661305821014443],\"viewUp\":[0.0,0.0,1.0]},\"type\":\"vtkOpenGLCamera\"},{\"calls\":[[\"setMapper\",[\"instance:${e0acb293-0677-43cc-9d29-42ffab23f818000055c8be085b70}\"]],[\"setProperty\",[\"instance:${e0acb293-0677-43cc-9d29-42ffab23f818000055c8be06a060}\"]]],\"dependencies\":[{\"calls\":[[\"setInputData\",[\"instance:${e0acb293-0677-43cc-9d29-42ffab23f818000055c8be085b70-dataset-0}\",0]],[\"setLookupTable\",[\"instance:${e0acb293-0677-43cc-9d29-42ffab23f818000055c8be0d4930}\"]]],\"dependencies\":[{\"id\":\"e0acb293-0677-43cc-9d29-42ffab23f818000055c8be085b70-dataset-0\",\"parent\":\"e0acb293-0677-43cc-9d29-42ffab23f818000055c8be085b70\",\"properties\":{\"fields\":[{\"dataType\":\"Float64Array\",\"hash\":\"cd0d14a1f531442cfff8ea382dbb4d7c\",\"location\":\"pointData\",\"name\":\"u\",\"numberOfComponents\":1,\"ranges\":[{\"component\":null,\"max\":0.05923829159115873,\"min\":-0.058772765576254035}],\"registration\":\"setScalars\",\"size\":307,\"vtkClass\":\"vtkDataArray\"}],\"lines\":{\"dataType\":\"Uint32Array\",\"hash\":\"aaeccf8365ecbff0f6a41c9c56d06ae2\",\"name\":null,\"numberOfComponents\":1,\"ranges\":[{\"component\":null,\"max\":55.0,\"min\":0.0}],\"size\":168,\"vtkClass\":\"vtkCellArray\"},\"points\":{\"dataType\":\"Float32Array\",\"hash\":\"cf246c7a960aaffc56c08bef91de3ce6\",\"name\":\"Points\",\"numberOfComponents\":3,\"ranges\":[{\"component\":null,\"max\":1.0,\"min\":-1.0},{\"component\":null,\"max\":1.0,\"min\":-1.0},{\"component\":null,\"max\":0.11847658455371857,\"min\":-0.11754553020000458},{\"component\":null,\"max\":1.0823948767730607,\"min\":0.03864947155398655}],\"size\":921,\"vtkClass\":\"vtkPoints\"},\"polys\":{\"dataType\":\"Uint32Array\",\"hash\":\"93287f91b2b489652c30f6168c3130c4\",\"name\":null,\"numberOfComponents\":1,\"ranges\":[{\"component\":null,\"max\":306.0,\"min\":0.0}],\"size\":2224,\"vtkClass\":\"vtkCellArray\"},\"verts\":{\"dataType\":\"Uint32Array\",\"hash\":\"0ae828ea0a2a8d0cd24d2e12b503bc44\",\"name\":null,\"numberOfComponents\":1,\"ranges\":[{\"component\":null,\"max\":7.0,\"min\":0.0}],\"size\":16,\"vtkClass\":\"vtkCellArray\"}},\"type\":\"vtkPolyData\"},{\"arrays\":[{\"dataType\":\"Uint8Array\",\"hash\":\"3142e9870be1bce7aeea2c9ea02c3f98\",\"name\":null,\"numberOfComponents\":4,\"ranges\":[{\"component\":null,\"max\":254.0,\"min\":49.0},{\"component\":null,\"max\":254.0,\"min\":0.0},{\"component\":null,\"max\":247.0,\"min\":38.0},{\"component\":null,\"max\":255.0,\"min\":255.0},{\"component\":null,\"max\":485.0350502798741,\"min\":304.20880986585513}],\"registration\":\"setTable\",\"size\":1024,\"vtkClass\":\"vtkDataArray\"}],\"id\":\"e0acb293-0677-43cc-9d29-42ffab23f818000055c8be0d4930\",\"parent\":\"e0acb293-0677-43cc-9d29-42ffab23f818000055c8be085b70\",\"properties\":{\"aboveRangeColor\":[1.0,1.0,1.0,1.0],\"alpha\":1.0,\"belowRangeColor\":[0.0,0.0,0.0,1.0],\"hueRange\":[0.5,0],\"indexedLookup\":0,\"nanColor\":[0.6627450980392157,0.6627450980392157,0.6627450980392157,1.0],\"numberOfColors\":256,\"range\":[-0.058772765576254035,0.05923829159115873],\"saturationRange\":[1.0,1.0],\"useAboveRangeColor\":false,\"useBelowRangeColor\":false,\"valueRange\":[-0.058772765576254035,0.05923829159115873],\"vectorComponent\":0,\"vectorMode\":1,\"vectorSize\":-1},\"type\":\"vtkLookupTable\"}],\"id\":\"e0acb293-0677-43cc-9d29-42ffab23f818000055c8be085b70\",\"parent\":\"e0acb293-0677-43cc-9d29-42ffab23f818000055c8bd1cb110\",\"properties\":{\"arrayAccessMode\":1,\"colorByArrayName\":null,\"colorMode\":1,\"interpolateScalarsBeforeMapping\":1,\"renderTime\":0.0,\"resolveCoincidentTopology\":0,\"scalarMode\":1,\"scalarRange\":[-0.058772765576254035,0.05923829159115873],\"scalarVisibility\":1,\"useLookupTableScalarRange\":0},\"type\":\"vtkDataSetMapper\"},{\"id\":\"e0acb293-0677-43cc-9d29-42ffab23f818000055c8be06a060\",\"parent\":\"e0acb293-0677-43cc-9d29-42ffab23f818000055c8bd1cb110\",\"properties\":{\"ambient\":0.0,\"ambientColor\":[1.0,1.0,1.0],\"backfaceCulling\":0,\"color\":[1.0,1.0,1.0],\"diffuse\":1.0,\"diffuseColor\":[1.0,1.0,1.0],\"edgeColor\":[0.0,0.0,0.0],\"edgeVisibility\":1,\"frontfaceCulling\":0,\"interpolation\":0,\"lighting\":0,\"lineWidth\":1.0,\"opacity\":1.0,\"pointSize\":5.0,\"representation\":2,\"specular\":0.0,\"specularColor\":[1.0,1.0,1.0],\"specularPower\":100.0},\"type\":\"vtkOpenGLProperty\"}],\"id\":\"e0acb293-0677-43cc-9d29-42ffab23f818000055c8bd1cb110\",\"parent\":\"e0acb293-0677-43cc-9d29-42ffab23f818000055c8be0fcd00\",\"properties\":{\"dragable\":1,\"forceOpaque\":false,\"forceTranslucent\":false,\"orientation\":[0.0,-0.0,0.0],\"origin\":[0.0,0.0,0.0],\"pickable\":1,\"position\":[0.0,0.0,0.0],\"scale\":[1.0,1.0,1.0],\"useBounds\":true,\"visibility\":1},\"type\":\"vtkOpenGLActor\"}],\"id\":\"e0acb293-0677-43cc-9d29-42ffab23f818000055c8be0fcd00\",\"parent\":\"e0acb293-0677-43cc-9d29-42ffab23f818000055c8bd1c3580\",\"properties\":{\"background\":[0.3,0.3,0.3],\"background2\":[0.2,0.2,0.2],\"clippingRangeExpansion\":0.5,\"interactive\":1,\"layer\":0,\"lightFollowCamera\":1,\"maximumNumberOfPeels\":4,\"nearClippingPlaneTolerance\":0.001,\"occlusionRatio\":0.0,\"preserveColorBuffer\":0,\"preserveDepthBuffer\":0,\"twoSidedLighting\":1,\"useDepthPeeling\":0,\"useShadows\":0,\"viewport\":[0.0,0.0,1.0,1.0]},\"type\":\"vtkOpenGLRenderer\"},{\"calls\":[[\"setActiveCamera\",[\"instance:${000055c8bdd2b8e0}\"]]],\"dependencies\":[{\"id\":\"000055c8bdd2b8e0\",\"parent\":\"e0acb293-0677-43cc-9d29-42ffab23f818000055c8be0c07c0\",\"properties\":{\"clippingRange\":[0.01,1000.01],\"focalPoint\":[0.0,0.0,0.0],\"position\":[0.0,0.0,1.0],\"viewUp\":[0.0,1.0,0.0]},\"type\":\"vtkOpenGLCamera\"}],\"id\":\"e0acb293-0677-43cc-9d29-42ffab23f818000055c8be0c07c0\",\"parent\":\"e0acb293-0677-43cc-9d29-42ffab23f818000055c8bd1c3580\",\"properties\":{\"background\":[0.3,0.3,0.3],\"background2\":[0.2,0.2,0.2],\"clippingRangeExpansion\":0.5,\"interactive\":0,\"layer\":1,\"lightFollowCamera\":1,\"maximumNumberOfPeels\":4,\"nearClippingPlaneTolerance\":0.0,\"occlusionRatio\":0.0,\"preserveColorBuffer\":1,\"preserveDepthBuffer\":0,\"twoSidedLighting\":1,\"useDepthPeeling\":0,\"useShadows\":0,\"viewport\":[0.0,0.0,1.0,1.0]},\"type\":\"vtkOpenGLRenderer\"}],\"id\":\"e0acb293-0677-43cc-9d29-42ffab23f818000055c8bd1c3580\",\"mtime\":11760,\"parent\":\"e0acb293-0677-43cc-9d29-42ffab23f8180x0\",\"properties\":{\"numberOfLayers\":2},\"type\":\"vtkXOpenGLRenderWindow\"},\"sizing_mode\":\"stretch_width\"},\"id\":\"1009\",\"type\":\"panel.models.vtk.VTKSynchronizedPlot\"},{\"attributes\":{},\"id\":\"1008\",\"type\":\"panel.models.vtk.VTKAxes\"},{\"attributes\":{\"client_comm_id\":\"a581f9ef6b6d4eb2817f2805cf41a72b\",\"comm_id\":\"a67228585f36414fa2bada11f9f15b50\",\"plot_id\":\"1009\"},\"id\":\"1010\",\"type\":\"panel.models.comm_manager.CommManager\"},{\"attributes\":{\"high\":0.05923829159115873,\"low\":-0.058772765576254035,\"name\":\"u\",\"palette\":[\"#313695\",\"#313896\",\"#323a97\",\"#333d98\",\"#343f99\",\"#34429b\",\"#35449c\",\"#36479d\",\"#37499e\",\"#384c9f\",\"#384ea1\",\"#3951a2\",\"#3a53a3\",\"#3b56a4\",\"#3b58a6\",\"#3c5ba7\",\"#3d5da8\",\"#3e60a9\",\"#3f62aa\",\"#3f64ac\",\"#4067ad\",\"#4169ae\",\"#426caf\",\"#436eb0\",\"#4371b2\",\"#4473b3\",\"#4576b4\",\"#4778b5\",\"#497ab6\",\"#4b7cb7\",\"#4d7eb9\",\"#4f81ba\",\"#5083bb\",\"#5285bc\",\"#5487bd\",\"#5689be\",\"#588cbf\",\"#5a8ec1\",\"#5c90c2\",\"#5d92c3\",\"#5f94c4\",\"#6197c5\",\"#6399c6\",\"#659bc7\",\"#679dc9\",\"#689fca\",\"#6aa2cb\",\"#6ca4cc\",\"#6ea6cd\",\"#70a8ce\",\"#72aacf\",\"#74add1\",\"#76aed1\",\"#78b0d2\",\"#7ab2d3\",\"#7cb3d4\",\"#7eb5d5\",\"#80b7d6\",\"#83b9d7\",\"#85bad8\",\"#87bcd9\",\"#89beda\",\"#8bbfdb\",\"#8dc1dc\",\"#90c3dd\",\"#92c5de\",\"#94c6df\",\"#96c8e0\",\"#98cae1\",\"#9acce1\",\"#9ccde2\",\"#9fcfe3\",\"#a1d1e4\",\"#a3d2e5\",\"#a5d4e6\",\"#a7d6e7\",\"#a9d8e8\",\"#acd9e9\",\"#aedae9\",\"#b0dbea\",\"#b2dceb\",\"#b4ddeb\",\"#b6deec\",\"#b8dfec\",\"#bae0ed\",\"#bce1ee\",\"#bee2ee\",\"#c0e3ef\",\"#c2e4ef\",\"#c4e5f0\",\"#c7e6f0\",\"#c9e7f1\",\"#cbe8f2\",\"#cde9f2\",\"#cfeaf3\",\"#d1ebf3\",\"#d3ecf4\",\"#d5edf5\",\"#d7eef5\",\"#d9eff6\",\"#dbf0f6\",\"#ddf1f7\",\"#e0f3f7\",\"#e1f3f5\",\"#e2f3f3\",\"#e3f4f1\",\"#e4f4ef\",\"#e6f5ec\",\"#e7f5ea\",\"#e8f6e8\",\"#e9f6e6\",\"#eaf7e3\",\"#ecf7e1\",\"#edf8df\",\"#eef8dd\",\"#eff9da\",\"#f1f9d8\",\"#f2fad6\",\"#f3fad4\",\"#f4fbd2\",\"#f5fbcf\",\"#f7fbcd\",\"#f8fccb\",\"#f9fcc9\",\"#fafdc6\",\"#fbfdc4\",\"#fdfec2\",\"#fefec0\",\"#fefebe\",\"#fefdbc\",\"#fefbba\",\"#fefab8\",\"#fef9b6\",\"#fef8b4\",\"#fef7b3\",\"#fef5b1\",\"#fef4af\",\"#fef3ad\",\"#fef2ab\",\"#fef1a9\",\"#feefa7\",\"#feeea6\",\"#feeda4\",\"#feeca2\",\"#feeaa0\",\"#fee99e\",\"#fee89c\",\"#fee79b\",\"#fee699\",\"#fee497\",\"#fee395\",\"#fee293\",\"#fee191\",\"#fee090\",\"#fdde8e\",\"#fddc8c\",\"#fdda8a\",\"#fdd888\",\"#fdd686\",\"#fdd484\",\"#fdd283\",\"#fdd081\",\"#fdce7f\",\"#fdcc7d\",\"#fdca7b\",\"#fdc879\",\"#fdc678\",\"#fdc476\",\"#fdc274\",\"#fdc072\",\"#fdbe70\",\"#fdbc6e\",\"#fdba6c\",\"#fdb86b\",\"#fdb669\",\"#fdb467\",\"#fdb265\",\"#fdb063\",\"#fdae61\",\"#fcac60\",\"#fcaa5f\",\"#fca75e\",\"#fba55c\",\"#fba25b\",\"#fb9f5a\",\"#fa9d59\",\"#fa9a58\",\"#fa9857\",\"#f99555\",\"#f99354\",\"#f89053\",\"#f88e52\",\"#f88b51\",\"#f7894f\",\"#f7864e\",\"#f7834d\",\"#f6814c\",\"#f67e4b\",\"#f67c4a\",\"#f57948\",\"#f57747\",\"#f57446\",\"#f47245\",\"#f46f44\",\"#f46d43\",\"#f26a41\",\"#f16840\",\"#f0653f\",\"#ef633e\",\"#ee613d\",\"#ed5e3c\",\"#ec5c3b\",\"#ea593a\",\"#e95739\",\"#e85538\",\"#e75236\",\"#e65035\",\"#e54d34\",\"#e44b33\",\"#e24932\",\"#e14631\",\"#e04430\",\"#df412f\",\"#de3f2e\",\"#dd3d2d\",\"#dc3a2b\",\"#da382a\",\"#d93529\",\"#d83328\",\"#d73127\",\"#d62f26\",\"#d42d26\",\"#d22b26\",\"#d02926\",\"#ce2726\",\"#cc2526\",\"#ca2326\",\"#c82126\",\"#c62026\",\"#c41e26\",\"#c21c26\",\"#c01a26\",\"#be1826\",\"#bc1626\",\"#ba1426\",\"#b81226\",\"#b61026\",\"#b40f26\",\"#b20d26\",\"#b00b26\",\"#ae0926\",\"#ac0726\",\"#aa0526\",\"#a80326\",\"#a60126\",\"#a50026\"]},\"id\":\"1007\",\"type\":\"LinearColorMapper\"}],\"root_ids\":[\"1009\",\"1010\"]},\"title\":\"Bokeh Application\",\"version\":\"2.4.2\"}};\n",
       "    var render_items = [{\"docid\":\"d44adf45-44e1-44ae-b760-f787b3c12acd\",\"root_ids\":[\"1009\"],\"roots\":{\"1009\":\"9cf3dedc-98c2-4b70-8d5c-25a4f1df6f84\"}}];\n",
       "    root.Bokeh.embed.embed_items_notebook(docs_json, render_items);\n",
       "  }\n",
       "  if (root.Bokeh !== undefined && root.Bokeh.Panel !== undefined && ( root['vtk'] !== undefined)) {\n",
       "    embed_document(root);\n",
       "  } else {\n",
       "    var attempts = 0;\n",
       "    var timer = setInterval(function(root) {\n",
       "      if (root.Bokeh !== undefined && root.Bokeh.Panel !== undefined && (root['vtk'] !== undefined)) {\n",
       "        clearInterval(timer);\n",
       "        embed_document(root);\n",
       "      } else if (document.readyState == \"complete\") {\n",
       "        attempts++;\n",
       "        if (attempts > 200) {\n",
       "          clearInterval(timer);\n",
       "          console.log(\"Bokeh: ERROR: Unable to run BokehJS code because BokehJS library is missing\");\n",
       "        }\n",
       "      }\n",
       "    }, 25, root)\n",
       "  }\n",
       "})(window);</script>"
      ]
     },
     "metadata": {},
     "output_type": "display_data"
    }
   ],
   "source": [
    "torsion.plot(mesh, torsion.solve_torsion(sect, mesh), scale=scale, show_edges=True)"
   ]
  },
  {
   "cell_type": "code",
   "execution_count": null,
   "id": "131571a5-b763-41e1-89c6-c5cc0d51b6b0",
   "metadata": {},
   "outputs": [],
   "source": []
  }
 ],
 "metadata": {
  "kernelspec": {
   "display_name": "Python (elle)",
   "language": "python",
   "name": "elle"
  },
  "language_info": {
   "codemirror_mode": {
    "name": "ipython",
    "version": 3
   },
   "file_extension": ".py",
   "mimetype": "text/x-python",
   "name": "python",
   "nbconvert_exporter": "python",
   "pygments_lexer": "ipython3",
   "version": "3.8.12"
  }
 },
 "nbformat": 4,
 "nbformat_minor": 5
}
