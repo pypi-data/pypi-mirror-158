{
 "cells": [
  {
   "cell_type": "markdown",
   "metadata": {},
   "source": [
    "### Set standard imports"
   ]
  },
  {
   "cell_type": "code",
   "execution_count": 1,
   "metadata": {},
   "outputs": [
    {
     "name": "stdout",
     "output_type": "stream",
     "text": [
      "Plot_func version 6.7.10\n",
      "was imported from path:\n",
      " C:\\Users\\Jens\\anaconda3\\Lib\\site-packages\\KiMoPack\n",
      "The current working folder is:\n",
      " D:\\Dropbox\\coding\\github\\KiMoPack\\Workflow_tools\n",
      "Plot_func version 6.7.10\n",
      "was imported from path:\n",
      " C:\\Users\\Jens\\anaconda3\\Lib\\site-packages\\KiMoPack\n",
      "The current working folder is:\n",
      " D:\\Dropbox\\coding\\github\\KiMoPack\\Workflow_tools\n"
     ]
    },
    {
     "data": {
      "text/plain": [
       "<module 'KiMoPack.plot_func' from 'C:\\\\Users\\\\Jens\\\\anaconda3\\\\lib\\\\site-packages\\\\KiMoPack\\\\plot_func.py'>"
      ]
     },
     "execution_count": 1,
     "metadata": {},
     "output_type": "execute_result"
    }
   ],
   "source": [
    "import matplotlib,lmfit\n",
    "import matplotlib.pyplot as plt\n",
    "import numpy as np\n",
    "import pandas as pd\n",
    "%matplotlib qt\n",
    "import KiMoPack.plot_func as pf\n",
    "from importlib import reload\n",
    "reload(pf)\n",
    "#from KiMoPack.plotfunc import pf"
   ]
  },
  {
   "cell_type": "markdown",
   "metadata": {},
   "source": [
    "### Load and inspect Data "
   ]
  },
  {
   "cell_type": "code",
   "execution_count": 2,
   "metadata": {},
   "outputs": [],
   "source": [
    "%matplotlib qt\n",
    "ta=pf.TA('sample_1.SIA',path='Data')   #type filename and path (leave path empty if in the same folder)\n",
    "#ta=pf.TA(\"sample_1.hdf5\",path=\"Data\")  #reload saved projects using the same syntax\n",
    "#ta=pf.TA('gui')                       #use a GUI to select data"
   ]
  },
  {
   "cell_type": "markdown",
   "metadata": {},
   "source": [
    "### perform standard corrections"
   ]
  },
  {
   "cell_type": "code",
   "execution_count": 3,
   "metadata": {},
   "outputs": [
    {
     "name": "stderr",
     "output_type": "stream",
     "text": [
      "Traceback (most recent call last):\n",
      "  File \"C:\\Users\\Jens\\anaconda3\\lib\\site-packages\\matplotlib\\cbook\\__init__.py\", line 287, in process\n",
      "    func(*args, **kwargs)\n",
      "  File \"C:\\Users\\Jens\\anaconda3\\lib\\site-packages\\matplotlib\\backend_bases.py\", line 3061, in mouse_move\n",
      "    s = self._mouse_event_to_message(event)\n",
      "  File \"C:\\Users\\Jens\\anaconda3\\lib\\site-packages\\matplotlib\\backend_bases.py\", line 3053, in _mouse_event_to_message\n",
      "    data_str = a.format_cursor_data(data).rstrip()\n",
      "  File \"C:\\Users\\Jens\\anaconda3\\lib\\site-packages\\matplotlib\\artist.py\", line 1282, in format_cursor_data\n",
      "    neighbors = self.norm.inverse(\n",
      "  File \"C:\\Users\\Jens\\anaconda3\\lib\\site-packages\\matplotlib\\colors.py\", line 1832, in inverse\n",
      "    raise ValueError(\"BoundaryNorm is not invertible\")\n",
      "ValueError: BoundaryNorm is not invertible\n",
      "Traceback (most recent call last):\n",
      "  File \"C:\\Users\\Jens\\anaconda3\\lib\\site-packages\\matplotlib\\cbook\\__init__.py\", line 287, in process\n",
      "    func(*args, **kwargs)\n",
      "  File \"C:\\Users\\Jens\\anaconda3\\lib\\site-packages\\matplotlib\\backend_bases.py\", line 3061, in mouse_move\n",
      "    s = self._mouse_event_to_message(event)\n",
      "  File \"C:\\Users\\Jens\\anaconda3\\lib\\site-packages\\matplotlib\\backend_bases.py\", line 3053, in _mouse_event_to_message\n",
      "    data_str = a.format_cursor_data(data).rstrip()\n",
      "  File \"C:\\Users\\Jens\\anaconda3\\lib\\site-packages\\matplotlib\\artist.py\", line 1282, in format_cursor_data\n",
      "    neighbors = self.norm.inverse(\n",
      "  File \"C:\\Users\\Jens\\anaconda3\\lib\\site-packages\\matplotlib\\colors.py\", line 1832, in inverse\n",
      "    raise ValueError(\"BoundaryNorm is not invertible\")\n",
      "ValueError: BoundaryNorm is not invertible\n",
      "Traceback (most recent call last):\n",
      "  File \"C:\\Users\\Jens\\anaconda3\\lib\\site-packages\\matplotlib\\cbook\\__init__.py\", line 287, in process\n",
      "    func(*args, **kwargs)\n",
      "  File \"C:\\Users\\Jens\\anaconda3\\lib\\site-packages\\matplotlib\\backend_bases.py\", line 3061, in mouse_move\n",
      "    s = self._mouse_event_to_message(event)\n",
      "  File \"C:\\Users\\Jens\\anaconda3\\lib\\site-packages\\matplotlib\\backend_bases.py\", line 3053, in _mouse_event_to_message\n",
      "    data_str = a.format_cursor_data(data).rstrip()\n",
      "  File \"C:\\Users\\Jens\\anaconda3\\lib\\site-packages\\matplotlib\\artist.py\", line 1282, in format_cursor_data\n",
      "    neighbors = self.norm.inverse(\n",
      "  File \"C:\\Users\\Jens\\anaconda3\\lib\\site-packages\\matplotlib\\colors.py\", line 1832, in inverse\n",
      "    raise ValueError(\"BoundaryNorm is not invertible\")\n",
      "ValueError: BoundaryNorm is not invertible\n",
      "Traceback (most recent call last):\n",
      "  File \"C:\\Users\\Jens\\anaconda3\\lib\\site-packages\\matplotlib\\cbook\\__init__.py\", line 287, in process\n",
      "    func(*args, **kwargs)\n",
      "  File \"C:\\Users\\Jens\\anaconda3\\lib\\site-packages\\matplotlib\\backend_bases.py\", line 3061, in mouse_move\n",
      "    s = self._mouse_event_to_message(event)\n",
      "  File \"C:\\Users\\Jens\\anaconda3\\lib\\site-packages\\matplotlib\\backend_bases.py\", line 3053, in _mouse_event_to_message\n",
      "    data_str = a.format_cursor_data(data).rstrip()\n",
      "  File \"C:\\Users\\Jens\\anaconda3\\lib\\site-packages\\matplotlib\\artist.py\", line 1282, in format_cursor_data\n",
      "    neighbors = self.norm.inverse(\n",
      "  File \"C:\\Users\\Jens\\anaconda3\\lib\\site-packages\\matplotlib\\colors.py\", line 1832, in inverse\n",
      "    raise ValueError(\"BoundaryNorm is not invertible\")\n",
      "ValueError: BoundaryNorm is not invertible\n",
      "Traceback (most recent call last):\n",
      "  File \"C:\\Users\\Jens\\anaconda3\\lib\\site-packages\\matplotlib\\cbook\\__init__.py\", line 287, in process\n",
      "    func(*args, **kwargs)\n",
      "  File \"C:\\Users\\Jens\\anaconda3\\lib\\site-packages\\matplotlib\\backend_bases.py\", line 3061, in mouse_move\n",
      "    s = self._mouse_event_to_message(event)\n",
      "  File \"C:\\Users\\Jens\\anaconda3\\lib\\site-packages\\matplotlib\\backend_bases.py\", line 3053, in _mouse_event_to_message\n",
      "    data_str = a.format_cursor_data(data).rstrip()\n",
      "  File \"C:\\Users\\Jens\\anaconda3\\lib\\site-packages\\matplotlib\\artist.py\", line 1282, in format_cursor_data\n",
      "    neighbors = self.norm.inverse(\n",
      "  File \"C:\\Users\\Jens\\anaconda3\\lib\\site-packages\\matplotlib\\colors.py\", line 1832, in inverse\n",
      "    raise ValueError(\"BoundaryNorm is not invertible\")\n",
      "ValueError: BoundaryNorm is not invertible\n",
      "Traceback (most recent call last):\n",
      "  File \"C:\\Users\\Jens\\anaconda3\\lib\\site-packages\\matplotlib\\cbook\\__init__.py\", line 287, in process\n",
      "    func(*args, **kwargs)\n",
      "  File \"C:\\Users\\Jens\\anaconda3\\lib\\site-packages\\matplotlib\\backend_bases.py\", line 3061, in mouse_move\n",
      "    s = self._mouse_event_to_message(event)\n",
      "  File \"C:\\Users\\Jens\\anaconda3\\lib\\site-packages\\matplotlib\\backend_bases.py\", line 3053, in _mouse_event_to_message\n",
      "    data_str = a.format_cursor_data(data).rstrip()\n",
      "  File \"C:\\Users\\Jens\\anaconda3\\lib\\site-packages\\matplotlib\\artist.py\", line 1282, in format_cursor_data\n",
      "    neighbors = self.norm.inverse(\n",
      "  File \"C:\\Users\\Jens\\anaconda3\\lib\\site-packages\\matplotlib\\colors.py\", line 1832, in inverse\n",
      "    raise ValueError(\"BoundaryNorm is not invertible\")\n",
      "ValueError: BoundaryNorm is not invertible\n",
      "Traceback (most recent call last):\n",
      "  File \"C:\\Users\\Jens\\anaconda3\\lib\\site-packages\\matplotlib\\cbook\\__init__.py\", line 287, in process\n",
      "    func(*args, **kwargs)\n",
      "  File \"C:\\Users\\Jens\\anaconda3\\lib\\site-packages\\matplotlib\\backend_bases.py\", line 3061, in mouse_move\n",
      "    s = self._mouse_event_to_message(event)\n",
      "  File \"C:\\Users\\Jens\\anaconda3\\lib\\site-packages\\matplotlib\\backend_bases.py\", line 3053, in _mouse_event_to_message\n",
      "    data_str = a.format_cursor_data(data).rstrip()\n",
      "  File \"C:\\Users\\Jens\\anaconda3\\lib\\site-packages\\matplotlib\\artist.py\", line 1282, in format_cursor_data\n",
      "    neighbors = self.norm.inverse(\n",
      "  File \"C:\\Users\\Jens\\anaconda3\\lib\\site-packages\\matplotlib\\colors.py\", line 1832, in inverse\n",
      "    raise ValueError(\"BoundaryNorm is not invertible\")\n",
      "ValueError: BoundaryNorm is not invertible\n",
      "Traceback (most recent call last):\n",
      "  File \"C:\\Users\\Jens\\anaconda3\\lib\\site-packages\\matplotlib\\cbook\\__init__.py\", line 287, in process\n",
      "    func(*args, **kwargs)\n",
      "  File \"C:\\Users\\Jens\\anaconda3\\lib\\site-packages\\matplotlib\\backend_bases.py\", line 3061, in mouse_move\n",
      "    s = self._mouse_event_to_message(event)\n",
      "  File \"C:\\Users\\Jens\\anaconda3\\lib\\site-packages\\matplotlib\\backend_bases.py\", line 3053, in _mouse_event_to_message\n",
      "    data_str = a.format_cursor_data(data).rstrip()\n",
      "  File \"C:\\Users\\Jens\\anaconda3\\lib\\site-packages\\matplotlib\\artist.py\", line 1282, in format_cursor_data\n",
      "    neighbors = self.norm.inverse(\n",
      "  File \"C:\\Users\\Jens\\anaconda3\\lib\\site-packages\\matplotlib\\colors.py\", line 1832, in inverse\n",
      "    raise ValueError(\"BoundaryNorm is not invertible\")\n",
      "ValueError: BoundaryNorm is not invertible\n"
     ]
    },
    {
     "ename": "IndexError",
     "evalue": "list index out of range",
     "output_type": "error",
     "traceback": [
      "\u001b[1;31m---------------------------------------------------------------------------\u001b[0m",
      "\u001b[1;31mIndexError\u001b[0m                                Traceback (most recent call last)",
      "Input \u001b[1;32mIn [3]\u001b[0m, in \u001b[0;36m<cell line: 2>\u001b[1;34m()\u001b[0m\n\u001b[0;32m      1\u001b[0m ta\u001b[38;5;241m.\u001b[39mFilter_data(value\u001b[38;5;241m=\u001b[39m\u001b[38;5;241m20\u001b[39m)               \u001b[38;5;66;03m#remove bad data\u001b[39;00m\n\u001b[1;32m----> 2\u001b[0m \u001b[43mta\u001b[49m\u001b[38;5;241;43m.\u001b[39;49m\u001b[43mMan_Chirp\u001b[49m\u001b[43m(\u001b[49m\u001b[43m)\u001b[49m                         \u001b[38;5;66;03m#correct for arrival time difference ta.Cor_Chirp('gui') allows to choose file \u001b[39;00m\n\u001b[0;32m      3\u001b[0m ta\u001b[38;5;241m.\u001b[39mBackground(uplimit\u001b[38;5;241m=\u001b[39m\u001b[38;5;241m-\u001b[39m\u001b[38;5;241m0.5\u001b[39m)\n",
      "File \u001b[1;32m~\\anaconda3\\lib\\site-packages\\KiMoPack\\plot_func.py:4901\u001b[0m, in \u001b[0;36mTA.Man_Chirp\u001b[1;34m(self, shown_window, path, max_points, cmap)\u001b[0m\n\u001b[0;32m   4870\u001b[0m \u001b[38;5;28;01mdef\u001b[39;00m \u001b[38;5;21mMan_Chirp\u001b[39m(\u001b[38;5;28mself\u001b[39m,shown_window\u001b[38;5;241m=\u001b[39m[\u001b[38;5;241m-\u001b[39m\u001b[38;5;241m1\u001b[39m,\u001b[38;5;241m1\u001b[39m],path\u001b[38;5;241m=\u001b[39m\u001b[38;5;28;01mNone\u001b[39;00m,max_points\u001b[38;5;241m=\u001b[39m\u001b[38;5;241m40\u001b[39m,cmap\u001b[38;5;241m=\u001b[39mcm\u001b[38;5;241m.\u001b[39mprism):\n\u001b[0;32m   4871\u001b[0m \t\u001b[38;5;124;03m'''Triggering of Manuel Fix_Chirp. usually used when Cor_Chirp has run already. \u001b[39;00m\n\u001b[0;32m   4872\u001b[0m \u001b[38;5;124;03m\tAlternatively delete the chirp file. This Function opens a plot in which the user manually selects a number of points\u001b[39;00m\n\u001b[0;32m   4873\u001b[0m \u001b[38;5;124;03m\tThese points will then be interpolated with a 4th order polynomial\u001b[39;00m\n\u001b[1;32m   (...)\u001b[0m\n\u001b[0;32m   4898\u001b[0m \u001b[38;5;124;03m\t\u001b[39;00m\n\u001b[0;32m   4899\u001b[0m \u001b[38;5;124;03m\t'''\u001b[39;00m\n\u001b[1;32m-> 4901\u001b[0m \ttemp_ds \u001b[38;5;241m=\u001b[39m \u001b[43mFix_Chirp\u001b[49m\u001b[43m(\u001b[49m\u001b[38;5;28;43mself\u001b[39;49m\u001b[38;5;241;43m.\u001b[39;49m\u001b[43mds_ori\u001b[49m\u001b[43m,\u001b[49m\u001b[43m \u001b[49m\u001b[43mcmap\u001b[49m\u001b[43m \u001b[49m\u001b[38;5;241;43m=\u001b[39;49m\u001b[43m \u001b[49m\u001b[43mcmap\u001b[49m\u001b[43m,\u001b[49m\u001b[43m \u001b[49m\u001b[43msave_file\u001b[49m\u001b[43m \u001b[49m\u001b[38;5;241;43m=\u001b[39;49m\u001b[43m \u001b[49m\u001b[38;5;28;43;01mNone\u001b[39;49;00m\u001b[43m,\u001b[49m\u001b[43m \u001b[49m\u001b[43mintensity_range\u001b[49m\u001b[43m \u001b[49m\u001b[38;5;241;43m=\u001b[39;49m\u001b[43m \u001b[49m\u001b[38;5;28;43mself\u001b[39;49m\u001b[38;5;241;43m.\u001b[39;49m\u001b[43mintensity_range\u001b[49m\u001b[43m,\u001b[49m\u001b[43m \u001b[49m\n\u001b[0;32m   4902\u001b[0m \u001b[43m\t\t\t\t\t\t\u001b[49m\u001b[43mwave_nm_bin\u001b[49m\u001b[43m \u001b[49m\u001b[38;5;241;43m=\u001b[39;49m\u001b[43m \u001b[49m\u001b[38;5;241;43m10\u001b[39;49m\u001b[43m,\u001b[49m\u001b[43m \u001b[49m\u001b[43mshown_window\u001b[49m\u001b[43m \u001b[49m\u001b[38;5;241;43m=\u001b[39;49m\u001b[43m \u001b[49m\u001b[43mshown_window\u001b[49m\u001b[43m,\u001b[49m\u001b[43m \u001b[49m\u001b[43mfilename\u001b[49m\u001b[43m \u001b[49m\u001b[38;5;241;43m=\u001b[39;49m\u001b[43m \u001b[49m\u001b[38;5;28;43mself\u001b[39;49m\u001b[38;5;241;43m.\u001b[39;49m\u001b[43mfilename\u001b[49m\u001b[43m,\u001b[49m\u001b[43m \u001b[49m\n\u001b[0;32m   4903\u001b[0m \u001b[43m\t\t\t\t\t\t\u001b[49m\u001b[43mscattercut\u001b[49m\u001b[43m \u001b[49m\u001b[38;5;241;43m=\u001b[39;49m\u001b[43m \u001b[49m\u001b[38;5;28;43mself\u001b[39;49m\u001b[38;5;241;43m.\u001b[39;49m\u001b[43mscattercut\u001b[49m\u001b[43m,\u001b[49m\u001b[43m \u001b[49m\u001b[43mbordercut\u001b[49m\u001b[43m \u001b[49m\u001b[38;5;241;43m=\u001b[39;49m\u001b[43m \u001b[49m\u001b[38;5;28;43mself\u001b[39;49m\u001b[38;5;241;43m.\u001b[39;49m\u001b[43mbordercut\u001b[49m\u001b[43m,\u001b[49m\u001b[43m \u001b[49m\n\u001b[0;32m   4904\u001b[0m \u001b[43m\t\t\t\t\t\t\u001b[49m\u001b[43mpath\u001b[49m\u001b[43m \u001b[49m\u001b[38;5;241;43m=\u001b[39;49m\u001b[43m \u001b[49m\u001b[43mcheck_folder\u001b[49m\u001b[43m(\u001b[49m\u001b[43mpath\u001b[49m\u001b[43m \u001b[49m\u001b[38;5;241;43m=\u001b[39;49m\u001b[43m \u001b[49m\u001b[43mpath\u001b[49m\u001b[43m,\u001b[49m\u001b[43m \u001b[49m\u001b[43mcurrent_path\u001b[49m\u001b[43m \u001b[49m\u001b[38;5;241;43m=\u001b[39;49m\u001b[43m \u001b[49m\u001b[38;5;28;43mself\u001b[39;49m\u001b[38;5;241;43m.\u001b[39;49m\u001b[43mpath\u001b[49m\u001b[43m)\u001b[49m\u001b[43m,\u001b[49m\u001b[43m \u001b[49m\u001b[43mmax_points\u001b[49m\u001b[43m \u001b[49m\u001b[38;5;241;43m=\u001b[39;49m\u001b[43m \u001b[49m\u001b[43mmax_points\u001b[49m\u001b[43m)\u001b[49m \n\u001b[0;32m   4905\u001b[0m \t\u001b[38;5;28;01mif\u001b[39;00m \u001b[38;5;28misinstance\u001b[39m(temp_ds,pandas\u001b[38;5;241m.\u001b[39mDataFrame):\n\u001b[0;32m   4906\u001b[0m \t\t\u001b[38;5;28mself\u001b[39m\u001b[38;5;241m.\u001b[39mds\u001b[38;5;241m=\u001b[39mtemp_ds\n",
      "File \u001b[1;32m~\\anaconda3\\lib\\site-packages\\KiMoPack\\plot_func.py:3370\u001b[0m, in \u001b[0;36mFix_Chirp\u001b[1;34m(ds, save_file, scattercut, intensity_range, wave_nm_bin, bordercut, shown_window, filename, path, fitcoeff, max_points, cmap)\u001b[0m\n\u001b[0;32m   3368\u001b[0m ax\u001b[38;5;241m.\u001b[39mtext(ax\u001b[38;5;241m.\u001b[39mget_xlim()[\u001b[38;5;241m0\u001b[39m]\u001b[38;5;241m+\u001b[39mw\u001b[38;5;241m*\u001b[39m\u001b[38;5;241m3.\u001b[39m\u001b[38;5;241m/\u001b[39m\u001b[38;5;241m4.\u001b[39m,timelimits[\u001b[38;5;241m0\u001b[39m],\u001b[38;5;124m'\u001b[39m\u001b[38;5;124mCancel all\u001b[39m\u001b[38;5;124m'\u001b[39m,fontsize\u001b[38;5;241m=\u001b[39m\u001b[38;5;241m15\u001b[39m)\n\u001b[0;32m   3369\u001b[0m choice \u001b[38;5;241m=\u001b[39mplt\u001b[38;5;241m.\u001b[39mginput(\u001b[38;5;241m1\u001b[39m,timeout\u001b[38;5;241m=\u001b[39m\u001b[38;5;241m15\u001b[39m)\n\u001b[1;32m-> 3370\u001b[0m factor\u001b[38;5;241m=\u001b[39m\u001b[38;5;28mint\u001b[39m((\u001b[43mchoice\u001b[49m\u001b[43m[\u001b[49m\u001b[38;5;241;43m0\u001b[39;49m\u001b[43m]\u001b[49m[\u001b[38;5;241m0\u001b[39m]\u001b[38;5;241m-\u001b[39max\u001b[38;5;241m.\u001b[39mget_xlim()[\u001b[38;5;241m0\u001b[39m])\u001b[38;5;241m/\u001b[39m(w\u001b[38;5;241m/\u001b[39m\u001b[38;5;241m10.\u001b[39m))\n\u001b[0;32m   3371\u001b[0m \u001b[38;5;28;01mif\u001b[39;00m choice[\u001b[38;5;241m0\u001b[39m][\u001b[38;5;241m1\u001b[39m] \u001b[38;5;241m>\u001b[39m shown_window[\u001b[38;5;241m1\u001b[39m]\u001b[38;5;241m/\u001b[39m\u001b[38;5;241m2\u001b[39m:\n\u001b[0;32m   3372\u001b[0m \tintensity_range\u001b[38;5;241m=\u001b[39mintensities[factor]\n",
      "\u001b[1;31mIndexError\u001b[0m: list index out of range"
     ]
    }
   ],
   "source": [
    "ta.Filter_data(value=20)               #remove bad data\n",
    "ta.Man_Chirp()                         #correct for arrival time difference ta.Cor_Chirp('gui') allows to choose file \n",
    "ta.Background(uplimit=-0.5)           #substract Background before time_zero\n",
    "#ta.Plot_Interactive()"
   ]
  },
  {
   "cell_type": "markdown",
   "metadata": {},
   "source": [
    "### Shape data and plot Raw images"
   ]
  },
  {
   "cell_type": "code",
   "execution_count": 80,
   "metadata": {},
   "outputs": [],
   "source": [
    "plt.close('all')\n",
    "#ta.rel_wave=[390,420,440,530,580,700,800,950,930,1050]      # use to manually select interesting wavelength for the kinetics\n",
    "ta.wavelength_bin=20                                         # width of wavelength bin in kinetics\n",
    "ta.equal_energy_bin=None\n",
    "ta.wave_nm_bin=5;                                            # rebinning wavelength\n",
    "ta.rel_time=[0.3,0.4,1,3,5,10,20,30,100,300,2000,3000]          # use to manually set interesting times for the spectra\n",
    "ta.time_width_percent=0                                      # rebinning of time_points in percent\n",
    "ta.timelimits=[-1,5000]                                      # use to manually limit the range to plot (and fit)     \n",
    "ta.log_scale=False                                           # use to plot the 2d plots with logarithmic intensity scale\n",
    "ta.bordercut=[400,1100]                                      # use to set the outer wavelength limits\n",
    "ta.scattercut=[525,605]                                      # this region is blanked out to block scatter, this can be a list of regions\n",
    "ta.intensity_range=[0,3e-3]                                  # set a value 5e-3 or a range [-1e-3,5e-3] for 2d plotting\n",
    "ta.Plot_RAW(0,title=None)                                      # Plot Raw Spectra"
   ]
  },
  {
   "cell_type": "code",
   "execution_count": 81,
   "metadata": {},
   "outputs": [],
   "source": [
    "#ta.Plot_Interactive()"
   ]
  },
  {
   "cell_type": "markdown",
   "metadata": {},
   "source": [
    "### Perform fast fitting using independent exponential decay (first order)"
   ]
  },
  {
   "cell_type": "code",
   "execution_count": 82,
   "metadata": {},
   "outputs": [
    {
     "name": "stdout",
     "output_type": "stream",
     "text": [
      "\n",
      "Fit Results:\n",
      "Model Used: exponential\n",
      "\n",
      "the time between -0.100 ps and 0.500 ps was excluded from the optimization\n",
      "\n",
      "The minimum error is:2.22344746e-05\n",
      "The minimum R2-value is:9.95657286e-01\n",
      "\n",
      "In Rates\n",
      "\n",
      "               value init_value   vary   min  max  expr\n",
      "k0          0.356863       10.0   True     0  inf  None\n",
      "k1          0.015912        0.4   True     0  inf  None\n",
      "k2          0.000001      0.025   True     0  inf  None\n",
      "t0                 0          0  False    -2    2  None\n",
      "resolution     0.086      0.086  False  0.04  0.5  None\n",
      "\n",
      "The rates converted to times with unit ps\n",
      "\n",
      "                     value init_value   vary   min  max  expr\n",
      "k0                2.802193        0.1   True   0.0  inf  None\n",
      "k1               62.844831        2.5   True   0.0  inf  None\n",
      "k2          1579759.261222       40.0   True   0.0  inf  None\n",
      "t0                       0          0  False    -2    2  None\n",
      "resolution           0.086      0.086  False  0.04  0.5  None\n"
     ]
    }
   ],
   "source": [
    "plt.close('all')                                             # Close old spectra\n",
    "ta.mod='exponential'                                         # Choose the model 'exponential', 'consecutive' and 'fast_consecutive'are build in\n",
    "par=lmfit.Parameters()                                       # create empty parameter object\n",
    "\n",
    "par.add('k0',value=1/0.1,vary=True)                                # Add second rate component\n",
    "par.add('k1',value=1/2.5,vary=True)                                # Add one rate component\n",
    "par.add('k2',value=1/40,vary=True)                                 # Add second rate component\n",
    "par.add('t0',value=0,min=-2,max=2,vary=False)                       # Allow the arrival time to adjust (for all)\n",
    "par.add('resolution',value=0.086,min=0.04,max=0.5,vary=False)       # Allow the instrument response to adjust (for all)\n",
    "#par.add('infinite')                                                # Keyword for an non decaying component\n",
    "#par.add('background')                                             # Keyword to fit the Background Disable the background substraction in the loading cell for best effect\n",
    "#ta.timelimits=[0.2,5000]                                      # select time window in which to fit\n",
    "ta.ignore_time_region=[-0.1,0.5]                              # ignore the region over t0 for the fit\n",
    "ta.log_fit=False                                               # fit in linear or log scale\n",
    "if 0:\n",
    "    for key in par.keys():\n",
    "        par[key].vary=False\n",
    "ta.par=par                                                     # write parameter object into file for fitting\n",
    "ta.Fit_Global(fit_chirp=False)                                 # trigger fitting\n",
    "\n",
    "ta.error_matrix_amplification=10;                              # Choose how much stronger should error be plotted       \n",
    "ta.log_scale=False                                             # 2D plots in linear or log scale\n",
    "ta.Plot_fit_output(4)                                 # plot the fit output"
   ]
  },
  {
   "cell_type": "code",
   "execution_count": 56,
   "metadata": {},
   "outputs": [
    {
     "data": {
      "text/plain": [
       "dict_keys(['A', 'AC', 'AE', 'DAC', 'error', 'c', 'r2', 'fit_output', 'fit_results_rates', 'fit_results_times'])"
      ]
     },
     "execution_count": 56,
     "metadata": {},
     "output_type": "execute_result"
    }
   ],
   "source": [
    "ta.re.keys()"
   ]
  },
  {
   "cell_type": "code",
   "execution_count": null,
   "metadata": {},
   "outputs": [],
   "source": [
    "x=ta.ds.index.values\n",
    "len(np.unique(x[1:]-x[:-1]))"
   ]
  },
  {
   "cell_type": "code",
   "execution_count": null,
   "metadata": {},
   "outputs": [],
   "source": [
    "par=lmfit.Parameters() \n",
    "par.add('k0',value=1/0.1,vary=True)                                \n",
    "par.add('k1',value=1/2.5,vary=True)\n",
    "par.add('k2',value=1/100,vary=True)\n",
    "par.add('infinite')                               \n",
    "par.add('t0',value=0,min=-2,max=2,vary=False)                 \n",
    "par.add('resolution',value=0.086,min=0.04,max=0.5,vary=False)\n",
    "ta.par=par # write parameter object into file for fitting\n",
    "ta.Fit_Global(fit_chirp=False,confidence_level=0.95) "
   ]
  },
  {
   "cell_type": "code",
   "execution_count": null,
   "metadata": {},
   "outputs": [],
   "source": [
    "plt.close('all')\n",
    "ta.cmap=pf.cm.gist_ncar\n",
    "ta.intensity_range=3e-3\n",
    "ta.Plot_fit_output()"
   ]
  },
  {
   "cell_type": "markdown",
   "metadata": {},
   "source": [
    "### export the results as images and save the project"
   ]
  },
  {
   "cell_type": "code",
   "execution_count": null,
   "metadata": {},
   "outputs": [],
   "source": []
  },
  {
   "cell_type": "code",
   "execution_count": null,
   "metadata": {},
   "outputs": [],
   "source": [
    "#ta.filename='new'+ta.filename\n",
    "ta.Save_project()                     # This saves the whole project including raw data, fits and chirp correction into a single file"
   ]
  },
  {
   "cell_type": "code",
   "execution_count": null,
   "metadata": {},
   "outputs": [],
   "source": [
    "ta.Save_Plots(savetype='png')         # This saves all the figures and a overview powerpoint savetype=['png','svg']"
   ]
  },
  {
   "cell_type": "markdown",
   "metadata": {},
   "source": [
    "### Perform Error analysis and calculate confidence interval"
   ]
  },
  {
   "cell_type": "code",
   "execution_count": null,
   "metadata": {},
   "outputs": [],
   "source": [
    "ta.par=ta.par_fit #write the best results back as starting parameter\n",
    "ta.Fit_Global(confidence_level=0.65)"
   ]
  },
  {
   "cell_type": "markdown",
   "metadata": {},
   "source": [
    "### Perform fast iterative fitting using independent exponential decay and optimise the chirp"
   ]
  },
  {
   "cell_type": "code",
   "execution_count": null,
   "metadata": {},
   "outputs": [],
   "source": [
    "ta1=ta.Copy()                          # Make a copy of the fitting ptoject to test less stable things\n",
    "ta1.timelimits=None                    # To optimise the chirp the region around time-zero must be included\n",
    "ta1.ignore_time_region=None            # To optimise the chirp the region around time-zero must be included\n",
    "ta1.par=ta.par_fit                     # copy fitted parameter into a new fit (e.g. different model)\n",
    "ta1.Fit_Global(fit_chirp=True)         # trigger fitting with Chirp optimization best using 'exponential' for speed\n",
    "ta1.Plot_fit_output(title=None)        # plot the fit output"
   ]
  },
  {
   "cell_type": "code",
   "execution_count": null,
   "metadata": {},
   "outputs": [],
   "source": [
    "ta=ta1.Copy() # if successful they can always be written back"
   ]
  },
  {
   "cell_type": "markdown",
   "metadata": {},
   "source": [
    "### Perform fast fitting using consecutative exponential decay to obtain species associated spectrum assuming a simple model"
   ]
  },
  {
   "cell_type": "code",
   "execution_count": null,
   "metadata": {},
   "outputs": [],
   "source": [
    "ta.mod='consecutive'             # very quick fit using independent exponential followed by one round of sequential\n",
    "ta.par=ta.par_fit                # copy fitted parameter into a new fit (e.g. different model)\n",
    "ta.Fit_Global(fit_chirp=False)   # The iterative chrip is best optimised using 'exponential'\n",
    "ta.Plot_fit_output(title=None)   # plot the fit output"
   ]
  },
  {
   "cell_type": "code",
   "execution_count": null,
   "metadata": {},
   "outputs": [],
   "source": [
    "ta.par=ta.par_fit\n",
    "ta.mod='full_consecutive'        # Truely consecutative fitting, usually much slower\n",
    "ta.Fit_Global(fit_chirp=False)   \n",
    "ta.Plot_fit_output(title=None)"
   ]
  },
  {
   "cell_type": "markdown",
   "metadata": {},
   "source": [
    "### Sometimes required options applicable also to fit plotting"
   ]
  },
  {
   "cell_type": "code",
   "execution_count": null,
   "metadata": {},
   "outputs": [],
   "source": [
    "#ta.Man_Chirp()                   # used to redo the chirp-correction\n",
    "#ta.Save_data()                   # used to dump the Data and fits to disk\n",
    "\n",
    "#ta.cmap=pf.cm.viridis            # use different colour scheme (can also be a list of colours)\n",
    "#pf.changefonts(weight='bold',font='standard',SMALL_SIZE=18,MEDIUM_SIZE=18,LARGE_SIZE=18)  "
   ]
  },
  {
   "cell_type": "code",
   "execution_count": null,
   "metadata": {},
   "outputs": [],
   "source": [
    "ta.Save_Powerpoint()"
   ]
  }
 ],
 "metadata": {
  "ipub": {
   "titlepage": {
    "author": "Jens Uhlig",
    "email": "jens.uhlig@chemphys.lu.se",
    "logo": "http://www.jensuhlig.de//hot_warm_cold.png",
    "subtitle": "Main Worksheet",
    "title": "Transient Absorption Worksheet"
   }
  },
  "kernelspec": {
   "display_name": "Python 3 (ipykernel)",
   "language": "python",
   "name": "python3"
  },
  "language_info": {
   "codemirror_mode": {
    "name": "ipython",
    "version": 3
   },
   "file_extension": ".py",
   "mimetype": "text/x-python",
   "name": "python",
   "nbconvert_exporter": "python",
   "pygments_lexer": "ipython3",
   "version": "3.9.12"
  }
 },
 "nbformat": 4,
 "nbformat_minor": 2
}
