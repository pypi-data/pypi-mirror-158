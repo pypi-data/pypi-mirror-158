{
 "cells": [
  {
   "cell_type": "markdown",
   "id": "43545872",
   "metadata": {},
   "source": [
    "## Folding proteins with Cradle\n",
    "This tutorial will walk you through the the simple steps you need to peform to be able to fold proteins using Cradle Bio. The setup is easy and it should take just a couple of minutes.\n",
    "\n",
    "### Install the client library\n",
    "Using pip:\n",
    "```bash\n",
    "pip install cradlebio\n",
    "```\n",
    "\n",
    "<details>\n",
    "    <summary>+Other installation methods</summary>\n",
    "    \n",
    "  1. Using conda\n",
    "```\n",
    "conda install cradlebio\n",
    "```\n",
    "\n",
    "  2. Directly form source. If you would like to install the latest Cradle version:\n",
    "```\n",
    "pip install git+https://gitlab.com/cradlebio/studio/client.git\n",
    "```\n",
    "</details>\n",
    "    \n",
    "### Get an authentication token\n",
    "Navigate to [https://auth.internal.cradle.bio/](https://auth.internal.cradle.bio/), sign in, and\n",
    "download the credentials to a location of your choice, let's call it `CREDENTIALS_FILE`.\n",
    "\n",
    "### Colab users\n",
    "If you are running inside a Google Colab notebook, please upgrade your python version using:\n",
    "```\n",
    "!pip install ipython ipykernel --upgrade\n",
    "```\n",
    "\n",
    "That's it! You are now ready to fold proteins.\n",
    "\n",
    "### Folding\n",
    "Place the proteins that you would like to fold in a FASTA file, e.g.\n",
    "```\n",
    ">protein1\n",
    "MTDDKDVLRD...\n",
    "```"
   ]
  },
  {
   "cell_type": "code",
   "execution_count": 1,
   "id": "e48f7a3b",
   "metadata": {
    "ExecuteTime": {
     "end_time": "2022-06-08T20:30:32.280561Z",
     "start_time": "2022-06-08T20:30:32.167571Z"
    }
   },
   "outputs": [
    {
     "ename": "ModuleNotFoundError",
     "evalue": "No module named 'cradlebio'",
     "output_type": "error",
     "traceback": [
      "\u001b[0;31m---------------------------------------------------------------------------\u001b[0m",
      "\u001b[0;31mModuleNotFoundError\u001b[0m                       Traceback (most recent call last)",
      "\u001b[0;32m/var/folders/j2/h20h8wdx0_zbsphlmbg5_wnc0000gn/T/ipykernel_27365/290307967.py\u001b[0m in \u001b[0;36m<module>\u001b[0;34m\u001b[0m\n\u001b[0;32m----> 1\u001b[0;31m \u001b[0;32mfrom\u001b[0m \u001b[0mcradlebio\u001b[0m \u001b[0;32mimport\u001b[0m \u001b[0malphafold\u001b[0m\u001b[0;34m,\u001b[0m \u001b[0mauth\u001b[0m\u001b[0;34m\u001b[0m\u001b[0;34m\u001b[0m\u001b[0m\n\u001b[0m\u001b[1;32m      2\u001b[0m \u001b[0;34m\u001b[0m\u001b[0m\n\u001b[1;32m      3\u001b[0m \u001b[0mCREDS_FILE\u001b[0m \u001b[0;34m=\u001b[0m \u001b[0;34m'/Users/dd/cradle/client/tests/cradlebio/data/test_creds.json'\u001b[0m  \u001b[0;31m# enter path to the credentials you generated at https://auth.internal.cradle.bio/ here\u001b[0m\u001b[0;34m\u001b[0m\u001b[0;34m\u001b[0m\u001b[0m\n\u001b[1;32m      4\u001b[0m \u001b[0mFASTA\u001b[0m \u001b[0;34m=\u001b[0m \u001b[0;34m'/tmp/harmen.fasta'\u001b[0m  \u001b[0;31m# enter path to your FASTA file here\u001b[0m\u001b[0;34m\u001b[0m\u001b[0;34m\u001b[0m\u001b[0m\n\u001b[1;32m      5\u001b[0m \u001b[0;34m\u001b[0m\u001b[0m\n",
      "\u001b[0;31mModuleNotFoundError\u001b[0m: No module named 'cradlebio'"
     ]
    }
   ],
   "source": [
    "from cradlebio import alphafold, auth\n",
    "\n",
    "CREDS_FILE = '/Users/dd/cradle/client/tests/cradlebio/data/test_creds.json'  # enter path to the credentials you generated at https://auth.internal.cradle.bio/ here\n",
    "FASTA = '/tmp/harmen.fasta'  # enter path to your FASTA file here\n",
    "\n",
    "sequences = alphafold.predict(auth.IdentityPlatformTokenCredentials.from_file(CREDS_FILE), FASTA)\n",
    "\n",
    "[print(str(seq)) for seq in sequences]\n",
    "# for seq in sequences:\n",
    "#   res = seq.pdb()\n",
    "#   print(res)"
   ]
  },
  {
   "cell_type": "markdown",
   "id": "a6bc969d",
   "metadata": {},
   "source": [
    "Your proteins are now folding.\n",
    "\n",
    "The return value, `sequences`, is a list of [cradlebio.alphafold.Sequence](https://gitlab.com/cradlebio/studio/client/-/blob/main/cradlebio/alphafold.py#L39)\n",
    "objects. You can get the PDB (Protein Data Bank) file that contains the actual folding for each sequence by calling the `pdb()`\n",
    "method. Since folding can take about 20 minutes, `pdb()` can block for a long time:\n",
    "```python\n",
    "pds = seq.pdb()\n",
    "```\n",
    "\n",
    "The code snippet below iterates through all the sequences and prints the location of the alignment (a3m) and PDB files:"
   ]
  },
  {
   "cell_type": "code",
   "execution_count": null,
   "id": "f62fe162",
   "metadata": {},
   "outputs": [],
   "source": [
    "for seq in sequences:\n",
    "    print(seq.a3m())\n",
    "    print(seq.pdb())"
   ]
  },
  {
   "cell_type": "markdown",
   "id": "6fb2e0a1",
   "metadata": {},
   "source": [
    "This code snippet visualizes the folded protein. Make sure you install py3Dmol beforehand using:\n",
    "```shell\n",
    "conda install -c conda-forge py3dmol\n",
    "```"
   ]
  },
  {
   "cell_type": "code",
   "execution_count": null,
   "id": "2ff69f39",
   "metadata": {},
   "outputs": [],
   "source": [
    "import py3Dmol\n",
    "import urllib.request\n",
    "\n",
    "urllib.request.urlretrieve(\"https://alphafold.ebi.ac.uk/files/AF-Q99J83-F1-model_v2.pdb\", \"mouse.pdb\")\n",
    "\n",
    "\n",
    "view=py3Dmol.view()\n",
    "view.addModel(open('mouse.pdb', 'r').read(),'pdb')\n",
    "view.setStyle({'stick': {}})\n",
    "view.zoomTo()\n",
    "view.show()"
   ]
  }
 ],
 "metadata": {
  "kernelspec": {
   "display_name": "Python 3 (ipykernel)",
   "language": "python",
   "name": "python3"
  },
  "language_info": {
   "codemirror_mode": {
    "name": "ipython",
    "version": 3
   },
   "file_extension": ".py",
   "mimetype": "text/x-python",
   "name": "python",
   "nbconvert_exporter": "python",
   "pygments_lexer": "ipython3",
   "version": "3.7.10"
  }
 },
 "nbformat": 4,
 "nbformat_minor": 5
}
