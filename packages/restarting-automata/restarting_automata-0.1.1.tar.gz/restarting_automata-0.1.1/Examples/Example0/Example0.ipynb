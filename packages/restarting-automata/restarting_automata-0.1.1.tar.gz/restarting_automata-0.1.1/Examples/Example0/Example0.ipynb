{
 "cells": [
  {
   "cell_type": "code",
   "execution_count": 1,
   "source": [
    "from Automata_lib import Automaton, OutputMode, from_digraph_to_dot, is_monotonic, to_digraph\n",
    "import re, json\n",
    "from graphviz import Digraph"
   ],
   "outputs": [],
   "metadata": {}
  },
  {
   "cell_type": "code",
   "execution_count": 2,
   "source": [
    "a = Automaton(\"/root/src/bakalarka/Automata/Automata_lib/Examples/non_mon.txt\")"
   ],
   "outputs": [],
   "metadata": {}
  },
  {
   "cell_type": "code",
   "execution_count": 4,
   "source": [
    "a = Automaton(\"/root/src/bakalarka/Automata/Automata_lib/Examples/mono.txt\")"
   ],
   "outputs": [],
   "metadata": {}
  },
  {
   "cell_type": "code",
   "execution_count": 40,
   "source": [
    "a = Automaton(\"/root/src/bakalarka/Automata/Automata_lib/Examples/example0_without_MVL.txt\")"
   ],
   "outputs": [],
   "metadata": {}
  },
  {
   "cell_type": "markdown",
   "source": [
    "``` python\n",
    "def monotonic():\n",
    "    all_rewrite_states\n",
    "    all_states\n",
    "    for state in all_states:\n",
    "        if any(succesor in all_rewrite_states for succesor in succesors_of_rewite_after_k_MVR_steps()):\n",
    "            return False\n",
    "    for state in all_rewrite_states:\n",
    "        for rewrite in rewrites[state]\n",
    "            if any(word in is_accesible_from_initial_state(all_rewrite_states) for word in generate_word_from_prefix(rewite))\n",
    "                return False\n",
    "    return True\n",
    "```"
   ],
   "metadata": {}
  },
  {
   "cell_type": "markdown",
   "source": [
    "zkotrolovat 2 rewrites za sebou"
   ],
   "metadata": {}
  },
  {
   "cell_type": "code",
   "execution_count": 3,
   "source": [
    "def is_monotonic(a: Automaton):\n",
    "    digrhaph, rewrites = to_digraph(a)\n",
    "    # print(digrhaph)\n",
    "    # print(rewrites)\n",
    "    to_check= []\n",
    "    for i in rewrites.keys():\n",
    "        to_check.append(i)\n",
    "    \n",
    "    #check if nondeterministic could skipp rewrite and rewrite later\n",
    "    reversed_digraph = defaultdict(list)\n",
    "    for key in digrhaph.keys():\n",
    "        for item in digrhaph[key]:\n",
    "            reversed_digraph[item].append(key) \n",
    "            reversed_digraph[key] \n",
    "\n",
    "    used = {key: False for key in digrhaph.keys()}\n",
    "    for state in to_check:\n",
    "        st = [state]\n",
    "        distance = {i:0 if i == state else -1 for i in reversed_digraph.keys()}\n",
    "        while st:\n",
    "            current = st.pop(0)\n",
    "            if distance[current] >= a.size_of_window and current in rewrites.keys():\n",
    "                return False\n",
    "            for next_state in reversed_digraph[current]:\n",
    "                if distance[current] == float(\"inf\"):\n",
    "                    if not distance[next_state] == float(\"inf\"):\n",
    "                        distance[next_state] = float(\"inf\")\n",
    "                    else:\n",
    "                        continue # don't loop in infinity\n",
    "                if distance[next_state] == -1:\n",
    "                    distance[next_state] = distance[current] + 1\n",
    "                else:\n",
    "                    distance[next_state] = float(\"inf\")\n",
    "                st.append(next_state)\n",
    "\n",
    "                \n",
    "    # while to_compute:\n",
    "    #     current = to_compute.pop(0)\n",
    "    #     for state in reversed_digraph[current]:\n",
    "    #         if distance[state] == -1:\n",
    "    #             distance[state] = distance[current] + 1\n",
    "    #             to_compute.append(state)\n",
    "\n",
    "    # for state in digrhaph.keys():\n",
    "    #     if state in rewrites.keys():\n",
    "    #         difference = digrhaph[state] - rewrites[state][\"to_state\"]\n",
    "    #         for state in difference:\n",
    "    #             find_rewrite_after_n_steps(digrhaph, rewrites, diff, a.size_of_window)\n",
    "\n",
    "    #checking if in next run there could be rewrite in k-1-(|word|-|new_word|)\n",
    "    states_accesible_from_initial_without_rewrite = []\n",
    "    to_check_without_states = [i[2:] for i in to_check]\n",
    "    for i in to_check:\n",
    "        for rewrite in rewrites[i]:\n",
    "            rewrite = rewrite[\"rewriten_to\"]\n",
    "            # print(rewrite)\n",
    "            for possible_bad_state in generate_pre_complete_word(a,rewrite): #k-1 \n",
    "                if str(possible_bad_state) in to_check_without_states:\n",
    "                    print(possible_bad_state, rewrite)\n",
    "                    return False\n",
    "    return True"
   ],
   "outputs": [],
   "metadata": {}
  },
  {
   "cell_type": "code",
   "execution_count": 5,
   "source": [
    "from itertools import permutations\n",
    "def generate_pre_complete_word(a:Automaton, content: list):\n",
    "    ret = []\n",
    "    final_lenth = a.size_of_window\n",
    "    for i in range(1,len(content)):\n",
    "        sufix = content[:i]\n",
    "        symbols_needed = final_lenth - len(sufix) - 1\n",
    "        perm = permutations(a.working_alphabet + a.alphabet, symbols_needed)\n",
    "        for p in perm:\n",
    "            for prefix in a.working_alphabet + a.alphabet + [\"#\"]:\n",
    "                yield [prefix] + list(p) + sufix"
   ],
   "outputs": [],
   "metadata": {}
  },
  {
   "cell_type": "code",
   "execution_count": 8,
   "source": [
    "is_monotonic(a)"
   ],
   "outputs": [
    {
     "output_type": "stream",
     "name": "stdout",
     "text": [
      "['a', 'a', 'E'] ['E', 'E']\n"
     ]
    },
    {
     "output_type": "execute_result",
     "data": {
      "text/plain": [
       "False"
      ]
     },
     "metadata": {},
     "execution_count": 8
    }
   ],
   "metadata": {}
  },
  {
   "cell_type": "code",
   "execution_count": null,
   "source": [
    "for i in generate_pre_complete_word(a, [\"a\", \"b\"]):\n",
    "    print(i)"
   ],
   "outputs": [],
   "metadata": {}
  },
  {
   "cell_type": "code",
   "execution_count": 9,
   "source": [
    "#TODO should be done with generator to ensure space complexity\n",
    "def generate_post_complete_word(a:Automaton, new_lenght:int, content: list):\n",
    "    ret = []\n",
    "    l = a.alphabet + a.working_alphabet +[\"$\"]\n",
    "    if new_lenght < len(content):\n",
    "        return []\n",
    "    if content and (content[-1] == \"$\" or new_lenght == len(content)):\n",
    "        return [content]\n",
    "    for i in l:\n",
    "        new_word = content.copy()\n",
    "        new_word += i\n",
    "        ret.extend(generate_post_complete_word(a,new_lenght,new_word))\n",
    "    return ret\n",
    "\n",
    "    "
   ],
   "outputs": [],
   "metadata": {}
  },
  {
   "cell_type": "code",
   "execution_count": 7,
   "source": [
    "from collections import defaultdict\n",
    "def to_digraph(a: Automaton):\n",
    "    possible_states = set([\"Accept\", \"Restart\"])\n",
    "    for key in a.instructions.keys():\n",
    "        for window in a.instructions[key]:\n",
    "            possible_states.add(key + window) #beware of star\n",
    "    # possible_states = {key + window for key in a.instructions.keys() for window in a.instructions[key]}\n",
    "    # print(possible_states)\n",
    "    possible_states = list(possible_states)\n",
    "    digraph = defaultdict(list)\n",
    "    rewrites = defaultdict(list)\n",
    "    for state in possible_states:\n",
    "        if \"#\" in state:\n",
    "            digraph[\"Initial\"].append(state)\n",
    "    for key in a.instructions.keys():\n",
    "        for window in a.instructions[key]:\n",
    "            for instruction in a.instructions[key][window]:\n",
    "                if type(instruction) is str:\n",
    "                    digraph[key+window].append(instruction)\n",
    "                elif type(instruction) is list and len(instruction) == 2:\n",
    "                    to_state = instruction[0]\n",
    "                    instruction = instruction[1]\n",
    "                    if instruction == \"MVR\": \n",
    "                        for c in a.alphabet + a.working_alphabet + [\"$\"]:\n",
    "                            new_window = str(eval(window)[1:] + [c])\n",
    "                            if to_state+new_window in possible_states + [to_state+\"['*']\"]:\n",
    "                                digraph[key+window].append(to_state+new_window)\n",
    "                    elif instruction == \"MVL\":\n",
    "                        # nahradit jednosmernym automatem\n",
    "                        print(\"TODO MVL\")\n",
    "                    elif re.match(r\"^\\[.*\\]$\", instruction):\n",
    "                        # rewrite_to = [a.strip() for a in instruction[1:-1].split(\",\")]\n",
    "                        rewrite_to = eval(instruction)  # making array from string\n",
    "                        # if to_state+\"['*']\" in possible_states:\n",
    "                        #     tt = to_state+\"['*']\"\n",
    "                        #     rewrites[key+window].append({\"rewriten_to\":rewrite_to,\"to_state\": tt})\n",
    "                        #     digraph[key+window].append(tt)\n",
    "                        if rewrite_to and rewrite_to[-1] == \"$\":\n",
    "                            if to_state+\"['$']\" in possible_states: \n",
    "                                digraph[key+window].append(to_state+\"['$']\")\n",
    "                                rewrites[key+window].append({\"rewriten_to\":rewrite_to,\"to_state\": to_state+\"[]\"})\n",
    "                        else:\n",
    "                            for possible_window in possible_states: #get rid all that couldnt be after ie those with #\n",
    "                                if \"#\" not in possible_window and to_state == possible_window.split(\"[\")[0]:\n",
    "                                    digraph[key+window].append(possible_window)\n",
    "                                    rewrites[key+window].append({\"rewriten_to\":rewrite_to, \"to_state\":possible_window})\n",
    "    # dot.render('test-output/round-table.gv', view=True)\n",
    "    dot = Digraph()\n",
    "    for from_state in digraph.keys():\n",
    "        for to_state in digraph[from_state]:\n",
    "            dot.edge(from_state, to_state)\n",
    "    # dot.render(f'test-output/{a.name}.gv', view=True)  # doctest: +SKIP\n",
    "    return digraph,rewrites"
   ],
   "outputs": [],
   "metadata": {}
  },
  {
   "cell_type": "code",
   "execution_count": 14,
   "source": [
    "digraph,rewrites = to_digraph(a)\n",
    "\n",
    "dot = Digraph()\n",
    "for from_state in digraph.keys():\n",
    "    for to_state in digraph[from_state]:\n",
    "        dot.edge(from_state, to_state)\n"
   ],
   "outputs": [],
   "metadata": {}
  },
  {
   "cell_type": "code",
   "execution_count": null,
   "source": [
    "generate_post_complete_word(a,3,[\"b\"])"
   ],
   "outputs": [],
   "metadata": {}
  },
  {
   "cell_type": "code",
   "execution_count": 15,
   "source": [
    "dot"
   ],
   "outputs": [
    {
     "output_type": "execute_result",
     "data": {
      "text/plain": [
       "<graphviz.dot.Digraph at 0x7f5d345abd60>"
      ],
      "image/svg+xml": "<?xml version=\"1.0\" encoding=\"UTF-8\" standalone=\"no\"?>\n<!DOCTYPE svg PUBLIC \"-//W3C//DTD SVG 1.1//EN\"\n \"http://www.w3.org/Graphics/SVG/1.1/DTD/svg11.dtd\">\n<!-- Generated by graphviz version 2.43.0 (0)\n -->\n<!-- Title: %3 Pages: 1 -->\n<svg width=\"890pt\" height=\"692pt\"\n viewBox=\"0.00 0.00 889.54 692.00\" xmlns=\"http://www.w3.org/2000/svg\" xmlns:xlink=\"http://www.w3.org/1999/xlink\">\n<g id=\"graph0\" class=\"graph\" transform=\"scale(1 1) rotate(0) translate(4 688)\">\n<title>%3</title>\n<polygon fill=\"white\" stroke=\"transparent\" points=\"-4,4 -4,-688 885.54,-688 885.54,4 -4,4\"/>\n<!-- Initial -->\n<g id=\"node1\" class=\"node\">\n<title>Initial</title>\n<ellipse fill=\"none\" stroke=\"black\" cx=\"493.04\" cy=\"-666\" rx=\"38.19\" ry=\"18\"/>\n<text text-anchor=\"middle\" x=\"493.04\" y=\"-662.3\" font-family=\"Times,serif\" font-size=\"14.00\">Initial</text>\n</g>\n<!-- q0[&#39;#&#39;, &#39;a&#39;, &#39;c&#39;] -->\n<g id=\"node2\" class=\"node\">\n<title>q0[&#39;#&#39;, &#39;a&#39;, &#39;c&#39;]</title>\n<ellipse fill=\"none\" stroke=\"black\" cx=\"581.04\" cy=\"-522\" rx=\"73.39\" ry=\"18\"/>\n<text text-anchor=\"middle\" x=\"581.04\" y=\"-518.3\" font-family=\"Times,serif\" font-size=\"14.00\">q0[&#39;#&#39;, &#39;a&#39;, &#39;c&#39;]</text>\n</g>\n<!-- Initial&#45;&gt;q0[&#39;#&#39;, &#39;a&#39;, &#39;c&#39;] -->\n<g id=\"edge1\" class=\"edge\">\n<title>Initial&#45;&gt;q0[&#39;#&#39;, &#39;a&#39;, &#39;c&#39;]</title>\n<path fill=\"none\" stroke=\"black\" d=\"M503.31,-648.43C518.53,-623.88 547.2,-577.6 565.15,-548.65\"/>\n<polygon fill=\"black\" stroke=\"black\" points=\"568.28,-550.25 570.57,-539.9 562.33,-546.56 568.28,-550.25\"/>\n</g>\n<!-- q0[&#39;#&#39;, &#39;a&#39;, &#39;D&#39;] -->\n<g id=\"node3\" class=\"node\">\n<title>q0[&#39;#&#39;, &#39;a&#39;, &#39;D&#39;]</title>\n<ellipse fill=\"none\" stroke=\"black\" cx=\"76.04\" cy=\"-378\" rx=\"76.09\" ry=\"18\"/>\n<text text-anchor=\"middle\" x=\"76.04\" y=\"-374.3\" font-family=\"Times,serif\" font-size=\"14.00\">q0[&#39;#&#39;, &#39;a&#39;, &#39;D&#39;]</text>\n</g>\n<!-- Initial&#45;&gt;q0[&#39;#&#39;, &#39;a&#39;, &#39;D&#39;] -->\n<g id=\"edge2\" class=\"edge\">\n<title>Initial&#45;&gt;q0[&#39;#&#39;, &#39;a&#39;, &#39;D&#39;]</title>\n<path fill=\"none\" stroke=\"black\" d=\"M457.43,-659.17C377.3,-643.97 182.95,-595.15 95.04,-468 82.52,-449.88 78,-425.1 76.48,-406.29\"/>\n<polygon fill=\"black\" stroke=\"black\" points=\"79.97,-406.05 75.91,-396.27 72.99,-406.45 79.97,-406.05\"/>\n</g>\n<!-- q0[&#39;#&#39;, &#39;$&#39;] -->\n<g id=\"node4\" class=\"node\">\n<title>q0[&#39;#&#39;, &#39;$&#39;]</title>\n<ellipse fill=\"none\" stroke=\"black\" cx=\"681.04\" cy=\"-594\" rx=\"58.49\" ry=\"18\"/>\n<text text-anchor=\"middle\" x=\"681.04\" y=\"-590.3\" font-family=\"Times,serif\" font-size=\"14.00\">q0[&#39;#&#39;, &#39;$&#39;]</text>\n</g>\n<!-- Initial&#45;&gt;q0[&#39;#&#39;, &#39;$&#39;] -->\n<g id=\"edge3\" class=\"edge\">\n<title>Initial&#45;&gt;q0[&#39;#&#39;, &#39;$&#39;]</title>\n<path fill=\"none\" stroke=\"black\" d=\"M522.42,-654.06C552.72,-642.78 600.39,-625.03 635.56,-611.93\"/>\n<polygon fill=\"black\" stroke=\"black\" points=\"636.98,-615.14 645.13,-608.37 634.54,-608.58 636.98,-615.14\"/>\n</g>\n<!-- q0[&#39;#&#39;, &#39;a&#39;, &#39;a&#39;] -->\n<g id=\"node5\" class=\"node\">\n<title>q0[&#39;#&#39;, &#39;a&#39;, &#39;a&#39;]</title>\n<ellipse fill=\"none\" stroke=\"black\" cx=\"442.04\" cy=\"-594\" rx=\"74.19\" ry=\"18\"/>\n<text text-anchor=\"middle\" x=\"442.04\" y=\"-590.3\" font-family=\"Times,serif\" font-size=\"14.00\">q0[&#39;#&#39;, &#39;a&#39;, &#39;a&#39;]</text>\n</g>\n<!-- Initial&#45;&gt;q0[&#39;#&#39;, &#39;a&#39;, &#39;a&#39;] -->\n<g id=\"edge4\" class=\"edge\">\n<title>Initial&#45;&gt;q0[&#39;#&#39;, &#39;a&#39;, &#39;a&#39;]</title>\n<path fill=\"none\" stroke=\"black\" d=\"M481.21,-648.76C475.09,-640.35 467.46,-629.89 460.57,-620.44\"/>\n<polygon fill=\"black\" stroke=\"black\" points=\"463.24,-618.15 454.52,-612.12 457.58,-622.27 463.24,-618.15\"/>\n</g>\n<!-- q0[&#39;a&#39;, &#39;c&#39;, &#39;b&#39;] -->\n<g id=\"node11\" class=\"node\">\n<title>q0[&#39;a&#39;, &#39;c&#39;, &#39;b&#39;]</title>\n<ellipse fill=\"none\" stroke=\"black\" cx=\"566.04\" cy=\"-378\" rx=\"71.49\" ry=\"18\"/>\n<text text-anchor=\"middle\" x=\"566.04\" y=\"-374.3\" font-family=\"Times,serif\" font-size=\"14.00\">q0[&#39;a&#39;, &#39;c&#39;, &#39;b&#39;]</text>\n</g>\n<!-- q0[&#39;#&#39;, &#39;a&#39;, &#39;c&#39;]&#45;&gt;q0[&#39;a&#39;, &#39;c&#39;, &#39;b&#39;] -->\n<g id=\"edge22\" class=\"edge\">\n<title>q0[&#39;#&#39;, &#39;a&#39;, &#39;c&#39;]&#45;&gt;q0[&#39;a&#39;, &#39;c&#39;, &#39;b&#39;]</title>\n<path fill=\"none\" stroke=\"black\" d=\"M584,-503.8C586.59,-485.77 589.33,-456.69 585.04,-432 583.52,-423.24 580.68,-414.01 577.65,-405.75\"/>\n<polygon fill=\"black\" stroke=\"black\" points=\"580.84,-404.29 573.94,-396.25 574.32,-406.84 580.84,-404.29\"/>\n</g>\n<!-- qr[&#39;*&#39;] -->\n<g id=\"node18\" class=\"node\">\n<title>qr[&#39;*&#39;]</title>\n<ellipse fill=\"none\" stroke=\"black\" cx=\"319.04\" cy=\"-90\" rx=\"37.09\" ry=\"18\"/>\n<text text-anchor=\"middle\" x=\"319.04\" y=\"-86.3\" font-family=\"Times,serif\" font-size=\"14.00\">qr[&#39;*&#39;]</text>\n</g>\n<!-- q0[&#39;#&#39;, &#39;a&#39;, &#39;D&#39;]&#45;&gt;qr[&#39;*&#39;] -->\n<g id=\"edge33\" class=\"edge\">\n<title>q0[&#39;#&#39;, &#39;a&#39;, &#39;D&#39;]&#45;&gt;qr[&#39;*&#39;]</title>\n<path fill=\"none\" stroke=\"black\" d=\"M77.76,-359.98C82.94,-317.47 102.25,-205.59 166.04,-144 195,-116.04 239.43,-102.78 272.96,-96.52\"/>\n<polygon fill=\"black\" stroke=\"black\" points=\"273.73,-99.94 282.99,-94.79 272.54,-93.04 273.73,-99.94\"/>\n</g>\n<!-- Accept -->\n<g id=\"node6\" class=\"node\">\n<title>Accept</title>\n<ellipse fill=\"none\" stroke=\"black\" cx=\"715.04\" cy=\"-522\" rx=\"42.49\" ry=\"18\"/>\n<text text-anchor=\"middle\" x=\"715.04\" y=\"-518.3\" font-family=\"Times,serif\" font-size=\"14.00\">Accept</text>\n</g>\n<!-- q0[&#39;#&#39;, &#39;$&#39;]&#45;&gt;Accept -->\n<g id=\"edge5\" class=\"edge\">\n<title>q0[&#39;#&#39;, &#39;$&#39;]&#45;&gt;Accept</title>\n<path fill=\"none\" stroke=\"black\" d=\"M689.27,-576.05C693.24,-567.89 698.09,-557.91 702.5,-548.82\"/>\n<polygon fill=\"black\" stroke=\"black\" points=\"705.67,-550.31 706.89,-539.79 699.37,-547.25 705.67,-550.31\"/>\n</g>\n<!-- q0[&#39;a&#39;, &#39;a&#39;, &#39;a&#39;] -->\n<g id=\"node7\" class=\"node\">\n<title>q0[&#39;a&#39;, &#39;a&#39;, &#39;a&#39;]</title>\n<ellipse fill=\"none\" stroke=\"black\" cx=\"325.04\" cy=\"-522\" rx=\"71.49\" ry=\"18\"/>\n<text text-anchor=\"middle\" x=\"325.04\" y=\"-518.3\" font-family=\"Times,serif\" font-size=\"14.00\">q0[&#39;a&#39;, &#39;a&#39;, &#39;a&#39;]</text>\n</g>\n<!-- q0[&#39;#&#39;, &#39;a&#39;, &#39;a&#39;]&#45;&gt;q0[&#39;a&#39;, &#39;a&#39;, &#39;a&#39;] -->\n<g id=\"edge23\" class=\"edge\">\n<title>q0[&#39;#&#39;, &#39;a&#39;, &#39;a&#39;]&#45;&gt;q0[&#39;a&#39;, &#39;a&#39;, &#39;a&#39;]</title>\n<path fill=\"none\" stroke=\"black\" d=\"M415.49,-577.12C399.19,-567.36 378.11,-554.75 360.4,-544.15\"/>\n<polygon fill=\"black\" stroke=\"black\" points=\"361.87,-540.95 351.49,-538.82 358.27,-546.96 361.87,-540.95\"/>\n</g>\n<!-- q0[&#39;a&#39;, &#39;a&#39;, &#39;c&#39;] -->\n<g id=\"node8\" class=\"node\">\n<title>q0[&#39;a&#39;, &#39;a&#39;, &#39;c&#39;]</title>\n<ellipse fill=\"none\" stroke=\"black\" cx=\"505.04\" cy=\"-450\" rx=\"71.49\" ry=\"18\"/>\n<text text-anchor=\"middle\" x=\"505.04\" y=\"-446.3\" font-family=\"Times,serif\" font-size=\"14.00\">q0[&#39;a&#39;, &#39;a&#39;, &#39;c&#39;]</text>\n</g>\n<!-- q0[&#39;#&#39;, &#39;a&#39;, &#39;a&#39;]&#45;&gt;q0[&#39;a&#39;, &#39;a&#39;, &#39;c&#39;] -->\n<g id=\"edge24\" class=\"edge\">\n<title>q0[&#39;#&#39;, &#39;a&#39;, &#39;a&#39;]&#45;&gt;q0[&#39;a&#39;, &#39;a&#39;, &#39;c&#39;]</title>\n<path fill=\"none\" stroke=\"black\" d=\"M449.64,-575.87C460.47,-551.46 480.45,-506.43 493.23,-477.64\"/>\n<polygon fill=\"black\" stroke=\"black\" points=\"496.56,-478.75 497.42,-468.19 490.16,-475.91 496.56,-478.75\"/>\n</g>\n<!-- q0[&#39;a&#39;, &#39;a&#39;, &#39;E&#39;] -->\n<g id=\"node9\" class=\"node\">\n<title>q0[&#39;a&#39;, &#39;a&#39;, &#39;E&#39;]</title>\n<ellipse fill=\"none\" stroke=\"black\" cx=\"342.04\" cy=\"-450\" rx=\"73.39\" ry=\"18\"/>\n<text text-anchor=\"middle\" x=\"342.04\" y=\"-446.3\" font-family=\"Times,serif\" font-size=\"14.00\">q0[&#39;a&#39;, &#39;a&#39;, &#39;E&#39;]</text>\n</g>\n<!-- q0[&#39;#&#39;, &#39;a&#39;, &#39;a&#39;]&#45;&gt;q0[&#39;a&#39;, &#39;a&#39;, &#39;E&#39;] -->\n<g id=\"edge25\" class=\"edge\">\n<title>q0[&#39;#&#39;, &#39;a&#39;, &#39;a&#39;]&#45;&gt;q0[&#39;a&#39;, &#39;a&#39;, &#39;E&#39;]</title>\n<path fill=\"none\" stroke=\"black\" d=\"M442.15,-575.76C441.46,-556.63 437.87,-525.63 423.04,-504 413.69,-490.35 399.55,-479.37 385.7,-471.01\"/>\n<polygon fill=\"black\" stroke=\"black\" points=\"387.11,-467.79 376.68,-465.9 383.65,-473.88 387.11,-467.79\"/>\n</g>\n<!-- q0[&#39;a&#39;, &#39;a&#39;, &#39;D&#39;] -->\n<g id=\"node10\" class=\"node\">\n<title>q0[&#39;a&#39;, &#39;a&#39;, &#39;D&#39;]</title>\n<ellipse fill=\"none\" stroke=\"black\" cx=\"177.04\" cy=\"-450\" rx=\"73.39\" ry=\"18\"/>\n<text text-anchor=\"middle\" x=\"177.04\" y=\"-446.3\" font-family=\"Times,serif\" font-size=\"14.00\">q0[&#39;a&#39;, &#39;a&#39;, &#39;D&#39;]</text>\n</g>\n<!-- q0[&#39;#&#39;, &#39;a&#39;, &#39;a&#39;]&#45;&gt;q0[&#39;a&#39;, &#39;a&#39;, &#39;D&#39;] -->\n<g id=\"edge26\" class=\"edge\">\n<title>q0[&#39;#&#39;, &#39;a&#39;, &#39;a&#39;]&#45;&gt;q0[&#39;a&#39;, &#39;a&#39;, &#39;D&#39;]</title>\n<path fill=\"none\" stroke=\"black\" d=\"M375.49,-586.07C335.04,-579.31 283.88,-566.03 245.04,-540 221.34,-524.11 202.47,-497.19 190.67,-477.11\"/>\n<polygon fill=\"black\" stroke=\"black\" points=\"193.58,-475.14 185.61,-468.15 187.49,-478.58 193.58,-475.14\"/>\n</g>\n<!-- q0[&#39;a&#39;, &#39;a&#39;, &#39;a&#39;]&#45;&gt;q0[&#39;a&#39;, &#39;a&#39;, &#39;a&#39;] -->\n<g id=\"edge6\" class=\"edge\">\n<title>q0[&#39;a&#39;, &#39;a&#39;, &#39;a&#39;]&#45;&gt;q0[&#39;a&#39;, &#39;a&#39;, &#39;a&#39;]</title>\n<path fill=\"none\" stroke=\"black\" d=\"M373.83,-535.29C395.66,-536.55 414.54,-532.12 414.54,-522 414.54,-513.54 401.35,-509.05 384.27,-508.55\"/>\n<polygon fill=\"black\" stroke=\"black\" points=\"383.78,-505.06 373.83,-508.71 383.89,-512.05 383.78,-505.06\"/>\n</g>\n<!-- q0[&#39;a&#39;, &#39;a&#39;, &#39;a&#39;]&#45;&gt;q0[&#39;a&#39;, &#39;a&#39;, &#39;c&#39;] -->\n<g id=\"edge7\" class=\"edge\">\n<title>q0[&#39;a&#39;, &#39;a&#39;, &#39;a&#39;]&#45;&gt;q0[&#39;a&#39;, &#39;a&#39;, &#39;c&#39;]</title>\n<path fill=\"none\" stroke=\"black\" d=\"M362.34,-506.5C390.21,-495.66 428.51,-480.76 458.41,-469.14\"/>\n<polygon fill=\"black\" stroke=\"black\" points=\"459.74,-472.37 467.79,-465.49 457.21,-465.85 459.74,-472.37\"/>\n</g>\n<!-- q0[&#39;a&#39;, &#39;a&#39;, &#39;a&#39;]&#45;&gt;q0[&#39;a&#39;, &#39;a&#39;, &#39;E&#39;] -->\n<g id=\"edge8\" class=\"edge\">\n<title>q0[&#39;a&#39;, &#39;a&#39;, &#39;a&#39;]&#45;&gt;q0[&#39;a&#39;, &#39;a&#39;, &#39;E&#39;]</title>\n<path fill=\"none\" stroke=\"black\" d=\"M329.25,-503.7C331.14,-495.9 333.42,-486.51 335.53,-477.83\"/>\n<polygon fill=\"black\" stroke=\"black\" points=\"338.93,-478.65 337.89,-468.1 332.13,-477 338.93,-478.65\"/>\n</g>\n<!-- q0[&#39;a&#39;, &#39;a&#39;, &#39;a&#39;]&#45;&gt;q0[&#39;a&#39;, &#39;a&#39;, &#39;D&#39;] -->\n<g id=\"edge9\" class=\"edge\">\n<title>q0[&#39;a&#39;, &#39;a&#39;, &#39;a&#39;]&#45;&gt;q0[&#39;a&#39;, &#39;a&#39;, &#39;D&#39;]</title>\n<path fill=\"none\" stroke=\"black\" d=\"M292.93,-505.81C271.09,-495.48 241.99,-481.72 218.42,-470.57\"/>\n<polygon fill=\"black\" stroke=\"black\" points=\"219.89,-467.39 209.35,-466.28 216.89,-473.72 219.89,-467.39\"/>\n</g>\n<!-- q0[&#39;a&#39;, &#39;a&#39;, &#39;c&#39;]&#45;&gt;q0[&#39;a&#39;, &#39;c&#39;, &#39;b&#39;] -->\n<g id=\"edge10\" class=\"edge\">\n<title>q0[&#39;a&#39;, &#39;a&#39;, &#39;c&#39;]&#45;&gt;q0[&#39;a&#39;, &#39;c&#39;, &#39;b&#39;]</title>\n<path fill=\"none\" stroke=\"black\" d=\"M519.81,-432.05C527.3,-423.46 536.54,-412.86 544.78,-403.4\"/>\n<polygon fill=\"black\" stroke=\"black\" points=\"547.48,-405.63 551.41,-395.79 542.2,-401.03 547.48,-405.63\"/>\n</g>\n<!-- q0[&#39;a&#39;, &#39;a&#39;, &#39;E&#39;]&#45;&gt;qr[&#39;*&#39;] -->\n<g id=\"edge29\" class=\"edge\">\n<title>q0[&#39;a&#39;, &#39;a&#39;, &#39;E&#39;]&#45;&gt;qr[&#39;*&#39;]</title>\n<path fill=\"none\" stroke=\"black\" d=\"M313.91,-433.33C277.32,-410.64 218.04,-364.93 218.04,-307 218.04,-307 218.04,-307 218.04,-233 218.04,-192.55 214.08,-177.3 237.04,-144 248.14,-127.9 265.89,-115.55 282.04,-106.84\"/>\n<polygon fill=\"black\" stroke=\"black\" points=\"283.98,-109.78 291.3,-102.13 280.8,-103.54 283.98,-109.78\"/>\n</g>\n<!-- q0[&#39;a&#39;, &#39;a&#39;, &#39;D&#39;]&#45;&gt;qr[&#39;*&#39;] -->\n<g id=\"edge32\" class=\"edge\">\n<title>q0[&#39;a&#39;, &#39;a&#39;, &#39;D&#39;]&#45;&gt;qr[&#39;*&#39;]</title>\n<path fill=\"none\" stroke=\"black\" d=\"M177.64,-431.95C178.51,-405.3 180.04,-352.12 180.04,-307 180.04,-307 180.04,-307 180.04,-233 180.04,-190.16 188.07,-175.55 217.04,-144 233.82,-125.73 258.36,-112.7 279.16,-104.14\"/>\n<polygon fill=\"black\" stroke=\"black\" points=\"280.68,-107.3 288.72,-100.4 278.13,-100.78 280.68,-107.3\"/>\n</g>\n<!-- q0[&#39;c&#39;, &#39;b&#39;, &#39;c&#39;] -->\n<g id=\"node12\" class=\"node\">\n<title>q0[&#39;c&#39;, &#39;b&#39;, &#39;c&#39;]</title>\n<ellipse fill=\"none\" stroke=\"black\" cx=\"566.04\" cy=\"-306\" rx=\"71.49\" ry=\"18\"/>\n<text text-anchor=\"middle\" x=\"566.04\" y=\"-302.3\" font-family=\"Times,serif\" font-size=\"14.00\">q0[&#39;c&#39;, &#39;b&#39;, &#39;c&#39;]</text>\n</g>\n<!-- q0[&#39;a&#39;, &#39;c&#39;, &#39;b&#39;]&#45;&gt;q0[&#39;c&#39;, &#39;b&#39;, &#39;c&#39;] -->\n<g id=\"edge11\" class=\"edge\">\n<title>q0[&#39;a&#39;, &#39;c&#39;, &#39;b&#39;]&#45;&gt;q0[&#39;c&#39;, &#39;b&#39;, &#39;c&#39;]</title>\n<path fill=\"none\" stroke=\"black\" d=\"M566.04,-359.7C566.04,-351.98 566.04,-342.71 566.04,-334.11\"/>\n<polygon fill=\"black\" stroke=\"black\" points=\"569.54,-334.1 566.04,-324.1 562.54,-334.1 569.54,-334.1\"/>\n</g>\n<!-- q0[&#39;c&#39;, &#39;b&#39;, &#39;d&#39;] -->\n<g id=\"node13\" class=\"node\">\n<title>q0[&#39;c&#39;, &#39;b&#39;, &#39;d&#39;]</title>\n<ellipse fill=\"none\" stroke=\"black\" cx=\"648.04\" cy=\"-162\" rx=\"72.29\" ry=\"18\"/>\n<text text-anchor=\"middle\" x=\"648.04\" y=\"-158.3\" font-family=\"Times,serif\" font-size=\"14.00\">q0[&#39;c&#39;, &#39;b&#39;, &#39;d&#39;]</text>\n</g>\n<!-- q0[&#39;a&#39;, &#39;c&#39;, &#39;b&#39;]&#45;&gt;q0[&#39;c&#39;, &#39;b&#39;, &#39;d&#39;] -->\n<g id=\"edge12\" class=\"edge\">\n<title>q0[&#39;a&#39;, &#39;c&#39;, &#39;b&#39;]&#45;&gt;q0[&#39;c&#39;, &#39;b&#39;, &#39;d&#39;]</title>\n<path fill=\"none\" stroke=\"black\" d=\"M602.51,-362.44C618.89,-353.86 636.62,-341.25 646.04,-324 669.01,-281.94 662.11,-224 655.05,-190.32\"/>\n<polygon fill=\"black\" stroke=\"black\" points=\"658.4,-189.28 652.79,-180.29 651.57,-190.82 658.4,-189.28\"/>\n</g>\n<!-- q0[&#39;c&#39;, &#39;b&#39;, &#39;e&#39;] -->\n<g id=\"node14\" class=\"node\">\n<title>q0[&#39;c&#39;, &#39;b&#39;, &#39;e&#39;]</title>\n<ellipse fill=\"none\" stroke=\"black\" cx=\"810.04\" cy=\"-162\" rx=\"71.49\" ry=\"18\"/>\n<text text-anchor=\"middle\" x=\"810.04\" y=\"-158.3\" font-family=\"Times,serif\" font-size=\"14.00\">q0[&#39;c&#39;, &#39;b&#39;, &#39;e&#39;]</text>\n</g>\n<!-- q0[&#39;a&#39;, &#39;c&#39;, &#39;b&#39;]&#45;&gt;q0[&#39;c&#39;, &#39;b&#39;, &#39;e&#39;] -->\n<g id=\"edge13\" class=\"edge\">\n<title>q0[&#39;a&#39;, &#39;c&#39;, &#39;b&#39;]&#45;&gt;q0[&#39;c&#39;, &#39;b&#39;, &#39;e&#39;]</title>\n<path fill=\"none\" stroke=\"black\" d=\"M601.57,-362.21C621.83,-352.87 647.08,-339.62 667.04,-324 718.94,-283.4 767.16,-222.39 792.17,-188.32\"/>\n<polygon fill=\"black\" stroke=\"black\" points=\"795.26,-190.01 798.3,-179.86 789.59,-185.9 795.26,-190.01\"/>\n</g>\n<!-- q0[&#39;c&#39;, &#39;b&#39;, &#39;E&#39;] -->\n<g id=\"node15\" class=\"node\">\n<title>q0[&#39;c&#39;, &#39;b&#39;, &#39;E&#39;]</title>\n<ellipse fill=\"none\" stroke=\"black\" cx=\"319.04\" cy=\"-162\" rx=\"73.39\" ry=\"18\"/>\n<text text-anchor=\"middle\" x=\"319.04\" y=\"-158.3\" font-family=\"Times,serif\" font-size=\"14.00\">q0[&#39;c&#39;, &#39;b&#39;, &#39;E&#39;]</text>\n</g>\n<!-- q0[&#39;a&#39;, &#39;c&#39;, &#39;b&#39;]&#45;&gt;q0[&#39;c&#39;, &#39;b&#39;, &#39;E&#39;] -->\n<g id=\"edge14\" class=\"edge\">\n<title>q0[&#39;a&#39;, &#39;c&#39;, &#39;b&#39;]&#45;&gt;q0[&#39;c&#39;, &#39;b&#39;, &#39;E&#39;]</title>\n<path fill=\"none\" stroke=\"black\" d=\"M532.92,-361.94C513.66,-352.42 489.43,-339.08 470.04,-324 416.78,-282.58 365.35,-221.97 338.43,-188.17\"/>\n<polygon fill=\"black\" stroke=\"black\" points=\"341.07,-185.86 332.13,-180.18 335.57,-190.2 341.07,-185.86\"/>\n</g>\n<!-- q0[&#39;c&#39;, &#39;b&#39;, &#39;D&#39;] -->\n<g id=\"node16\" class=\"node\">\n<title>q0[&#39;c&#39;, &#39;b&#39;, &#39;D&#39;]</title>\n<ellipse fill=\"none\" stroke=\"black\" cx=\"484.04\" cy=\"-162\" rx=\"73.39\" ry=\"18\"/>\n<text text-anchor=\"middle\" x=\"484.04\" y=\"-158.3\" font-family=\"Times,serif\" font-size=\"14.00\">q0[&#39;c&#39;, &#39;b&#39;, &#39;D&#39;]</text>\n</g>\n<!-- q0[&#39;a&#39;, &#39;c&#39;, &#39;b&#39;]&#45;&gt;q0[&#39;c&#39;, &#39;b&#39;, &#39;D&#39;] -->\n<g id=\"edge15\" class=\"edge\">\n<title>q0[&#39;a&#39;, &#39;c&#39;, &#39;b&#39;]&#45;&gt;q0[&#39;c&#39;, &#39;b&#39;, &#39;D&#39;]</title>\n<path fill=\"none\" stroke=\"black\" d=\"M529.58,-362.44C513.2,-353.86 495.46,-341.25 486.04,-324 463.08,-281.94 469.97,-224 477.04,-190.32\"/>\n<polygon fill=\"black\" stroke=\"black\" points=\"480.51,-190.82 479.3,-180.29 473.68,-189.28 480.51,-190.82\"/>\n</g>\n<!-- q0[&#39;b&#39;, &#39;c&#39;, &#39;b&#39;] -->\n<g id=\"node17\" class=\"node\">\n<title>q0[&#39;b&#39;, &#39;c&#39;, &#39;b&#39;]</title>\n<ellipse fill=\"none\" stroke=\"black\" cx=\"566.04\" cy=\"-234\" rx=\"72.29\" ry=\"18\"/>\n<text text-anchor=\"middle\" x=\"566.04\" y=\"-230.3\" font-family=\"Times,serif\" font-size=\"14.00\">q0[&#39;b&#39;, &#39;c&#39;, &#39;b&#39;]</text>\n</g>\n<!-- q0[&#39;c&#39;, &#39;b&#39;, &#39;c&#39;]&#45;&gt;q0[&#39;b&#39;, &#39;c&#39;, &#39;b&#39;] -->\n<g id=\"edge16\" class=\"edge\">\n<title>q0[&#39;c&#39;, &#39;b&#39;, &#39;c&#39;]&#45;&gt;q0[&#39;b&#39;, &#39;c&#39;, &#39;b&#39;]</title>\n<path fill=\"none\" stroke=\"black\" d=\"M560.17,-288.05C559.35,-280.35 559.1,-271.03 559.44,-262.36\"/>\n<polygon fill=\"black\" stroke=\"black\" points=\"562.94,-262.49 560.13,-252.28 555.95,-262.01 562.94,-262.49\"/>\n</g>\n<!-- q0[&#39;c&#39;, &#39;b&#39;, &#39;d&#39;]&#45;&gt;qr[&#39;*&#39;] -->\n<g id=\"edge30\" class=\"edge\">\n<title>q0[&#39;c&#39;, &#39;b&#39;, &#39;d&#39;]&#45;&gt;qr[&#39;*&#39;]</title>\n<path fill=\"none\" stroke=\"black\" d=\"M594.82,-149.68C530.18,-135.92 422.38,-112.99 362.5,-100.25\"/>\n<polygon fill=\"black\" stroke=\"black\" points=\"363.11,-96.8 352.61,-98.14 361.66,-103.65 363.11,-96.8\"/>\n</g>\n<!-- q0[&#39;c&#39;, &#39;b&#39;, &#39;e&#39;]&#45;&gt;qr[&#39;*&#39;] -->\n<g id=\"edge27\" class=\"edge\">\n<title>q0[&#39;c&#39;, &#39;b&#39;, &#39;e&#39;]&#45;&gt;qr[&#39;*&#39;]</title>\n<path fill=\"none\" stroke=\"black\" d=\"M758.31,-149.51C748.61,-147.54 738.54,-145.61 729.04,-144 597.59,-121.74 441.03,-103.88 365.01,-95.75\"/>\n<polygon fill=\"black\" stroke=\"black\" points=\"365.14,-92.25 354.83,-94.67 364.4,-99.21 365.14,-92.25\"/>\n</g>\n<!-- q0[&#39;c&#39;, &#39;b&#39;, &#39;E&#39;]&#45;&gt;qr[&#39;*&#39;] -->\n<g id=\"edge28\" class=\"edge\">\n<title>q0[&#39;c&#39;, &#39;b&#39;, &#39;E&#39;]&#45;&gt;qr[&#39;*&#39;]</title>\n<path fill=\"none\" stroke=\"black\" d=\"M319.04,-143.7C319.04,-135.98 319.04,-126.71 319.04,-118.11\"/>\n<polygon fill=\"black\" stroke=\"black\" points=\"322.54,-118.1 319.04,-108.1 315.54,-118.1 322.54,-118.1\"/>\n</g>\n<!-- q0[&#39;c&#39;, &#39;b&#39;, &#39;D&#39;]&#45;&gt;qr[&#39;*&#39;] -->\n<g id=\"edge31\" class=\"edge\">\n<title>q0[&#39;c&#39;, &#39;b&#39;, &#39;D&#39;]&#45;&gt;qr[&#39;*&#39;]</title>\n<path fill=\"none\" stroke=\"black\" d=\"M449.05,-146.15C421.55,-134.49 383.36,-118.29 355.49,-106.46\"/>\n<polygon fill=\"black\" stroke=\"black\" points=\"356.67,-103.16 346.1,-102.48 353.94,-109.61 356.67,-103.16\"/>\n</g>\n<!-- q0[&#39;b&#39;, &#39;c&#39;, &#39;b&#39;]&#45;&gt;q0[&#39;c&#39;, &#39;b&#39;, &#39;c&#39;] -->\n<g id=\"edge17\" class=\"edge\">\n<title>q0[&#39;b&#39;, &#39;c&#39;, &#39;b&#39;]&#45;&gt;q0[&#39;c&#39;, &#39;b&#39;, &#39;c&#39;]</title>\n<path fill=\"none\" stroke=\"black\" d=\"M571.96,-252.28C572.76,-260.03 572.98,-269.36 572.63,-278.01\"/>\n<polygon fill=\"black\" stroke=\"black\" points=\"569.14,-277.83 571.92,-288.05 576.12,-278.33 569.14,-277.83\"/>\n</g>\n<!-- q0[&#39;b&#39;, &#39;c&#39;, &#39;b&#39;]&#45;&gt;q0[&#39;c&#39;, &#39;b&#39;, &#39;d&#39;] -->\n<g id=\"edge18\" class=\"edge\">\n<title>q0[&#39;b&#39;, &#39;c&#39;, &#39;b&#39;]&#45;&gt;q0[&#39;c&#39;, &#39;b&#39;, &#39;d&#39;]</title>\n<path fill=\"none\" stroke=\"black\" d=\"M585.48,-216.41C596.1,-207.34 609.42,-195.97 621.03,-186.06\"/>\n<polygon fill=\"black\" stroke=\"black\" points=\"623.42,-188.62 628.75,-179.47 618.87,-183.3 623.42,-188.62\"/>\n</g>\n<!-- q0[&#39;b&#39;, &#39;c&#39;, &#39;b&#39;]&#45;&gt;q0[&#39;c&#39;, &#39;b&#39;, &#39;e&#39;] -->\n<g id=\"edge19\" class=\"edge\">\n<title>q0[&#39;b&#39;, &#39;c&#39;, &#39;b&#39;]&#45;&gt;q0[&#39;c&#39;, &#39;b&#39;, &#39;e&#39;]</title>\n<path fill=\"none\" stroke=\"black\" d=\"M611.65,-219.92C652.22,-208.28 711.64,-191.23 754.87,-178.83\"/>\n<polygon fill=\"black\" stroke=\"black\" points=\"756.01,-182.14 764.66,-176.02 754.08,-175.41 756.01,-182.14\"/>\n</g>\n<!-- q0[&#39;b&#39;, &#39;c&#39;, &#39;b&#39;]&#45;&gt;q0[&#39;c&#39;, &#39;b&#39;, &#39;E&#39;] -->\n<g id=\"edge20\" class=\"edge\">\n<title>q0[&#39;b&#39;, &#39;c&#39;, &#39;b&#39;]&#45;&gt;q0[&#39;c&#39;, &#39;b&#39;, &#39;E&#39;]</title>\n<path fill=\"none\" stroke=\"black\" d=\"M520.16,-220C479.05,-208.35 418.63,-191.22 374.75,-178.79\"/>\n<polygon fill=\"black\" stroke=\"black\" points=\"375.67,-175.41 365.1,-176.05 373.76,-182.15 375.67,-175.41\"/>\n</g>\n<!-- q0[&#39;b&#39;, &#39;c&#39;, &#39;b&#39;]&#45;&gt;q0[&#39;c&#39;, &#39;b&#39;, &#39;D&#39;] -->\n<g id=\"edge21\" class=\"edge\">\n<title>q0[&#39;b&#39;, &#39;c&#39;, &#39;b&#39;]&#45;&gt;q0[&#39;c&#39;, &#39;b&#39;, &#39;D&#39;]</title>\n<path fill=\"none\" stroke=\"black\" d=\"M546.61,-216.41C535.99,-207.34 522.67,-195.97 511.05,-186.06\"/>\n<polygon fill=\"black\" stroke=\"black\" points=\"513.21,-183.3 503.34,-179.47 508.67,-188.62 513.21,-183.3\"/>\n</g>\n<!-- Restart -->\n<g id=\"node19\" class=\"node\">\n<title>Restart</title>\n<ellipse fill=\"none\" stroke=\"black\" cx=\"319.04\" cy=\"-18\" rx=\"45.49\" ry=\"18\"/>\n<text text-anchor=\"middle\" x=\"319.04\" y=\"-14.3\" font-family=\"Times,serif\" font-size=\"14.00\">Restart</text>\n</g>\n<!-- qr[&#39;*&#39;]&#45;&gt;Restart -->\n<g id=\"edge34\" class=\"edge\">\n<title>qr[&#39;*&#39;]&#45;&gt;Restart</title>\n<path fill=\"none\" stroke=\"black\" d=\"M319.04,-71.7C319.04,-63.98 319.04,-54.71 319.04,-46.11\"/>\n<polygon fill=\"black\" stroke=\"black\" points=\"322.54,-46.1 319.04,-36.1 315.54,-46.1 322.54,-46.1\"/>\n</g>\n</g>\n</svg>\n"
     },
     "metadata": {},
     "execution_count": 15
    }
   ],
   "metadata": {}
  },
  {
   "cell_type": "code",
   "execution_count": 19,
   "source": [
    "to_digraph(a)"
   ],
   "outputs": [
    {
     "output_type": "execute_result",
     "data": {
      "text/plain": [
       "(defaultdict(list,\n",
       "             {'Initial': [\"q0['#', 'a', 'c']\",\n",
       "               \"q0['#', '$']\",\n",
       "               \"q0['#', 'a', 'a']\",\n",
       "               \"q0['#', 'a', 'D']\"],\n",
       "              \"q0['#', '$']\": ['Accept'],\n",
       "              \"q0['a', 'a', 'a']\": [\"q0['a', 'a', 'a']\",\n",
       "               \"q0['a', 'a', 'c']\",\n",
       "               \"q0['a', 'a', 'E']\",\n",
       "               \"q0['a', 'a', 'D']\"],\n",
       "              \"q0['a', 'a', 'c']\": [\"q0['a', 'c', 'b']\"],\n",
       "              \"q0['a', 'c', 'b']\": [\"q0['c', 'b', 'c']\",\n",
       "               \"q0['c', 'b', 'd']\",\n",
       "               \"q0['c', 'b', 'e']\",\n",
       "               \"q0['c', 'b', 'E']\",\n",
       "               \"q0['c', 'b', 'D']\"],\n",
       "              \"q0['c', 'b', 'c']\": [\"q0['b', 'c', 'b']\"],\n",
       "              \"q0['b', 'c', 'b']\": [\"q0['c', 'b', 'c']\",\n",
       "               \"q0['c', 'b', 'd']\",\n",
       "               \"q0['c', 'b', 'e']\",\n",
       "               \"q0['c', 'b', 'E']\",\n",
       "               \"q0['c', 'b', 'D']\"],\n",
       "              \"q0['#', 'a', 'c']\": [\"q0['a', 'c', 'b']\"],\n",
       "              \"q0['#', 'a', 'a']\": [\"q0['a', 'a', 'a']\",\n",
       "               \"q0['a', 'a', 'c']\",\n",
       "               \"q0['a', 'a', 'E']\",\n",
       "               \"q0['a', 'a', 'D']\"],\n",
       "              \"q0['c', 'b', 'e']\": [\"qr['*']\"],\n",
       "              \"q0['c', 'b', 'E']\": [\"qr['*']\"],\n",
       "              \"q0['a', 'a', 'E']\": [\"qr['*']\"],\n",
       "              \"q0['c', 'b', 'd']\": [\"qr['*']\"],\n",
       "              \"q0['c', 'b', 'D']\": [\"qr['*']\"],\n",
       "              \"q0['a', 'a', 'D']\": [\"qr['*']\"],\n",
       "              \"q0['#', 'a', 'D']\": [\"qr['*']\"],\n",
       "              \"qr['*']\": ['Restart']}),\n",
       " defaultdict(list,\n",
       "             {\"q0['c', 'b', 'e']\": [{'rewriten_to': ['E'],\n",
       "                'to_state': \"qr['*']\"}],\n",
       "              \"q0['c', 'b', 'E']\": [{'rewriten_to': ['E', 'E'],\n",
       "                'to_state': \"qr['*']\"}],\n",
       "              \"q0['a', 'a', 'E']\": [{'rewriten_to': [],\n",
       "                'to_state': \"qr['*']\"}],\n",
       "              \"q0['c', 'b', 'd']\": [{'rewriten_to': ['D'],\n",
       "                'to_state': \"qr['*']\"}],\n",
       "              \"q0['c', 'b', 'D']\": [{'rewriten_to': ['D', 'D'],\n",
       "                'to_state': \"qr['*']\"}],\n",
       "              \"q0['a', 'a', 'D']\": [{'rewriten_to': ['a'],\n",
       "                'to_state': \"qr['*']\"}],\n",
       "              \"q0['#', 'a', 'D']\": [{'rewriten_to': ['#'],\n",
       "                'to_state': \"qr['*']\"}]}))"
      ]
     },
     "metadata": {},
     "execution_count": 19
    }
   ],
   "metadata": {}
  },
  {
   "cell_type": "code",
   "execution_count": 17,
   "source": [
    "a.instructions"
   ],
   "outputs": [
    {
     "output_type": "execute_result",
     "data": {
      "text/plain": [
       "{'q0': {\"['a', 'a', 'a']\": [['q0', 'MVR']],\n",
       "  \"['a', 'a', 'b']\": [['q0', 'MVR']],\n",
       "  \"['a', 'b', 'b']\": [['q0', 'MVR']],\n",
       "  \"['a', 'b', 'c']\": [['q0', 'MVR']],\n",
       "  \"['b', 'b', 'b']\": [['q0', 'MVR']],\n",
       "  \"['b', 'b', 'c']\": [['q0', 'MVR'], ['qr', \"['C', 'c']\"]],\n",
       "  \"['#', 'c', '$']\": ['Accept'],\n",
       "  \"['#', 'd', '$']\": ['Accept'],\n",
       "  \"['#', 'a', 'b']\": [['q0', 'MVR']],\n",
       "  \"['#', 'a', 'a']\": [['q0', 'MVR']],\n",
       "  \"['b', 'b', 'd']\": [['qr', \"['D', 'd']\"]],\n",
       "  \"['b', 'b', 'D']\": [['qr', \"['D', 'D']\"]],\n",
       "  \"['b', 'b', 'C']\": [['qr', \"['C', 'C']\"]],\n",
       "  \"['a', 'b', 'C']\": [['qr', \"['C']\"]],\n",
       "  \"['a', 'a', 'C']\": [['qr', '[]']],\n",
       "  \"['#', 'a', 'C']\": [['qr', \"['#']\"]],\n",
       "  \"['a', 'a', 'D']\": [['qr', \"['a']\"]],\n",
       "  \"['#', 'a', 'D']\": [['qr', \"['#']\"]]},\n",
       " 'qr': {\"['*']\": ['Restart']}}"
      ]
     },
     "metadata": {},
     "execution_count": 17
    }
   ],
   "metadata": {}
  },
  {
   "cell_type": "code",
   "execution_count": null,
   "source": [
    "def can_restart_with_window(state, window):\n",
    "    pass"
   ],
   "outputs": [],
   "metadata": {}
  },
  {
   "cell_type": "code",
   "execution_count": 55,
   "source": [
    "def can_restart(state):\n",
    "    s = [state]\n",
    "    visited = [state]\n",
    "    possible_states = []\n",
    "    while s:\n",
    "        cur_state = s.pop()\n",
    "        for window in a.instructions[cur_state]:\n",
    "            for right_side in a.instructions[cur_state][window]:\n",
    "                if right_side == \"Accept\": continue\n",
    "                if right_side == \"Restart\":\n",
    "                    return True\n",
    "                if right_side[0] not in visited:\n",
    "                    possible_states.append(right_side[0])\n",
    "                    visited.append(right_side[0])\n",
    "                    s.append(right_side[0])\n",
    "    return False"
   ],
   "outputs": [],
   "metadata": {}
  },
  {
   "cell_type": "code",
   "execution_count": 56,
   "source": [
    "# a.instructions\n",
    "can_restart(\"q0\")"
   ],
   "outputs": [
    {
     "output_type": "execute_result",
     "data": {
      "text/plain": [
       "True"
      ]
     },
     "metadata": {},
     "execution_count": 56
    }
   ],
   "metadata": {}
  },
  {
   "cell_type": "code",
   "execution_count": 5,
   "source": [
    "a.evaluate(\"#aabbc$\")"
   ],
   "outputs": [
    {
     "output_type": "stream",
     "name": "stdout",
     "text": [
      "['#', 'a', 'a', 'b', 'b', 'c', '$']\n"
     ]
    },
    {
     "output_type": "execute_result",
     "data": {
      "text/plain": [
       "False"
      ]
     },
     "metadata": {},
     "execution_count": 5
    }
   ],
   "metadata": {}
  },
  {
   "cell_type": "code",
   "execution_count": 15,
   "source": [
    "a.instructions"
   ],
   "outputs": [
    {
     "output_type": "execute_result",
     "data": {
      "text/plain": [
       "{'q0': {\"['a', 'a', 'a']\": [['q0', 'MVR']],\n",
       "  \"['a', 'a', 'b']\": [['q0', 'MVR']],\n",
       "  \"['a', 'b', 'b']\": [['q0', 'MVR']],\n",
       "  \"['a', 'b', 'c']\": [['q0', 'MVR']],\n",
       "  \"['b', 'b', 'b']\": [['q0', 'MVR']],\n",
       "  \"['b', 'b', 'c']\": [['q0', 'MVR']],\n",
       "  \"['b', 'b', 'd']\": [['q0', 'MVR']],\n",
       "  \"['#', 'c', '$']\": ['Accept'],\n",
       "  \"['#', 'd', '$']\": ['Accept'],\n",
       "  \"['#', 'a', 'b']\": [['q0', 'MVR']],\n",
       "  \"['#', 'a', 'a']\": [['q0', 'MVR']],\n",
       "  \"['b', 'c', '$']\": [['qc', 'MVL']],\n",
       "  \"['b', 'd', '$']\": [['qd', 'MVL']]},\n",
       " 'qr': {\"['*']\": ['Restart']},\n",
       " 'qc': {\"['a', 'b', 'c']\": [['qr', \"['c']\"]],\n",
       "  \"['b', 'b', 'c']\": [['qc', 'MVL']],\n",
       "  \"['b', 'b', 'b']\": [['qc', 'MVL']],\n",
       "  \"['a', 'b', 'b']\": [['qr', \"['b']\"]]},\n",
       " 'qd': {\"['b', 'b', 'd']\": [['qd', 'MVL']],\n",
       "  \"['b', 'b', 'b']\": [['qd', 'MVL']],\n",
       "  \"['a', 'b', 'b']\": [['qr', '[]']]}}"
      ]
     },
     "metadata": {},
     "execution_count": 15
    }
   ],
   "metadata": {}
  },
  {
   "cell_type": "code",
   "execution_count": 14,
   "source": [
    "a.starting_position = 0\n",
    "a.size_of_window = 3\n",
    "a.initial_state = \"q0\"\n",
    "a.add_to_alphabet(\"a\", \"b\", \"c\", \"d\")\n",
    "\n",
    "for i in [\"aaa\", \"aab\", \"abb\", \"abc\", \"bbb\", \"bbc\", \"bbd\"]:\n",
    "    a.add_instr(\"q0\", i, \"q0\", \"MVR\")\n",
    "\n",
    "a.add_one_instr(\"q0\", \"#c$\", \"Accept\")\n",
    "a.add_one_instr(\"q0\", \"#d$\", \"Accept\")\n",
    "\n",
    "a.add_instr(\"q0\", \"#ab\", \"q0\", \"MVR\")\n",
    "a.add_instr(\"q0\", \"#aa\", \"q0\", \"MVR\")\n",
    "a.add_instr(\"q0\", \"bc$\", \"qc\", \"MVL\")\n",
    "a.add_instr(\"q0\", \"bd$\", \"qd\", \"MVL\")\n",
    "\n",
    "a.add_one_instr(\"qr\", \"*\", \"Restart\")\n",
    "\n",
    "a.add_instr(\"qc\", \"abc\", \"qr\", \"c\")\n",
    "a.add_instr(\"qc\", \"bbc\", \"qc\", \"MVL\")\n",
    "a.add_instr(\"qc\", \"bbb\", \"qc\", \"MVL\")\n",
    "a.add_instr(\"qc\", \"abb\", \"qr\", \"b\")\n",
    "a.add_instr(\"qd\", \"bbd\", \"qd\", \"MVL\")\n",
    "a.add_instr(\"qd\", \"bbb\", \"qd\", \"MVL\")\n",
    "a.add_instr(\"qd\", \"abb\", \"qr\", \"[]\")"
   ],
   "outputs": [],
   "metadata": {}
  },
  {
   "cell_type": "code",
   "execution_count": 16,
   "source": [
    "for i in a.instructions.keys():\n",
    "    for w in a.instructions[i]:\n",
    "        print(a.instructions[i][w])"
   ],
   "outputs": [
    {
     "output_type": "stream",
     "name": "stdout",
     "text": [
      "[['q0', 'MVR']]\n",
      "[['q0', 'MVR']]\n",
      "[['q0', 'MVR']]\n",
      "[['q0', 'MVR']]\n",
      "[['q0', 'MVR']]\n",
      "[['q0', 'MVR']]\n",
      "[['q0', 'MVR']]\n",
      "['Accept']\n",
      "['Accept']\n",
      "[['q0', 'MVR']]\n",
      "[['q0', 'MVR']]\n",
      "[['qc', 'MVL']]\n",
      "[['qd', 'MVL']]\n",
      "['Restart']\n",
      "[['qr', \"['c']\"]]\n",
      "[['qc', 'MVL']]\n",
      "[['qc', 'MVL']]\n",
      "[['qr', \"['b']\"]]\n",
      "[['qd', 'MVL']]\n",
      "[['qd', 'MVL']]\n",
      "[['qr', '[]']]\n"
     ]
    }
   ],
   "metadata": {}
  },
  {
   "cell_type": "code",
   "execution_count": 17,
   "source": [
    "a.evaluate(\"#aaabbbc$\")"
   ],
   "outputs": [
    {
     "output_type": "stream",
     "name": "stdout",
     "text": [
      "['#', 'a', 'a', 'a', 'b', 'b', 'b', 'c', '$']\n",
      "remaining tuples = []\n",
      "number of copies of text = 4\n",
      "(#, a, a), a, b, b, b, c, $ | state: q0\n",
      "#, (a, a, a), b, b, b, c, $ | state: q0\n",
      "#, a, (a, a, b), b, b, c, $ | state: q0\n",
      "#, a, a, (a, b, b), b, c, $ | state: q0\n",
      "#, a, a, a, (b, b, b), c, $ | state: q0\n",
      "#, a, a, a, b, (b, b, c), $ | state: q0\n",
      "#, a, a, a, b, b, (b, c, $) | state: q0\n",
      "#, a, a, a, b, (b, b, c), $ | state: qc\n",
      "#, a, a, a, (b, b, b), c, $ | state: qc\n",
      "#, a, a, (a, b, b), b, c, $ | state: qc\n",
      "#, a, a, (b, b, c), $ | state: qr | ['a', 'b', 'b'] --> ['b']\n",
      "(#, a, a), b, b, c, $ | state: q0\n",
      "#, (a, a, b), b, c, $ | state: q0\n",
      "#, a, (a, b, b), c, $ | state: q0\n",
      "#, a, a, (b, b, c), $ | state: q0\n",
      "#, a, a, b, (b, c, $) | state: q0\n",
      "#, a, a, (b, b, c), $ | state: qc\n",
      "#, a, (a, b, b), c, $ | state: qc\n",
      "#, a, (b, c, $) | state: qr | ['a', 'b', 'b'] --> ['b']\n",
      "(#, a, b), c, $ | state: q0\n",
      "#, (a, b, c), $ | state: q0\n",
      "#, a, (b, c, $) | state: q0\n",
      "#, (a, b, c), $ | state: qc\n",
      "#, (c, $) | state: qr | ['a', 'b', 'c'] --> ['c']\n",
      "(#, c, $) | state: q0\n"
     ]
    },
    {
     "output_type": "execute_result",
     "data": {
      "text/plain": [
       "True"
      ]
     },
     "metadata": {},
     "execution_count": 17
    }
   ],
   "metadata": {}
  },
  {
   "cell_type": "code",
   "execution_count": 5,
   "source": [
    "a.instructions"
   ],
   "outputs": [
    {
     "output_type": "execute_result",
     "data": {
      "text/plain": [
       "{'q0': {\"['a', 'a', 'a']\": [['q0', 'MVR']],\n",
       "  \"['a', 'a', 'b']\": [['q0', 'MVR']],\n",
       "  \"['a', 'b', 'b']\": [['q0', 'MVR']],\n",
       "  \"['a', 'b', 'c']\": [['q0', 'MVR']],\n",
       "  \"['b', 'b', 'b']\": [['q0', 'MVR']],\n",
       "  \"['b', 'b', 'c']\": [['q0', 'MVR']],\n",
       "  \"['b', 'b', 'd']\": [['q0', 'MVR']],\n",
       "  \"['#', 'c', '$']\": ['Accept'],\n",
       "  \"['#', 'd', '$']\": ['Accept'],\n",
       "  \"['#', 'a', 'b']\": [['q0', 'MVR']],\n",
       "  \"['#', 'a', 'a']\": [['q0', 'MVR']],\n",
       "  \"['b', 'c', '$']\": [['qc', 'MVL']],\n",
       "  \"['b', 'd', '$']\": [['qd', 'MVL']]},\n",
       " 'qr': {\"['*']\": ['Restart']},\n",
       " 'qc': {\"['a', 'b', 'c']\": [['qr', \"['c']\"]],\n",
       "  \"['b', 'b', 'c']\": [['qc', 'MVL']],\n",
       "  \"['b', 'b', 'b']\": [['qc', 'MVL']],\n",
       "  \"['a', 'b', 'b']\": [['qr', \"['b']\"]]},\n",
       " 'qd': {\"['b', 'b', 'd']\": [['qd', 'MVL']],\n",
       "  \"['b', 'b', 'b']\": [['qd', 'MVL']],\n",
       "  \"['a', 'b', 'b']\": [['qr', '[]']]}}"
      ]
     },
     "metadata": {},
     "execution_count": 5
    }
   ],
   "metadata": {}
  },
  {
   "cell_type": "code",
   "execution_count": 6,
   "source": [
    "a = Automaton(file=\"../0n1n.txt\")"
   ],
   "outputs": [],
   "metadata": {}
  },
  {
   "cell_type": "code",
   "execution_count": 11,
   "source": [
    "a.evaluate(\"#000111$\")"
   ],
   "outputs": [
    {
     "output_type": "stream",
     "name": "stdout",
     "text": [
      "['#', '0', '0', '0', '1', '1', '1', '$']\n",
      "remaining tuples = []\n",
      "number of copies of text = 3\n",
      "(#, 0, 0, 0), 1, 1, 1, $ | state: q0\n",
      "#, (0, 0, 0, 1), 1, 1, $ | state: q0\n",
      "#, 0, (0, 0, 1, 1), 1, $ | state: q0\n",
      "#, 0, (0, 1, 1, $) | state: qr | ['0', '0', '1', '1'] --> ['0', '1']\n",
      "(#, 0, 0, 1), 1, $ | state: q0\n",
      "#, (0, 0, 1, 1), $ | state: q0\n",
      "#, (0, 1, $) | state: qr | ['0', '0', '1', '1'] --> ['0', '1']\n",
      "(#, 0, 1, $) | state: q0\n"
     ]
    },
    {
     "output_type": "execute_result",
     "data": {
      "text/plain": [
       "True"
      ]
     },
     "metadata": {},
     "execution_count": 11
    }
   ],
   "metadata": {}
  },
  {
   "cell_type": "code",
   "execution_count": 10,
   "source": [
    "a.logs"
   ],
   "outputs": [
    {
     "output_type": "execute_result",
     "data": {
      "text/plain": [
       "\"['#', '0', '0', '0', '1', '1', '1', '$']\\nremaining tuples = []\\nnumber of copies of text = 3\\n(#, 0, 0, 0), 1, 1, 1, $ | state: q0\\n#, (0, 0, 0, 1), 1, 1, $ | state: q0\\n#, 0, (0, 0, 1, 1), 1, $ | state: q0\\n#, 0, (0, 1, 1, $) | state: qr | ['0', '0', '1', '1'] --> ['0', '1']\\n(#, 0, 0, 1), 1, $ | state: q0\\n#, (0, 0, 1, 1), $ | state: q0\\n#, (0, 1, $) | state: qr | ['0', '0', '1', '1'] --> ['0', '1']\\n(#, 0, 1, $) | state: q0\\n['#', '0', '0', '0', '1', '1', '1', '$']\\nremaining tuples = []\\nnumber of copies of text = 3\\n(#, 0, 0, 1), 1, $ | state: q0\\n(#, 0, 1, $) | state: q0\\n\""
      ]
     },
     "metadata": {},
     "execution_count": 10
    }
   ],
   "metadata": {}
  }
 ],
 "metadata": {
  "interpreter": {
   "hash": "d47defed22da33e0314abd5582877298266e5691cc62839a5a7dae1d6cc5ac5c"
  },
  "kernelspec": {
   "display_name": "Python 3.8.5 64-bit ('base': conda)",
   "name": "python3"
  },
  "language_info": {
   "codemirror_mode": {
    "name": "ipython",
    "version": 3
   },
   "file_extension": ".py",
   "mimetype": "text/x-python",
   "name": "python",
   "nbconvert_exporter": "python",
   "pygments_lexer": "ipython3",
   "version": "3.8.5"
  },
  "metadata": {
   "interpreter": {
    "hash": "d47defed22da33e0314abd5582877298266e5691cc62839a5a7dae1d6cc5ac5c"
   }
  },
  "orig_nbformat": 2
 },
 "nbformat": 4,
 "nbformat_minor": 2
}