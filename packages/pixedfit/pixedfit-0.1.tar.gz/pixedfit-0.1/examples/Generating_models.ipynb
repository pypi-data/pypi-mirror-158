{
 "cells": [
  {
   "cell_type": "markdown",
   "metadata": {},
   "source": [
    "# Generating model spectra at rest-frame\n",
    "\n",
    "<font size=\"4\"> piXedfit uses FSPS for modeling the SED of galaxies. With the Python bindings via Python-FSPS, generating model SEDs can be done on the fly in the SED fitting. However, some tasks require a generation of model spectra in a fast pace that is difficult to achieve via the real time calculations. These tasks include generation of model SEDs for reference in the spectral matching between the Imaging and IFS data, SED fitting with the random dense sampling of parameter space (RDSPS), and initial fitting (i.e., burning up) before running SED fitting with MCMC method (note that the MCMC fitting uses on-the-fly generation of model SEDs). \n",
    "\n",
    "For that reason, piXedfit provides an option for generating a set of model spectra (in a rest-frame) prior to the analyses. The models are stored in the HDF5 format. The model spectra can be generated using function `piXedfit.piXedfit_model.save_models_rest_spec`. Please see the API reference for more information about this function. In practice, user only need to generate this set of models once, then these models can be used for various further analyses to multiple galaxies.\n",
    "</font>"
   ]
  },
  {
   "cell_type": "code",
   "execution_count": 1,
   "metadata": {},
   "outputs": [],
   "source": [
    "import numpy as np\n",
    "from astropy.io import fits\n",
    "import os, sys\n",
    "import matplotlib.pyplot as plt\n",
    "\n",
    "global PIXEDFIT_HOME\n",
    "PIXEDFIT_HOME = os.environ['PIXEDFIT_HOME']\n",
    "sys.path.insert(0, PIXEDFIT_HOME)\n",
    "\n",
    "%matplotlib inline"
   ]
  },
  {
   "cell_type": "markdown",
   "metadata": {},
   "source": [
    "<font size=\"4\"> Below is an example of script that can be used for generating model spectra at rest-frame. These models are generated with the fllowing configurations: Chabrier (2003) initial mass function (IMF), double power-law star formation history (SFH), two-components dust attenuation model of Charlot & Fall (2000), switched off dust emission, switched on nebular emission, and switched off AGN dusty torus emission. This script will produce 100000 models and the calculations are divided into 20 cores.\n",
    "</font>"
   ]
  },
  {
   "cell_type": "code",
   "execution_count": null,
   "metadata": {},
   "outputs": [],
   "source": [
    "from piXedfit.piXedfit_model import save_models_rest_spec\n",
    "\n",
    "imf_type = 1                    # Chabrier (2003)\n",
    "sfh_form = 4                    # double power law SFH form\n",
    "dust_law = 0                    # Charlot & Fall (2000) dust attenuation law\n",
    "duste_switch = 0                # turn off dust emission\n",
    "add_neb_emission = 1            # turn on nebular emission\n",
    "add_agn = 0                     # turn off AGN dusty torus emission\n",
    "\n",
    "nmodels = 100000                # number of model spectra to be generated\n",
    "nproc = 10                      # number of processors to be used in the calculation\n",
    "\n",
    "name_out = 'model_rest_spec.hdf5'       # name of the output HDF5 file\n",
    "save_models_rest_spec(imf_type=imf_type, sfh_form=sfh_form, dust_ext_law=dust_ext_law,\n",
    "                        duste_switch=duste_switch, add_neb_emission=add_neb_emission,\n",
    "                        add_agn=add_agn,nmodels=nmodels,nproc=nproc, name_out=name_out)"
   ]
  },
  {
   "cell_type": "code",
   "execution_count": null,
   "metadata": {},
   "outputs": [],
   "source": []
  }
 ],
 "metadata": {
  "kernelspec": {
   "display_name": "Python 3",
   "language": "python",
   "name": "python3"
  },
  "language_info": {
   "codemirror_mode": {
    "name": "ipython",
    "version": 3
   },
   "file_extension": ".py",
   "mimetype": "text/x-python",
   "name": "python",
   "nbconvert_exporter": "python",
   "pygments_lexer": "ipython3",
   "version": "3.6.10"
  }
 },
 "nbformat": 4,
 "nbformat_minor": 4
}
