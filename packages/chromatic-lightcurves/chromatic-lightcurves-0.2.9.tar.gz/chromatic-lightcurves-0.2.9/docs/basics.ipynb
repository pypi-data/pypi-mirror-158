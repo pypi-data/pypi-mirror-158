{
 "cells": [
  {
   "cell_type": "markdown",
   "metadata": {},
   "source": [
    "# Basics of 🌈 Objects\n",
    "\n",
    "The core object is a `Rainbow`. Continually saying or typing “spectroscopic light curve” can get tiring, so we chose \"rainbow\" as a shorter name that is a little nicer to say/type. Also, every emphemeral 🌈 in nature is itself an expression of brightness as a function of wavelength and of time, so it hopefully kind of makes sense as a name!"
   ]
  },
  {
   "cell_type": "code",
   "execution_count": null,
   "metadata": {},
   "outputs": [],
   "source": [
    "from chromatic import *"
   ]
  },
  {
   "cell_type": "markdown",
   "metadata": {},
   "source": [
    "## What do you see from the outside? "
   ]
  },
  {
   "cell_type": "markdown",
   "metadata": {},
   "source": [
    "To users on the outside, all `Rainbow` objects will be guaranteed to have a few key properties. We'll make a simple simulated example to show what those are."
   ]
  },
  {
   "cell_type": "code",
   "execution_count": null,
   "metadata": {},
   "outputs": [],
   "source": [
    "# create a simulated spectroscopic light curve\n",
    "r = SimulatedRainbow().inject_noise()"
   ]
  },
  {
   "cell_type": "markdown",
   "metadata": {},
   "source": [
    "The **wavelength** property is a 1D array containing the wavelengths associated with the flux array, which can be accessed simply as `.wavelength`. It is a an `astropy` [Quantity](https://docs.astropy.org/en/stable/units/quantity.html), with units of wavelength associated with it."
   ]
  },
  {
   "cell_type": "code",
   "execution_count": null,
   "metadata": {},
   "outputs": [],
   "source": [
    "# access the 1D array of wavelengths\n",
    "print(f\"The {r.nwave} wavelengths...\")\n",
    "print(f\"  have a shape of {r.wavelength.shape},\")\n",
    "print(f\"  a type of {type(r.wavelength)},\")\n",
    "print(f\"  units of {r.wavelength.unit}, and\")\n",
    "print(f\"  a dtype of {r.wavelength.dtype}\")"
   ]
  },
  {
   "cell_type": "markdown",
   "metadata": {},
   "source": [
    "The **time** property is a 1D array containing the time associated with the flux array, which can be accessed simply as `.time`. It is a an `astropy` [Quantity](https://docs.astropy.org/en/stable/units/quantity.html), with units of time associated with it. *(Watch out! At some point we may switch it over to being an actual astropy `Time` object.)*"
   ]
  },
  {
   "cell_type": "code",
   "execution_count": null,
   "metadata": {},
   "outputs": [],
   "source": [
    "# access the 1D array of times\n",
    "print(f\"The {r.ntime} times...\")\n",
    "print(f\"  have a shape of {r.time.shape},\")\n",
    "print(f\"  a type of {type(r.time)},\")\n",
    "print(f\"  units of {r.time.unit}, and\")\n",
    "print(f\"  a dtype of {r.time.dtype}\")"
   ]
  },
  {
   "cell_type": "markdown",
   "metadata": {},
   "source": [
    "The **flux** property is a 2D array containing the flux associated with each combination of wavelength (row, axis 0) and time (column, axis 1), which can be accessed simply as `.flux`. It is unitless, and is generally meant to represent relative changes in flux, with values typically close to 1. *(Watch out! At some point we might let the fluxes have more general units -- photons, W/m$^2$/nm, MJy/sr -- ).*"
   ]
  },
  {
   "cell_type": "code",
   "execution_count": null,
   "metadata": {},
   "outputs": [],
   "source": [
    "# access the 2D array of fluxes\n",
    "print(f\"The {r.nflux} fluxes...\")\n",
    "print(f\"  have a shape of {r.flux.shape},\")\n",
    "print(f\"  a type of {type(r.flux)},\")\n",
    "print(f\"  a dtype of {r.flux.dtype}\")"
   ]
  },
  {
   "cell_type": "markdown",
   "metadata": {},
   "source": [
    "The **uncertainty** property is a 2D array containing the uncertainty associated with each flux point, which can be accessed as `s.uncertainty`. It should have the same units and scale as `flux`, whatever those are. "
   ]
  },
  {
   "cell_type": "code",
   "execution_count": null,
   "metadata": {},
   "outputs": [],
   "source": [
    "# access the 2D array of times\n",
    "print(f\"The {r.nflux} uncertainties...\")\n",
    "print(f\"  have a shape of {r.uncertainty.shape},\")\n",
    "print(f\"  a type of {type(r.uncertainty)},\")\n",
    "print(f\"  a dtype of {r.uncertainty.dtype}\")"
   ]
  },
  {
   "cell_type": "markdown",
   "metadata": {},
   "source": [
    "The **ok** property is a 2D array indicating whether a particular flux data point is good (`True`) or bad (`False`). It's a place to keep track of what data should be ignored when fitting or visualizing. "
   ]
  },
  {
   "cell_type": "code",
   "execution_count": null,
   "metadata": {},
   "outputs": [],
   "source": [
    "# access the 2D array of times\n",
    "print(f\"The {r.nflux} `ok` mask values...\")\n",
    "print(f\"  have a shape of {r.ok.shape},\")\n",
    "print(f\"  a type of {type(r.ok)},\")\n",
    "print(f\"  a dtype of {r.ok.dtype}\")"
   ]
  }
 ],
 "metadata": {
  "kernelspec": {
   "display_name": "Python 3",
   "language": "python",
   "name": "python3"
  },
  "language_info": {
   "codemirror_mode": {
    "name": "ipython",
    "version": 3
   },
   "file_extension": ".py",
   "mimetype": "text/x-python",
   "name": "python",
   "nbconvert_exporter": "python",
   "pygments_lexer": "ipython3",
   "version": "3.9.12"
  }
 },
 "nbformat": 4,
 "nbformat_minor": 4
}
