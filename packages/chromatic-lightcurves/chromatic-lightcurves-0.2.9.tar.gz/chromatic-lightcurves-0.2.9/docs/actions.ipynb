{
 "cells": [
  {
   "cell_type": "markdown",
   "metadata": {},
   "source": [
    "# 🌈 Actions"
   ]
  },
  {
   "cell_type": "markdown",
   "metadata": {},
   "source": [
    "There are number of methods or actions that any `Rainbow` object can do. By learning the vocabulary of just a few of these methods, you can build up some fairly complicated stories for working with data. In general, most of these actions return a `Rainbow` object that has been modified in one way or another, so you can keep adding actions after actions after actions. To show how these work, we'll create a simulated rainbow object and try a few:"
   ]
  },
  {
   "cell_type": "code",
   "execution_count": null,
   "metadata": {},
   "outputs": [],
   "source": [
    "from chromatic import *"
   ]
  },
  {
   "cell_type": "code",
   "execution_count": null,
   "metadata": {},
   "outputs": [],
   "source": [
    "r = SimulatedRainbow(R=100, dt=1 * u.minute).inject_transit().inject_noise()"
   ]
  },
  {
   "cell_type": "markdown",
   "metadata": {},
   "source": [
    "## `🌈.bin()`\n",
    "While we should generally try to avoid fitting to binned data when possible, there will often be times where it's helpful to bin to particular grid of wavelengths and/or times. You can do this using the `.bin()` function. We'll create a simulated rainbow object and use it to show how this works."
   ]
  },
  {
   "cell_type": "code",
   "execution_count": null,
   "metadata": {},
   "outputs": [],
   "source": [
    "def summarize(x):\n",
    "    print(\n",
    "        f\"\"\"\n",
    "    {x} is a {type(x).__name__}.\n",
    "    It has a {x.nwave} wavelengths and {x.ntime} times. \n",
    "\n",
    "    Its 5 first wavelengths:{np.round(x.wavelength[:5], 2)}\n",
    "    Its 5 first times:{np.round(x.time[:5].to('hour'), 2)}\n",
    "    \"\"\"\n",
    "    )"
   ]
  },
  {
   "cell_type": "code",
   "execution_count": null,
   "metadata": {},
   "outputs": [],
   "source": [
    "summarize(r)"
   ]
  },
  {
   "cell_type": "markdown",
   "metadata": {},
   "source": [
    "To bin in **wavelength**, it can take the following inputs:\n",
    "- `dw=` to bin in wavelength to a particular $d\\lambda$ width. This will create a linear grid in wavelength.\n",
    "- `R=` to bin in wavelength to particular $R = \\lambda/d\\lambda$. This will create a logarithmic grid in wavelength.\n",
    "- `wavelength=` to bin to any custom wavelength grid specified by its centers; the edges will be guessed from the spacing between these edges. \n",
    "- `wavelength_edges=` to bin to any custom wavelength grid specified by its edges; the centers will be guessed as the midpoints between these edges. (The number of binned wavelengths will be 1 fewer than the number of edges.)\n",
    "- `nwavelengths=` to bin by a fixed number of adjacent wavelengths (as in \"bin every N wavelengths together\"), starting from the first wavelength. "
   ]
  },
  {
   "cell_type": "code",
   "execution_count": null,
   "metadata": {},
   "outputs": [],
   "source": [
    "b = r.bin(dw=0.5 * u.micron)\n",
    "summarize(b)"
   ]
  },
  {
   "cell_type": "code",
   "execution_count": null,
   "metadata": {},
   "outputs": [],
   "source": [
    "b = r.bin(R=10)\n",
    "summarize(b)"
   ]
  },
  {
   "cell_type": "code",
   "execution_count": null,
   "metadata": {},
   "outputs": [],
   "source": [
    "b = r.bin(wavelength=np.linspace(1, 2, 6) * u.micron)\n",
    "summarize(b)"
   ]
  },
  {
   "cell_type": "code",
   "execution_count": null,
   "metadata": {},
   "outputs": [],
   "source": [
    "b = r.bin(wavelength_edges=np.linspace(1, 2, 6) * u.micron)\n",
    "summarize(b)"
   ]
  },
  {
   "cell_type": "code",
   "execution_count": null,
   "metadata": {},
   "outputs": [],
   "source": [
    "b = r.bin(nwavelengths=10)\n",
    "summarize(b)"
   ]
  },
  {
   "cell_type": "markdown",
   "metadata": {},
   "source": [
    "To bin in **time**, it can take the following inputs:\n",
    "- `dt=` to bin in time to a particular $dt$ width. This will create a linear grid in time.\n",
    "- `time=` to bin to any custom time grid specified by its centers; the edges will be guessed from the spacing between these edges. \n",
    "- `time_edges=` to bin to any custom time grid specified by its edges; the centers will be guessed as the midpoints between these edges. (The number of binned times will be 1 fewer than the number of edges.)\n",
    "- `ntimes=` to bin by a fixed number of adjacent times (as in \"bin every N times together\"), starting from the first time. "
   ]
  },
  {
   "cell_type": "code",
   "execution_count": null,
   "metadata": {},
   "outputs": [],
   "source": [
    "b = r.bin(dt=0.25 * u.hour)\n",
    "summarize(b)"
   ]
  },
  {
   "cell_type": "code",
   "execution_count": null,
   "metadata": {},
   "outputs": [],
   "source": [
    "b = r.bin(time=np.linspace(-1, 1, 6) * u.hour)\n",
    "summarize(b)"
   ]
  },
  {
   "cell_type": "code",
   "execution_count": null,
   "metadata": {},
   "outputs": [],
   "source": [
    "b = r.bin(time_edges=np.linspace(-1, 1, 6) * u.hour)\n",
    "summarize(b)"
   ]
  },
  {
   "cell_type": "code",
   "execution_count": null,
   "metadata": {},
   "outputs": [],
   "source": [
    "b = r.bin(ntimes=10)\n",
    "summarize(b)"
   ]
  },
  {
   "cell_type": "markdown",
   "metadata": {},
   "source": [
    "And of course, you can combine to bin in both wavelength and time in the same step."
   ]
  },
  {
   "cell_type": "code",
   "execution_count": null,
   "metadata": {},
   "outputs": [],
   "source": [
    "b = r.bin(dw=100 * u.nm, dt=10 * u.minute)\n",
    "summarize(b)"
   ]
  },
  {
   "cell_type": "code",
   "execution_count": null,
   "metadata": {},
   "outputs": [],
   "source": [
    "fi, ax = plt.subplots(1, 2, sharex=True, figsize=(8, 3), constrained_layout=True)\n",
    "r.imshow(ax=ax[0], vmin=0.98, vmax=1.02)\n",
    "plt.title(\"Unbinned\")\n",
    "plt.xlabel(\"\")\n",
    "b.imshow(ax=ax[1], vmin=0.98, vmax=1.02)\n",
    "plt.title(\"Binned\");"
   ]
  },
  {
   "cell_type": "markdown",
   "metadata": {},
   "source": [
    "## `🌈.normalize()`\n",
    "If you're starting in units of photons detected at your telescope per wavelength, you may want to normalize a Rainbow by dividing through by its median spectrum. That's all that the `.normalize()` action does. "
   ]
  },
  {
   "cell_type": "code",
   "execution_count": null,
   "metadata": {},
   "outputs": [],
   "source": [
    "r.normalize().imshow();"
   ]
  },
  {
   "cell_type": "markdown",
   "metadata": {},
   "source": [
    "In some cases, you might also be curious to divide by the median light curve, to look for small variations away from the overall transit shape. You can customize whether you want to normalize in wavelength or time by suppyling the `axis=` keyword when you call the `.normalize()` function. (It defaults to `axis='wavelength'`.)"
   ]
  },
  {
   "cell_type": "code",
   "execution_count": null,
   "metadata": {},
   "outputs": [],
   "source": [
    "r.normalize(axis=\"time\").imshow();"
   ]
  },
  {
   "cell_type": "markdown",
   "metadata": {},
   "source": [
    "(In this case, there were not transit depth or limb-darkening variations injected into the simulated transit, so normalizing through time entirely erases any hint of the transit.)"
   ]
  },
  {
   "cell_type": "markdown",
   "metadata": {},
   "source": [
    "## `🌈.inject_noise()`"
   ]
  },
  {
   "cell_type": "markdown",
   "metadata": {},
   "source": [
    "We can inject noise, for example to simulate the observing the same system at a greater distance or with a smaller telescope. The simplest way to set the noise level is with the `signal_to_noise` keyword argument."
   ]
  },
  {
   "cell_type": "code",
   "execution_count": null,
   "metadata": {},
   "outputs": [],
   "source": [
    "with_noise = SimulatedRainbow().inject_noise()\n",
    "with_noise.imshow();"
   ]
  },
  {
   "cell_type": "markdown",
   "metadata": {},
   "source": [
    "## `🌈.inject_transit()`"
   ]
  },
  {
   "cell_type": "markdown",
   "metadata": {},
   "source": [
    "For simulations, it's really useful to have a way to inject a simulated transit into a chromatic light curve. We've already seen this function in action above. "
   ]
  },
  {
   "cell_type": "code",
   "execution_count": null,
   "metadata": {},
   "outputs": [],
   "source": [
    "with_transit = SimulatedRainbow().inject_transit()\n",
    "with_transit.imshow();"
   ]
  },
  {
   "cell_type": "markdown",
   "metadata": {},
   "source": [
    "You can customize some of the model parameters. See the docstring for more details, but the most basic would be to provide an array of planet radii corresponding to each wavelength."
   ]
  },
  {
   "cell_type": "code",
   "execution_count": null,
   "metadata": {},
   "outputs": [],
   "source": [
    "s = SimulatedRainbow()\n",
    "with_transit = s.inject_transit(planet_radius=np.linspace(0.2, 0.1, s.nwave))\n",
    "with_transit.imshow();"
   ]
  },
  {
   "cell_type": "markdown",
   "metadata": {},
   "source": [
    "## `🌈.inject_systematics()`"
   ]
  },
  {
   "cell_type": "markdown",
   "metadata": {},
   "source": [
    "High-precision observations of transiting exoplanet often encounter systematic noise sources that are correlated in complicated ways in time or wavelength or with various hidden quantities. You can inject a cartoon version of these systematics (a linear combination of real or imagined time-like, wave-like, and/or flux-like quantities). See its docstring for details."
   ]
  },
  {
   "cell_type": "code",
   "execution_count": null,
   "metadata": {},
   "outputs": [],
   "source": [
    "with_systematics = SimulatedRainbow().inject_systematics()\n",
    "with_systematics.imshow();"
   ]
  },
  {
   "cell_type": "markdown",
   "metadata": {},
   "source": [
    "Of course, these commands can be linked together to create a semi-realistic transit dataset."
   ]
  },
  {
   "cell_type": "code",
   "execution_count": null,
   "metadata": {},
   "outputs": [],
   "source": [
    "(SimulatedRainbow().inject_transit().inject_systematics().inject_noise().imshow());"
   ]
  },
  {
   "cell_type": "markdown",
   "metadata": {},
   "source": [
    "## `🌈 + 🌈`\n",
    "\n",
    "You can perform mathematical operations on Rainbow objects. For now, this effectively just does math on the flux arrays. "
   ]
  },
  {
   "cell_type": "code",
   "execution_count": null,
   "metadata": {},
   "outputs": [],
   "source": [
    "a = SimulatedRainbow().inject_noise()\n",
    "b = SimulatedRainbow().inject_noise()"
   ]
  },
  {
   "cell_type": "code",
   "execution_count": null,
   "metadata": {},
   "outputs": [],
   "source": [
    "(a + b).imshow();"
   ]
  },
  {
   "cell_type": "code",
   "execution_count": null,
   "metadata": {},
   "outputs": [],
   "source": [
    "(a - b).imshow();"
   ]
  },
  {
   "cell_type": "code",
   "execution_count": null,
   "metadata": {},
   "outputs": [],
   "source": [
    "(a * b).imshow();"
   ]
  },
  {
   "cell_type": "code",
   "execution_count": null,
   "metadata": {},
   "outputs": [],
   "source": [
    "(a / b).imshow();"
   ]
  },
  {
   "cell_type": "markdown",
   "metadata": {},
   "source": [
    "## `🌈[:,:]`\n",
    "\n",
    "You can trim a Rainbow in wavelength (first dimension) and/or time (second dimension) by slicing it in a similar way that you might to any other 2D array. "
   ]
  },
  {
   "cell_type": "code",
   "execution_count": null,
   "metadata": {},
   "outputs": [],
   "source": [
    "# the original array\n",
    "summarize(r)"
   ]
  },
  {
   "cell_type": "code",
   "execution_count": null,
   "metadata": {},
   "outputs": [],
   "source": [
    "# using slices\n",
    "summarize(r[5:10, ::2])"
   ]
  },
  {
   "cell_type": "code",
   "execution_count": null,
   "metadata": {},
   "outputs": [],
   "source": [
    "# using indices\n",
    "i_wavelengths = np.arange(5, 10)\n",
    "i_times = np.arange(0, r.ntime, 2)\n",
    "summarize(r[i_wavelengths, i_times])"
   ]
  },
  {
   "cell_type": "code",
   "execution_count": null,
   "metadata": {},
   "outputs": [],
   "source": [
    "# using boolean masks\n",
    "ok_wavelengths = r.wavelength < 2 * u.micron\n",
    "ok_times = np.abs(r.time) < 1 * u.hour\n",
    "summarize(r[ok_wavelengths, ok_times])"
   ]
  },
  {
   "cell_type": "markdown",
   "metadata": {},
   "source": [
    "# Viewing a 🌈's History\n",
    "\n",
    "Most actions that return `Rainbow` objects be recorded in that object's `metadata['history']` entry. This is meant to be an approximate summary of the steps that led up to the creation of the current 🌈. You can view this history by calling the `.history()` method."
   ]
  },
  {
   "cell_type": "code",
   "execution_count": null,
   "metadata": {},
   "outputs": [],
   "source": [
    "x = (\n",
    "    SimulatedRainbow()\n",
    "    .inject_noise()\n",
    "    .inject_transit()\n",
    "    .bin(R=5, dt=5 * u.minute)\n",
    "    .normalize()\n",
    ")\n",
    "h = x.history()\n",
    "print(h)"
   ]
  },
  {
   "cell_type": "markdown",
   "metadata": {},
   "source": [
    "By default, it gives an almost copy-paste-able string version of the history of the `Rainbow`. If you look closely, you'll see that `.bin` has gotten split out into four steps (`.bin_in_time`, `.trim_times`, `.bin_in_wavelength`, `.trim_wavelengths`). In many cases, you should be able to approximately reproduce the actions that have gone into a `Rainbow` by just copying, pasting, and running the set of commands returned by `.history()` (or running `eval` to evaluate a string as Python commands)."
   ]
  },
  {
   "cell_type": "code",
   "execution_count": null,
   "metadata": {},
   "outputs": [],
   "source": [
    "eval(h)"
   ]
  }
 ],
 "metadata": {
  "kernelspec": {
   "display_name": "Python 3",
   "language": "python",
   "name": "python3"
  },
  "language_info": {
   "codemirror_mode": {
    "name": "ipython",
    "version": 3
   },
   "file_extension": ".py",
   "mimetype": "text/x-python",
   "name": "python",
   "nbconvert_exporter": "python",
   "pygments_lexer": "ipython3",
   "version": "3.9.12"
  }
 },
 "nbformat": 4,
 "nbformat_minor": 4
}
