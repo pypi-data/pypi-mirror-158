{
 "cells": [
  {
   "cell_type": "markdown",
   "metadata": {},
   "source": [
    "# 🌈 Visualizations"
   ]
  },
  {
   "cell_type": "code",
   "execution_count": null,
   "metadata": {},
   "outputs": [],
   "source": [
    "from chromatic import *"
   ]
  },
  {
   "cell_type": "markdown",
   "metadata": {},
   "source": [
    "There are a few standard ways of visualizing rainbows. We'll demonstrate them by generating a simulated rainbow, with a cute wavelength-dependent transit signal injected into it."
   ]
  },
  {
   "cell_type": "code",
   "execution_count": null,
   "metadata": {},
   "outputs": [],
   "source": [
    "s = SimulatedRainbow(dw=0.1 * u.micron, dt=4 * u.minute)\n",
    "\n",
    "# inject an interesting transit signal\n",
    "theta = np.linspace(0, 2 * np.pi, s.nwave)\n",
    "planet_radius = np.sin(theta) * 0.05 + 0.2\n",
    "r = s.inject_transit(planet_radius=planet_radius).inject_noise()"
   ]
  },
  {
   "cell_type": "markdown",
   "metadata": {},
   "source": [
    "## 🌈.imshow()\n",
    "\n",
    "Display the flux as an image, with each pixel representing the flux for a particular time and wavelength."
   ]
  },
  {
   "cell_type": "code",
   "execution_count": null,
   "metadata": {},
   "outputs": [],
   "source": [
    "r.imshow();"
   ]
  },
  {
   "cell_type": "markdown",
   "metadata": {},
   "source": [
    "There are a few options you might want to change."
   ]
  },
  {
   "cell_type": "code",
   "execution_count": null,
   "metadata": {},
   "outputs": [],
   "source": [
    "r.imshow(cmap=\"gray\", colorbar=False, w_unit=\"nm\", t_unit=\"minute\");"
   ]
  },
  {
   "cell_type": "markdown",
   "metadata": {},
   "source": [
    "Or, you might want to plot a different quantity instead."
   ]
  },
  {
   "cell_type": "code",
   "execution_count": null,
   "metadata": {},
   "outputs": [],
   "source": [
    "r.imshow(quantity=\"model\");"
   ]
  },
  {
   "cell_type": "markdown",
   "metadata": {},
   "source": [
    "And there's also a helper function to visualize all the `imshow`-able quantities."
   ]
  },
  {
   "cell_type": "code",
   "execution_count": null,
   "metadata": {},
   "outputs": [],
   "source": [
    "r.imshow_quantities()"
   ]
  },
  {
   "cell_type": "markdown",
   "metadata": {},
   "source": [
    "## 🌈.pcolormesh()\n",
    "\n",
    "Display the flux as an image, with each pixel representing the flux for a particular time and wavelength, but using `plt.pcolormesh` which allows pixels to stretch and squeeze based on the actual locations of their edges. Use `.imshow()` if you want wavelength/time bins to appear with the uniform sizes; use `.pcolormesh()` if you want to allow them to transform with the axes or non-uniform edges."
   ]
  },
  {
   "cell_type": "code",
   "execution_count": null,
   "metadata": {},
   "outputs": [],
   "source": [
    "r.pcolormesh();"
   ]
  },
  {
   "cell_type": "code",
   "execution_count": null,
   "metadata": {},
   "outputs": [],
   "source": [
    "r.pcolormesh()\n",
    "plt.yscale(\"log\")"
   ]
  },
  {
   "cell_type": "markdown",
   "metadata": {},
   "source": [
    "It accepts most of the same options as `.imshow()`."
   ]
  },
  {
   "cell_type": "markdown",
   "metadata": {},
   "source": [
    "## 🌈.plot()\n",
    "\n",
    "Display the flux by plotting a sequence of light curves for different wavelengths, with each curve representing the flux for a particular wavelength. "
   ]
  },
  {
   "cell_type": "code",
   "execution_count": null,
   "metadata": {},
   "outputs": [],
   "source": [
    "r.plot();"
   ]
  },
  {
   "cell_type": "markdown",
   "metadata": {},
   "source": [
    "Eep! Since it plots an individual light curve for each wavelength, plotting lots of wavelengths at once will cause things to overlap and blend together. You might want to bin your rainbow before plotting it."
   ]
  },
  {
   "cell_type": "code",
   "execution_count": null,
   "metadata": {},
   "outputs": [],
   "source": [
    "r.bin(R=3).plot();"
   ]
  },
  {
   "cell_type": "markdown",
   "metadata": {},
   "source": [
    "There are a few options you might want to change."
   ]
  },
  {
   "cell_type": "code",
   "execution_count": null,
   "metadata": {},
   "outputs": [],
   "source": [
    "r.bin(R=3).plot(\n",
    "    cmap=\"copper\",\n",
    "    w_unit=\"nm\",\n",
    "    t_unit=\"minute\",\n",
    "    plotkw=dict(marker=\"s\", markersize=2, linewidth=0),\n",
    "    textkw=dict(color=\"black\", fontweight=\"bold\"),\n",
    ")"
   ]
  },
  {
   "cell_type": "markdown",
   "metadata": {},
   "source": [
    "This visualization returns an `ax` object, which is the Axes where the plot was generated. You can feed that `ax` into another plot command to overplot on top."
   ]
  },
  {
   "cell_type": "code",
   "execution_count": null,
   "metadata": {},
   "outputs": [],
   "source": [
    "ax = r.bin(R=3).plot(plotkw=dict(alpha=0.2, markeredgecolor=\"none\", linewidth=0))\n",
    "r.bin(R=3, dt=15 * u.minute).plot(ax=ax)"
   ]
  },
  {
   "cell_type": "markdown",
   "metadata": {},
   "source": [
    "## 🌈.animate_lightcurves()\n",
    "\n",
    "Display the flux by animating a sequence of light curve plots, flipping through different wavelengths."
   ]
  },
  {
   "cell_type": "code",
   "execution_count": null,
   "metadata": {},
   "outputs": [],
   "source": [
    "r.animate_lightcurves();"
   ]
  },
  {
   "cell_type": "markdown",
   "metadata": {},
   "source": [
    "<img src='animated-lightcurves.gif' align='left'>"
   ]
  },
  {
   "cell_type": "markdown",
   "metadata": {},
   "source": [
    "## 🌈.animate_spectra()\n",
    "\n",
    "Display the flux by animating a sequence of spectrum plots, flipping through different times."
   ]
  },
  {
   "cell_type": "code",
   "execution_count": null,
   "metadata": {},
   "outputs": [],
   "source": [
    "r.animate_spectra();"
   ]
  },
  {
   "cell_type": "markdown",
   "metadata": {},
   "source": [
    "<img src='animated-spectra.gif' align='left'>"
   ]
  },
  {
   "cell_type": "markdown",
   "metadata": {},
   "source": [
    "## 🌈.imshow_interact()"
   ]
  },
  {
   "cell_type": "markdown",
   "metadata": {},
   "source": [
    "*This feature requires [Altair](https://altair-viz.github.io/getting_started/installation.html). It should already be installed as a dependency for `chromatic-lightcurves`, but you might need to install it yourself.*\n",
    "\n",
    "Similar to `.imshow()` but you can click and drag on the `imshow` panel on the left to select a wavelength range for generating a wavelength-averaged lightcurve. "
   ]
  },
  {
   "cell_type": "code",
   "execution_count": null,
   "metadata": {},
   "outputs": [],
   "source": [
    "r.imshow_interact()"
   ]
  },
  {
   "cell_type": "markdown",
   "metadata": {},
   "source": [
    "Like `imshow()`, there are options you might like to change (see [Vega documentation](https://vega.github.io/vega/docs/schemes/) for color schemes):"
   ]
  },
  {
   "cell_type": "code",
   "execution_count": null,
   "metadata": {},
   "outputs": [],
   "source": [
    "r.imshow_interact(cmap=\"magma\", t_unit=\"h\", w_unit=\"nm\", custom_ylims=[0.97, 1.01])"
   ]
  },
  {
   "cell_type": "markdown",
   "metadata": {},
   "source": [
    "We can also plot the `uncertainty` (or any other fluxlike quantity). In this simulated case, it is time and wavelength-independent so not very interesting."
   ]
  },
  {
   "cell_type": "code",
   "execution_count": null,
   "metadata": {},
   "outputs": [],
   "source": [
    "r.imshow_interact(quantity=\"uncertainty\")"
   ]
  }
 ],
 "metadata": {
  "kernelspec": {
   "display_name": "Python 3",
   "language": "python",
   "name": "python3"
  },
  "language_info": {
   "codemirror_mode": {
    "name": "ipython",
    "version": 3
   },
   "file_extension": ".py",
   "mimetype": "text/x-python",
   "name": "python",
   "nbconvert_exporter": "python",
   "pygments_lexer": "ipython3",
   "version": "3.9.12"
  }
 },
 "nbformat": 4,
 "nbformat_minor": 4
}
