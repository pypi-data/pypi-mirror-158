{
 "cells": [
  {
   "cell_type": "markdown",
   "metadata": {},
   "source": [
    "        # My first automatic Jupyter Notebook\n        This is an auto-generated notebook."
   ]
  },
  {
   "cell_type": "code",
   "execution_count": null,
   "metadata": {},
   "outputs": [],
   "source": [
    "        fname = \"Biofuel_NIS.xlsx\";"
   ]
  },
  {
   "cell_type": "code",
   "execution_count": null,
   "metadata": {},
   "outputs": [],
   "source": [
    "        from nexinfosys import NISClient, display_visjs_jupyterlab\n",
    "        import io\n",
    "        import pandas as pd\n",
    "        import networkx as nx\n",
    "        \n",
    "        c = NISClient(\"https://one.nis.magic-nexus.eu/nis_api\")\n",
    "        #c = NISClient(\"http://localhost:5000/nis_api\")\n",
    "        # Login, open session, load a workbook (which is in Nextcloud), submit (execute!)\n",
    "        c.login(\"test_user\")\n",
    "        #print(\"Logged in\")\n",
    "        c.open_session()\n",
    "        #print(\"Session opened\")\n",
    "        n = c.load_workbook(fname)\n",
    "        #print(\"N worksheets: \"+str(n))\n",
    "        r = c.submit()\n",
    "        #print(\"Returned from submit\")\n",
    "        # Check if submission was successful (it should be with the provided workbook), then query \n",
    "        # available datasets, and get one of them, converting it into a pd.DataFrame\n",
    "        any_error = False\n",
    "        if len(r) > 0:\n",
    "            for i in r:\n",
    "                if i[\"type\"] == 3:\n",
    "                    any_error = True\n",
    "                    print(str(i))\n",
    "        \n",
    "        if not any_error:\n",
    "            # Obtain available datasets\n",
    "            r = c.query_available_datasets()\n",
    "            if len(r) > 0:\n",
    "                results = {}\n",
    "                for ds in r:\n",
    "                    results[ds[\"name\"]] = {d[\"format\"].lower(): d[\"url\"] for d in ds[\"formats\"]}\n",
    "                    #print(str(ds))\n",
    "                #r = c.download_results([(results[\"FG\"][\"visjs\"])])\n",
    "                #visjs_data = r[0].decode(\"utf-8\")\n",
    "                #unique_name = None\n",
    "                r = c.download_results([(results[\"PG\"][\"visjs\"])])\n",
    "                visjs_data2 = r[0].decode(\"utf-8\")\n",
    "                un2 = None\n",
    "        \n",
    "                #unique_name = display_visjs_jupyterlab(visjs_data, 800, unique_name)\n",
    "                un2 = display_visjs_jupyterlab(visjs_data2, 1200, un2)\n",
    "              \n",
    "        c.close_session()\n",
    "        c.logout()"
   ]
  }
 ],
 "metadata": {},
 "nbformat": 4,
 "nbformat_minor": 2
}
