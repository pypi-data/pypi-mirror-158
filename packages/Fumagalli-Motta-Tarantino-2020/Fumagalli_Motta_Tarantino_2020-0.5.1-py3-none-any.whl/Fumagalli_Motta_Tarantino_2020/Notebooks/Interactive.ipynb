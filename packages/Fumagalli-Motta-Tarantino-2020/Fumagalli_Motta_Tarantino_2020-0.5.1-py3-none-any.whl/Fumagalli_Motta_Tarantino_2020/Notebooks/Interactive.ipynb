{
 "cells": [
  {
   "cell_type": "code",
   "execution_count": 7,
   "metadata": {
    "pycharm": {
     "name": "#%%\n"
    },
    "scrolled": false
   },
   "outputs": [],
   "source": [
    "%matplotlib notebook\n",
    "%config InlineBackend.figure_format ='svg'\n",
    "from ipywidgets import Layout, widgets\n",
    "from IPython.display import clear_output, display\n",
    "import Fumagalli_Motta_Tarantino_2020 as FMT20\n",
    "\n",
    "\n",
    "def create_float_input(\n",
    "    value: float, description: str, min_value=0.0, max_value=1.0, step=0.01\n",
    ") -> widgets.BoundedFloatText:\n",
    "    return widgets.BoundedFloatText(\n",
    "        value=value,\n",
    "        min=min_value,\n",
    "        max=max_value,\n",
    "        step=step,\n",
    "        description=description,\n",
    "        disabled=False,\n",
    "    )\n",
    "\n",
    "\n",
    "def get_merger_policy(policy: str) -> FMT20.MergerPolicies:\n",
    "    if policy == \"Strict\":\n",
    "        return FMT20.MergerPolicies.Strict\n",
    "    if policy == \"Intermediate (more lenient than strict)\":\n",
    "        return FMT20.MergerPolicies.Intermediate_late_takeover_prohibited\n",
    "    if policy == \"Intermediate (stricter than laissez-faire)\":\n",
    "        return FMT20.MergerPolicies.Intermediate_late_takeover_allowed\n",
    "    return FMT20.MergerPolicies.Laissez_faire\n",
    "\n",
    "\n",
    "plot_kwargs = {\"thresholds\": True, \"y_offset\": -35}\n",
    "\n",
    "model = widgets.Dropdown(\n",
    "    value=\"OptimalMergerPolicy\",\n",
    "    options=[\n",
    "        \"OptimalMergerPolicy\",\n",
    "        \"ProCompetitive\",\n",
    "        \"ResourceWaste\",\n",
    "        \"PerfectInformation\",\n",
    "    ],\n",
    ")\n",
    "merger_policy = widgets.Dropdown(\n",
    "    value=\"Strict\",\n",
    "    options=[\n",
    "        \"Strict\",\n",
    "        \"Intermediate (more lenient than strict)\",\n",
    "        \"Intermediate (stricter than laissez-faire)\",\n",
    "        \"Laissez-faire\",\n",
    "    ],\n",
    ")\n",
    "development_costs = create_float_input(0.1, \"$K$\")\n",
    "startup_assets = create_float_input(0.05, \"$A$\")\n",
    "success_probability = create_float_input(0.7, \"$p$\")\n",
    "private_benefit = create_float_input(0.05, \"$B$\")\n",
    "consumer_surplus_without_innovation = create_float_input(0.2, \"$CS^m$\")\n",
    "incumbent_profit_without_innovation = create_float_input(0.4, \"$\\\\pi^m_I$\")\n",
    "consumer_surplus_duopoly = create_float_input(0.5, \"$CS^d$\")\n",
    "incumbent_profit_duopoly = create_float_input(0.2, \"$\\\\pi^d_I$\")\n",
    "startup_profit_duopoly = create_float_input(0.2, \"$\\\\pi^d_S$\")\n",
    "consumer_surplus_with_innovation = create_float_input(0.3, \"$CS^M$\")\n",
    "incumbent_profit_with_innovation = create_float_input(0.5, \"$\\\\pi^M_I$\")\n",
    "development_outcome = widgets.Checkbox(\n",
    "    value=True, description=\"Attempted development successful?\"\n",
    ")\n",
    "button = widgets.Button(description=\"draw\", layout=Layout(width=\"300px\", height=\"auto\"))\n",
    "\n",
    "input_widgets = [\n",
    "    development_outcome,\n",
    "    development_costs,\n",
    "    startup_assets,\n",
    "    success_probability,\n",
    "    private_benefit,\n",
    "    consumer_surplus_without_innovation,\n",
    "    incumbent_profit_without_innovation,\n",
    "    consumer_surplus_duopoly,\n",
    "    incumbent_profit_duopoly,\n",
    "    startup_profit_duopoly,\n",
    "    consumer_surplus_with_innovation,\n",
    "    incumbent_profit_with_innovation,\n",
    "    model,\n",
    "    merger_policy,\n",
    "    button,\n",
    "]\n",
    "\n",
    "grid = widgets.GridBox(\n",
    "    input_widgets, layout=widgets.Layout(grid_template_columns=\"repeat(3, 310px)\")\n",
    ")\n",
    "\n",
    "\n",
    "def draw_figure(e):\n",
    "    model_kwargs = {\n",
    "        \"merger_policy\": get_merger_policy(merger_policy.value),\n",
    "        \"development_costs\": development_costs.value,\n",
    "        \"startup_assets\": startup_assets.value,\n",
    "        \"development_success\": development_outcome.value,\n",
    "        \"success_probability\": success_probability.value,\n",
    "        \"private_benefit\": private_benefit.value,\n",
    "        \"consumer_surplus_without_innovation\": consumer_surplus_without_innovation.value,\n",
    "        \"incumbent_profit_without_innovation\": incumbent_profit_without_innovation.value,\n",
    "        \"consumer_surplus_duopoly\": consumer_surplus_duopoly.value,\n",
    "        \"incumbent_profit_duopoly\": incumbent_profit_duopoly.value,\n",
    "        \"startup_profit_duopoly\": startup_profit_duopoly.value,\n",
    "        \"consumer_surplus_with_innovation\": consumer_surplus_with_innovation.value,\n",
    "        \"incumbent_profit_with_innovation\": incumbent_profit_with_innovation.value,\n",
    "    }\n",
    "    try:\n",
    "        if model.value == \"OptimalMergerPolicy\":\n",
    "            model_type = FMT20.OptimalMergerPolicy\n",
    "        elif model.value == \"ProCompetitive\":\n",
    "            model_type = FMT20.ProCompetitive\n",
    "        elif model.value == \"ResourceWaste\":\n",
    "            model_type = FMT20.ResourceWaste\n",
    "        elif model.value == \"PerfectInformation\":\n",
    "            model_type = FMT20.PerfectInformation\n",
    "        else:\n",
    "            raise NotImplementedError(\"No such model type available\")\n",
    "        clear_output()\n",
    "        display(grid)\n",
    "        fig, ax = FMT20.Overview(model_type(**model_kwargs), figsize=(9.5, 8)).plot(\n",
    "            **plot_kwargs\n",
    "        )\n",
    "        fig.set_label(\"Interactive use of Fumagalli et al. (2020)\")\n",
    "    except AssertionError as e:\n",
    "        print(e)\n",
    "\n",
    "\n",
    "button.on_click(draw_figure)"
   ]
  },
  {
   "cell_type": "code",
   "execution_count": 8,
   "outputs": [
    {
     "data": {
      "text/plain": "GridBox(children=(Checkbox(value=True, description='Attempted development successful?'), BoundedFloatText(valu…",
      "application/vnd.jupyter.widget-view+json": {
       "version_major": 2,
       "version_minor": 0,
       "model_id": "9697b86439e846fb95e1588b0a610dcd"
      }
     },
     "metadata": {},
     "output_type": "display_data"
    }
   ],
   "source": [
    "grid"
   ],
   "metadata": {
    "collapsed": false,
    "pycharm": {
     "name": "#%%\n"
    }
   }
  },
  {
   "cell_type": "code",
   "execution_count": null,
   "outputs": [],
   "source": [],
   "metadata": {
    "collapsed": false,
    "pycharm": {
     "name": "#%%\n"
    }
   }
  }
 ],
 "metadata": {
  "kernelspec": {
   "display_name": "Python 3 (ipykernel)",
   "language": "python",
   "name": "python3"
  },
  "language_info": {
   "codemirror_mode": {
    "name": "ipython",
    "version": 3
   },
   "file_extension": ".py",
   "mimetype": "text/x-python",
   "name": "python",
   "nbconvert_exporter": "python",
   "pygments_lexer": "ipython3",
   "version": "3.9.6"
  }
 },
 "nbformat": 4,
 "nbformat_minor": 1
}