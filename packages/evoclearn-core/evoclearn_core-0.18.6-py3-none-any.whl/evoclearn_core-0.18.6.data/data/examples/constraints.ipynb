{
  "cells": [
    {
      "cell_type": "markdown",
      "source": [
        "# Sampling with constraints\n",
        "\n",
        "The easiest way to apply constraints is to use a **sampler** with the `discard_by_constraints` **filter**. For example, we can draw *100 CV samples* from the `UniformProbLink` sampler and discard all samples that don't satisfy the three \"default\" constraint functions and count the remaining samples as follows:"
      ],
      "metadata": {
        "id": "Ul2XxOpceI2q",
        "colab_type": "text"
      }
    },
    {
      "cell_type": "code",
      "source": [
        "from os import path\n",
        "import itertools\n",
        "import functools\n",
        "\n",
        "from evoclearn.core.io import load_bounds\n",
        "\n",
        "from evoclearn.core.samplers import UniformProbLink\n",
        "from evoclearn.core.filters import discard_by_constraints"
      ],
      "outputs": [],
      "execution_count": 1,
      "metadata": {
        "collapsed": true,
        "outputExpanded": false,
        "jupyter": {
          "source_hidden": false,
          "outputs_hidden": false
        },
        "nteract": {
          "transient": {
            "deleting": false
          }
        },
        "execution": {
          "iopub.status.busy": "2020-07-27T14:16:17.137Z",
          "iopub.execute_input": "2020-07-27T14:16:17.147Z",
          "shell.execute_reply": "2020-07-27T14:16:18.061Z",
          "iopub.status.idle": "2020-07-27T14:16:18.068Z"
        }
      }
    },
    {
      "cell_type": "code",
      "source": [
        "etcdir = path.join(\"..\", \"etc\")\n",
        "bounds = load_bounds(open(path.join(etcdir, \"JD2_bounds.json\")))\n",
        "\n",
        "sampler = UniformProbLink(bounds, consonants=[\"b\"], seed=7)\n",
        "hundred_samples = itertools.islice(sampler, 100)\n",
        "valid_samples = discard_by_constraints(hundred_samples)\n",
        "num_valid_samples = 0\n",
        "for __ in valid_samples:\n",
        "    num_valid_samples += 1\n",
        "print(\"Number of valid samples from the first 100 CV samples generated:\", num_valid_samples)"
      ],
      "outputs": [
        {
          "output_type": "stream",
          "name": "stdout",
          "text": [
            "Number of valid samples from the first 100 CV samples generated: 57\n"
          ]
        }
      ],
      "execution_count": 2,
      "metadata": {
        "id": "fb7rPN9TeIW8",
        "colab_type": "code",
        "colab": {},
        "execution": {
          "iopub.status.busy": "2020-07-27T14:16:18.080Z",
          "iopub.execute_input": "2020-07-27T14:16:18.087Z",
          "iopub.status.idle": "2020-07-27T14:16:21.085Z",
          "shell.execute_reply": "2020-07-27T14:16:21.105Z"
        }
      }
    },
    {
      "cell_type": "markdown",
      "source": [
        "Or we can continue drawing from the source sampler to create *100 valid CV samples in total* by just limiting the final iterator instead of the source sampler, e.g.:"
      ],
      "metadata": {}
    },
    {
      "cell_type": "code",
      "source": [
        "sampler = UniformProbLink(bounds, consonants=[\"b\"], seed=7)\n",
        "valid_samples = discard_by_constraints(sampler)\n",
        "hundred_valid_samples = itertools.islice(valid_samples, 100)\n",
        "num_valid_samples = 0\n",
        "for __ in hundred_valid_samples:\n",
        "    num_valid_samples += 1\n",
        "print(\"Number of valid samples:\", num_valid_samples)"
      ],
      "outputs": [
        {
          "output_type": "stream",
          "name": "stdout",
          "text": [
            "Number of valid samples: 100\n"
          ]
        }
      ],
      "execution_count": 3,
      "metadata": {
        "collapsed": false,
        "outputHidden": false,
        "inputHidden": false,
        "execution": {
          "iopub.status.busy": "2020-07-27T14:16:21.091Z",
          "iopub.execute_input": "2020-07-27T14:16:21.095Z",
          "iopub.status.idle": "2020-07-27T14:16:26.538Z",
          "shell.execute_reply": "2020-07-27T14:16:26.543Z"
        }
      }
    },
    {
      "cell_type": "markdown",
      "source": [
        "The `discard_by_constraints` filter actually takes a list of constraint functions, so we can add more or specify fewer contraints, by specifying the functions explicitly. For example if we only want to apply one of the three constraint functions:"
      ],
      "metadata": {}
    },
    {
      "cell_type": "code",
      "source": [
        "from evoclearn.core.constraints import tongue_tip_ahead_of_blade\n",
        "\n",
        "discard_by_fewer_constraints = functools.partial(discard_by_constraints, constraints=[tongue_tip_ahead_of_blade])\n",
        "sampler = UniformProbLink(bounds, consonants=[\"b\"], seed=7)\n",
        "hundred_samples = itertools.islice(sampler, 100)\n",
        "valid_samples = discard_by_fewer_constraints(hundred_samples)\n",
        "num_valid_samples = 0\n",
        "for __ in valid_samples:\n",
        "    num_valid_samples += 1\n",
        "print(\"Number of valid samples from the first 100 CV samples generated:\", num_valid_samples)"
      ],
      "outputs": [
        {
          "output_type": "stream",
          "name": "stdout",
          "text": [
            "Number of valid samples from the first 100 CV samples generated: 98\n"
          ]
        }
      ],
      "execution_count": 4,
      "metadata": {
        "collapsed": false,
        "outputHidden": false,
        "inputHidden": false,
        "execution": {
          "iopub.status.busy": "2020-07-27T14:16:26.562Z",
          "iopub.execute_input": "2020-07-27T14:16:26.595Z",
          "iopub.status.idle": "2020-07-27T14:16:29.602Z",
          "shell.execute_reply": "2020-07-27T14:16:29.620Z"
        }
      }
    },
    {
      "cell_type": "markdown",
      "source": [
        "It is also possible to use the `satisfies_constraints` **mapping** if you just want a True/False value for each sample instead of discarding samples:"
      ],
      "metadata": {}
    },
    {
      "cell_type": "code",
      "source": [
        "from evoclearn.core.mappings import satisfies_constraints\n",
        "\n",
        "sampler = UniformProbLink(bounds, consonants=[\"b\"], seed=7)\n",
        "hundred_samples = itertools.islice(sampler, 100)\n",
        "is_valid = list(map(satisfies_constraints, hundred_samples))\n",
        "print(\"Constraint verdicts for the first 100 CV samples drawn:\")\n",
        "print(is_valid)\n"
      ],
      "outputs": [
        {
          "output_type": "stream",
          "name": "stdout",
          "text": [
            "Constraint verdicts for the first 100 CV samples drawn:\n",
            "[False, True, False, True, True, False, False, True, False, False, False, False, True, False, True, True, True, False, False, True, False, False, False, True, True, True, False, True, True, False, True, True, True, True, True, True, True, True, False, False, True, True, True, True, False, True, True, False, True, False, False, True, True, True, True, True, True, True, True, True, False, False, False, True, False, False, True, True, True, False, True, True, False, True, True, False, True, True, False, False, False, False, True, False, True, False, False, False, False, True, True, False, False, True, False, True, True, False, True, True]\n"
          ]
        }
      ],
      "execution_count": 5,
      "metadata": {
        "collapsed": false,
        "outputHidden": false,
        "inputHidden": false,
        "execution": {
          "iopub.status.busy": "2020-07-27T14:16:29.611Z",
          "iopub.execute_input": "2020-07-27T14:16:29.624Z",
          "iopub.status.idle": "2020-07-27T14:16:32.581Z",
          "shell.execute_reply": "2020-07-27T14:16:32.591Z"
        }
      }
    }
  ],
  "metadata": {
    "colab": {
      "name": "evl_core_example.ipynb",
      "provenance": [],
      "collapsed_sections": [
        "NF2Y8d2kcl_M",
        "XU8ynsyMdKKB",
        "Ul2XxOpceI2q",
        "1TyiWb_UdmoX",
        "Cu44-8Uu7Fj_",
        "FCfbMB4Wp0PE",
        "BgCmXXphnm5I",
        "sNAI-ZAbqAAY"
      ]
    },
    "kernelspec": {
      "name": "python3",
      "language": "python",
      "display_name": "Python 3"
    },
    "kernel_info": {
      "name": "python3"
    },
    "language_info": {
      "name": "python",
      "version": "3.8.2",
      "mimetype": "text/x-python",
      "codemirror_mode": {
        "name": "ipython",
        "version": 3
      },
      "pygments_lexer": "ipython3",
      "nbconvert_exporter": "python",
      "file_extension": ".py"
    },
    "nteract": {
      "version": "0.23.1"
    }
  },
  "nbformat": 4,
  "nbformat_minor": 0
}