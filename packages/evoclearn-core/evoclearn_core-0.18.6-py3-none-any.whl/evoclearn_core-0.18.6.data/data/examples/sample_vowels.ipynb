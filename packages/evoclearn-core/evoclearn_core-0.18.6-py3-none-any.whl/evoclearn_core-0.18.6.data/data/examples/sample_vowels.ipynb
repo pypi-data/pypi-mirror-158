{
  "cells": [
    {
      "cell_type": "markdown",
      "source": [
        "## Sample N \"valid\" vowels"
      ],
      "metadata": {
        "colab_type": "text",
        "id": "NF2Y8d2kcl_M"
      }
    },
    {
      "cell_type": "code",
      "source": [
        "from os import path\n",
        "import functools\n",
        "import itertools\n",
        "\n",
        "from evoclearn.core.samplers import Uniform\n",
        "from evoclearn.core.utils import KeepLastValue\n",
        "from evoclearn.core.io import load_bounds, wav_write\n",
        "from evoclearn.core import mappings, filters, constraints\n",
        "from evoclearn.core import vocaltractlab as vtl"
      ],
      "outputs": [],
      "execution_count": 1,
      "metadata": {
        "colab": {},
        "colab_type": "code",
        "execution": {
          "iopub.execute_input": "2020-07-27T14:20:36.267Z",
          "iopub.status.busy": "2020-07-27T14:20:36.258Z",
          "iopub.status.idle": "2020-07-27T14:20:37.167Z",
          "shell.execute_reply": "2020-07-27T14:20:37.161Z"
        },
        "id": "fb7rPN9TeIW8"
      }
    },
    {
      "cell_type": "code",
      "source": [
        "etcdir = path.join(\"..\", \"etc\")\n",
        "vtl.initialise(path.join(etcdir, \"JD2_speaker.xml\"))"
      ],
      "outputs": [
        {
          "output_type": "execute_result",
          "execution_count": 2,
          "data": {
            "text/plain": [
              "<CDLL '/home/demitasse/workspace/evoclearn/evl_core/evoclearn/core/VocalTractLabApi.so', handle 3f2dcf0 at 0x7fce70156f70>"
            ]
          },
          "metadata": {}
        }
      ],
      "execution_count": 2,
      "metadata": {
        "collapsed": true,
        "jupyter": {
          "source_hidden": false,
          "outputs_hidden": false
        },
        "nteract": {
          "transient": {
            "deleting": false
          }
        },
        "execution": {
          "iopub.status.busy": "2020-07-27T14:20:37.176Z",
          "iopub.execute_input": "2020-07-27T14:20:37.184Z",
          "iopub.status.idle": "2020-07-27T14:20:37.216Z",
          "shell.execute_reply": "2020-07-27T14:20:37.241Z"
        }
      }
    },
    {
      "cell_type": "code",
      "source": [
        "speaker_bounds = load_bounds(open(path.join(etcdir, \"JD2_bounds.json\")))\n",
        "all_params = list(speaker_bounds)\n",
        "neutral_values = [speaker_bounds[p][\"default\"] for p in all_params]\n",
        "neutral_seq = seq = next(Uniform(speaker_bounds, labels=[\"V\"]))\n",
        "neutral_seq.loc[:, all_params] = neutral_values\n",
        "\n",
        "sampled_params = [\"HX\", \"HY\", \"JA\", \"JX\", \"LD\", \"LP\", \"TBX\", \"TBY\", \"TCX\", \"TCY\", \"TS1\", \"TS2\", \"TS3\", \"TTX\", \"TTY\", \"VO\", \"VS\"]"
      ],
      "outputs": [],
      "execution_count": 3,
      "metadata": {
        "colab": {},
        "colab_type": "code",
        "execution": {
          "iopub.execute_input": "2020-07-27T14:20:37.229Z",
          "iopub.status.busy": "2020-07-27T14:20:37.223Z",
          "iopub.status.idle": "2020-07-27T14:20:37.264Z",
          "shell.execute_reply": "2020-07-27T14:20:37.247Z"
        },
        "id": "D0ryP6gz9eDr"
      }
    },
    {
      "cell_type": "markdown",
      "source": [
        "## Implement the random sampling loop for V segments"
      ],
      "metadata": {
        "colab_type": "text",
        "id": "1TyiWb_UdmoX"
      }
    },
    {
      "cell_type": "code",
      "source": [
        "v_duration = [8800 / 44100] # approximately 0.2s"
      ],
      "outputs": [],
      "execution_count": 4,
      "metadata": {
        "colab": {},
        "colab_type": "code",
        "execution": {
          "iopub.execute_input": "2020-07-27T14:20:37.278Z",
          "iopub.status.busy": "2020-07-27T14:20:37.273Z",
          "iopub.status.idle": "2020-07-27T14:20:37.286Z",
          "shell.execute_reply": "2020-07-27T14:20:37.255Z"
        },
        "id": "IxcnfQlyck5L"
      }
    },
    {
      "cell_type": "markdown",
      "source": [
        "#### Set up the simulation pipeline:"
      ],
      "metadata": {
        "colab_type": "text",
        "id": "BgCmXXphnm5I"
      }
    },
    {
      "cell_type": "code",
      "source": [
        "def sample_with_defaults(seq):\n",
        "  full_seq = neutral_seq.copy()\n",
        "  full_seq.loc[(0 ,\"V\"), sampled_params] = list(seq[sampled_params].iloc[0])\n",
        "  return full_seq\n",
        "add_slope_and_duration = functools.partial(mappings.add_slope_and_duration, durations=v_duration)\n",
        "\n",
        "sampler = Uniform({k:speaker_bounds[k] for k in sampled_params}, labels=[\"V\"], seed=777)\n",
        "full_samples = map(sample_with_defaults, sampler)\n",
        "valid_samples = KeepLastValue(filters.discard_by_constraints(full_samples, constraints=[constraints.vowel_voiced]))\n",
        "qta_targets = map(add_slope_and_duration, valid_samples)\n",
        "vtl_curves = map(mappings.target_approximation, qta_targets)\n",
        "speech_sounds = map(mappings.synthesise_vtl_curves, vtl_curves)"
      ],
      "outputs": [],
      "execution_count": 5,
      "metadata": {
        "colab": {},
        "colab_type": "code",
        "execution": {
          "iopub.execute_input": "2020-07-27T14:20:37.299Z",
          "iopub.status.busy": "2020-07-27T14:20:37.294Z",
          "iopub.status.idle": "2020-07-27T14:20:37.304Z",
          "shell.execute_reply": "2020-07-27T14:20:37.321Z"
        },
        "id": "Bm5DqVYQkpi5"
      }
    },
    {
      "cell_type": "markdown",
      "source": [
        "#### Define the simulation loop with stopping criteria, and save updates to files as needed:"
      ],
      "metadata": {
        "colab_type": "text",
        "id": "sNAI-ZAbqAAY"
      }
    },
    {
      "cell_type": "code",
      "source": [
        "twenty_iterations = itertools.islice(speech_sounds, 20)\n",
        "\n",
        "for i, wav in enumerate(twenty_iterations):\n",
        "    print(i)\n",
        "    wav_write(wav, f\"iteration_{str(i).zfill(5)}.wav\")\n",
        "    with open(f\"iteration_{str(i).zfill(5)}.targets.json\", \"w\") as outf:\n",
        "      outf.write(valid_samples.last_value.to_json())\n"
      ],
      "outputs": [
        {
          "output_type": "stream",
          "name": "stdout",
          "text": [
            "0\n",
            "1\n",
            "2\n",
            "3\n",
            "4\n",
            "5\n",
            "6\n",
            "7\n",
            "8\n",
            "9\n",
            "10\n",
            "11\n",
            "12\n",
            "13\n",
            "14\n",
            "15\n",
            "16\n",
            "17\n",
            "18\n",
            "19\n"
          ]
        }
      ],
      "execution_count": 6,
      "metadata": {
        "colab": {},
        "colab_type": "code",
        "execution": {
          "iopub.execute_input": "2020-07-27T14:20:37.314Z",
          "iopub.status.busy": "2020-07-27T14:20:37.310Z",
          "iopub.status.idle": "2020-07-27T14:20:50.589Z",
          "shell.execute_reply": "2020-07-27T14:20:50.594Z"
        },
        "id": "aKQaE5eLqOxF"
      }
    }
  ],
  "metadata": {
    "colab": {
      "collapsed_sections": [
        "NF2Y8d2kcl_M",
        "XU8ynsyMdKKB",
        "Ul2XxOpceI2q",
        "1TyiWb_UdmoX",
        "Cu44-8Uu7Fj_",
        "FCfbMB4Wp0PE",
        "BgCmXXphnm5I",
        "sNAI-ZAbqAAY"
      ],
      "name": "evl_core_example.ipynb",
      "provenance": []
    },
    "kernel_info": {
      "name": "python3"
    },
    "kernelspec": {
      "display_name": "Python 3",
      "language": "python",
      "name": "python3"
    },
    "language_info": {
      "name": "python",
      "version": "3.8.2",
      "mimetype": "text/x-python",
      "codemirror_mode": {
        "name": "ipython",
        "version": 3
      },
      "pygments_lexer": "ipython3",
      "nbconvert_exporter": "python",
      "file_extension": ".py"
    },
    "nteract": {
      "version": "0.23.1"
    }
  },
  "nbformat": 4,
  "nbformat_minor": 1
}