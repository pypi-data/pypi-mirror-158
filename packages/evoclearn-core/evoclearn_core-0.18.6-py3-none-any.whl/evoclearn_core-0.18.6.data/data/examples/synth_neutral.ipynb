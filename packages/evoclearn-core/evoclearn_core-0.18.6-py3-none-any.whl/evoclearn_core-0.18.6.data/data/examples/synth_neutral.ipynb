{
  "cells": [
    {
      "cell_type": "markdown",
      "source": [
        "## Quickly create a CVC sequence and synthesise with neutral targets\n",
        "\n",
        "This is meant to demonstrate a quick way to get a target sequence and synthesise it, with the aim of manually inspecting different targets..."
      ],
      "metadata": {
        "nteract": {
          "transient": {
            "deleting": false
          }
        }
      }
    },
    {
      "cell_type": "code",
      "source": [
        "import pandas as pd\n",
        "\n",
        "from evoclearn.core import io\n",
        "from evoclearn.core import samplers\n",
        "from evoclearn.core import mappings\n",
        "from evoclearn.core import vocaltractlab as vtl"
      ],
      "outputs": [],
      "execution_count": 1,
      "metadata": {
        "collapsed": true,
        "outputExpanded": false,
        "jupyter": {
          "source_hidden": false,
          "outputs_hidden": false
        },
        "nteract": {
          "transient": {
            "deleting": false
          }
        },
        "execution": {
          "iopub.status.busy": "2020-07-27T14:30:22.201Z",
          "iopub.execute_input": "2020-07-27T14:30:22.205Z",
          "iopub.status.idle": "2020-07-27T14:30:23.146Z",
          "shell.execute_reply": "2020-07-27T14:30:23.141Z"
        }
      }
    },
    {
      "cell_type": "code",
      "source": [
        "#Load speaker bounds file and get neutral parameters from there:\n",
        "bounds = io.load_bounds(open(\"../etc/JD2_bounds.json\"))\n",
        "params = list(bounds)\n",
        "neutral_targets = [bounds[p][\"default\"] for p in params]\n",
        "\n",
        "#Create a default target sequence with 3 targets: \"C_onset\", \"V\", \"C_coda\"\n",
        "seq = io.default_sequence_from_bounds(bounds, labels=[\"C_onset\", \"V\", \"C_coda\"])\n",
        "\n",
        "#Load or specify durations for the three segments, and synthesise from targets:\n",
        "cv_durs = io.read_durations_from_textgrid(\"data/bad.TextGrid\", tier=\"1\")[:3]\n",
        "vtl.initialise(\"../etc/JD2_speaker.xml\")\n",
        "wav = mappings.synthesise_vtl_curves(mappings.vtl_curves_from_targets(seq, cv_durs))\n"
      ],
      "outputs": [],
      "execution_count": 2,
      "metadata": {
        "collapsed": false,
        "jupyter": {
          "source_hidden": false,
          "outputs_hidden": false
        },
        "nteract": {
          "transient": {
            "deleting": false
          }
        },
        "execution": {
          "iopub.status.busy": "2020-07-27T14:30:23.153Z",
          "iopub.execute_input": "2020-07-27T14:30:23.157Z",
          "iopub.status.idle": "2020-07-27T14:30:24.845Z",
          "shell.execute_reply": "2020-07-27T14:30:24.841Z"
        }
      }
    },
    {
      "cell_type": "code",
      "source": [
        "from IPython.display import display, HTML\n",
        "display(HTML(seq.to_html()))"
      ],
      "outputs": [
        {
          "output_type": "display_data",
          "data": {
            "text/plain": [
              "<IPython.core.display.HTML object>"
            ],
            "text/html": [
              "<table border=\"1\" class=\"dataframe\">\n",
              "  <thead>\n",
              "    <tr style=\"text-align: right;\">\n",
              "      <th></th>\n",
              "      <th></th>\n",
              "      <th>HX</th>\n",
              "      <th>HY</th>\n",
              "      <th>JX</th>\n",
              "      <th>JA</th>\n",
              "      <th>LP</th>\n",
              "      <th>LD</th>\n",
              "      <th>VS</th>\n",
              "      <th>VO</th>\n",
              "      <th>TCX</th>\n",
              "      <th>TCY</th>\n",
              "      <th>TTX</th>\n",
              "      <th>TTY</th>\n",
              "      <th>TBX</th>\n",
              "      <th>TBY</th>\n",
              "      <th>TRX</th>\n",
              "      <th>TRY</th>\n",
              "      <th>TS1</th>\n",
              "      <th>TS2</th>\n",
              "      <th>TS3</th>\n",
              "      <th>vt_tau_s</th>\n",
              "      <th>_F0</th>\n",
              "      <th>_SP</th>\n",
              "      <th>_LD</th>\n",
              "      <th>_UD</th>\n",
              "      <th>_CA</th>\n",
              "      <th>_PL</th>\n",
              "      <th>_RA</th>\n",
              "      <th>_DP</th>\n",
              "      <th>_PS</th>\n",
              "      <th>_FL</th>\n",
              "      <th>_AS</th>\n",
              "      <th>gl_tau_s</th>\n",
              "    </tr>\n",
              "    <tr>\n",
              "      <th>idx</th>\n",
              "      <th>lab</th>\n",
              "      <th></th>\n",
              "      <th></th>\n",
              "      <th></th>\n",
              "      <th></th>\n",
              "      <th></th>\n",
              "      <th></th>\n",
              "      <th></th>\n",
              "      <th></th>\n",
              "      <th></th>\n",
              "      <th></th>\n",
              "      <th></th>\n",
              "      <th></th>\n",
              "      <th></th>\n",
              "      <th></th>\n",
              "      <th></th>\n",
              "      <th></th>\n",
              "      <th></th>\n",
              "      <th></th>\n",
              "      <th></th>\n",
              "      <th></th>\n",
              "      <th></th>\n",
              "      <th></th>\n",
              "      <th></th>\n",
              "      <th></th>\n",
              "      <th></th>\n",
              "      <th></th>\n",
              "      <th></th>\n",
              "      <th></th>\n",
              "      <th></th>\n",
              "      <th></th>\n",
              "      <th></th>\n",
              "      <th></th>\n",
              "    </tr>\n",
              "  </thead>\n",
              "  <tbody>\n",
              "    <tr>\n",
              "      <th>0</th>\n",
              "      <th>C_onset</th>\n",
              "      <td>1.0</td>\n",
              "      <td>-4.75</td>\n",
              "      <td>0.0</td>\n",
              "      <td>-2.0</td>\n",
              "      <td>-0.07</td>\n",
              "      <td>0.95</td>\n",
              "      <td>0.0</td>\n",
              "      <td>-0.1</td>\n",
              "      <td>-0.4</td>\n",
              "      <td>-1.46</td>\n",
              "      <td>3.5</td>\n",
              "      <td>-1.0</td>\n",
              "      <td>2.0</td>\n",
              "      <td>0.5</td>\n",
              "      <td>0.0</td>\n",
              "      <td>0.0</td>\n",
              "      <td>0.0</td>\n",
              "      <td>0.0</td>\n",
              "      <td>0.0</td>\n",
              "      <td>0.015</td>\n",
              "      <td>120.0</td>\n",
              "      <td>8000.0</td>\n",
              "      <td>0.03</td>\n",
              "      <td>0.03</td>\n",
              "      <td>0.0</td>\n",
              "      <td>0.88</td>\n",
              "      <td>1.0</td>\n",
              "      <td>0.0</td>\n",
              "      <td>0.0</td>\n",
              "      <td>25.0</td>\n",
              "      <td>-40.0</td>\n",
              "      <td>0.015</td>\n",
              "    </tr>\n",
              "    <tr>\n",
              "      <th>1</th>\n",
              "      <th>V</th>\n",
              "      <td>1.0</td>\n",
              "      <td>-4.75</td>\n",
              "      <td>0.0</td>\n",
              "      <td>-2.0</td>\n",
              "      <td>-0.07</td>\n",
              "      <td>0.95</td>\n",
              "      <td>0.0</td>\n",
              "      <td>-0.1</td>\n",
              "      <td>-0.4</td>\n",
              "      <td>-1.46</td>\n",
              "      <td>3.5</td>\n",
              "      <td>-1.0</td>\n",
              "      <td>2.0</td>\n",
              "      <td>0.5</td>\n",
              "      <td>0.0</td>\n",
              "      <td>0.0</td>\n",
              "      <td>0.0</td>\n",
              "      <td>0.0</td>\n",
              "      <td>0.0</td>\n",
              "      <td>0.015</td>\n",
              "      <td>120.0</td>\n",
              "      <td>8000.0</td>\n",
              "      <td>0.03</td>\n",
              "      <td>0.03</td>\n",
              "      <td>0.0</td>\n",
              "      <td>0.88</td>\n",
              "      <td>1.0</td>\n",
              "      <td>0.0</td>\n",
              "      <td>0.0</td>\n",
              "      <td>25.0</td>\n",
              "      <td>-40.0</td>\n",
              "      <td>0.015</td>\n",
              "    </tr>\n",
              "    <tr>\n",
              "      <th>2</th>\n",
              "      <th>C_coda</th>\n",
              "      <td>1.0</td>\n",
              "      <td>-4.75</td>\n",
              "      <td>0.0</td>\n",
              "      <td>-2.0</td>\n",
              "      <td>-0.07</td>\n",
              "      <td>0.95</td>\n",
              "      <td>0.0</td>\n",
              "      <td>-0.1</td>\n",
              "      <td>-0.4</td>\n",
              "      <td>-1.46</td>\n",
              "      <td>3.5</td>\n",
              "      <td>-1.0</td>\n",
              "      <td>2.0</td>\n",
              "      <td>0.5</td>\n",
              "      <td>0.0</td>\n",
              "      <td>0.0</td>\n",
              "      <td>0.0</td>\n",
              "      <td>0.0</td>\n",
              "      <td>0.0</td>\n",
              "      <td>0.015</td>\n",
              "      <td>120.0</td>\n",
              "      <td>8000.0</td>\n",
              "      <td>0.03</td>\n",
              "      <td>0.03</td>\n",
              "      <td>0.0</td>\n",
              "      <td>0.88</td>\n",
              "      <td>1.0</td>\n",
              "      <td>0.0</td>\n",
              "      <td>0.0</td>\n",
              "      <td>25.0</td>\n",
              "      <td>-40.0</td>\n",
              "      <td>0.015</td>\n",
              "    </tr>\n",
              "  </tbody>\n",
              "</table>"
            ]
          },
          "metadata": {}
        }
      ],
      "execution_count": 3,
      "metadata": {
        "collapsed": false,
        "jupyter": {
          "source_hidden": false,
          "outputs_hidden": false
        },
        "nteract": {
          "transient": {
            "deleting": false
          }
        },
        "execution": {
          "iopub.status.busy": "2020-07-27T14:30:24.860Z",
          "iopub.execute_input": "2020-07-27T14:30:24.873Z",
          "iopub.status.idle": "2020-07-27T14:30:24.882Z",
          "shell.execute_reply": "2020-07-27T14:30:24.903Z"
        }
      }
    },
    {
      "cell_type": "code",
      "source": [
        "import matplotlib.pyplot as pl\n",
        "pl.plot(wav)"
      ],
      "outputs": [
        {
          "output_type": "execute_result",
          "execution_count": 4,
          "data": {
            "text/plain": [
              "[<matplotlib.lines.Line2D at 0x7f54511beb20>]"
            ]
          },
          "metadata": {}
        },
        {
          "output_type": "display_data",
          "data": {
            "text/plain": [
              "<Figure size 432x288 with 1 Axes>"
            ],
            "image/png": "[encoded data removed]"
          },
          "metadata": {
            "needs_background": "light"
          }
        }
      ],
      "execution_count": 4,
      "metadata": {
        "collapsed": false,
        "jupyter": {
          "source_hidden": false,
          "outputs_hidden": false
        },
        "nteract": {
          "transient": {
            "deleting": false
          }
        },
        "execution": {
          "iopub.status.busy": "2020-07-27T14:30:24.888Z",
          "iopub.execute_input": "2020-07-27T14:30:24.891Z",
          "iopub.status.idle": "2020-07-27T14:30:25.229Z",
          "shell.execute_reply": "2020-07-27T14:30:25.235Z"
        }
      }
    },
    {
      "cell_type": "code",
      "source": [
        "#If you wanted to specify different static values for each segment before\n",
        "#synthesis you could overwrite for example the \"C_onset\" parameters instead of\n",
        "#all by indexing like this:\n",
        "idx = pd.IndexSlice[:, \"C_onset\"]\n",
        "seq.loc[idx, params] = neutral_targets #or others...\n",
        "#etc..."
      ],
      "outputs": [],
      "execution_count": 5,
      "metadata": {
        "collapsed": false,
        "jupyter": {
          "source_hidden": false,
          "outputs_hidden": false
        },
        "nteract": {
          "transient": {
            "deleting": false
          }
        },
        "execution": {
          "iopub.status.busy": "2020-07-27T14:30:25.241Z",
          "iopub.execute_input": "2020-07-27T14:30:25.246Z",
          "iopub.status.idle": "2020-07-27T14:30:25.252Z",
          "shell.execute_reply": "2020-07-27T14:30:25.256Z"
        }
      }
    }
  ],
  "metadata": {
    "kernel_info": {
      "name": "python3"
    },
    "language_info": {
      "name": "python",
      "version": "3.8.2",
      "mimetype": "text/x-python",
      "codemirror_mode": {
        "name": "ipython",
        "version": 3
      },
      "pygments_lexer": "ipython3",
      "nbconvert_exporter": "python",
      "file_extension": ".py"
    },
    "kernelspec": {
      "argv": [
        "python",
        "-m",
        "ipykernel_launcher",
        "-f",
        "{connection_file}"
      ],
      "display_name": "Python 3",
      "language": "python",
      "name": "python3"
    },
    "nteract": {
      "version": "0.23.1"
    }
  },
  "nbformat": 4,
  "nbformat_minor": 0
}