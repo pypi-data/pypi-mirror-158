{
  "cells": [
    {
      "cell_type": "markdown",
      "source": [
        "## Finding configuration and other necessary data\n",
        "- Configuration and definitions files that are distributed with the core tools are found in the **`etc`** directory\n",
        "- Other data files such as audio templates should be part of the external experimental setup (e.g. in the **`evoclearn-raw`** sub-project). For these examples we have included some data files in **`examples/data`**."
      ],
      "metadata": {
        "id": "NF2Y8d2kcl_M",
        "colab_type": "text"
      }
    },
    {
      "cell_type": "code",
      "source": [
        "from os import path\n",
        "etcdir = path.join(\"..\", \"etc\")\n",
        "datadir = \"data\""
      ],
      "outputs": [],
      "execution_count": 1,
      "metadata": {
        "id": "v2kdBmHu4B1b",
        "colab_type": "code",
        "colab": {},
        "execution": {
          "shell.execute_reply": "2020-07-27T14:16:58.883Z",
          "iopub.status.busy": "2020-07-27T14:16:58.908Z",
          "iopub.execute_input": "2020-07-27T14:16:58.920Z",
          "iopub.status.idle": "2020-07-27T14:16:58.935Z"
        }
      }
    },
    {
      "cell_type": "markdown",
      "source": [
        "## Initialise VocalTractLab with a speaker\n",
        "Needed if we want to synthesise audio"
      ],
      "metadata": {
        "id": "XU8ynsyMdKKB",
        "colab_type": "text"
      }
    },
    {
      "cell_type": "code",
      "source": [
        "from evoclearn.core import vocaltractlab as vtl\n",
        "vtl.initialise(path.join(etcdir, \"JD2_speaker.xml\"))"
      ],
      "outputs": [
        {
          "output_type": "execute_result",
          "execution_count": 2,
          "data": {
            "text/plain": [
              "<CDLL '/home/demitasse/workspace/evoclearn/evl_core/evoclearn/core/VocalTractLabApi.so', handle 2f84400 at 0x7fdf647dca30>"
            ]
          },
          "metadata": {}
        }
      ],
      "execution_count": 2,
      "metadata": {
        "id": "D0ryP6gz9eDr",
        "colab_type": "code",
        "colab": {},
        "execution": {
          "iopub.status.busy": "2020-07-27T14:16:58.950Z",
          "iopub.execute_input": "2020-07-27T14:16:58.958Z",
          "iopub.status.idle": "2020-07-27T14:16:59.324Z",
          "shell.execute_reply": "2020-07-27T14:16:59.349Z"
        }
      }
    },
    {
      "cell_type": "markdown",
      "source": [
        "## Import some Python and evoclearn-core components"
      ],
      "metadata": {
        "id": "Ul2XxOpceI2q",
        "colab_type": "text"
      }
    },
    {
      "cell_type": "code",
      "source": [
        "import functools\n",
        "import itertools\n",
        "\n",
        "import librosa\n",
        "\n",
        "from evoclearn.core.samplers import UniformProbLink\n",
        "from evoclearn.core.io import load_bounds, read_durations_from_textgrid, read_intervals_from_textgrid, wav_write\n",
        "from evoclearn.core.utils import KeepLastValue\n",
        "from evoclearn.core import mappings"
      ],
      "outputs": [],
      "execution_count": 3,
      "metadata": {
        "id": "fb7rPN9TeIW8",
        "colab_type": "code",
        "colab": {},
        "execution": {
          "iopub.status.busy": "2020-07-27T14:16:59.334Z",
          "iopub.execute_input": "2020-07-27T14:16:59.339Z",
          "shell.execute_reply": "2020-07-27T14:16:59.873Z",
          "iopub.status.idle": "2020-07-27T14:16:59.878Z"
        }
      }
    },
    {
      "cell_type": "markdown",
      "source": [
        "## Implement the random sampling loop for \"bad\" as done in evoclearn-raw\n",
        "Steps outlined below:"
      ],
      "metadata": {
        "id": "1TyiWb_UdmoX",
        "colab_type": "text"
      }
    },
    {
      "cell_type": "markdown",
      "source": [
        "#### Load the necessary data for the speaker and target sample:"
      ],
      "metadata": {
        "id": "Cu44-8Uu7Fj_",
        "colab_type": "text"
      }
    },
    {
      "cell_type": "code",
      "source": [
        "bounds = load_bounds(open(path.join(etcdir, \"JD2_bounds.json\")))\n",
        "target_cv_durations = read_durations_from_textgrid(path.join(datadir, \"bad.TextGrid\"), tier=\"1\")[:2]\n",
        "target_regions_of_interest = read_intervals_from_textgrid(path.join(datadir, \"bad.TextGrid\"), tier=\"1\")[:2]\n",
        "target_sound, target_samplerate = librosa.load(path.join(datadir, \"bad.wav\"))\n",
        "# The default audio samplerate is now 44100Hz (aligned with VTL API), so we need to explicitly specify if our target sound has a different samplerate:\n",
        "target_features = mappings.get_features(target_sound, audio_samplerate=target_samplerate, roi=target_regions_of_interest)"
      ],
      "outputs": [],
      "execution_count": 4,
      "metadata": {
        "id": "IxcnfQlyck5L",
        "colab_type": "code",
        "colab": {},
        "execution": {
          "iopub.status.busy": "2020-07-27T14:16:59.888Z",
          "iopub.execute_input": "2020-07-27T14:16:59.896Z",
          "iopub.status.idle": "2020-07-27T14:16:59.910Z",
          "shell.execute_reply": "2020-07-27T14:17:00.032Z"
        }
      }
    },
    {
      "cell_type": "markdown",
      "source": [
        "#### Set up some of the functions we will use"
      ],
      "metadata": {
        "id": "FCfbMB4Wp0PE",
        "colab_type": "text"
      }
    },
    {
      "cell_type": "code",
      "source": [
        "add_slope_and_duration = functools.partial(mappings.add_slope_and_duration, durations=target_cv_durations)\n",
        "get_error = functools.partial(mappings.get_error, ref_feat=target_features)"
      ],
      "outputs": [],
      "execution_count": 5,
      "metadata": {
        "id": "VMpU1G4cpzz5",
        "colab_type": "code",
        "colab": {},
        "execution": {
          "iopub.status.busy": "2020-07-27T14:16:59.929Z",
          "iopub.execute_input": "2020-07-27T14:16:59.938Z",
          "iopub.status.idle": "2020-07-27T14:16:59.951Z",
          "shell.execute_reply": "2020-07-27T14:17:00.042Z"
        }
      }
    },
    {
      "cell_type": "markdown",
      "source": [
        "#### Set up the simulation pipeline:"
      ],
      "metadata": {
        "id": "BgCmXXphnm5I",
        "colab_type": "text"
      }
    },
    {
      "cell_type": "code",
      "source": [
        "sampler = UniformProbLink(bounds, consonants=[\"b\"], seed=3)\n",
        "random_samples = KeepLastValue(sampler)\n",
        "full_targets = map(add_slope_and_duration, random_samples)\n",
        "vtl_curves = map(mappings.target_approximation, full_targets)\n",
        "speech_sounds = KeepLastValue(map(mappings.synthesise_vtl_curves, vtl_curves))\n",
        "features = map(mappings.get_features, speech_sounds)\n",
        "errors = map(get_error, features)"
      ],
      "outputs": [],
      "execution_count": 6,
      "metadata": {
        "id": "Bm5DqVYQkpi5",
        "colab_type": "code",
        "colab": {},
        "execution": {
          "iopub.status.busy": "2020-07-27T14:16:59.964Z",
          "iopub.execute_input": "2020-07-27T14:16:59.972Z",
          "iopub.status.idle": "2020-07-27T14:17:00.004Z",
          "shell.execute_reply": "2020-07-27T14:17:00.045Z"
        }
      }
    },
    {
      "cell_type": "markdown",
      "source": [
        "#### Define the simulation loop with stopping criteria, and save updates to files as needed:"
      ],
      "metadata": {
        "id": "sNAI-ZAbqAAY",
        "colab_type": "text"
      }
    },
    {
      "cell_type": "code",
      "source": [
        "twenty_iterations = itertools.islice(errors, 20)\n",
        "\n",
        "best_err = float(\"inf\")\n",
        "for i, err in enumerate(twenty_iterations):\n",
        "  print(err)\n",
        "  if err < best_err:\n",
        "    print(\"Found better sample... (saving wave, targets and error)\")\n",
        "    best_err = err\n",
        "    wav_write(speech_sounds.last_value, f\"iteration_{i}.wav\")\n",
        "    with open(f\"iteration_{i}.targets.json\", \"w\") as outf:\n",
        "      outf.write(random_samples.last_value.to_json())\n",
        "    with open(f\"iteration_{i}.error.txt\", \"w\") as outf:\n",
        "      outf.write(str(err))\n"
      ],
      "outputs": [
        {
          "output_type": "stream",
          "name": "stdout",
          "text": [
            "48539.21484375\n",
            "Found better sample... (saving wave, targets and error)\n",
            "48571.72265625\n",
            "48858.57421875\n",
            "32777.92578125\n",
            "Found better sample... (saving wave, targets and error)\n",
            "48980.7578125\n",
            "15641.6435546875\n",
            "Found better sample... (saving wave, targets and error)\n",
            "33451.0546875\n",
            "17516.068359375\n",
            "49452.1484375\n",
            "25423.06640625\n",
            "49409.34375\n",
            "48683.984375\n",
            "49060.05859375\n",
            "25841.9609375\n",
            "50096.5\n",
            "48449.98828125\n",
            "50673.5\n",
            "49931.3828125\n",
            "49231.65625\n",
            "48480.30078125\n"
          ]
        }
      ],
      "execution_count": 7,
      "metadata": {
        "id": "aKQaE5eLqOxF",
        "colab_type": "code",
        "colab": {},
        "execution": {
          "iopub.status.busy": "2020-07-27T14:17:00.016Z",
          "iopub.execute_input": "2020-07-27T14:17:00.022Z",
          "iopub.status.idle": "2020-07-27T14:17:30.692Z",
          "shell.execute_reply": "2020-07-27T14:17:30.701Z"
        }
      }
    }
  ],
  "metadata": {
    "colab": {
      "name": "evl_core_example.ipynb",
      "provenance": [],
      "collapsed_sections": [
        "NF2Y8d2kcl_M",
        "XU8ynsyMdKKB",
        "Ul2XxOpceI2q",
        "1TyiWb_UdmoX",
        "Cu44-8Uu7Fj_",
        "FCfbMB4Wp0PE",
        "BgCmXXphnm5I",
        "sNAI-ZAbqAAY"
      ]
    },
    "kernelspec": {
      "name": "python3",
      "language": "python",
      "display_name": "Python 3"
    },
    "kernel_info": {
      "name": "python3"
    },
    "language_info": {
      "name": "python",
      "version": "3.8.2",
      "mimetype": "text/x-python",
      "codemirror_mode": {
        "name": "ipython",
        "version": 3
      },
      "pygments_lexer": "ipython3",
      "nbconvert_exporter": "python",
      "file_extension": ".py"
    },
    "nteract": {
      "version": "0.23.1"
    }
  },
  "nbformat": 4,
  "nbformat_minor": 0
}