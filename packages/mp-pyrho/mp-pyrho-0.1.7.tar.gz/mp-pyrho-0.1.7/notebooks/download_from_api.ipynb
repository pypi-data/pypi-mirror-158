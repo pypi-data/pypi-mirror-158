{
 "cells": [
  {
   "attachments": {
    "f8eeb110-e1a3-4853-9a67-1530ecd4c175.png": {
     "image/png": "[encoded data removed]"
    }
   },
   "cell_type": "markdown",
   "id": "7ca8d079-3db0-4137-86fb-3b2ca41e16df",
   "metadata": {},
   "source": [
    "# Obtain your API key\n",
    "\n",
    "You can access your Materials Project API key at https://next-gen.materialsproject.org/api\n",
    "\n",
    "If you do not have an account yet, you will see the following button.\n",
    "Simply click it and follow the instructions to obtain your API key.\n",
    "![image.png](attachment:f8eeb110-e1a3-4853-9a67-1530ecd4c175.png)\n"
   ]
  },
  {
   "cell_type": "code",
   "execution_count": 27,
   "id": "ee6ae7aa-78c6-4481-b5e8-1da80c3684c5",
   "metadata": {},
   "outputs": [],
   "source": [
    "API_KEY = \"[YOUR API KEY]\""
   ]
  },
  {
   "cell_type": "markdown",
   "id": "5737f658-c1f7-4a6e-a4e1-2375a2a6e2a1",
   "metadata": {
    "tags": []
   },
   "source": [
    "These packages heavily depend on the `pymatgen` package so please first follow the instructions [here](https://pymatgen.org/installation.html) to install pymatgen (it is recommended that you set up a virtual environment using `conda` as part of this process).\n",
    "\n",
    "Instructions for installing and setting up the `Jupyter` notebook environment can be found [here](https://jupyter.org/install)\n",
    "\n",
    "Then you should install the following two packages:\n",
    "\n",
    "```\n",
    "pip install -U mp-api\n",
    "pip install -U mp-pyrho\n",
    "```\n",
    "\n",
    "To test that the installation was completed properly run the following commands and the output should be `pymatgen.io.vasp.outputs.Chgcar`"
   ]
  },
  {
   "cell_type": "code",
   "execution_count": 29,
   "id": "4dd96905-de51-4aac-ab8b-2114ce861808",
   "metadata": {},
   "outputs": [
    {
     "data": {
      "application/vnd.jupyter.widget-view+json": {
       "model_id": "fe1807aec1b942fdba3fff3530756260",
       "version_major": 2,
       "version_minor": 0
      },
      "text/plain": [
       "Retrieving MaterialsDoc documents:   0%|          | 0/1 [00:00<?, ?it/s]"
      ]
     },
     "metadata": {},
     "output_type": "display_data"
    },
    {
     "data": {
      "application/vnd.jupyter.widget-view+json": {
       "model_id": "f96664b1dad54d6483e95fe66fc60010",
       "version_major": 2,
       "version_minor": 0
      },
      "text/plain": [
       "Retrieving ChgcarDataDoc documents:   0%|          | 0/1 [00:00<?, ?it/s]"
      ]
     },
     "metadata": {},
     "output_type": "display_data"
    },
    {
     "data": {
      "application/vnd.jupyter.widget-view+json": {
       "model_id": "95fa883178354321a7a42ac6d1da68a9",
       "version_major": 2,
       "version_minor": 0
      },
      "text/plain": [
       "Retrieving ChgcarDataDoc documents:   0%|          | 0/1 [00:00<?, ?it/s]"
      ]
     },
     "metadata": {},
     "output_type": "display_data"
    },
    {
     "data": {
      "text/plain": [
       "pymatgen.io.vasp.outputs.Chgcar"
      ]
     },
     "execution_count": 29,
     "metadata": {},
     "output_type": "execute_result"
    }
   ],
   "source": [
    "from mp_api import MPRester\n",
    "with MPRester(API_KEY) as mpr:\n",
    "    chgcar = mpr.get_charge_density_from_material_id(\"mp-149\")\n",
    "type(chgcar)"
   ]
  },
  {
   "cell_type": "markdown",
   "id": "9982f584-22c8-4f15-b8ae-eaa7aa3918af",
   "metadata": {},
   "source": [
    "To obtain the inputs for a calculation, the `inc_task_doc` parameter can be set to `True`.  This returns a `TaskDocument` object, which represents the parsed directory of a VASP calculation.\n",
    "The inputs used are attributes of this `TaskDocument` object and can be accessed in the follow fashion: "
   ]
  },
  {
   "cell_type": "code",
   "execution_count": 30,
   "id": "bb799150-93fc-400d-a6f6-0c38692fbd59",
   "metadata": {},
   "outputs": [
    {
     "data": {
      "application/vnd.jupyter.widget-view+json": {
       "model_id": "dd1bf03f22c14f0a8edec1044b632ea4",
       "version_major": 2,
       "version_minor": 0
      },
      "text/plain": [
       "Retrieving MaterialsDoc documents:   0%|          | 0/1 [00:00<?, ?it/s]"
      ]
     },
     "metadata": {},
     "output_type": "display_data"
    },
    {
     "data": {
      "application/vnd.jupyter.widget-view+json": {
       "model_id": "79ab6596f9cb431eba63de167b79c123",
       "version_major": 2,
       "version_minor": 0
      },
      "text/plain": [
       "Retrieving ChgcarDataDoc documents:   0%|          | 0/1 [00:00<?, ?it/s]"
      ]
     },
     "metadata": {},
     "output_type": "display_data"
    },
    {
     "data": {
      "application/vnd.jupyter.widget-view+json": {
       "model_id": "5e326871396346208d693bf7465ee846",
       "version_major": 2,
       "version_minor": 0
      },
      "text/plain": [
       "Retrieving ChgcarDataDoc documents:   0%|          | 0/1 [00:00<?, ?it/s]"
      ]
     },
     "metadata": {},
     "output_type": "display_data"
    },
    {
     "data": {
      "application/vnd.jupyter.widget-view+json": {
       "model_id": "ee737f263a7743ba955e318112fd95c8",
       "version_major": 2,
       "version_minor": 0
      },
      "text/plain": [
       "Retrieving TaskDoc documents:   0%|          | 0/1 [00:00<?, ?it/s]"
      ]
     },
     "metadata": {},
     "output_type": "display_data"
    },
    {
     "name": "stdout",
     "output_type": "stream",
     "text": [
      "INCAR: class -> <class 'pymatgen.io.vasp.inputs.Incar'>\n",
      "ADDGRID = True\n",
      "ALGO = Normal\n",
      "EDIFF = 5e-05\n",
      "ENCUT = 520\n",
      "IBRION = -1\n",
      "ISIF = 3\n",
      "ISMEAR = -5\n",
      "ISPIN = 2\n",
      "LAECHG = True\n",
      "LASPH = True\n",
      "LCHARG = True\n",
      "LORBIT = 11\n",
      "LREAL = Auto\n",
      "LVHAR = True\n",
      "LWAVE = False\n",
      "MAGMOM = 2*0.6\n",
      "NELM = 100\n",
      "NSW = 0\n",
      "PREC = Accurate\n",
      "SIGMA = 0.05\n",
      "\n",
      "POSCAR: class -> <class 'pymatgen.io.vasp.inputs.Poscar'>\n",
      "Si2\n",
      "1.0\n",
      "0.000000 2.734364 2.734364\n",
      "2.734364 0.000000 2.734364\n",
      "2.734364 2.734364 0.000000\n",
      "Si\n",
      "2\n",
      "direct\n",
      "0.250000 0.250000 0.250000 Si\n",
      "0.000000 0.000000 0.000000 Si\n",
      "\n",
      "KPOINTS: class -> <class 'pymatgen.io.vasp.inputs.Incar'>\n",
      "Automatic kpoint scheme\n",
      "0\n",
      "Monkhorst\n",
      "8 8 8\n",
      "\n",
      "POTCAR: class -> <class 'emmet.core.tasks.Potcar'>\n",
      "functional='PBE' symbols=['Si']\n"
     ]
    }
   ],
   "source": [
    "chgcar, task = mpr.get_charge_density_from_material_id(\"mp-149\", inc_task_doc=True)\n",
    "print(f\"INCAR: class -> {type(task.orig_inputs.incar)}\")\n",
    "print(task.orig_inputs.incar)\n",
    "print(f\"POSCAR: class -> {type(task.orig_inputs.poscar)}\")\n",
    "print(task.orig_inputs.poscar)\n",
    "print(f\"KPOINTS: class -> {type(task.orig_inputs.incar)}\")\n",
    "print(task.orig_inputs.kpoints)\n",
    "print(f\"POTCAR: class -> {type(task.orig_inputs.potcar)}\")\n",
    "print(task.orig_inputs.potcar)"
   ]
  },
  {
   "cell_type": "markdown",
   "id": "6e05487e-6036-426c-8725-2ac0d6baefc8",
   "metadata": {},
   "source": [
    "Since the automation framework at the Materials Project attempts to fix common VASP run failures, the exact set of VASP inputs in the final calculation might be different from the original inputs.\n",
    "These outputs can be accessed via the `calcs_reversed` attribute as shown below.  Since all of the charge densities are generated with static calculations there should only be one entry in the `calcs_reversed` list.\n",
    "The detailed information can be accessed using the `input` and `output` attributes."
   ]
  },
  {
   "cell_type": "code",
   "execution_count": 33,
   "id": "28cd3305-a982-46f6-99b3-1425fdfa7b2f",
   "metadata": {},
   "outputs": [
    {
     "data": {
      "text/plain": [
       "dict_keys(['incar', 'kpoints', 'nkpoints', 'potcar', 'potcar_spec', 'potcar_type', 'parameters', 'lattice_rec', 'structure'])"
      ]
     },
     "execution_count": 33,
     "metadata": {},
     "output_type": "execute_result"
    }
   ],
   "source": [
    "task.calcs_reversed[0].input.keys()"
   ]
  },
  {
   "cell_type": "code",
   "execution_count": 34,
   "id": "d2179506-4301-440e-8170-5b059c248156",
   "metadata": {},
   "outputs": [
    {
     "data": {
      "text/plain": [
       "dict_keys(['ionic_steps', 'efermi', 'bandgap', 'cbm', 'vbm', 'is_gap_direct', 'epsilon_static', 'epsilon_static_wolfe', 'epsilon_ionic', 'structure', 'energy', 'energy_per_atom', 'is_metal', 'direct_gap', 'eigenvalue_band_properties', 'outcar'])"
      ]
     },
     "execution_count": 34,
     "metadata": {},
     "output_type": "execute_result"
    }
   ],
   "source": [
    "task.calcs_reversed[0].output.keys()"
   ]
  },
  {
   "cell_type": "markdown",
   "id": "435a2310-b278-45d2-a802-6e9b031553d5",
   "metadata": {},
   "source": [
    "# Querying for the charge density of many different structures\n",
    "\n",
    "The `mp_api` is a full-featured REST api for all of the data on the materials project.\n",
    "Its features are too numerous to list here, so we will use a basic cystal-system query to show how you can obtain all of the charge densities of the stable structures in the \"Hexagonal\" crystal system.\n",
    "\n",
    "We can begin be querying for all of the stable materials in that system.\n",
    "But since we are not interested in obtaining all of the material data available we can filter our query by the `material_id` field to reduce the time and network load.\n"
   ]
  },
  {
   "cell_type": "code",
   "execution_count": 22,
   "id": "d09a9992-d44c-49df-ae21-4e855f5327e8",
   "metadata": {},
   "outputs": [
    {
     "data": {
      "application/vnd.jupyter.widget-view+json": {
       "model_id": "49cada5152a345819dc5bb7265794420",
       "version_major": 2,
       "version_minor": 0
      },
      "text/plain": [
       "Retrieving SummaryDoc documents:   0%|          | 0/3733 [00:00<?, ?it/s]"
      ]
     },
     "metadata": {},
     "output_type": "display_data"
    }
   ],
   "source": [
    "from mp_api import MPRester\n",
    "with MPRester(API_KEY) as mpr:\n",
    "    hexagonal_materials = mpr.summary.search(crystal_system=\"Hexagonal\", is_stable=True, fields=[\"material_id\"])"
   ]
  },
  {
   "cell_type": "markdown",
   "id": "1a69da27-d34d-4b7f-8547-6b75e0bf826f",
   "metadata": {},
   "source": [
    "We can see how many documents were returned by the query above."
   ]
  },
  {
   "cell_type": "code",
   "execution_count": 23,
   "id": "60b93c6a-1776-4720-9686-bdafe9cc2314",
   "metadata": {},
   "outputs": [
    {
     "name": "stdout",
     "output_type": "stream",
     "text": [
      "The query returned 3733 documents.\n"
     ]
    }
   ],
   "source": [
    "print(f\"The query returned {len(hexagonal_materials)} documents.\")"
   ]
  },
  {
   "cell_type": "markdown",
   "id": "9e1a7f55-8553-4aba-a929-67ebe20297eb",
   "metadata": {},
   "source": [
    "This returns a list of more than 3000 materials which is much larger, some will have charge densities available in our database some will not.\n",
    "We can loop through these materials and save the charge densities we find in a folder."
   ]
  },
  {
   "cell_type": "code",
   "execution_count": 24,
   "id": "15ab45c4-04fc-45ab-a44a-24989ba0c2fb",
   "metadata": {},
   "outputs": [],
   "source": [
    "# Create the destination folder if it is not already present\n",
    "import os\n",
    "if not os.path.exists('found_chgcars'):\n",
    "    os.makedirs('found_chgcars')"
   ]
  },
  {
   "attachments": {
    "98100070-e283-45d3-9590-fc7907c8ef74.png": {
     "image/png": "[encoded data removed]"
    }
   },
   "cell_type": "markdown",
   "id": "3c76662a-1e19-4ac1-b9a3-fe526159e636",
   "metadata": {},
   "source": [
    "Finally, we can loop through the different hexagonal materials and grab the charge densities in the form of a `Chgcar`.\n",
    "Each `Chgcar` object is then written to a file with the name like `CHGCAR_mp-5620.vasp`.\n",
    "The charge density can be viewed in Vesta and after adjusting the isosurface you should see something like this:\n",
    "\n",
    "![image.png](attachment:98100070-e283-45d3-9590-fc7907c8ef74.png)\n"
   ]
  },
  {
   "cell_type": "code",
   "execution_count": 25,
   "id": "a574d123-f204-43ac-b25c-34d2c5a9ff70",
   "metadata": {
    "tags": []
   },
   "outputs": [
    {
     "name": "stdout",
     "output_type": "stream",
     "text": [
      "Searching for mp-554389\n"
     ]
    },
    {
     "data": {
      "application/vnd.jupyter.widget-view+json": {
       "model_id": "decdbe985b8b4509aebbaf260c4b7de3",
       "version_major": 2,
       "version_minor": 0
      },
      "text/plain": [
       "Retrieving MaterialsDoc documents:   0%|          | 0/1 [00:00<?, ?it/s]"
      ]
     },
     "metadata": {},
     "output_type": "display_data"
    },
    {
     "data": {
      "application/vnd.jupyter.widget-view+json": {
       "model_id": "6863d98f5a4e40eba40eb6b8d9dc78c4",
       "version_major": 2,
       "version_minor": 0
      },
      "text/plain": [
       "Retrieving ChgcarDataDoc documents:   0%|          | 0/1 [00:00<?, ?it/s]"
      ]
     },
     "metadata": {},
     "output_type": "display_data"
    },
    {
     "data": {
      "application/vnd.jupyter.widget-view+json": {
       "model_id": "a4cdbaa0a4084278af85747ffaf926e9",
       "version_major": 2,
       "version_minor": 0
      },
      "text/plain": [
       "Retrieving ChgcarDataDoc documents:   0%|          | 0/1 [00:00<?, ?it/s]"
      ]
     },
     "metadata": {},
     "output_type": "display_data"
    },
    {
     "name": "stdout",
     "output_type": "stream",
     "text": [
      "Searching for mp-1213435\n"
     ]
    },
    {
     "data": {
      "application/vnd.jupyter.widget-view+json": {
       "model_id": "2b4b235f687d4272ba1dcf2d24f5590a",
       "version_major": 2,
       "version_minor": 0
      },
      "text/plain": [
       "Retrieving MaterialsDoc documents:   0%|          | 0/1 [00:00<?, ?it/s]"
      ]
     },
     "metadata": {},
     "output_type": "display_data"
    },
    {
     "data": {
      "application/vnd.jupyter.widget-view+json": {
       "model_id": "c623b1ef60804a768e9aa31c4d905df0",
       "version_major": 2,
       "version_minor": 0
      },
      "text/plain": [
       "Retrieving ChgcarDataDoc documents: 0it [00:00, ?it/s]"
      ]
     },
     "metadata": {},
     "output_type": "display_data"
    },
    {
     "name": "stdout",
     "output_type": "stream",
     "text": [
      "Searching for mp-28987\n"
     ]
    },
    {
     "data": {
      "application/vnd.jupyter.widget-view+json": {
       "model_id": "93603adaa0c7436fa81156819f3c8d06",
       "version_major": 2,
       "version_minor": 0
      },
      "text/plain": [
       "Retrieving MaterialsDoc documents:   0%|          | 0/1 [00:00<?, ?it/s]"
      ]
     },
     "metadata": {},
     "output_type": "display_data"
    },
    {
     "data": {
      "application/vnd.jupyter.widget-view+json": {
       "model_id": "61069f4cb2474e499d578b54bd585aaa",
       "version_major": 2,
       "version_minor": 0
      },
      "text/plain": [
       "Retrieving ChgcarDataDoc documents:   0%|          | 0/1 [00:00<?, ?it/s]"
      ]
     },
     "metadata": {},
     "output_type": "display_data"
    },
    {
     "data": {
      "application/vnd.jupyter.widget-view+json": {
       "model_id": "310485abb22b4d7bbe9a27c723fc83b9",
       "version_major": 2,
       "version_minor": 0
      },
      "text/plain": [
       "Retrieving ChgcarDataDoc documents:   0%|          | 0/1 [00:00<?, ?it/s]"
      ]
     },
     "metadata": {},
     "output_type": "display_data"
    },
    {
     "name": "stdout",
     "output_type": "stream",
     "text": [
      "Searching for mp-1804\n"
     ]
    },
    {
     "data": {
      "application/vnd.jupyter.widget-view+json": {
       "model_id": "dad81469e1f74709a4e7f1a08975fe11",
       "version_major": 2,
       "version_minor": 0
      },
      "text/plain": [
       "Retrieving MaterialsDoc documents:   0%|          | 0/1 [00:00<?, ?it/s]"
      ]
     },
     "metadata": {},
     "output_type": "display_data"
    },
    {
     "data": {
      "application/vnd.jupyter.widget-view+json": {
       "model_id": "a6bcdb4362764573831eb95f7269ff07",
       "version_major": 2,
       "version_minor": 0
      },
      "text/plain": [
       "Retrieving ChgcarDataDoc documents:   0%|          | 0/1 [00:00<?, ?it/s]"
      ]
     },
     "metadata": {},
     "output_type": "display_data"
    },
    {
     "data": {
      "application/vnd.jupyter.widget-view+json": {
       "model_id": "4480548a972c45fc83f6b28e328ded64",
       "version_major": 2,
       "version_minor": 0
      },
      "text/plain": [
       "Retrieving ChgcarDataDoc documents:   0%|          | 0/1 [00:00<?, ?it/s]"
      ]
     },
     "metadata": {},
     "output_type": "display_data"
    },
    {
     "name": "stdout",
     "output_type": "stream",
     "text": [
      "Searching for mp-1079242\n"
     ]
    },
    {
     "data": {
      "application/vnd.jupyter.widget-view+json": {
       "model_id": "31cbf2637b8f430fbd05c38d5e9aa35b",
       "version_major": 2,
       "version_minor": 0
      },
      "text/plain": [
       "Retrieving MaterialsDoc documents:   0%|          | 0/1 [00:00<?, ?it/s]"
      ]
     },
     "metadata": {},
     "output_type": "display_data"
    },
    {
     "data": {
      "application/vnd.jupyter.widget-view+json": {
       "model_id": "73661d195f784fc890247425daf39fcf",
       "version_major": 2,
       "version_minor": 0
      },
      "text/plain": [
       "Retrieving ChgcarDataDoc documents:   0%|          | 0/1 [00:00<?, ?it/s]"
      ]
     },
     "metadata": {},
     "output_type": "display_data"
    },
    {
     "data": {
      "application/vnd.jupyter.widget-view+json": {
       "model_id": "d33e43751d8e46dca2d90587a1d4be2b",
       "version_major": 2,
       "version_minor": 0
      },
      "text/plain": [
       "Retrieving ChgcarDataDoc documents:   0%|          | 0/1 [00:00<?, ?it/s]"
      ]
     },
     "metadata": {},
     "output_type": "display_data"
    },
    {
     "name": "stdout",
     "output_type": "stream",
     "text": [
      "Searching for mp-1217775\n"
     ]
    },
    {
     "data": {
      "application/vnd.jupyter.widget-view+json": {
       "model_id": "263ee5b4cb3a48f583908b5abd75f18d",
       "version_major": 2,
       "version_minor": 0
      },
      "text/plain": [
       "Retrieving MaterialsDoc documents:   0%|          | 0/1 [00:00<?, ?it/s]"
      ]
     },
     "metadata": {},
     "output_type": "display_data"
    },
    {
     "data": {
      "application/vnd.jupyter.widget-view+json": {
       "model_id": "aea7e835a8b84f91867a40d352604c96",
       "version_major": 2,
       "version_minor": 0
      },
      "text/plain": [
       "Retrieving ChgcarDataDoc documents:   0%|          | 0/1 [00:00<?, ?it/s]"
      ]
     },
     "metadata": {},
     "output_type": "display_data"
    },
    {
     "data": {
      "application/vnd.jupyter.widget-view+json": {
       "model_id": "c23677e0032e4860b036a487f20b45e3",
       "version_major": 2,
       "version_minor": 0
      },
      "text/plain": [
       "Retrieving ChgcarDataDoc documents:   0%|          | 0/1 [00:00<?, ?it/s]"
      ]
     },
     "metadata": {},
     "output_type": "display_data"
    },
    {
     "name": "stdout",
     "output_type": "stream",
     "text": [
      "Searching for mp-978102\n"
     ]
    },
    {
     "data": {
      "application/vnd.jupyter.widget-view+json": {
       "model_id": "8d91e9d4884f48d986e06b6bf63cdb29",
       "version_major": 2,
       "version_minor": 0
      },
      "text/plain": [
       "Retrieving MaterialsDoc documents:   0%|          | 0/1 [00:00<?, ?it/s]"
      ]
     },
     "metadata": {},
     "output_type": "display_data"
    },
    {
     "data": {
      "application/vnd.jupyter.widget-view+json": {
       "model_id": "06ce5f18d9ea4eef8b3e9d7de149fabc",
       "version_major": 2,
       "version_minor": 0
      },
      "text/plain": [
       "Retrieving ChgcarDataDoc documents:   0%|          | 0/1 [00:00<?, ?it/s]"
      ]
     },
     "metadata": {},
     "output_type": "display_data"
    },
    {
     "data": {
      "application/vnd.jupyter.widget-view+json": {
       "model_id": "16fc7d10ee0a49a5a93891dba4a87b9d",
       "version_major": 2,
       "version_minor": 0
      },
      "text/plain": [
       "Retrieving ChgcarDataDoc documents:   0%|          | 0/1 [00:00<?, ?it/s]"
      ]
     },
     "metadata": {},
     "output_type": "display_data"
    },
    {
     "name": "stdout",
     "output_type": "stream",
     "text": [
      "Searching for mp-2108\n"
     ]
    },
    {
     "data": {
      "application/vnd.jupyter.widget-view+json": {
       "model_id": "dd5e9a9bead34bb98b8bd4e00efa718e",
       "version_major": 2,
       "version_minor": 0
      },
      "text/plain": [
       "Retrieving MaterialsDoc documents:   0%|          | 0/1 [00:00<?, ?it/s]"
      ]
     },
     "metadata": {},
     "output_type": "display_data"
    },
    {
     "data": {
      "application/vnd.jupyter.widget-view+json": {
       "model_id": "7cf679aead314ecea04f433109766370",
       "version_major": 2,
       "version_minor": 0
      },
      "text/plain": [
       "Retrieving ChgcarDataDoc documents:   0%|          | 0/1 [00:00<?, ?it/s]"
      ]
     },
     "metadata": {},
     "output_type": "display_data"
    },
    {
     "data": {
      "application/vnd.jupyter.widget-view+json": {
       "model_id": "700c1ce7a8eb464da3a5202c8ef9566a",
       "version_major": 2,
       "version_minor": 0
      },
      "text/plain": [
       "Retrieving ChgcarDataDoc documents:   0%|          | 0/1 [00:00<?, ?it/s]"
      ]
     },
     "metadata": {},
     "output_type": "display_data"
    },
    {
     "name": "stdout",
     "output_type": "stream",
     "text": [
      "Searching for mp-6709\n"
     ]
    },
    {
     "data": {
      "application/vnd.jupyter.widget-view+json": {
       "model_id": "037ae3e9e15e4384905df5710964f775",
       "version_major": 2,
       "version_minor": 0
      },
      "text/plain": [
       "Retrieving MaterialsDoc documents:   0%|          | 0/1 [00:00<?, ?it/s]"
      ]
     },
     "metadata": {},
     "output_type": "display_data"
    },
    {
     "data": {
      "application/vnd.jupyter.widget-view+json": {
       "model_id": "5d2b64e8c2d24d5cbeb0ece964a572aa",
       "version_major": 2,
       "version_minor": 0
      },
      "text/plain": [
       "Retrieving ChgcarDataDoc documents:   0%|          | 0/1 [00:00<?, ?it/s]"
      ]
     },
     "metadata": {},
     "output_type": "display_data"
    },
    {
     "data": {
      "application/vnd.jupyter.widget-view+json": {
       "model_id": "c2c22bdf1800442098565743d9ca20fe",
       "version_major": 2,
       "version_minor": 0
      },
      "text/plain": [
       "Retrieving ChgcarDataDoc documents:   0%|          | 0/1 [00:00<?, ?it/s]"
      ]
     },
     "metadata": {},
     "output_type": "display_data"
    },
    {
     "name": "stdout",
     "output_type": "stream",
     "text": [
      "Searching for mp-1077361\n"
     ]
    },
    {
     "data": {
      "application/vnd.jupyter.widget-view+json": {
       "model_id": "7d071b8c81f4454697a417fab40caecb",
       "version_major": 2,
       "version_minor": 0
      },
      "text/plain": [
       "Retrieving MaterialsDoc documents:   0%|          | 0/1 [00:00<?, ?it/s]"
      ]
     },
     "metadata": {},
     "output_type": "display_data"
    },
    {
     "data": {
      "application/vnd.jupyter.widget-view+json": {
       "model_id": "6eedee4b0eca48498a54c81ded229b6b",
       "version_major": 2,
       "version_minor": 0
      },
      "text/plain": [
       "Retrieving ChgcarDataDoc documents:   0%|          | 0/1 [00:00<?, ?it/s]"
      ]
     },
     "metadata": {},
     "output_type": "display_data"
    },
    {
     "data": {
      "application/vnd.jupyter.widget-view+json": {
       "model_id": "8d9de32d947c4417bc457940823831ea",
       "version_major": 2,
       "version_minor": 0
      },
      "text/plain": [
       "Retrieving ChgcarDataDoc documents:   0%|          | 0/1 [00:00<?, ?it/s]"
      ]
     },
     "metadata": {},
     "output_type": "display_data"
    }
   ],
   "source": [
    "found_chgcar_ids = []\n",
    "with MPRester(API_KEY) as mpr:\n",
    "    for imat in hexagonal_materials[:10]:\n",
    "        print(f\"Searching for {imat.material_id}\")\n",
    "        chgcar = mpr.get_charge_density_from_material_id(imat.material_id)\n",
    "        if chgcar is None:\n",
    "            continue\n",
    "        chgcar.write_file(f\"./found_chgcars/CHGCAR_{imat.material_id}.vasp\")\n",
    "        found_chgcar_ids.append(imat.material_id)\n"
   ]
  },
  {
   "cell_type": "code",
   "execution_count": null,
   "id": "d1a65c97-e8a9-4f7a-8712-21cf73434be5",
   "metadata": {},
   "outputs": [],
   "source": []
  }
 ],
 "metadata": {
  "kernelspec": {
   "display_name": "Python 3 (ipykernel)",
   "language": "python",
   "name": "python3"
  },
  "language_info": {
   "codemirror_mode": {
    "name": "ipython",
    "version": 3
   },
   "file_extension": ".py",
   "mimetype": "text/x-python",
   "name": "python",
   "nbconvert_exporter": "python",
   "pygments_lexer": "ipython3",
   "version": "3.9.9"
  }
 },
 "nbformat": 4,
 "nbformat_minor": 5
}
