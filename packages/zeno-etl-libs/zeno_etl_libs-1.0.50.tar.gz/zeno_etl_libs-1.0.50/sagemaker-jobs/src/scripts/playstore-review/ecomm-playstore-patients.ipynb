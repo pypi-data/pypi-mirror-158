{
 "cells": [
  {
   "cell_type": "code",
   "execution_count": 1,
   "id": "94553be3-8bef-427f-9de7-c71bf4ac0040",
   "metadata": {},
   "outputs": [
    {
     "name": "stdout",
     "output_type": "stream",
     "text": [
      "Requirement already satisfied: google-api-core==2.7.1 in c:\\users\\lenovo\\documents\\generico-projects\\etl\\etl_env\\lib\\site-packages (2.7.1)\n",
      "Collecting google-api-python-client==2.42.0\n",
      "  Using cached google_api_python_client-2.42.0-py2.py3-none-any.whl (8.3 MB)\n",
      "Requirement already satisfied: google-auth==2.6.6 in c:\\users\\lenovo\\documents\\generico-projects\\etl\\etl_env\\lib\\site-packages (2.6.6)\n",
      "Requirement already satisfied: googleapis-common-protos<2.0dev,>=1.52.0 in c:\\users\\lenovo\\documents\\generico-projects\\etl\\etl_env\\lib\\site-packages (from google-api-core==2.7.1) (1.56.1)\n",
      "Requirement already satisfied: protobuf>=3.12.0 in c:\\users\\lenovo\\documents\\generico-projects\\etl\\etl_env\\lib\\site-packages (from google-api-core==2.7.1) (3.20.1)\n",
      "Requirement already satisfied: requests<3.0.0dev,>=2.18.0 in c:\\users\\lenovo\\documents\\generico-projects\\etl\\etl_env\\lib\\site-packages (from google-api-core==2.7.1) (2.27.1)\n",
      "Requirement already satisfied: google-auth-httplib2>=0.1.0 in c:\\users\\lenovo\\documents\\generico-projects\\etl\\etl_env\\lib\\site-packages (from google-api-python-client==2.42.0) (0.1.0)\n",
      "Requirement already satisfied: uritemplate<5,>=3.0.1 in c:\\users\\lenovo\\documents\\generico-projects\\etl\\etl_env\\lib\\site-packages (from google-api-python-client==2.42.0) (4.1.1)\n",
      "Requirement already satisfied: httplib2<1dev,>=0.15.0 in c:\\users\\lenovo\\documents\\generico-projects\\etl\\etl_env\\lib\\site-packages (from google-api-python-client==2.42.0) (0.20.4)\n",
      "Requirement already satisfied: pyasn1-modules>=0.2.1 in c:\\users\\lenovo\\documents\\generico-projects\\etl\\etl_env\\lib\\site-packages (from google-auth==2.6.6) (0.2.8)\n",
      "Requirement already satisfied: six>=1.9.0 in c:\\users\\lenovo\\documents\\generico-projects\\etl\\etl_env\\lib\\site-packages (from google-auth==2.6.6) (1.16.0)\n",
      "Requirement already satisfied: rsa<5,>=3.1.4 in c:\\users\\lenovo\\documents\\generico-projects\\etl\\etl_env\\lib\\site-packages (from google-auth==2.6.6) (4.7.2)\n",
      "Requirement already satisfied: cachetools<6.0,>=2.0.0 in c:\\users\\lenovo\\documents\\generico-projects\\etl\\etl_env\\lib\\site-packages (from google-auth==2.6.6) (5.1.0)\n",
      "Requirement already satisfied: pyparsing!=3.0.0,!=3.0.1,!=3.0.2,!=3.0.3,<4,>=2.4.2 in c:\\users\\lenovo\\documents\\generico-projects\\etl\\etl_env\\lib\\site-packages (from httplib2<1dev,>=0.15.0->google-api-python-client==2.42.0) (3.0.6)\n",
      "Requirement already satisfied: pyasn1<0.5.0,>=0.4.6 in c:\\users\\lenovo\\documents\\generico-projects\\etl\\etl_env\\lib\\site-packages (from pyasn1-modules>=0.2.1->google-auth==2.6.6) (0.4.8)\n",
      "Requirement already satisfied: certifi>=2017.4.17 in c:\\users\\lenovo\\documents\\generico-projects\\etl\\etl_env\\lib\\site-packages (from requests<3.0.0dev,>=2.18.0->google-api-core==2.7.1) (2021.10.8)\n",
      "Requirement already satisfied: urllib3<1.27,>=1.21.1 in c:\\users\\lenovo\\documents\\generico-projects\\etl\\etl_env\\lib\\site-packages (from requests<3.0.0dev,>=2.18.0->google-api-core==2.7.1) (1.26.7)\n",
      "Requirement already satisfied: idna<4,>=2.5 in c:\\users\\lenovo\\documents\\generico-projects\\etl\\etl_env\\lib\\site-packages (from requests<3.0.0dev,>=2.18.0->google-api-core==2.7.1) (3.3)\n",
      "Requirement already satisfied: charset-normalizer~=2.0.0 in c:\\users\\lenovo\\documents\\generico-projects\\etl\\etl_env\\lib\\site-packages (from requests<3.0.0dev,>=2.18.0->google-api-core==2.7.1) (2.0.9)\n",
      "Installing collected packages: google-api-python-client\n",
      "  Attempting uninstall: google-api-python-client\n",
      "    Found existing installation: google-api-python-client 2.51.0\n",
      "    Uninstalling google-api-python-client-2.51.0:\n",
      "      Successfully uninstalled google-api-python-client-2.51.0\n",
      "Successfully installed google-api-python-client-2.42.0\n"
     ]
    },
    {
     "name": "stderr",
     "output_type": "stream",
     "text": [
      "WARNING: There was an error checking the latest version of pip.\n"
     ]
    },
    {
     "name": "stdout",
     "output_type": "stream",
     "text": [
      "Requirement already satisfied: google-api-python-client in c:\\users\\lenovo\\documents\\generico-projects\\etl\\etl_env\\lib\\site-packages (2.42.0)\n",
      "Collecting google-api-python-client\n",
      "  Using cached google_api_python_client-2.51.0-py2.py3-none-any.whl (8.6 MB)\n",
      "Requirement already satisfied: oauth2client in c:\\users\\lenovo\\documents\\generico-projects\\etl\\etl_env\\lib\\site-packages (4.1.3)\n",
      "Requirement already satisfied: google-auth-httplib2>=0.1.0 in c:\\users\\lenovo\\documents\\generico-projects\\etl\\etl_env\\lib\\site-packages (from google-api-python-client) (0.1.0)\n",
      "Requirement already satisfied: uritemplate<5,>=3.0.1 in c:\\users\\lenovo\\documents\\generico-projects\\etl\\etl_env\\lib\\site-packages (from google-api-python-client) (4.1.1)\n",
      "Requirement already satisfied: google-api-core!=2.0.*,!=2.1.*,!=2.2.*,!=2.3.0,<3.0.0dev,>=1.31.5 in c:\\users\\lenovo\\documents\\generico-projects\\etl\\etl_env\\lib\\site-packages (from google-api-python-client) (2.7.1)\n",
      "Requirement already satisfied: httplib2<1dev,>=0.15.0 in c:\\users\\lenovo\\documents\\generico-projects\\etl\\etl_env\\lib\\site-packages (from google-api-python-client) (0.20.4)\n",
      "Requirement already satisfied: google-auth<3.0.0dev,>=1.16.0 in c:\\users\\lenovo\\documents\\generico-projects\\etl\\etl_env\\lib\\site-packages (from google-api-python-client) (2.6.6)\n",
      "Requirement already satisfied: rsa>=3.1.4 in c:\\users\\lenovo\\documents\\generico-projects\\etl\\etl_env\\lib\\site-packages (from oauth2client) (4.7.2)\n",
      "Requirement already satisfied: pyasn1>=0.1.7 in c:\\users\\lenovo\\documents\\generico-projects\\etl\\etl_env\\lib\\site-packages (from oauth2client) (0.4.8)\n",
      "Requirement already satisfied: six>=1.6.1 in c:\\users\\lenovo\\documents\\generico-projects\\etl\\etl_env\\lib\\site-packages (from oauth2client) (1.16.0)\n",
      "Requirement already satisfied: pyasn1-modules>=0.0.5 in c:\\users\\lenovo\\documents\\generico-projects\\etl\\etl_env\\lib\\site-packages (from oauth2client) (0.2.8)\n",
      "Requirement already satisfied: requests<3.0.0dev,>=2.18.0 in c:\\users\\lenovo\\documents\\generico-projects\\etl\\etl_env\\lib\\site-packages (from google-api-core!=2.0.*,!=2.1.*,!=2.2.*,!=2.3.0,<3.0.0dev,>=1.31.5->google-api-python-client) (2.27.1)\n",
      "Requirement already satisfied: protobuf>=3.12.0 in c:\\users\\lenovo\\documents\\generico-projects\\etl\\etl_env\\lib\\site-packages (from google-api-core!=2.0.*,!=2.1.*,!=2.2.*,!=2.3.0,<3.0.0dev,>=1.31.5->google-api-python-client) (3.20.1)\n",
      "Requirement already satisfied: googleapis-common-protos<2.0dev,>=1.52.0 in c:\\users\\lenovo\\documents\\generico-projects\\etl\\etl_env\\lib\\site-packages (from google-api-core!=2.0.*,!=2.1.*,!=2.2.*,!=2.3.0,<3.0.0dev,>=1.31.5->google-api-python-client) (1.56.1)\n",
      "Requirement already satisfied: cachetools<6.0,>=2.0.0 in c:\\users\\lenovo\\documents\\generico-projects\\etl\\etl_env\\lib\\site-packages (from google-auth<3.0.0dev,>=1.16.0->google-api-python-client) (5.1.0)\n",
      "Requirement already satisfied: pyparsing!=3.0.0,!=3.0.1,!=3.0.2,!=3.0.3,<4,>=2.4.2 in c:\\users\\lenovo\\documents\\generico-projects\\etl\\etl_env\\lib\\site-packages (from httplib2<1dev,>=0.15.0->google-api-python-client) (3.0.6)\n",
      "Requirement already satisfied: idna<4,>=2.5 in c:\\users\\lenovo\\documents\\generico-projects\\etl\\etl_env\\lib\\site-packages (from requests<3.0.0dev,>=2.18.0->google-api-core!=2.0.*,!=2.1.*,!=2.2.*,!=2.3.0,<3.0.0dev,>=1.31.5->google-api-python-client) (3.3)\n",
      "Requirement already satisfied: urllib3<1.27,>=1.21.1 in c:\\users\\lenovo\\documents\\generico-projects\\etl\\etl_env\\lib\\site-packages (from requests<3.0.0dev,>=2.18.0->google-api-core!=2.0.*,!=2.1.*,!=2.2.*,!=2.3.0,<3.0.0dev,>=1.31.5->google-api-python-client) (1.26.7)\n",
      "Requirement already satisfied: charset-normalizer~=2.0.0 in c:\\users\\lenovo\\documents\\generico-projects\\etl\\etl_env\\lib\\site-packages (from requests<3.0.0dev,>=2.18.0->google-api-core!=2.0.*,!=2.1.*,!=2.2.*,!=2.3.0,<3.0.0dev,>=1.31.5->google-api-python-client) (2.0.9)\n",
      "Requirement already satisfied: certifi>=2017.4.17 in c:\\users\\lenovo\\documents\\generico-projects\\etl\\etl_env\\lib\\site-packages (from requests<3.0.0dev,>=2.18.0->google-api-core!=2.0.*,!=2.1.*,!=2.2.*,!=2.3.0,<3.0.0dev,>=1.31.5->google-api-python-client) (2021.10.8)\n",
      "Installing collected packages: google-api-python-client\n",
      "  Attempting uninstall: google-api-python-client\n",
      "    Found existing installation: google-api-python-client 2.42.0\n",
      "    Uninstalling google-api-python-client-2.42.0:\n",
      "      Successfully uninstalled google-api-python-client-2.42.0\n",
      "Successfully installed google-api-python-client-2.51.0\n"
     ]
    },
    {
     "name": "stderr",
     "output_type": "stream",
     "text": [
      "WARNING: There was an error checking the latest version of pip.\n"
     ]
    },
    {
     "name": "stdout",
     "output_type": "stream",
     "text": [
      "Requirement already satisfied: Levenshtein==0.17.0 in c:\\users\\lenovo\\documents\\generico-projects\\etl\\etl_env\\lib\\site-packages (0.17.0)\n",
      "Requirement already satisfied: rapidfuzz<2.0,>=1.8.2 in c:\\users\\lenovo\\documents\\generico-projects\\etl\\etl_env\\lib\\site-packages (from Levenshtein==0.17.0) (1.8.3)\n"
     ]
    },
    {
     "name": "stderr",
     "output_type": "stream",
     "text": [
      "WARNING: There was an error checking the latest version of pip.\n"
     ]
    },
    {
     "name": "stdout",
     "output_type": "stream",
     "text": [
      "Requirement already satisfied: zeno-etl-libs==1.0.40 in c:\\users\\lenovo\\documents\\generico-projects\\etl\\etl_env\\lib\\site-packages (1.0.40)\n"
     ]
    },
    {
     "name": "stderr",
     "output_type": "stream",
     "text": [
      "WARNING: There was an error checking the latest version of pip.\n"
     ]
    },
    {
     "name": "stdout",
     "output_type": "stream",
     "text": [
      "Requirement already satisfied: openpyxl==3.0.9 in c:\\users\\lenovo\\documents\\generico-projects\\etl\\etl_env\\lib\\site-packages (3.0.9)\n",
      "Requirement already satisfied: et-xmlfile in c:\\users\\lenovo\\documents\\generico-projects\\etl\\etl_env\\lib\\site-packages (from openpyxl==3.0.9) (1.1.0)\n"
     ]
    },
    {
     "name": "stderr",
     "output_type": "stream",
     "text": [
      "WARNING: There was an error checking the latest version of pip.\n"
     ]
    }
   ],
   "source": [
    "#installing extra libraries on prod\n",
    "!pip install google-api-core==2.7.1 google-api-python-client==2.42.0 google-auth==2.6.6\n",
    "!pip install --upgrade google-api-python-client oauth2client\n",
    "!pip install Levenshtein==0.17.0\n",
    "!pip install zeno-etl-libs==1.0.40\n",
    "!pip install openpyxl==3.0.9"
   ]
  },
  {
   "cell_type": "code",
   "execution_count": 2,
   "id": "d6aa4c66-16c9-4c2a-965f-67bf3705eabf",
   "metadata": {},
   "outputs": [
    {
     "data": {
      "text/plain": [
       "'\\nAutomailer for Playstore Reviews\\nFuzzy use to get patient names\\nauthor : neha.karekar@zeno.health\\n'"
      ]
     },
     "execution_count": 2,
     "metadata": {},
     "output_type": "execute_result"
    }
   ],
   "source": [
    "\"\"\"\n",
    "Automailer for Playstore Reviews\n",
    "Fuzzy use to get patient names\n",
    "author : neha.karekar@zeno.health\n",
    "\"\"\""
   ]
  },
  {
   "cell_type": "code",
   "execution_count": 3,
   "id": "9cf98df5-b7c7-4eef-897d-ef6ba03a0f7a",
   "metadata": {},
   "outputs": [],
   "source": [
    "import argparse\n",
    "import sys\n",
    "import os\n",
    "import pandas as pd\n",
    "import dateutil\n",
    "import datetime\n",
    "from dateutil.tz import gettz\n",
    "import numpy as np\n",
    "import Levenshtein as lev\n",
    "from datetime import timedelta"
   ]
  },
  {
   "cell_type": "code",
   "execution_count": 4,
   "id": "d6fbe3aa-ed6b-499a-9092-f57d2fe64528",
   "metadata": {},
   "outputs": [],
   "source": [
    "sys.path.append('../../../..')"
   ]
  },
  {
   "cell_type": "code",
   "execution_count": 5,
   "id": "bfe37241-fcfb-4454-8fe9-f0c34382111a",
   "metadata": {},
   "outputs": [],
   "source": [
    "from zeno_etl_libs.logger import get_logger\n",
    "from zeno_etl_libs.db.db import DB\n",
    "from zeno_etl_libs.helper.aws.s3 import S3\n",
    "from zeno_etl_libs.helper import helper\n",
    "from zeno_etl_libs.helper.email.email import Email"
   ]
  },
  {
   "cell_type": "markdown",
   "id": "2e23ce67-10fe-4c6c-905a-c31b90a986d9",
   "metadata": {},
   "source": [
    "## Pass Params\n"
   ]
  },
  {
   "cell_type": "code",
   "execution_count": 6,
   "id": "9634ce4b-146a-46da-9617-ca0ba512651a",
   "metadata": {
    "tags": [
     "parameters"
    ]
   },
   "outputs": [],
   "source": [
    "env = \"dev\"\n",
    "full_run = 0\n",
    "email_to =\"neha.karekar@zeno.health,kuldeep.singh@zeno.health\""
   ]
  },
  {
   "cell_type": "code",
   "execution_count": 7,
   "id": "08851736-d86a-4a24-995d-49edc2523726",
   "metadata": {},
   "outputs": [
    {
     "name": "stdout",
     "output_type": "stream",
     "text": [
      "2022-06-27 10:51:51,266 - root - INFO - full_run: 0\n"
     ]
    }
   ],
   "source": [
    "os.environ['env'] = env\n",
    "logger = get_logger()\n",
    "logger.info(f\"full_run: {full_run}\")\n"
   ]
  },
  {
   "cell_type": "code",
   "execution_count": 8,
   "id": "c3174702-f55f-4bec-8c59-47c02ab52d7a",
   "metadata": {},
   "outputs": [],
   "source": [
    "rs_db = DB()\n",
    "rs_db_write = DB(read_only=False)\n",
    "rs_db.open_connection()\n",
    "rs_db_write.open_connection()\n",
    "s3 = S3()"
   ]
  },
  {
   "cell_type": "code",
   "execution_count": 9,
   "id": "bd920692-714f-4450-8290-d337fc03a5e3",
   "metadata": {},
   "outputs": [],
   "source": [
    "schema = 'prod2-generico'\n",
    "table_name = 'ecomm-playstore-patients'\n",
    "table_info = helper.get_table_info(db=rs_db, table_name=table_name, schema=schema)"
   ]
  },
  {
   "cell_type": "code",
   "execution_count": 10,
   "id": "979f8d9a-ffce-461b-9e0e-da756552cc26",
   "metadata": {},
   "outputs": [
    {
     "name": "stdout",
     "output_type": "stream",
     "text": [
      "<class 'pandas.core.frame.DataFrame'>\n",
      "RangeIndex: 1 entries, 0 to 0\n",
      "Data columns (total 1 columns):\n",
      " #   Column   Non-Null Count  Dtype         \n",
      "---  ------   --------------  -----         \n",
      " 0   max_exp  1 non-null      datetime64[ns]\n",
      "dtypes: datetime64[ns](1)\n",
      "memory usage: 136.0 bytes\n",
      "None\n",
      "2022-06-26 12:25:52\n"
     ]
    }
   ],
   "source": [
    "# max of data\n",
    "playstore_q = \"\"\"\n",
    "select\n",
    "            max(\"review-created-at\") max_exp\n",
    "        from\n",
    "            \"prod2-generico\".\"ecomm-playstore-reviews\" \n",
    "        \"\"\"\n",
    "max_exp_date = rs_db.get_df(playstore_q)\n",
    "max_exp_date['max_exp'].fillna(np.nan, inplace=True)\n",
    "print(max_exp_date.info())\n",
    "max_exp_date = max_exp_date['max_exp'].to_string(index=False)\n",
    "print(max_exp_date)"
   ]
  },
  {
   "cell_type": "code",
   "execution_count": 11,
   "id": "3f587d8a-0125-474c-bae5-9c1298fa9c91",
   "metadata": {},
   "outputs": [
    {
     "name": "stdout",
     "output_type": "stream",
     "text": [
      "2022-06-26 12:25:52\n"
     ]
    }
   ],
   "source": [
    "# params\n",
    "if full_run or max_exp_date == 'NaN':\n",
    "    start = '2022-01-01'\n",
    "else:\n",
    "    start = max_exp_date\n",
    "start = dateutil.parser.parse(start)\n",
    "print(start)\n",
    "startminus7 = start - timedelta(days=7)\n",
    "startminus14 = start - timedelta(days=14)"
   ]
  },
  {
   "cell_type": "code",
   "execution_count": 12,
   "id": "a68e74b6-8295-4607-b2f1-b3550937098a",
   "metadata": {},
   "outputs": [
    {
     "name": "stdout",
     "output_type": "stream",
     "text": [
      "<class 'pandas.core.frame.DataFrame'>\n",
      "RangeIndex: 1 entries, 0 to 0\n",
      "Data columns (total 1 columns):\n",
      " #   Column   Non-Null Count  Dtype  \n",
      "---  ------   --------------  -----  \n",
      " 0   max_exp  0 non-null      float64\n",
      "dtypes: float64(1)\n",
      "memory usage: 136.0 bytes\n",
      "None\n",
      "NaN\n"
     ]
    }
   ],
   "source": [
    "# max of data1\n",
    "playstore_q = \"\"\"\n",
    "select\n",
    "            max(\"review-created-at\") max_exp\n",
    "        from\n",
    "            \"prod2-generico\".\"ecomm-playstore-patients\" \n",
    "        \"\"\"\n",
    "max_exp_date1 = rs_db.get_df(playstore_q)\n",
    "max_exp_date1['max_exp'].fillna(np.nan, inplace=True)\n",
    "print(max_exp_date1.info())\n",
    "max_exp_date1 = max_exp_date1['max_exp'].to_string(index=False)\n",
    "print(max_exp_date1)"
   ]
  },
  {
   "cell_type": "code",
   "execution_count": 13,
   "id": "33745823-6421-4675-b276-ad7a060dfc4c",
   "metadata": {},
   "outputs": [
    {
     "name": "stdout",
     "output_type": "stream",
     "text": [
      "2022-01-01 00:00:00\n"
     ]
    }
   ],
   "source": [
    "# params1\n",
    "if full_run or max_exp_date1 == 'NaN':\n",
    "    start1 = '2022-01-01'\n",
    "else:\n",
    "    start1 = max_exp_date1\n",
    "start1 = dateutil.parser.parse(start1)\n",
    "print(start1)"
   ]
  },
  {
   "cell_type": "code",
   "execution_count": 14,
   "id": "fcc08da0-dc90-430b-ab25-b266793fdff5",
   "metadata": {},
   "outputs": [],
   "source": [
    "#fetching all reviews from playstore-review table\n",
    "q = f\"\"\"\n",
    "    select\n",
    "        \"review-id\",\n",
    "        \"review\",\n",
    "        \"author-name\",\n",
    "        \"review-created-at\",\n",
    "        \"star-rating\"\n",
    "    from\n",
    "        \"prod2-generico\".\"ecomm-playstore-reviews\"\n",
    "    where\n",
    "        date(\"review-created-at\")> '{startminus7}'\n",
    "       \"\"\"\n",
    "reviews = rs_db.get_df(q)\n",
    "reviews.columns = [c.replace('-', '_') for c in reviews.columns]\n",
    "reviews['review_created_at'] = pd.to_datetime(reviews['review_created_at'])\n",
    "reviews['review_day_pre7'] = reviews['review_created_at'] - pd.DateOffset(days=7)"
   ]
  },
  {
   "cell_type": "code",
   "execution_count": 15,
   "id": "e70f3b0c-7943-45a4-9bb2-40d84b7466a4",
   "metadata": {},
   "outputs": [],
   "source": [
    "#fetching zeno orders near reviews\n",
    "zeno_q = f\"\"\"\n",
    "    select\n",
    "        zo.id as zeno_order_id_before_review ,\n",
    "        zo.\"patient-id\" ,\n",
    "        zo.\"created-at\" as order_created_at,\n",
    "        p.phone,\n",
    "        p.\"name\" as \"matched-name\"\n",
    "    from\n",
    "        \"prod2-generico\".\"zeno-order\" zo\n",
    "    left join \"prod2-generico\".patients p on\n",
    "        zo.\"patient-id\" = p.id\n",
    "    where\n",
    "        date(zo.\"created-at\") > '{startminus14}'\n",
    "        and p.\"name\" is not null\n",
    "    \"\"\"\n",
    "zeno_orders = rs_db.get_df(zeno_q)"
   ]
  },
  {
   "cell_type": "code",
   "execution_count": 16,
   "id": "fe1a8fba-41d8-41ff-92aa-c32a15c57a6a",
   "metadata": {},
   "outputs": [],
   "source": [
    "#Cross join reviews and orders\n",
    "reviews['i'] = 1\n",
    "zeno_orders['i'] = 1\n",
    "merged_df = pd.merge(reviews, zeno_orders, how='outer', on='i')\n",
    "merged_df['author_name'] = merged_df['author_name'].str.lower()\n",
    "merged_df['matched-name'] = merged_df['matched-name'].str.lower()\n"
   ]
  },
  {
   "cell_type": "code",
   "execution_count": 17,
   "id": "fe700ddd-b437-4019-a9aa-7ad4ee05c46e",
   "metadata": {},
   "outputs": [
    {
     "name": "stderr",
     "output_type": "stream",
     "text": [
      "c:\\users\\lenovo\\documents\\generico-projects\\etl\\etl_env\\lib\\site-packages\\ipykernel_launcher.py:9: SettingWithCopyWarning: \n",
      "A value is trying to be set on a copy of a slice from a DataFrame.\n",
      "Try using .loc[row_indexer,col_indexer] = value instead\n",
      "\n",
      "See the caveats in the documentation: https://pandas.pydata.org/pandas-docs/stable/user_guide/indexing.html#returning-a-view-versus-a-copy\n",
      "  if __name__ == \"__main__\":\n"
     ]
    }
   ],
   "source": [
    "#apply lev fuzzy\n",
    "merged_df['lev_ratio'] = merged_df.apply(lambda row: lev.ratio(str(row['author_name']),str(row['matched-name'])), 1)\n",
    "merged_df['rank_order'] = merged_df.sort_values(['zeno_order_id_before_review'], ascending=[False]) \\\n",
    "                              .groupby(['review_id', 'matched-name']) \\\n",
    "                              .cumcount() + 1\n",
    "latest_order = merged_df[(merged_df['rank_order'] == 1)]\n",
    "latest_order.columns\n",
    "latest_order['top_3_matches'] = latest_order.sort_values(['lev_ratio'], ascending=[False]).groupby(['review_id']) \\\n",
    "                                    .cumcount() + 1"
   ]
  },
  {
   "cell_type": "code",
   "execution_count": 18,
   "id": "88f6f6e7-e896-4781-93c0-29ed2c3a9653",
   "metadata": {},
   "outputs": [],
   "source": [
    "#fetch top 3 name matches\n",
    "latest_order = latest_order[(latest_order['top_3_matches'] <= 3)]\n",
    "latest_order = latest_order.sort_values(['star_rating', 'review_id', 'top_3_matches']\n",
    "                                        , ascending=[True, True, True])"
   ]
  },
  {
   "cell_type": "code",
   "execution_count": 19,
   "id": "dd3d9f7d-4500-4685-8147-5f8ec82b25f2",
   "metadata": {},
   "outputs": [],
   "source": [
    "#making two dataframes 1 for storing 1 for mailing\n",
    "latest_order.columns = [c.replace('_', '-') for c in latest_order.columns]\n",
    "latest_order_data = latest_order[['review-id', 'review', 'star-rating', 'review-created-at', 'author-name',\n",
    "                                  'matched-name', 'zeno-order-id-before-review', 'patient-id'\n",
    "    , 'order-created-at', 'phone', 'lev-ratio']]\n",
    "latest_order_mail = latest_order[['review-id', 'review', 'star-rating', 'review-created-at', 'author-name',\n",
    "                                  'matched-name', 'zeno-order-id-before-review', 'patient-id'\n",
    "    , 'order-created-at']]"
   ]
  },
  {
   "cell_type": "code",
   "execution_count": 20,
   "id": "25ce4c93-2d1e-4a7b-b21b-768a4bfc5570",
   "metadata": {},
   "outputs": [
    {
     "name": "stderr",
     "output_type": "stream",
     "text": [
      "c:\\users\\lenovo\\documents\\generico-projects\\etl\\etl_env\\lib\\site-packages\\ipykernel_launcher.py:1: SettingWithCopyWarning: \n",
      "A value is trying to be set on a copy of a slice from a DataFrame.\n",
      "Try using .loc[row_indexer,col_indexer] = value instead\n",
      "\n",
      "See the caveats in the documentation: https://pandas.pydata.org/pandas-docs/stable/user_guide/indexing.html#returning-a-view-versus-a-copy\n",
      "  \"\"\"Entry point for launching an IPython kernel.\n",
      "c:\\users\\lenovo\\documents\\generico-projects\\etl\\etl_env\\lib\\site-packages\\ipykernel_launcher.py:2: SettingWithCopyWarning: \n",
      "A value is trying to be set on a copy of a slice from a DataFrame.\n",
      "Try using .loc[row_indexer,col_indexer] = value instead\n",
      "\n",
      "See the caveats in the documentation: https://pandas.pydata.org/pandas-docs/stable/user_guide/indexing.html#returning-a-view-versus-a-copy\n",
      "  \n",
      "c:\\users\\lenovo\\documents\\generico-projects\\etl\\etl_env\\lib\\site-packages\\ipykernel_launcher.py:3: SettingWithCopyWarning: \n",
      "A value is trying to be set on a copy of a slice from a DataFrame.\n",
      "Try using .loc[row_indexer,col_indexer] = value instead\n",
      "\n",
      "See the caveats in the documentation: https://pandas.pydata.org/pandas-docs/stable/user_guide/indexing.html#returning-a-view-versus-a-copy\n",
      "  This is separate from the ipykernel package so we can avoid doing imports until\n"
     ]
    }
   ],
   "source": [
    "latest_order_data['created-at'] = datetime.datetime.now(tz=gettz('Asia/Kolkata')).strftime('%Y-%m-%d %H:%M:%S')\n",
    "latest_order_data['updated-at'] = datetime.datetime.now(tz=gettz('Asia/Kolkata')).strftime('%Y-%m-%d %H:%M:%S')\n",
    "latest_order_data['created-by'] = 'etl-automation'\n",
    "latest_order_data['updated-by'] = 'etl-automation'\n",
    "latest_order_data=latest_order_data[(pd.to_datetime(latest_order_data['review-created-at']) > start1)]\n",
    "latest_order_mail=latest_order_mail[(pd.to_datetime(latest_order_mail['review-created-at']) > start1)]"
   ]
  },
  {
   "cell_type": "code",
   "execution_count": 21,
   "id": "2679443c-5925-4be8-8f73-8fa5cdaa625a",
   "metadata": {},
   "outputs": [],
   "source": [
    "if latest_order_mail.empty:\n",
    "    print('DataFrame is empty!')\n",
    "    exit()"
   ]
  },
  {
   "cell_type": "code",
   "execution_count": 22,
   "id": "dd1565fd-018a-42ab-9735-baa1908e60bf",
   "metadata": {},
   "outputs": [
    {
     "name": "stdout",
     "output_type": "stream",
     "text": [
      "2022-06-27 10:52:48,749 - root - INFO - Table:ecomm-playstore-patients exists\n"
     ]
    }
   ],
   "source": [
    "if isinstance(table_info, type(None)):\n",
    "    raise Exception(f\"table: {table_name} do not exist, create the table first\")\n",
    "else:\n",
    "    logger.info(f\"Table:{table_name} exists\")"
   ]
  },
  {
   "cell_type": "code",
   "execution_count": 23,
   "id": "0b9bd35e-f24a-41e3-941f-a2f69af292d8",
   "metadata": {},
   "outputs": [
    {
     "name": "stdout",
     "output_type": "stream",
     "text": [
      " DELETE FROM \"prod2-generico\".\"ecomm-playstore-patients\" where \"review-created-at\" >'2022-01-01 00:00:00' \n"
     ]
    }
   ],
   "source": [
    "truncate_query = f''' DELETE FROM \"{schema}\".\"{table_name}\" where \"review-created-at\" >'{start1}' '''\n",
    "print(truncate_query)\n",
    "rs_db_write.execute(truncate_query)"
   ]
  },
  {
   "cell_type": "code",
   "execution_count": 24,
   "id": "35220e1f-7ab5-4a25-adec-0bcd10af3ec6",
   "metadata": {},
   "outputs": [
    {
     "name": "stdout",
     "output_type": "stream",
     "text": [
      "S3 object(uri: s3://aws-glue-temporary-921939243643-ap-south-1/temp_1656307378032.csv) delete response: {'ResponseMetadata': {'RequestId': '0831P67A934W13EB', 'HostId': 'dvWeTvkiRUEufGtM//X/wb47gg4xfAH2WLfcJvRqOJM6du6p31uCqtbnWxvzG9Mlyz0m9H69uyo=', 'HTTPStatusCode': 204, 'HTTPHeaders': {'x-amz-id-2': 'dvWeTvkiRUEufGtM//X/wb47gg4xfAH2WLfcJvRqOJM6du6p31uCqtbnWxvzG9Mlyz0m9H69uyo=', 'x-amz-request-id': '0831P67A934W13EB', 'date': 'Mon, 27 Jun 2022 05:23:13 GMT', 'server': 'AmazonS3'}, 'RetryAttempts': 0}}\n",
      "S3 object(uri: s3://aws-glue-temporary-921939243643-ap-south-1/temp_1656307378032.csv) delete response: {'ResponseMetadata': {'RequestId': 'CACKE2ANXR5MRXNV', 'HostId': 'qz0HodyA0kE/Tama58zckZ+WqxCl+JL6/mDTzE3Tp2SyfC8hjgBGd4t5nHd9yKDJLNmvbYaCl20=', 'HTTPStatusCode': 204, 'HTTPHeaders': {'x-amz-id-2': 'qz0HodyA0kE/Tama58zckZ+WqxCl+JL6/mDTzE3Tp2SyfC8hjgBGd4t5nHd9yKDJLNmvbYaCl20=', 'x-amz-request-id': 'CACKE2ANXR5MRXNV', 'date': 'Mon, 27 Jun 2022 05:23:14 GMT', 'server': 'AmazonS3'}, 'RetryAttempts': 0}}\n",
      "2022-06-27 10:53:14,219 - root - INFO - Email sending successful: {\"status\":100,\"message\":\"Successfully called back !\",\"is_error\":false,\"data\":\"Email sending...\"}\n",
      "2022-06-27 10:53:14,219 - root - INFO - Email sending successful: {\"status\":100,\"message\":\"Successfully called back !\",\"is_error\":false,\"data\":\"Email sending...\"}\n"
     ]
    }
   ],
   "source": [
    "s3.write_df_to_db(df=latest_order_data[table_info['column_name']], table_name=table_name, db=rs_db_write,\n",
    "                  schema=schema)\n",
    "file_name = 'Zeno_playstore.xlsx'\n",
    "file_path = s3.write_df_to_excel(data={'Zeno Playstore': latest_order_mail}, file_name=file_name)\n",
    "\n",
    "email = Email()\n",
    "# file_path ='/Users/Lenovo/Downloads/utter.csv'\n",
    "email.send_email_file(subject=\"Zeno Playstore\",\n",
    "                      mail_body='Zeno Playstore',\n",
    "                      to_emails=email_to, file_uris=[], file_paths=[file_path])"
   ]
  },
  {
   "cell_type": "code",
   "execution_count": 25,
   "id": "7101a472-5c00-4f2a-9037-b650aa9aef0c",
   "metadata": {},
   "outputs": [
    {
     "name": "stdout",
     "output_type": "stream",
     "text": [
      "Redshift DB connection closed successfully.\n"
     ]
    }
   ],
   "source": [
    "# Closing the DB Connection\n",
    "rs_db.close_connection()"
   ]
  },
  {
   "cell_type": "code",
   "execution_count": null,
   "id": "7a3aae28-dd23-4ae9-92ca-a0090428c72e",
   "metadata": {},
   "outputs": [],
   "source": []
  },
  {
   "cell_type": "code",
   "execution_count": null,
   "id": "031d77ac-888b-4265-8f38-269acc945af8",
   "metadata": {},
   "outputs": [],
   "source": []
  },
  {
   "cell_type": "code",
   "execution_count": null,
   "id": "1bc3c9e1-4e4e-488c-baac-7177384c3a48",
   "metadata": {},
   "outputs": [],
   "source": []
  }
 ],
 "metadata": {
  "kernelspec": {
   "display_name": "Python 3 (ipykernel)",
   "language": "python",
   "name": "python3"
  },
  "language_info": {
   "codemirror_mode": {
    "name": "ipython",
    "version": 3
   },
   "file_extension": ".py",
   "mimetype": "text/x-python",
   "name": "python",
   "nbconvert_exporter": "python",
   "pygments_lexer": "ipython3",
   "version": "3.7.9"
  }
 },
 "nbformat": 4,
 "nbformat_minor": 5
}
