{
 "cells": [
  {
   "cell_type": "code",
   "execution_count": 1,
   "id": "94553be3-8bef-427f-9de7-c71bf4ac0040",
   "metadata": {},
   "outputs": [
    {
     "name": "stdout",
     "output_type": "stream",
     "text": [
      "Requirement already satisfied: google-api-core==2.7.1 in c:\\users\\lenovo\\documents\\generico-projects\\etl\\etl_env\\lib\\site-packages (2.7.1)\n",
      "Collecting google-api-python-client==2.42.0\n",
      "  Using cached google_api_python_client-2.42.0-py2.py3-none-any.whl (8.3 MB)\n",
      "Requirement already satisfied: google-auth==2.6.6 in c:\\users\\lenovo\\documents\\generico-projects\\etl\\etl_env\\lib\\site-packages (2.6.6)\n",
      "Requirement already satisfied: googleapis-common-protos<2.0dev,>=1.52.0 in c:\\users\\lenovo\\documents\\generico-projects\\etl\\etl_env\\lib\\site-packages (from google-api-core==2.7.1) (1.56.1)\n",
      "Requirement already satisfied: requests<3.0.0dev,>=2.18.0 in c:\\users\\lenovo\\documents\\generico-projects\\etl\\etl_env\\lib\\site-packages (from google-api-core==2.7.1) (2.27.1)\n",
      "Requirement already satisfied: protobuf>=3.12.0 in c:\\users\\lenovo\\documents\\generico-projects\\etl\\etl_env\\lib\\site-packages (from google-api-core==2.7.1) (3.20.1)\n",
      "Requirement already satisfied: httplib2<1dev,>=0.15.0 in c:\\users\\lenovo\\documents\\generico-projects\\etl\\etl_env\\lib\\site-packages (from google-api-python-client==2.42.0) (0.20.4)\n",
      "Requirement already satisfied: google-auth-httplib2>=0.1.0 in c:\\users\\lenovo\\documents\\generico-projects\\etl\\etl_env\\lib\\site-packages (from google-api-python-client==2.42.0) (0.1.0)\n",
      "Requirement already satisfied: uritemplate<5,>=3.0.1 in c:\\users\\lenovo\\documents\\generico-projects\\etl\\etl_env\\lib\\site-packages (from google-api-python-client==2.42.0) (4.1.1)\n",
      "Requirement already satisfied: pyasn1-modules>=0.2.1 in c:\\users\\lenovo\\documents\\generico-projects\\etl\\etl_env\\lib\\site-packages (from google-auth==2.6.6) (0.2.8)\n",
      "Requirement already satisfied: cachetools<6.0,>=2.0.0 in c:\\users\\lenovo\\documents\\generico-projects\\etl\\etl_env\\lib\\site-packages (from google-auth==2.6.6) (5.1.0)\n",
      "Requirement already satisfied: rsa<5,>=3.1.4 in c:\\users\\lenovo\\documents\\generico-projects\\etl\\etl_env\\lib\\site-packages (from google-auth==2.6.6) (4.7.2)\n",
      "Requirement already satisfied: six>=1.9.0 in c:\\users\\lenovo\\documents\\generico-projects\\etl\\etl_env\\lib\\site-packages (from google-auth==2.6.6) (1.16.0)\n",
      "Requirement already satisfied: pyparsing!=3.0.0,!=3.0.1,!=3.0.2,!=3.0.3,<4,>=2.4.2 in c:\\users\\lenovo\\documents\\generico-projects\\etl\\etl_env\\lib\\site-packages (from httplib2<1dev,>=0.15.0->google-api-python-client==2.42.0) (3.0.6)\n",
      "Requirement already satisfied: pyasn1<0.5.0,>=0.4.6 in c:\\users\\lenovo\\documents\\generico-projects\\etl\\etl_env\\lib\\site-packages (from pyasn1-modules>=0.2.1->google-auth==2.6.6) (0.4.8)\n",
      "Requirement already satisfied: idna<4,>=2.5 in c:\\users\\lenovo\\documents\\generico-projects\\etl\\etl_env\\lib\\site-packages (from requests<3.0.0dev,>=2.18.0->google-api-core==2.7.1) (3.3)\n",
      "Requirement already satisfied: urllib3<1.27,>=1.21.1 in c:\\users\\lenovo\\documents\\generico-projects\\etl\\etl_env\\lib\\site-packages (from requests<3.0.0dev,>=2.18.0->google-api-core==2.7.1) (1.26.7)\n",
      "Requirement already satisfied: certifi>=2017.4.17 in c:\\users\\lenovo\\documents\\generico-projects\\etl\\etl_env\\lib\\site-packages (from requests<3.0.0dev,>=2.18.0->google-api-core==2.7.1) (2021.10.8)\n",
      "Requirement already satisfied: charset-normalizer~=2.0.0 in c:\\users\\lenovo\\documents\\generico-projects\\etl\\etl_env\\lib\\site-packages (from requests<3.0.0dev,>=2.18.0->google-api-core==2.7.1) (2.0.9)\n",
      "Installing collected packages: google-api-python-client\n",
      "  Attempting uninstall: google-api-python-client\n",
      "    Found existing installation: google-api-python-client 2.51.0\n",
      "    Uninstalling google-api-python-client-2.51.0:\n",
      "      Successfully uninstalled google-api-python-client-2.51.0\n",
      "Successfully installed google-api-python-client-2.42.0\n"
     ]
    },
    {
     "name": "stderr",
     "output_type": "stream",
     "text": [
      "WARNING: There was an error checking the latest version of pip.\n"
     ]
    },
    {
     "name": "stdout",
     "output_type": "stream",
     "text": [
      "Requirement already satisfied: google-api-python-client in c:\\users\\lenovo\\documents\\generico-projects\\etl\\etl_env\\lib\\site-packages (2.42.0)\n",
      "Collecting google-api-python-client\n",
      "  Using cached google_api_python_client-2.51.0-py2.py3-none-any.whl (8.6 MB)\n",
      "Requirement already satisfied: oauth2client in c:\\users\\lenovo\\documents\\generico-projects\\etl\\etl_env\\lib\\site-packages (4.1.3)\n",
      "Requirement already satisfied: google-auth<3.0.0dev,>=1.16.0 in c:\\users\\lenovo\\documents\\generico-projects\\etl\\etl_env\\lib\\site-packages (from google-api-python-client) (2.6.6)\n",
      "Requirement already satisfied: google-auth-httplib2>=0.1.0 in c:\\users\\lenovo\\documents\\generico-projects\\etl\\etl_env\\lib\\site-packages (from google-api-python-client) (0.1.0)\n",
      "Requirement already satisfied: httplib2<1dev,>=0.15.0 in c:\\users\\lenovo\\documents\\generico-projects\\etl\\etl_env\\lib\\site-packages (from google-api-python-client) (0.20.4)\n",
      "Requirement already satisfied: google-api-core!=2.0.*,!=2.1.*,!=2.2.*,!=2.3.0,<3.0.0dev,>=1.31.5 in c:\\users\\lenovo\\documents\\generico-projects\\etl\\etl_env\\lib\\site-packages (from google-api-python-client) (2.7.1)\n",
      "Requirement already satisfied: uritemplate<5,>=3.0.1 in c:\\users\\lenovo\\documents\\generico-projects\\etl\\etl_env\\lib\\site-packages (from google-api-python-client) (4.1.1)\n",
      "Requirement already satisfied: rsa>=3.1.4 in c:\\users\\lenovo\\documents\\generico-projects\\etl\\etl_env\\lib\\site-packages (from oauth2client) (4.7.2)\n",
      "Requirement already satisfied: pyasn1-modules>=0.0.5 in c:\\users\\lenovo\\documents\\generico-projects\\etl\\etl_env\\lib\\site-packages (from oauth2client) (0.2.8)\n",
      "Requirement already satisfied: pyasn1>=0.1.7 in c:\\users\\lenovo\\documents\\generico-projects\\etl\\etl_env\\lib\\site-packages (from oauth2client) (0.4.8)\n",
      "Requirement already satisfied: six>=1.6.1 in c:\\users\\lenovo\\documents\\generico-projects\\etl\\etl_env\\lib\\site-packages (from oauth2client) (1.16.0)\n",
      "Requirement already satisfied: protobuf>=3.12.0 in c:\\users\\lenovo\\documents\\generico-projects\\etl\\etl_env\\lib\\site-packages (from google-api-core!=2.0.*,!=2.1.*,!=2.2.*,!=2.3.0,<3.0.0dev,>=1.31.5->google-api-python-client) (3.20.1)\n",
      "Requirement already satisfied: requests<3.0.0dev,>=2.18.0 in c:\\users\\lenovo\\documents\\generico-projects\\etl\\etl_env\\lib\\site-packages (from google-api-core!=2.0.*,!=2.1.*,!=2.2.*,!=2.3.0,<3.0.0dev,>=1.31.5->google-api-python-client) (2.27.1)\n",
      "Requirement already satisfied: googleapis-common-protos<2.0dev,>=1.52.0 in c:\\users\\lenovo\\documents\\generico-projects\\etl\\etl_env\\lib\\site-packages (from google-api-core!=2.0.*,!=2.1.*,!=2.2.*,!=2.3.0,<3.0.0dev,>=1.31.5->google-api-python-client) (1.56.1)\n",
      "Requirement already satisfied: cachetools<6.0,>=2.0.0 in c:\\users\\lenovo\\documents\\generico-projects\\etl\\etl_env\\lib\\site-packages (from google-auth<3.0.0dev,>=1.16.0->google-api-python-client) (5.1.0)\n",
      "Requirement already satisfied: pyparsing!=3.0.0,!=3.0.1,!=3.0.2,!=3.0.3,<4,>=2.4.2 in c:\\users\\lenovo\\documents\\generico-projects\\etl\\etl_env\\lib\\site-packages (from httplib2<1dev,>=0.15.0->google-api-python-client) (3.0.6)\n",
      "Requirement already satisfied: idna<4,>=2.5 in c:\\users\\lenovo\\documents\\generico-projects\\etl\\etl_env\\lib\\site-packages (from requests<3.0.0dev,>=2.18.0->google-api-core!=2.0.*,!=2.1.*,!=2.2.*,!=2.3.0,<3.0.0dev,>=1.31.5->google-api-python-client) (3.3)\n",
      "Requirement already satisfied: urllib3<1.27,>=1.21.1 in c:\\users\\lenovo\\documents\\generico-projects\\etl\\etl_env\\lib\\site-packages (from requests<3.0.0dev,>=2.18.0->google-api-core!=2.0.*,!=2.1.*,!=2.2.*,!=2.3.0,<3.0.0dev,>=1.31.5->google-api-python-client) (1.26.7)\n",
      "Requirement already satisfied: certifi>=2017.4.17 in c:\\users\\lenovo\\documents\\generico-projects\\etl\\etl_env\\lib\\site-packages (from requests<3.0.0dev,>=2.18.0->google-api-core!=2.0.*,!=2.1.*,!=2.2.*,!=2.3.0,<3.0.0dev,>=1.31.5->google-api-python-client) (2021.10.8)\n",
      "Requirement already satisfied: charset-normalizer~=2.0.0 in c:\\users\\lenovo\\documents\\generico-projects\\etl\\etl_env\\lib\\site-packages (from requests<3.0.0dev,>=2.18.0->google-api-core!=2.0.*,!=2.1.*,!=2.2.*,!=2.3.0,<3.0.0dev,>=1.31.5->google-api-python-client) (2.0.9)\n",
      "Installing collected packages: google-api-python-client\n",
      "  Attempting uninstall: google-api-python-client\n",
      "    Found existing installation: google-api-python-client 2.42.0\n",
      "    Uninstalling google-api-python-client-2.42.0:\n",
      "      Successfully uninstalled google-api-python-client-2.42.0\n",
      "Successfully installed google-api-python-client-2.51.0\n"
     ]
    },
    {
     "name": "stderr",
     "output_type": "stream",
     "text": [
      "WARNING: There was an error checking the latest version of pip.\n"
     ]
    },
    {
     "name": "stdout",
     "output_type": "stream",
     "text": [
      "Collecting zeno-etl-libs==1.0.40\n",
      "  Downloading zeno_etl_libs-1.0.40-py3-none-any.whl (431 kB)\n",
      "     -------------------------------------- 431.0/431.0 kB 4.5 MB/s eta 0:00:00\n",
      "Installing collected packages: zeno-etl-libs\n",
      "Successfully installed zeno-etl-libs-1.0.40\n"
     ]
    },
    {
     "name": "stderr",
     "output_type": "stream",
     "text": [
      "WARNING: There was an error checking the latest version of pip.\n"
     ]
    }
   ],
   "source": [
    "#installing extra libraries on prod\n",
    "!pip install google-api-core==2.7.1 google-api-python-client==2.42.0 google-auth==2.6.6\n",
    "!pip install --upgrade google-api-python-client oauth2client\n",
    "!pip install zeno-etl-libs==1.0.40\n",
    "!pip install google-cloud-storage==1.43.0"
   ]
  },
  {
   "cell_type": "code",
   "execution_count": 2,
   "id": "d6aa4c66-16c9-4c2a-965f-67bf3705eabf",
   "metadata": {},
   "outputs": [
    {
     "data": {
      "text/plain": [
       "'\\nFetching Playstore reviews on daily basis\\nAuthor : neha.karekar@zeno.health\\n'"
      ]
     },
     "execution_count": 2,
     "metadata": {},
     "output_type": "execute_result"
    }
   ],
   "source": [
    "\"\"\"\n",
    "Fetching Playstore reviews on daily basis\n",
    "Author : neha.karekar@zeno.health\n",
    "\"\"\""
   ]
  },
  {
   "cell_type": "code",
   "execution_count": 3,
   "id": "9cf98df5-b7c7-4eef-897d-ef6ba03a0f7a",
   "metadata": {},
   "outputs": [],
   "source": [
    "import argparse\n",
    "import sys\n",
    "import os\n",
    "import pandas as pd\n",
    "import dateutil\n",
    "import datetime\n",
    "from dateutil.tz import gettz\n",
    "import numpy as np"
   ]
  },
  {
   "cell_type": "code",
   "execution_count": 4,
   "id": "d6fbe3aa-ed6b-499a-9092-f57d2fe64528",
   "metadata": {},
   "outputs": [],
   "source": [
    "sys.path.append('../../../..')"
   ]
  },
  {
   "cell_type": "code",
   "execution_count": 5,
   "id": "bfe37241-fcfb-4454-8fe9-f0c34382111a",
   "metadata": {},
   "outputs": [],
   "source": [
    "from zeno_etl_libs.logger import get_logger\n",
    "from zeno_etl_libs.db.db import DB\n",
    "from zeno_etl_libs.helper.aws.s3 import S3\n",
    "from zeno_etl_libs.helper import helper\n",
    "from zeno_etl_libs.helper.google.playstore.playstore import Reviews"
   ]
  },
  {
   "cell_type": "markdown",
   "id": "2e23ce67-10fe-4c6c-905a-c31b90a986d9",
   "metadata": {},
   "source": [
    "## Pass Params\n"
   ]
  },
  {
   "cell_type": "code",
   "execution_count": 6,
   "id": "9634ce4b-146a-46da-9617-ca0ba512651a",
   "metadata": {
    "tags": [
     "parameters"
    ]
   },
   "outputs": [],
   "source": [
    "env = \"dev\"\n",
    "full_run = 0"
   ]
  },
  {
   "cell_type": "code",
   "execution_count": 7,
   "id": "08851736-d86a-4a24-995d-49edc2523726",
   "metadata": {},
   "outputs": [
    {
     "name": "stdout",
     "output_type": "stream",
     "text": [
      "2022-06-23 10:55:19,964 - root - INFO - full_run: 1\n"
     ]
    }
   ],
   "source": [
    "os.environ['env'] = env\n",
    "logger = get_logger()\n",
    "logger.info(f\"full_run: {full_run}\")\n"
   ]
  },
  {
   "cell_type": "code",
   "execution_count": 8,
   "id": "c3174702-f55f-4bec-8c59-47c02ab52d7a",
   "metadata": {},
   "outputs": [],
   "source": [
    "rs_db = DB(read_only=False)\n",
    "rs_db.open_connection()\n",
    "s3 = S3()"
   ]
  },
  {
   "cell_type": "code",
   "execution_count": 9,
   "id": "bd920692-714f-4450-8290-d337fc03a5e3",
   "metadata": {},
   "outputs": [],
   "source": [
    "schema = 'prod2-generico'\n",
    "table_name = 'ecomm-playstore-reviews'\n",
    "table_info = helper.get_table_info(db=rs_db, table_name=table_name, schema=schema)"
   ]
  },
  {
   "cell_type": "code",
   "execution_count": 10,
   "id": "979f8d9a-ffce-461b-9e0e-da756552cc26",
   "metadata": {},
   "outputs": [
    {
     "name": "stdout",
     "output_type": "stream",
     "text": [
      "<class 'pandas.core.frame.DataFrame'>\n",
      "RangeIndex: 1 entries, 0 to 0\n",
      "Data columns (total 1 columns):\n",
      " #   Column   Non-Null Count  Dtype         \n",
      "---  ------   --------------  -----         \n",
      " 0   max_exp  1 non-null      datetime64[ns]\n",
      "dtypes: datetime64[ns](1)\n",
      "memory usage: 136.0 bytes\n",
      "None\n",
      "2022-06-17 15:28:31\n"
     ]
    }
   ],
   "source": [
    "# max of data\n",
    "playstore_q = \"\"\"\n",
    "select\n",
    "            max(\"review-created-at\") max_exp\n",
    "        from\n",
    "            \"prod2-generico\".\"ecomm-playstore-reviews\" \n",
    "        \"\"\"\n",
    "rs_db.execute(playstore_q, params=None)\n",
    "max_exp_date: pd.DataFrame = rs_db.cursor.fetch_dataframe()\n",
    "max_exp_date['max_exp'].fillna(np.nan, inplace=True)\n",
    "print(max_exp_date.info())\n",
    "max_exp_date = max_exp_date['max_exp'].to_string(index=False)\n",
    "print(max_exp_date)"
   ]
  },
  {
   "cell_type": "code",
   "execution_count": 11,
   "id": "48c64a11-7f2b-4c1d-bfbe-8b48d2b748f9",
   "metadata": {},
   "outputs": [
    {
     "name": "stdout",
     "output_type": "stream",
     "text": [
      "2022-06-23 10:55:23,277 - googleapiclient.discovery_cache - INFO - file_cache is only supported with oauth2client<4.0.0\n",
      "2022-06-23 10:55:23,286 - oauth2client.transport - INFO - Attempting refresh to obtain initial access_token\n",
      "2022-06-23 10:55:23,317 - oauth2client.client - INFO - Refreshing access_token\n",
      "b'\\tnice aap \\xf0\\x9f\\x91\\x8c\\xf0\\x9f\\x91\\x8c'\n",
      "b'\\tBakwaas App and service , everytime they are out of stock despite taking orders on App'\n",
      "b'\\tPlenty of alternative medicines at very affordable price and quickest door delivery. Love this. Getting Coins and adjusting with order is also appreciated..... Only need to modify/rectify during checkout.'\n",
      "b'\\tMany medicine remain out of stock at time of delivery and no care to restock at earliest. Poor management'\n",
      "b'\\tVery bad service not giving on time always late I have try 4 time all time late delivery'\n",
      "b'\\tgood medicine with money saving'\n",
      "b'\\tReally useful app. It saves a tonne of money and is easy to use. The Customer support responds within minutes which I appreciate a lot. Kudos to you.'\n",
      "b'\\tgood service'\n",
      "b'\\tzeno health excellent give very good support have possessed positive energy also pass the clients the same energy very humble and polite their service is excellent.'\n",
      "b'\\tGood availability of medicines. Very cooperative staff and doctor. Highly recommended'\n",
      "b'\\tExcellent'\n",
      "b'\\tI am a regular customer of Zeno and so far the experience has been fantastic. Two main reasons why I like them are: 1. Cheaper medicines. 2. Free home delivery without any minimum buying condition. I really appreciate their service and would definitely recommend them to everyone.'\n",
      "b'\\tgood'\n",
      "b'\\tUser friendly app and customer friendly ppl...quick and efficient delivery....keep it up'\n"
     ]
    }
   ],
   "source": [
    "# Read from gsheet\n",
    "reviews = Reviews()\n",
    "reviews_list = reviews.get()\n",
    "# reviews_list\n",
    "reviews_list_new = []\n",
    "for r in reviews_list:\n",
    "    for c in r['comments']:\n",
    "        rc = {}\n",
    "        rc.update({\"reviewId\": r['reviewId'], \"authorName\": r['authorName']})\n",
    "        rc.update(c)\n",
    "        reviews_list_new.append(rc)\n",
    "df = pd.json_normalize(reviews_list_new)\n",
    "df = df[['reviewId', 'authorName', 'userComment.text', 'userComment.starRating', 'userComment.reviewerLanguage',\n",
    "          'userComment.lastModified.seconds']]\n",
    "df = df[(df['userComment.text'].isnull() == False)]"
   ]
  },
  {
   "cell_type": "code",
   "execution_count": 12,
   "id": "31dc636b-84d6-4b3d-8275-1711b9eb78c6",
   "metadata": {},
   "outputs": [
    {
     "name": "stdout",
     "output_type": "stream",
     "text": [
      "\n"
     ]
    }
   ],
   "source": [
    "dict = {'reviewId': 'review-id',\n",
    "        'userComment.text': 'review',\n",
    "        'authorName': 'author-name',\n",
    "        'userComment.starRating': 'star-rating',\n",
    "        'userComment.reviewerLanguage': 'reviewer-lang'}\n",
    "df.rename(columns=dict, inplace=True)\n",
    "print()\n",
    "df['review-created-at'] = df['userComment.lastModified.seconds'].apply(\n",
    "    lambda x: datetime.datetime.fromtimestamp(int(x)).strftime('%Y-%m-%d %H:%M:%S'))\n",
    "df=df.drop(['userComment.lastModified.seconds'],axis=1)"
   ]
  },
  {
   "cell_type": "code",
   "execution_count": 13,
   "id": "3f587d8a-0125-474c-bae5-9c1298fa9c91",
   "metadata": {},
   "outputs": [],
   "source": [
    "# params\n",
    "if full_run or max_exp_date == 'NaN':\n",
    "    start = '2017-05-13'\n",
    "else:\n",
    "    start = max_exp_date\n",
    "start = dateutil.parser.parse(start)"
   ]
  },
  {
   "cell_type": "code",
   "execution_count": 14,
   "id": "fcc08da0-dc90-430b-ab25-b266793fdff5",
   "metadata": {},
   "outputs": [],
   "source": [
    "df['review-created-at'] = df['review-created-at'] .apply(pd.to_datetime, errors='coerce')\n",
    "df = df[(df['review-created-at'] > start)]"
   ]
  },
  {
   "cell_type": "code",
   "execution_count": 15,
   "id": "25ce4c93-2d1e-4a7b-b21b-768a4bfc5570",
   "metadata": {},
   "outputs": [],
   "source": [
    "# etl\n",
    "df['created-at'] = datetime.datetime.now(tz=gettz('Asia/Kolkata')).strftime('%Y-%m-%d %H:%M:%S')\n",
    "df['updated-at'] = datetime.datetime.now(tz=gettz('Asia/Kolkata')).strftime('%Y-%m-%d %H:%M:%S')\n",
    "df['created-by'] = 'etl-automation'\n",
    "df['updated-by'] = 'etl-automation'\n",
    "df.columns = [c.replace('_', '-') for c in df.columns]"
   ]
  },
  {
   "cell_type": "code",
   "execution_count": 16,
   "id": "dd1565fd-018a-42ab-9735-baa1908e60bf",
   "metadata": {},
   "outputs": [
    {
     "name": "stdout",
     "output_type": "stream",
     "text": [
      "2022-06-23 10:55:39,612 - root - INFO - Table:ecomm-playstore-reviews exists\n"
     ]
    }
   ],
   "source": [
    "if isinstance(table_info, type(None)):\n",
    "    raise Exception(f\"table: {table_name} do not exist, create the table first\")\n",
    "else:\n",
    "    logger.info(f\"Table:{table_name} exists\")"
   ]
  },
  {
   "cell_type": "code",
   "execution_count": 17,
   "id": "0b9bd35e-f24a-41e3-941f-a2f69af292d8",
   "metadata": {},
   "outputs": [
    {
     "name": "stdout",
     "output_type": "stream",
     "text": [
      " DELETE FROM \"prod2-generico\".\"ecomm-playstore-reviews\" where \"review-created-at\" >'2017-05-13 00:00:00' \n"
     ]
    }
   ],
   "source": [
    "truncate_query = f''' DELETE FROM \"{schema}\".\"{table_name}\" where \"review-created-at\" >'{start}' '''\n",
    "print(truncate_query)\n",
    "rs_db.execute(truncate_query)"
   ]
  },
  {
   "cell_type": "code",
   "execution_count": 18,
   "id": "35220e1f-7ab5-4a25-adec-0bcd10af3ec6",
   "metadata": {},
   "outputs": [
    {
     "name": "stdout",
     "output_type": "stream",
     "text": [
      "S3 object(uri: s3://aws-glue-temporary-921939243643-ap-south-1/temp_1655961949791.csv) delete response: {'ResponseMetadata': {'RequestId': '9CVT8G0EAN6BNVX0', 'HostId': 'xk+MzVbdwZg4EWIjBtGBObnOExi0kDsso7yvSvMKmR8z29sd4LWCvMU+SwqWOSzqydpM5L3LaTw=', 'HTTPStatusCode': 204, 'HTTPHeaders': {'x-amz-id-2': 'xk+MzVbdwZg4EWIjBtGBObnOExi0kDsso7yvSvMKmR8z29sd4LWCvMU+SwqWOSzqydpM5L3LaTw=', 'x-amz-request-id': '9CVT8G0EAN6BNVX0', 'date': 'Thu, 23 Jun 2022 05:26:02 GMT', 'server': 'AmazonS3'}, 'RetryAttempts': 0}}\n",
      "S3 object(uri: s3://aws-glue-temporary-921939243643-ap-south-1/temp_1655961949791.csv) delete response: {'ResponseMetadata': {'RequestId': '9CVJB4WVG0CK02J0', 'HostId': '5HhUTM1mH6NhEfiS44ZfggPv0E8zQXC0BwoDYP4EUNrExVRA0NpdS5boG9IhrDHrka0p07k9yxk=', 'HTTPStatusCode': 204, 'HTTPHeaders': {'x-amz-id-2': '5HhUTM1mH6NhEfiS44ZfggPv0E8zQXC0BwoDYP4EUNrExVRA0NpdS5boG9IhrDHrka0p07k9yxk=', 'x-amz-request-id': '9CVJB4WVG0CK02J0', 'date': 'Thu, 23 Jun 2022 05:26:02 GMT', 'server': 'AmazonS3'}, 'RetryAttempts': 0}}\n"
     ]
    }
   ],
   "source": [
    "s3.write_df_to_db(df=df[table_info['column_name']], table_name=table_name, db=rs_db,\n",
    "                      schema=schema)"
   ]
  },
  {
   "cell_type": "code",
   "execution_count": 19,
   "id": "7101a472-5c00-4f2a-9037-b650aa9aef0c",
   "metadata": {},
   "outputs": [
    {
     "name": "stdout",
     "output_type": "stream",
     "text": [
      "Redshift DB connection closed successfully.\n"
     ]
    }
   ],
   "source": [
    "rs_db.close_connection()"
   ]
  },
  {
   "cell_type": "code",
   "execution_count": null,
   "id": "7a3aae28-dd23-4ae9-92ca-a0090428c72e",
   "metadata": {},
   "outputs": [],
   "source": []
  }
 ],
 "metadata": {
  "kernelspec": {
   "display_name": "Python 3 (ipykernel)",
   "language": "python",
   "name": "python3"
  },
  "language_info": {
   "codemirror_mode": {
    "name": "ipython",
    "version": 3
   },
   "file_extension": ".py",
   "mimetype": "text/x-python",
   "name": "python",
   "nbconvert_exporter": "python",
   "pygments_lexer": "ipython3",
   "version": "3.7.9"
  }
 },
 "nbformat": 4,
 "nbformat_minor": 5
}
